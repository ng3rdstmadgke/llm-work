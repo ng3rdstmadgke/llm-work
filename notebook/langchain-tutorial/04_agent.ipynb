{
 "cells": [
  {
   "cell_type": "markdown",
   "metadata": {},
   "source": [
    "# [Build an Agent](https://python.langchain.com/docs/tutorials/agents/)\n",
    "\n",
    "エージェントは、LLM を推論エンジンとして使用して、実行するアクションと、アクションを実行するために必要な入力を決定するシステムです。  \n",
    "アクションを実行した後、結果を LLM にフィードバックして、さらにアクションが必要かどうか、または終了しても問題ないかを判断できます。\n",
    "\n",
    "\n",
    "### 参考\n",
    "- [LangSmith](https://smith.langchain.com/)\n",
    "  - デバッグツール\n",
    "- [Tavily](https://tavily.com/)\n",
    "  - AIエージェント用の検索API。情報の検索、スクレイピング、フィルタリングスコア付け等を自動で行って、LLMに最適な検索結果を返却します。\n",
    "  - [TavilySearchResults](https://python.langchain.com/api_reference/community/tools/langchain_community.tools.tavily_search.tool.TavilySearchResults.html)\n"
   ]
  },
  {
   "cell_type": "markdown",
   "metadata": {},
   "source": [
    "# ■ [エージェントアーキテクチャ](https://langchain-ai.github.io/langgraph/concepts/agentic_concepts/)\n",
    "\n",
    "\n",
    "多くのLLMアプリケーションは、LLM呼び出しの前または後に特定の制御フローの手順を実装します。たとえば、RAGは質問に関連するドキュメントを取得し、それらのドキュメントをLLMに渡してモデルの応答を基盤にします。\n",
    "\n",
    "固定された制御フローをハードコーディングする代わりに、より複雑な問題を解決するために、独自の制御フローを選択できるLLMシステムが必要になる場合があります。  \n",
    "これがエージェントの定義の1つです。エージェントとは、LLMを使用してアプリケーションの制御フローを決定するシステムです。LLMがアプリケーションを制御する方法は多数あります。\n",
    "\n",
    "- LLMが2つのパス間をルーティングする\n",
    "- LLMが多くの「ツール」の中からどれを呼び出すかを判断する\n",
    "- LLMが生成された回答が十分であるか、更に操作が必要かどうかを判断する\n",
    "\n",
    "その結果、様々な種類のエージェントアーキテクチャが存在し、LLMに様々なレベルの制御が与えられます。\n",
    "\n",
    "※ 参考: [認知アーキテクチャ](https://blog.langchain.dev/what-is-a-cognitive-architecture/)\n",
    "\n",
    "\n",
    "<img src=\"../../docs/img/04_agent/agent_01.png\" width=\"700px\">\n",
    "\n",
    "\n",
    "**※ [詳しくはこちら](https://langchain-ai.github.io/langgraph/concepts/agentic_concepts/)**"
   ]
  },
  {
   "cell_type": "markdown",
   "metadata": {},
   "source": [
    "# ■ プレビュー"
   ]
  },
  {
   "cell_type": "code",
   "execution_count": 25,
   "metadata": {},
   "outputs": [],
   "source": [
    "from pprint import pprint\n",
    "from langchain_openai import ChatOpenAI\n",
    "from langchain_community.tools.tavily_search import TavilySearchResults\n",
    "from langchain_core.messages import HumanMessage\n",
    "from langgraph.checkpoint.memory import MemorySaver\n",
    "from langgraph.prebuilt import create_react_agent\n",
    "from langchain_core.runnables import RunnableConfig\n",
    "from langchain_community.tools.tavily_search import TavilySearchResults\n",
    "from langgraph.graph.graph import CompiledGraph\n",
    "\n",
    "# モデル\n",
    "model = ChatOpenAI(model=\"gpt-4o\")\n",
    "\n",
    "# メモリ\n",
    "memory = MemorySaver()\n",
    "\n",
    "# エージェント作成\n",
    "search = TavilySearchResults(max_results=2)\n",
    "tools = [search]\n",
    "agent_executor: CompiledGraph = create_react_agent(model, tools, checkpointer=memory, debug=False)"
   ]
  },
  {
   "cell_type": "code",
   "execution_count": 26,
   "metadata": {},
   "outputs": [
    {
     "name": "stdout",
     "output_type": "stream",
     "text": [
      "================================\u001b[1m Human Message \u001b[0m=================================\n",
      "\n",
      "日本における2024年冬のメンズファッションのトレンドは？\n",
      "==================================\u001b[1m Ai Message \u001b[0m==================================\n",
      "Tool Calls:\n",
      "  tavily_search_results_json (call_dLrr3XlNobUJpbo76mjFk7iB)\n",
      " Call ID: call_dLrr3XlNobUJpbo76mjFk7iB\n",
      "  Args:\n",
      "    query: 2024年冬 日本 メンズファッション トレンド\n",
      "=================================\u001b[1m Tool Message \u001b[0m=================================\n",
      "Name: tavily_search_results_json\n",
      "\n",
      "[{\"url\": \"https://mensfashion.cc/tips/winter/5347/\", \"content\": \"トレンドのコーディネートスタイルを紹介!. 【2024年の秋冬】男性向け!. トレンドのコーディネートスタイルを紹介!. 著者：編集部 2023/12/19. メンズファッションを楽しまれている皆さんにとって、気になるのは各シーズンの トレンド ではないでしょうか\"}, {\"url\": \"https://a-prime.jp/2024menstrend/\", \"content\": \"COLUMN. コラム. 2024年版秋冬トレンドファッション メンズ完全ガイド. 2024.10.25. 近年多様性のムーブメントによりトレンドの傾向が見えにくくなった昨今。. その中でも時代背景や経済の流れを受けさまざまな流行が生まれていることも事実です。. ここでは\"}]\n",
      "==================================\u001b[1m Ai Message \u001b[0m==================================\n",
      "\n",
      "2024年冬の日本におけるメンズファッションのトレンドについての情報をいくつか紹介します。\n",
      "\n",
      "1. [メンズファッションのトレンドコーディネートスタイル](https://mensfashion.cc/tips/winter/5347/):\n",
      "   - 2024年の秋冬に向けてのトレンドコーディネートが紹介されています。多様なスタイルが提案されており、シーズンに合わせた着こなしが楽しめます。\n",
      "\n",
      "2. [2024年版秋冬トレンドファッション メンズ完全ガイド](https://a-prime.jp/2024menstrend/):\n",
      "   - 近年の多様性のムーブメントによりトレンドの傾向は見えにくくなっていますが、時代背景や経済の流れを受けて新しい流行が生まれています。このガイドでは、2024年の秋冬に向けたメンズファッションのトレンドが詳しく紹介されています。\n",
      "\n",
      "これらの情報を基に、具体的なトレンドアイテムやスタイルをチェックしてみると良いでしょう。\n"
     ]
    }
   ],
   "source": [
    "config = RunnableConfig(configurable={\"thread_id\": \"11111111111111111\"})\n",
    "\n",
    "output_stream = agent_executor.stream(\n",
    "    {\"messages\": [HumanMessage(\"日本における2024年冬のメンズファッションのトレンドは？\")]},\n",
    "    config,\n",
    "    stream_mode=\"values\"\n",
    ")\n",
    "\n",
    "for chunk in output_stream:\n",
    "    chunk[\"messages\"][-1].pretty_print()"
   ]
  },
  {
   "cell_type": "code",
   "execution_count": 27,
   "metadata": {},
   "outputs": [
    {
     "name": "stdout",
     "output_type": "stream",
     "text": [
      "================================\u001b[1m Human Message \u001b[0m=================================\n",
      "\n",
      "2024年のおすすめガジェットを教えて\n",
      "==================================\u001b[1m Ai Message \u001b[0m==================================\n",
      "Tool Calls:\n",
      "  tavily_search_results_json (call_iqWzCpiO79SColSOhjOsJvOy)\n",
      " Call ID: call_iqWzCpiO79SColSOhjOsJvOy\n",
      "  Args:\n",
      "    query: 2024年 おすすめ ガジェット\n",
      "=================================\u001b[1m Tool Message \u001b[0m=================================\n",
      "Name: tavily_search_results_json\n",
      "\n",
      "[{\"url\": \"https://sakidori.co/article/1273225\", \"content\": \"パソコン周辺機器. 【2024年版】最新ガジェットのおすすめ30選。. QOLを上げる便利アイテムからユニークなモノまでラインナップ. 毎年さまざまな個性を持ったモノが並ぶ最新ガジェット。. 便利なモノが多く、手軽に仕事や生活の質を高められるだけでなく\"}, {\"url\": \"https://gadgerba.jp/latest-gadget/\", \"content\": \"本記事では「【2024年】最新のおすすめガジェット33選! 年間150個レビューのガジェットブロガーがガチ厳選【随時更新】」について書きました。 繰り返しにはなりますが、毎日のように新製品が発売されていますので、記事の内容も随時更新しています。\"}]\n",
      "==================================\u001b[1m Ai Message \u001b[0m==================================\n",
      "\n",
      "2024年のおすすめガジェットについての情報を以下に紹介します。\n",
      "\n",
      "1. [最新ガジェットのおすすめ30選](https://sakidori.co/article/1273225):\n",
      "   - パソコン周辺機器を含む、QOLを上げる便利アイテムやユニークなガジェットが紹介されています。これらのガジェットは、仕事や生活の質を手軽に高めることができます。\n",
      "\n",
      "2. [最新のおすすめガジェット33選](https://gadgerba.jp/latest-gadget/):\n",
      "   - 年間150個のガジェットをレビューしているブロガーが厳選した2024年のおすすめガジェットを紹介しています。記事は随時更新され、新製品の情報も追加されています。\n",
      "\n",
      "これらの情報を参考にして、2024年に注目のガジェットを探してみてください。\n"
     ]
    }
   ],
   "source": [
    "config = RunnableConfig(configurable={\"thread_id\": \"11111111111111111\"})\n",
    "\n",
    "output_stream = agent_executor.stream(\n",
    "    {\"messages\": [HumanMessage(\"2024年のおすすめガジェットを教えて\")]},\n",
    "    config,\n",
    "    stream_mode=\"values\"\n",
    ")\n",
    "\n",
    "for chunk in output_stream:\n",
    "    chunk[\"messages\"][-1].pretty_print()"
   ]
  },
  {
   "cell_type": "markdown",
   "metadata": {},
   "source": [
    "# ■ 実装"
   ]
  },
  {
   "cell_type": "markdown",
   "metadata": {},
   "source": [
    "## Tavilyの定義\n",
    "\n",
    "TavilyはAIエージェント用の検索APIです。  \n",
    "情報の検索、スクレイピング、フィルタリングスコア付け等を自動で行って、LLMに最適な検索結果を返却します。\n"
   ]
  },
  {
   "cell_type": "code",
   "execution_count": 33,
   "metadata": {},
   "outputs": [
    {
     "name": "stdout",
     "output_type": "stream",
     "text": [
      "[{'content': '東京, 東京都, 日本の3日間の天気予報 | AccuWeather. 14 強風注意報. 現在の天気. 2:29. 69° '\n",
      "             'F. RealFeel® 65°. 快晴 詳細を表示する. 風向 北北東 19 mph. 突風',\n",
      "  'url': 'https://www.accuweather.com/ja/jp/tokyo/226396/weather-forecast/226396'},\n",
      " {'content': '東京（東京）の天気予報。今日・明日の天気と風と波、明日までの6時間ごとの降水確率と最高・最低気温を見られます。 ... '\n",
      "             '北の風23区西部では北の風やや強く ... 東京都に関する話題の',\n",
      "  'url': 'https://weather.yahoo.co.jp/weather/jp/13/4410.html'}]\n",
      "[{'content': '#メンズファッション #スラックス #40代 . Beanie outfits . フォローする TOP / メンズファッション '\n",
      "             '/ 冬ファッション / 2023年冬メンズの「流行」「モテる」コーデとは？ FASHION メンズファッション トレンド '\n",
      "             '#メンズファッション #冬ファッション FASHION #### 2023年メンズの秋冬トレンド５選 FASHION #### '\n",
      "             '2024最旬ショート丈ジャケットの本命はこの８タイプだ！ FASHION #### ライダースジャケットを2024年に着るなら？ '\n",
      "             'FASHION #### 巷で人気のファッションスタイル「スターボーイ」とは？ FASHION #### '\n",
      "             'この夏、Z世代の間で流行しているファッションとは？ FASHION #### 黒Tシャツのおしゃれなコーデ術４選【2024最新】 '\n",
      "             'FASHION #### メンズ春服2024最新の本命リスト FASHION #### '\n",
      "             '男の変身願望を叶えるダウンジャケットとは？【東京の街のイメージ別５提案】 FASHION #### なぜ今までなかった!? '\n",
      "             'FASHION #### 時計を知り己を知れば100戦殆からず!? RANKING FASHION 40代 '\n",
      "             'メンズの秋冬ファッション【着こなしに役立つ７TIPS】 '\n",
      "             'スラックス&スニーカーに革命を起こす！アンクルZIPトラウザーズの魅力とは？ . Beanie outfits . フォローする '\n",
      "             '#海外着こなし #メンズファッション #秋ファッション #冬ファッション #春ファッション #夏ファッション #スニーカー '\n",
      "             '#革靴 #アウター #ヘアスタイル #スーツ・セットアップ #コート #Tシャツ #髪型 #シャツ #テーラードジャケット '\n",
      "             '#ボトムス #ニット・セーター・カーディガン #ダウンジャケット #パンツ #デニム #ノウハウ #ジーンズ #夏コーデ '\n",
      "             '#ブランド #筋トレ #ブーツ #ジャケット #ビジネススタイル #ファッション小物 #スウェット・パーカー #スラックス '\n",
      "             '#スキンケア #カジュアルパンツ #バッグ #メンズビューティー #ショートヘア #モテる髪型 #ジャケット着こなし '\n",
      "             '#カジュアルジャケット #ジャケパン #メンズファッションニュース #40代 #腕時計 #ジェントルマンプロジェクト #ナイキ '\n",
      "             '#アラフォー #デニムジャケット #スーツ #ネクタイ FASHION #### なぜ今までなかった!? FASHION '\n",
      "             '#### 時計を知り己を知れば100戦殆からず!? FASHION #### '\n",
      "             '男の変身願望を叶えるダウンジャケットとは？【東京の街のイメージ別５提案】',\n",
      "  'url': 'https://otokomaeken.com/mensfashion/281305'},\n",
      " {'content': '冬コーデ メンズ 2024年のトレンドキーワードTOP5 | メンズファッションメディア OTOKOMAE / 男前研究所 '\n",
      "             'フォローする TOP / メンズファッション / 冬コーデ / 冬コーデ メンズ 2024年のトレンドキーワードTOP5 '\n",
      "             'FASHION メンズファッション 冬コーデ メンズ 2024年のトレンドキーワードTOP5 アウター #メンズファッション '\n",
      "             '#冬コーデ #冬ファッション #海外着こなし FASHION #### Pコート コーデ '\n",
      "             'メンズ最新スタイルをチェック！海軍、ヒッピーにまつわる豆知識も FASHION #### '\n",
      "             '2024最旬ショート丈ジャケットの本命はこの８タイプだ！ FASHION #### '\n",
      "             '白アウターで他と一気に差をつける！注目メンズコーデをピックアップ FASHION #### '\n",
      "             'ショート丈のダウンジャケットで冬のメンズコーデにメリハリを！着こなしのコツと事例、おすすめアイテムを凝縮して紹介 FASHION '\n",
      "             '#### 1月の服装を考える際に参考にしたいアウター選びとインナー選びとは？メンズコーデ事例とともにアイテム選定基準を紹介！ '\n",
      "             'FASHION #### 洒落者が注目しているあのヴィンテージのアウターって何？ FASHION #### '\n",
      "             '男の変身願望を叶えるダウンジャケットとは？【東京の街のイメージ別５提案】 FASHION #### '\n",
      "             '時計を知り己を知れば100戦殆からず!? FASHION #### なぜ今までなかった!? RANKING FASHION '\n",
      "             'フォローする #海外着こなし #メンズファッション #秋ファッション #冬ファッション #春ファッション #夏ファッション '\n",
      "             '#スニーカー #革靴 #アウター #ヘアスタイル #スーツ・セットアップ #コート #Tシャツ #髪型 #シャツ '\n",
      "             '#テーラードジャケット #ボトムス #ニット・セーター・カーディガン #ダウンジャケット #パンツ #デニム #ノウハウ '\n",
      "             '#ジーンズ #夏コーデ #ブランド #筋トレ #ブーツ #ジャケット #ビジネススタイル #ファッション小物 '\n",
      "             '#スウェット・パーカー #スラックス #スキンケア #カジュアルパンツ #バッグ #メンズビューティー #ショートヘア '\n",
      "             '#モテる髪型 #ジャケット着こなし #カジュアルジャケット #ジャケパン #メンズファッションニュース #40代 #腕時計 '\n",
      "             '#ジェントルマンプロジェクト #ナイキ #アラフォー #デニムジャケット #スーツ #ネクタイ FASHION #### '\n",
      "             '男の変身願望を叶えるダウンジャケットとは？【東京の街のイメージ別５提案】 FASHION #### なぜ今までなかった!? '\n",
      "             'FASHION #### 時計を知り己を知れば100戦殆からず!?',\n",
      "  'url': 'https://otokomaeken.com/mensfashion/315020'}]\n"
     ]
    }
   ],
   "source": [
    "from pprint import pprint\n",
    "from langchain_community.tools.tavily_search import TavilySearchResults\n",
    "\n",
    "search = TavilySearchResults(max_results=2)\n",
    "\n",
    "# 入力に対して検索を行う\n",
    "search_results = search.invoke(\"東京都の天気は？\")\n",
    "pprint(search_results)\n",
    "\n",
    "# 入力に対して検索を行う\n",
    "search_results = search.invoke(\"日本における今年の冬のメンズファッションのトレンドは？\")\n",
    "pprint(search_results)\n",
    "\n",
    "tools = [search]"
   ]
  },
  {
   "cell_type": "markdown",
   "metadata": {},
   "source": [
    "# エージェントを利用した推論"
   ]
  },
  {
   "cell_type": "code",
   "execution_count": 34,
   "metadata": {},
   "outputs": [],
   "source": [
    "from langchain_openai import ChatOpenAI\n",
    "from langchain_community.tools.tavily_search import TavilySearchResults\n",
    "from langchain_core.messages import HumanMessage\n",
    "from langgraph.checkpoint.memory import MemorySaver\n",
    "from langgraph.prebuilt import create_react_agent\n",
    "from langchain_core.runnables import RunnableConfig\n",
    "\n",
    "# モデル\n",
    "model = ChatOpenAI(model=\"gpt-4o\")\n",
    "\n",
    "# メモリ\n",
    "memory = MemorySaver()\n",
    "\n",
    "# エージェント作成\n",
    "search = TavilySearchResults(max_results=2)\n",
    "tools = [search]\n",
    "agent_executor = create_react_agent(model, tools, checkpointer=memory)"
   ]
  },
  {
   "cell_type": "code",
   "execution_count": 35,
   "metadata": {},
   "outputs": [
    {
     "name": "stdout",
     "output_type": "stream",
     "text": [
      "================================\u001b[1m Human Message \u001b[0m=================================\n",
      "\n",
      "こんにちは!わたしはボブです。東京に済んでいます。\n",
      "==================================\u001b[1m Ai Message \u001b[0m==================================\n",
      "\n",
      "こんにちは、ボブさん！東京にお住まいなんですね。東京は素晴らしい街で、多くの魅力がありますよね。何かお手伝いできることがあれば教えてください！\n"
     ]
    }
   ],
   "source": [
    "config = RunnableConfig(configurable={\"thread_id\": \"abc123\"})\n",
    "\n",
    "# 自己紹介をしているだけなので、TavilyAPIにアクセスする必要はない\n",
    "# 検索する必要がない場合は、TavilyAPIへのアクセスを行わない\n",
    "output_stream = agent_executor.stream(\n",
    "    {\"messages\": [HumanMessage(\"こんにちは!わたしはボブです。東京に済んでいます。\")]},\n",
    "    config,\n",
    "    stream_mode=\"values\"\n",
    ")\n",
    "\n",
    "for chunk in output_stream:\n",
    "    chunk[\"messages\"][-1].pretty_print()"
   ]
  },
  {
   "cell_type": "code",
   "execution_count": 36,
   "metadata": {},
   "outputs": [
    {
     "name": "stdout",
     "output_type": "stream",
     "text": [
      "================================\u001b[1m Human Message \u001b[0m=================================\n",
      "\n",
      "今日の天気は?\n",
      "==================================\u001b[1m Ai Message \u001b[0m==================================\n",
      "Tool Calls:\n",
      "  tavily_search_results_json (call_LsbyftYgE3hLfyN5hqvowr8W)\n",
      " Call ID: call_LsbyftYgE3hLfyN5hqvowr8W\n",
      "  Args:\n",
      "    query: Tokyo weather today\n",
      "=================================\u001b[1m Tool Message \u001b[0m=================================\n",
      "Name: tavily_search_results_json\n",
      "\n",
      "[{\"url\": \"https://www.weatherapi.com/\", \"content\": \"{'location': {'name': 'Tokyo', 'region': 'Tokyo', 'country': 'Japan', 'lat': 35.6895, 'lon': 139.6917, 'tz_id': 'Asia/Tokyo', 'localtime_epoch': 1731286994, 'localtime': '2024-11-11 10:03'}, 'current': {'last_updated_epoch': 1731286800, 'last_updated': '2024-11-11 10:00', 'temp_c': 17.3, 'temp_f': 63.1, 'is_day': 1, 'condition': {'text': 'Partly Cloudy', 'icon': '//cdn.weatherapi.com/weather/64x64/day/116.png', 'code': 1003}, 'wind_mph': 9.8, 'wind_kph': 15.8, 'wind_degree': 351, 'wind_dir': 'N', 'pressure_mb': 1015.0, 'pressure_in': 29.98, 'precip_mm': 0.0, 'precip_in': 0.0, 'humidity': 69, 'cloud': 35, 'feelslike_c': 17.3, 'feelslike_f': 63.1, 'windchill_c': 17.3, 'windchill_f': 63.1, 'heatindex_c': 17.3, 'heatindex_f': 63.1, 'dewpoint_c': 11.6, 'dewpoint_f': 52.8, 'vis_km': 10.0, 'vis_miles': 6.0, 'uv': 1.5, 'gust_mph': 13.3, 'gust_kph': 21.4}}\"}, {\"url\": \"https://www.weather25.com/asia/japan/tokyo?page=month&month=November\", \"content\": \"Our weather forecast can give you a great sense of what weather to expect in Tokyo in November 2024. If you're planning to visit Tokyo in the near future, we highly recommend that you review the 14 day weather forecast for Tokyo before you arrive. Temperatures. 62 ° / 51 °. Rainy Days.\"}]\n",
      "==================================\u001b[1m Ai Message \u001b[0m==================================\n",
      "\n",
      "今日の東京の天気は、部分的に曇りで、気温は約17.3°Cです。風はやや強めで、北からの風が15.8 km/hで吹いています。湿度は69%で、降水量はありません。視界は良好で10kmです。お出かけの際は、風を感じるかもしれませんので、軽いジャケットを持っていくと良いでしょう。\n"
     ]
    }
   ],
   "source": [
    "# MemorySaverに保存された情報から、住んでいる地域を取得して、Tavilyにアクセスして天気を取得する\n",
    "output_stream = agent_executor.stream(\n",
    "    {\"messages\": [HumanMessage(\"今日の天気は?\")]},\n",
    "    config,\n",
    "    stream_mode=\"values\"\n",
    ")\n",
    "\n",
    "for chunk in output_stream:\n",
    "    chunk[\"messages\"][-1].pretty_print()\n"
   ]
  },
  {
   "cell_type": "markdown",
   "metadata": {},
   "source": [
    "# ■ 出力形式\n",
    "\n",
    "## ストリーミングしない"
   ]
  },
  {
   "cell_type": "code",
   "execution_count": 37,
   "metadata": {},
   "outputs": [
    {
     "name": "stdout",
     "output_type": "stream",
     "text": [
      "{'messages': [HumanMessage(content='現在の東京の天気は?', additional_kwargs={}, response_metadata={}, id='500eb2df-1dd1-4269-b6c5-5f66a630a1e4'),\n",
      "              AIMessage(content='', additional_kwargs={'tool_calls': [{'id': 'call_M3i2wAalbC3XqQCPN9nhG8LB', 'function': {'arguments': '{\"query\":\"Tokyo current weather\"}', 'name': 'tavily_search_results_json'}, 'type': 'function'}], 'refusal': None}, response_metadata={'token_usage': {'completion_tokens': 20, 'prompt_tokens': 87, 'total_tokens': 107, 'completion_tokens_details': {'accepted_prediction_tokens': 0, 'audio_tokens': 0, 'reasoning_tokens': 0, 'rejected_prediction_tokens': 0}, 'prompt_tokens_details': {'audio_tokens': 0, 'cached_tokens': 0}}, 'model_name': 'gpt-4o-2024-08-06', 'system_fingerprint': 'fp_159d8341cc', 'finish_reason': 'tool_calls', 'logprobs': None}, id='run-88a39339-1061-454c-80ea-cc91cda57d5e-0', tool_calls=[{'name': 'tavily_search_results_json', 'args': {'query': 'Tokyo current weather'}, 'id': 'call_M3i2wAalbC3XqQCPN9nhG8LB', 'type': 'tool_call'}], usage_metadata={'input_tokens': 87, 'output_tokens': 20, 'total_tokens': 107, 'input_token_details': {'audio': 0, 'cache_read': 0}, 'output_token_details': {'audio': 0, 'reasoning': 0}}),\n",
      "              ToolMessage(content='[{\"url\": \"https://www.weatherapi.com/\", \"content\": \"{\\'location\\': {\\'name\\': \\'Tokyo\\', \\'region\\': \\'Tokyo\\', \\'country\\': \\'Japan\\', \\'lat\\': 35.6895, \\'lon\\': 139.6917, \\'tz_id\\': \\'Asia/Tokyo\\', \\'localtime_epoch\\': 1731287019, \\'localtime\\': \\'2024-11-11 10:03\\'}, \\'current\\': {\\'last_updated_epoch\\': 1731286800, \\'last_updated\\': \\'2024-11-11 10:00\\', \\'temp_c\\': 17.3, \\'temp_f\\': 63.1, \\'is_day\\': 1, \\'condition\\': {\\'text\\': \\'Partly Cloudy\\', \\'icon\\': \\'//cdn.weatherapi.com/weather/64x64/day/116.png\\', \\'code\\': 1003}, \\'wind_mph\\': 9.8, \\'wind_kph\\': 15.8, \\'wind_degree\\': 351, \\'wind_dir\\': \\'N\\', \\'pressure_mb\\': 1015.0, \\'pressure_in\\': 29.98, \\'precip_mm\\': 0.0, \\'precip_in\\': 0.0, \\'humidity\\': 69, \\'cloud\\': 35, \\'feelslike_c\\': 17.3, \\'feelslike_f\\': 63.1, \\'windchill_c\\': 17.3, \\'windchill_f\\': 63.1, \\'heatindex_c\\': 17.3, \\'heatindex_f\\': 63.1, \\'dewpoint_c\\': 11.6, \\'dewpoint_f\\': 52.8, \\'vis_km\\': 10.0, \\'vis_miles\\': 6.0, \\'uv\\': 1.5, \\'gust_mph\\': 13.3, \\'gust_kph\\': 21.4}}\"}, {\"url\": \"https://www.easeweather.com/asia/japan/tokyo/november\", \"content\": \"Weather in Tokyo in November 2024 - Detailed Forecast Weather in Tokyo for November 2024 Your guide to Tokyo weather in November - trends and predictions In general, the average temperature in Tokyo at the beginning of November is 23.1\\xa0°C. Tokyo in November average weather Temperatures trend during November in Tokyo Tokyo, Japan, in November experiences a transition from the mild autumn weather to the cooler onset of winter. As you prepare for your trip to Tokyo in November, it\\'s important to consider the typical weather patterns for the time of year. Below is a carefully tailored packing list to ensure that your time in Tokyo, during November, is comfortable and enjoyable, regardless of the weather conditions. November Weather\"}]', name='tavily_search_results_json', id='0cd1e86d-4591-4126-a1be-0075e559cd5e', tool_call_id='call_M3i2wAalbC3XqQCPN9nhG8LB', artifact={'query': 'Tokyo current weather', 'follow_up_questions': None, 'answer': None, 'images': [], 'results': [{'title': 'Weather in Tokyo, Japan', 'url': 'https://www.weatherapi.com/', 'content': \"{'location': {'name': 'Tokyo', 'region': 'Tokyo', 'country': 'Japan', 'lat': 35.6895, 'lon': 139.6917, 'tz_id': 'Asia/Tokyo', 'localtime_epoch': 1731287019, 'localtime': '2024-11-11 10:03'}, 'current': {'last_updated_epoch': 1731286800, 'last_updated': '2024-11-11 10:00', 'temp_c': 17.3, 'temp_f': 63.1, 'is_day': 1, 'condition': {'text': 'Partly Cloudy', 'icon': '//cdn.weatherapi.com/weather/64x64/day/116.png', 'code': 1003}, 'wind_mph': 9.8, 'wind_kph': 15.8, 'wind_degree': 351, 'wind_dir': 'N', 'pressure_mb': 1015.0, 'pressure_in': 29.98, 'precip_mm': 0.0, 'precip_in': 0.0, 'humidity': 69, 'cloud': 35, 'feelslike_c': 17.3, 'feelslike_f': 63.1, 'windchill_c': 17.3, 'windchill_f': 63.1, 'heatindex_c': 17.3, 'heatindex_f': 63.1, 'dewpoint_c': 11.6, 'dewpoint_f': 52.8, 'vis_km': 10.0, 'vis_miles': 6.0, 'uv': 1.5, 'gust_mph': 13.3, 'gust_kph': 21.4}}\", 'score': 0.9946797, 'raw_content': None}, {'title': 'Weather in Tokyo in November 2024 - Detailed Forecast', 'url': 'https://www.easeweather.com/asia/japan/tokyo/november', 'content': \"Weather in Tokyo in November 2024 - Detailed Forecast Weather in Tokyo for November 2024 Your guide to Tokyo weather in November - trends and predictions In general, the average temperature in Tokyo at the beginning of November is 23.1\\xa0°C. Tokyo in November average weather Temperatures trend during November in Tokyo Tokyo, Japan, in November experiences a transition from the mild autumn weather to the cooler onset of winter. As you prepare for your trip to Tokyo in November, it's important to consider the typical weather patterns for the time of year. Below is a carefully tailored packing list to ensure that your time in Tokyo, during November, is comfortable and enjoyable, regardless of the weather conditions. November Weather\", 'score': 0.9932025, 'raw_content': None}], 'response_time': 2.92}),\n",
      "              AIMessage(content='現在の東京の天気は、気温が摂氏17.3度で、部分的に曇っています。風速は毎時15.8キロメートルで、湿度は69%です。降水量はなく、視界は10キロメートルです。', additional_kwargs={'refusal': None}, response_metadata={'token_usage': {'completion_tokens': 67, 'prompt_tokens': 688, 'total_tokens': 755, 'completion_tokens_details': {'accepted_prediction_tokens': 0, 'audio_tokens': 0, 'reasoning_tokens': 0, 'rejected_prediction_tokens': 0}, 'prompt_tokens_details': {'audio_tokens': 0, 'cached_tokens': 0}}, 'model_name': 'gpt-4o-2024-08-06', 'system_fingerprint': 'fp_159d8341cc', 'finish_reason': 'stop', 'logprobs': None}, id='run-c4bc7e09-ce6b-4139-ab4f-b432662578e3-0', usage_metadata={'input_tokens': 688, 'output_tokens': 67, 'total_tokens': 755, 'input_token_details': {'audio': 0, 'cache_read': 0}, 'output_token_details': {'audio': 0, 'reasoning': 0}})]}\n",
      "==================================\u001b[1m Ai Message \u001b[0m==================================\n",
      "\n",
      "現在の東京の天気は、気温が摂氏17.3度で、部分的に曇っています。風速は毎時15.8キロメートルで、湿度は69%です。降水量はなく、視界は10キロメートルです。\n"
     ]
    }
   ],
   "source": [
    "config = RunnableConfig(configurable={\"thread_id\": \"paenorbj\"})\n",
    "response = agent_executor.invoke(\n",
    "    {\"messages\": [HumanMessage(content=\"現在の東京の天気は?\")]},\n",
    "    config,\n",
    "    stream_mode=\"values\"\n",
    "\n",
    ")\n",
    "\n",
    "pprint(response)\n",
    "response[\"messages\"][-1].pretty_print()"
   ]
  },
  {
   "cell_type": "markdown",
   "metadata": {},
   "source": [
    "# トークンストリーミング"
   ]
  },
  {
   "cell_type": "code",
   "execution_count": 38,
   "metadata": {},
   "outputs": [
    {
     "name": "stdout",
     "output_type": "stream",
     "text": [
      "おすすめ|の|APS|-C|サイズ|の|カ|メ|ラ|を|い|く|つ|か|ご|紹介|します|。|APS|-C|セ|ンサー|は|一|眼|レ|フ|カ|メ|ラ|や|ミ|ラ|ーレ|ス|カ|メ|ラ|に|お|いて|、|コン|パ|クト|さ|と|画|質|の|バ|ラン|ス|が|良|く|、多|く|の|写真|愛|好|者|に|人気|があります|。\n",
      "\n",
      "|1|.| **|Canon| EOS| |90|D|**\n",
      "|  | -| 高|解|像|度|32|.|5|MP|セ|ンサー|を|搭|載|し|、|優|れ|た|オ|ート|フォ|ーカ|ス|性能|と|連|写|性能|を|持|っています|。\n",
      "|  | -| 動|画|撮|影|に|お|いて|も|4|K|録|画|が|可能|です|。\n",
      "\n",
      "|2|.| **|Sony| Alpha| a|640|0|**\n",
      "|  | -| 高|速|オ|ート|フォ|ーカ|ス|と|リア|ル|タイ|ム|の|追|尾|機|能|が|特徴|です|。\n",
      "|  | -| 軽|量|で|コン|パ|クト|な|ボ|ディ|に|加|え|、|4|K|動画|撮|影|も|可能|です|。\n",
      "\n",
      "|3|.| **|F|uj|if|ilm| X|-T|4|**\n",
      "|  | -| 優|れ|た|カラー|再|現|性|と|フィ|ル|ム|シ|ミ|ュ|レー|ション|モ|ード|が|魅|力|です|。\n",
      "|  | -| ボ|ディ|内|手|ぶ|れ|補|正|機|能|を|搭|載|し|、|静|止|画|・|動画|撮|影|とも|に|優|れ|た|パ|フォ|ーマ|ンス|を|発|揮|します|。\n",
      "\n",
      "|4|.| **|N|ikon| Z|50|**\n",
      "|  | -| コン|パ|クト|な|ボ|ディ|に|優|れ|た|操作|性|を|備|え|、|初|め|て|の|ミ|ラ|ーレ|ス|カ|メ|ラ|として|も|おすすめ|です|。\n",
      "|  | -| |4|K|動画|撮|影|や|クリ|エ|イ|ティ|ブ|モ|ード|が|豊|富|です|。\n",
      "\n",
      "|5|.| **|Pent|ax| KP|**\n",
      "|  | -| 防|塵|防|滴|構|造|で|、|アウト|ド|ア|撮|影|にも|適|しています|。\n",
      "|  | -| 高|感|度|性能|が|高|く|、|暗|所|撮|影|にも|強|い|です|。\n",
      "\n",
      "|これ|ら|の|カ|メ|ラ|は|それ|ぞ|れ|異|なる|特徴|を|持|って|いる|ため|、ご|自身|の|撮|影|スタ|イル|や|用途|に|合わせ|て|選|ん|で|み|て|ください|。|最新|の|モデル|や|詳細|な|レビュー|を|確認|した|い|場合|は|、|検索|して|み|る|と|良|い|でしょう|。|"
     ]
    }
   ],
   "source": [
    "config = RunnableConfig(configurable={\"thread_id\": \"pa;oenb\"})\n",
    "async for event in agent_executor.astream_events(\n",
    "    {\"messages\": [HumanMessage(content=\"おすすめのAPSCサイズのカメラを教えて\")]}, config, version=\"v1\"\n",
    "):\n",
    "    kind = event[\"event\"]\n",
    "    if kind == \"on_chain_start\":\n",
    "        if (\n",
    "            event[\"name\"] == \"Agent\"\n",
    "        ):  # Was assigned when creating the agent with `.with_config({\"run_name\": \"Agent\"})`\n",
    "            print(\n",
    "                f\"Starting agent: {event['name']} with input: {event['data'].get('input')}\"\n",
    "            )\n",
    "    elif kind == \"on_chain_end\":\n",
    "        if (\n",
    "            event[\"name\"] == \"Agent\"\n",
    "        ):  # Was assigned when creating the agent with `.with_config({\"run_name\": \"Agent\"})`\n",
    "            print()\n",
    "            print(\"--\")\n",
    "            print(\n",
    "                f\"Done agent: {event['name']} with output: {event['data'].get('output')['output']}\"\n",
    "            )\n",
    "    if kind == \"on_chat_model_stream\":\n",
    "        content = event[\"data\"][\"chunk\"].content\n",
    "        if content:\n",
    "            # Empty content in the context of OpenAI means\n",
    "            # that the model is asking for a tool to be invoked.\n",
    "            # So we only print non-empty content\n",
    "            print(content, end=\"|\")\n",
    "    elif kind == \"on_tool_start\":\n",
    "        print(\"--\")\n",
    "        print(\n",
    "            f\"Starting tool: {event['name']} with inputs: {event['data'].get('input')}\"\n",
    "        )\n",
    "    elif kind == \"on_tool_end\":\n",
    "        print(f\"Done tool: {event['name']}\")\n",
    "        print(f\"Tool output was: {event['data'].get('output')}\")\n",
    "        print(\"--\")"
   ]
  },
  {
   "cell_type": "code",
   "execution_count": null,
   "metadata": {},
   "outputs": [],
   "source": []
  }
 ],
 "metadata": {
  "kernelspec": {
   "display_name": "Python 3 (ipykernel)",
   "language": "python",
   "name": "python3"
  },
  "language_info": {
   "codemirror_mode": {
    "name": "ipython",
    "version": 3
   },
   "file_extension": ".py",
   "mimetype": "text/x-python",
   "name": "python",
   "nbconvert_exporter": "python",
   "pygments_lexer": "ipython3",
   "version": "3.12.7"
  }
 },
 "nbformat": 4,
 "nbformat_minor": 2
}
