{
 "cells": [
  {
   "cell_type": "markdown",
   "metadata": {},
   "source": [
    "# [Build an Agent](https://python.langchain.com/docs/tutorials/agents/)\n",
    "\n",
    "エージェントは、LLM を推論エンジンとして使用して、実行するアクションと、アクションを実行するために必要な入力を決定するシステムです。  \n",
    "アクションを実行した後、結果を LLM にフィードバックして、さらにアクションが必要かどうか、または終了しても問題ないかを判断できます。\n",
    "\n",
    "## LangSmith\n",
    "\n",
    "https://smith.langchain.com/\n",
    "\n",
    "## Tavily\n",
    "\n",
    "https://tavily.com/\n",
    "\n",
    "\n",
    "## リファレンス\n",
    "\n",
    "- [TavilySearchResults](https://python.langchain.com/api_reference/community/tools/langchain_community.tools.tavily_search.tool.TavilySearchResults.html)\n"
   ]
  },
  {
   "cell_type": "markdown",
   "metadata": {},
   "source": [
    "# Tavilyの定義"
   ]
  },
  {
   "cell_type": "code",
   "execution_count": 19,
   "metadata": {},
   "outputs": [
    {
     "name": "stdout",
     "output_type": "stream",
     "text": [
      "[{'url': 'https://www.weatherapi.com/', 'content': \"{'location': {'name': 'Tokyo', 'region': 'Tokyo', 'country': 'Japan', 'lat': 35.6895, 'lon': 139.6917, 'tz_id': 'Asia/Tokyo', 'localtime_epoch': 1730643303, 'localtime': '2024-11-03 23:15'}, 'current': {'last_updated_epoch': 1730643300, 'last_updated': '2024-11-03 23:15', 'temp_c': 18.1, 'temp_f': 64.6, 'is_day': 0, 'condition': {'text': 'Clear', 'icon': '//cdn.weatherapi.com/weather/64x64/night/113.png', 'code': 1000}, 'wind_mph': 6.9, 'wind_kph': 11.2, 'wind_degree': 115, 'wind_dir': 'ESE', 'pressure_mb': 1022.0, 'pressure_in': 30.18, 'precip_mm': 0.0, 'precip_in': 0.0, 'humidity': 68, 'cloud': 0, 'feelslike_c': 18.1, 'feelslike_f': 64.6, 'windchill_c': 17.6, 'windchill_f': 63.7, 'heatindex_c': 17.6, 'heatindex_f': 63.7, 'dewpoint_c': 8.6, 'dewpoint_f': 47.5, 'vis_km': 10.0, 'vis_miles': 6.0, 'uv': 0.0, 'gust_mph': 9.4, 'gust_kph': 15.2}}\"}, {'url': 'https://weatherspark.com/h/m/143809/2024/3/Historical-Weather-in-March-2024-in-Tokyo-Japan', 'content': 'Tokyo Temperature History March 2024. The daily range of reported temperatures (gray bars) and 24-hour highs (red ticks) and lows (blue ticks), placed over the daily average high (faint red line) and low (faint blue line) temperature, with 25th to 75th and 10th to 90th percentile bands.'}]\n"
     ]
    }
   ],
   "source": [
    "from langchain_community.tools.tavily_search import TavilySearchResults\n",
    "\n",
    "search = TavilySearchResults(max_results=2)\n",
    "search_results = search.invoke(\"what is the weather in Tokyo\")\n",
    "print(search_results)\n",
    "\n",
    "tools = [search]"
   ]
  },
  {
   "cell_type": "markdown",
   "metadata": {},
   "source": [
    "# 言語モデル"
   ]
  },
  {
   "cell_type": "code",
   "execution_count": 20,
   "metadata": {},
   "outputs": [
    {
     "data": {
      "text/plain": [
       "'Hello! How can I assist you today?'"
      ]
     },
     "execution_count": 20,
     "metadata": {},
     "output_type": "execute_result"
    }
   ],
   "source": [
    "from langchain_openai import ChatOpenAI\n",
    "from langchain_core.messages import HumanMessage\n",
    "\n",
    "model = ChatOpenAI(model=\"gpt-4\")\n",
    "\n",
    "response = model.invoke([HumanMessage(content=\"hi!\")])\n",
    "response.content"
   ]
  },
  {
   "cell_type": "markdown",
   "metadata": {},
   "source": [
    "モデルからツールを呼び出す"
   ]
  },
  {
   "cell_type": "code",
   "execution_count": 21,
   "metadata": {},
   "outputs": [
    {
     "name": "stdout",
     "output_type": "stream",
     "text": [
      "ContentString: \n",
      "ToolCalls: [{'name': 'tavily_search_results_json', 'args': {'query': 'current weather in Tokyo'}, 'id': 'call_nzPbitBx0mGCsun0mb2QtKPU', 'type': 'tool_call'}]\n"
     ]
    }
   ],
   "source": [
    "model_with_tools = model.bind_tools(tools)\n",
    "response = model_with_tools.invoke([HumanMessage(content=\"What's the weather in Tokyo?\")])\n",
    "\n",
    "print(f\"ContentString: {response.content}\")\n",
    "print(f\"ToolCalls: {response.tool_calls}\")"
   ]
  },
  {
   "cell_type": "markdown",
   "metadata": {},
   "source": [
    "# エージェントを作成する"
   ]
  },
  {
   "cell_type": "code",
   "execution_count": 22,
   "metadata": {},
   "outputs": [],
   "source": [
    "from langgraph.prebuilt import create_react_agent\n",
    "agent_executor = create_react_agent(model, tools)"
   ]
  },
  {
   "cell_type": "markdown",
   "metadata": {},
   "source": [
    "# エージェントを実行する"
   ]
  },
  {
   "cell_type": "code",
   "execution_count": 24,
   "metadata": {},
   "outputs": [
    {
     "data": {
      "text/plain": [
       "[HumanMessage(content=\"What's the weather in Tokyo?\", additional_kwargs={}, response_metadata={}, id='12afc33f-1689-4963-94d5-2f6b0983a879'),\n",
       " AIMessage(content='', additional_kwargs={'tool_calls': [{'id': 'call_NOGn1xVrW5WCz7cTqRvrAtTz', 'function': {'arguments': '{\\n  \"query\": \"current weather in Tokyo\"\\n}', 'name': 'tavily_search_results_json'}, 'type': 'function'}], 'refusal': None}, response_metadata={'token_usage': {'completion_tokens': 22, 'prompt_tokens': 88, 'total_tokens': 110, 'completion_tokens_details': {'audio_tokens': None, 'reasoning_tokens': 0}, 'prompt_tokens_details': {'audio_tokens': None, 'cached_tokens': 0}}, 'model_name': 'gpt-4-0613', 'system_fingerprint': None, 'finish_reason': 'tool_calls', 'logprobs': None}, id='run-61946716-34a8-49fe-a47e-2dcc0534a6c6-0', tool_calls=[{'name': 'tavily_search_results_json', 'args': {'query': 'current weather in Tokyo'}, 'id': 'call_NOGn1xVrW5WCz7cTqRvrAtTz', 'type': 'tool_call'}], usage_metadata={'input_tokens': 88, 'output_tokens': 22, 'total_tokens': 110, 'input_token_details': {'cache_read': 0}, 'output_token_details': {'reasoning': 0}}),\n",
       " ToolMessage(content='[{\"url\": \"https://www.weatherapi.com/\", \"content\": \"{\\'location\\': {\\'name\\': \\'Tokyo\\', \\'region\\': \\'Tokyo\\', \\'country\\': \\'Japan\\', \\'lat\\': 35.6895, \\'lon\\': 139.6917, \\'tz_id\\': \\'Asia/Tokyo\\', \\'localtime_epoch\\': 1730643303, \\'localtime\\': \\'2024-11-03 23:15\\'}, \\'current\\': {\\'last_updated_epoch\\': 1730643300, \\'last_updated\\': \\'2024-11-03 23:15\\', \\'temp_c\\': 18.1, \\'temp_f\\': 64.6, \\'is_day\\': 0, \\'condition\\': {\\'text\\': \\'Clear\\', \\'icon\\': \\'//cdn.weatherapi.com/weather/64x64/night/113.png\\', \\'code\\': 1000}, \\'wind_mph\\': 6.9, \\'wind_kph\\': 11.2, \\'wind_degree\\': 115, \\'wind_dir\\': \\'ESE\\', \\'pressure_mb\\': 1022.0, \\'pressure_in\\': 30.18, \\'precip_mm\\': 0.0, \\'precip_in\\': 0.0, \\'humidity\\': 68, \\'cloud\\': 0, \\'feelslike_c\\': 18.1, \\'feelslike_f\\': 64.6, \\'windchill_c\\': 17.6, \\'windchill_f\\': 63.7, \\'heatindex_c\\': 17.6, \\'heatindex_f\\': 63.7, \\'dewpoint_c\\': 8.6, \\'dewpoint_f\\': 47.5, \\'vis_km\\': 10.0, \\'vis_miles\\': 6.0, \\'uv\\': 0.0, \\'gust_mph\\': 9.4, \\'gust_kph\\': 15.2}}\"}, {\"url\": \"https://world-weather.info/forecast/japan/tokyo/march-2024/\", \"content\": \"Detailed ⚡ Tokyo Weather Forecast for March 2024 - day/night 🌡️ temperatures, precipitations - World-Weather.info\"}]', name='tavily_search_results_json', id='b84e346f-d7ef-41ea-92d1-683fea6833e4', tool_call_id='call_NOGn1xVrW5WCz7cTqRvrAtTz', artifact={'query': 'current weather in Tokyo', 'follow_up_questions': None, 'answer': None, 'images': [], 'results': [{'title': 'Weather in Tokyo', 'url': 'https://www.weatherapi.com/', 'content': \"{'location': {'name': 'Tokyo', 'region': 'Tokyo', 'country': 'Japan', 'lat': 35.6895, 'lon': 139.6917, 'tz_id': 'Asia/Tokyo', 'localtime_epoch': 1730643303, 'localtime': '2024-11-03 23:15'}, 'current': {'last_updated_epoch': 1730643300, 'last_updated': '2024-11-03 23:15', 'temp_c': 18.1, 'temp_f': 64.6, 'is_day': 0, 'condition': {'text': 'Clear', 'icon': '//cdn.weatherapi.com/weather/64x64/night/113.png', 'code': 1000}, 'wind_mph': 6.9, 'wind_kph': 11.2, 'wind_degree': 115, 'wind_dir': 'ESE', 'pressure_mb': 1022.0, 'pressure_in': 30.18, 'precip_mm': 0.0, 'precip_in': 0.0, 'humidity': 68, 'cloud': 0, 'feelslike_c': 18.1, 'feelslike_f': 64.6, 'windchill_c': 17.6, 'windchill_f': 63.7, 'heatindex_c': 17.6, 'heatindex_f': 63.7, 'dewpoint_c': 8.6, 'dewpoint_f': 47.5, 'vis_km': 10.0, 'vis_miles': 6.0, 'uv': 0.0, 'gust_mph': 9.4, 'gust_kph': 15.2}}\", 'score': 0.9432927, 'raw_content': None}, {'title': 'Weather in Tokyo in March 2024 (Tōkyō-to) - Detailed Weather Forecast ...', 'url': 'https://world-weather.info/forecast/japan/tokyo/march-2024/', 'content': 'Detailed ⚡ Tokyo Weather Forecast for March 2024 - day/night 🌡️ temperatures, precipitations - World-Weather.info', 'score': 0.9174507, 'raw_content': None}], 'response_time': 2.9}),\n",
       " AIMessage(content='The current weather in Tokyo, Japan is clear with a temperature of 18.1°C (64.6°F). The wind is blowing from the ESE at a speed of 11.2 kph (6.9 mph). The humidity is at 68% and the visibility is 10.0 km (6.0 miles). [source](https://www.weatherapi.com/)', additional_kwargs={'refusal': None}, response_metadata={'token_usage': {'completion_tokens': 81, 'prompt_tokens': 583, 'total_tokens': 664, 'completion_tokens_details': {'audio_tokens': None, 'reasoning_tokens': 0}, 'prompt_tokens_details': {'audio_tokens': None, 'cached_tokens': 0}}, 'model_name': 'gpt-4-0613', 'system_fingerprint': None, 'finish_reason': 'stop', 'logprobs': None}, id='run-d56e445d-37a4-4280-93a5-e45450090c22-0', usage_metadata={'input_tokens': 583, 'output_tokens': 81, 'total_tokens': 664, 'input_token_details': {'cache_read': 0}, 'output_token_details': {'reasoning': 0}})]"
      ]
     },
     "execution_count": 24,
     "metadata": {},
     "output_type": "execute_result"
    }
   ],
   "source": [
    "response = agent_executor.invoke({\"messages\": [HumanMessage(content=\"What's the weather in Tokyo?\")]})\n",
    "response[\"messages\"]"
   ]
  },
  {
   "cell_type": "markdown",
   "metadata": {},
   "source": [
    "# ストリーミング"
   ]
  },
  {
   "cell_type": "code",
   "execution_count": 25,
   "metadata": {},
   "outputs": [
    {
     "name": "stdout",
     "output_type": "stream",
     "text": [
      "{'agent': {'messages': [AIMessage(content='', additional_kwargs={'tool_calls': [{'id': 'call_RekNETi8JTXz2y2FlZ8uFD6r', 'function': {'arguments': '{\\n  \"query\": \"current weather in Tokyo\"\\n}', 'name': 'tavily_search_results_json'}, 'type': 'function'}], 'refusal': None}, response_metadata={'token_usage': {'completion_tokens': 22, 'prompt_tokens': 88, 'total_tokens': 110, 'completion_tokens_details': {'audio_tokens': None, 'reasoning_tokens': 0}, 'prompt_tokens_details': {'audio_tokens': None, 'cached_tokens': 0}}, 'model_name': 'gpt-4-0613', 'system_fingerprint': None, 'finish_reason': 'tool_calls', 'logprobs': None}, id='run-4fab70ee-94d6-4da6-8fa4-7888618a1f77-0', tool_calls=[{'name': 'tavily_search_results_json', 'args': {'query': 'current weather in Tokyo'}, 'id': 'call_RekNETi8JTXz2y2FlZ8uFD6r', 'type': 'tool_call'}], usage_metadata={'input_tokens': 88, 'output_tokens': 22, 'total_tokens': 110, 'input_token_details': {'cache_read': 0}, 'output_token_details': {'reasoning': 0}})]}}\n",
      "----\n",
      "{'tools': {'messages': [ToolMessage(content='[{\"url\": \"https://www.weatherapi.com/\", \"content\": \"{\\'location\\': {\\'name\\': \\'Tokyo\\', \\'region\\': \\'Tokyo\\', \\'country\\': \\'Japan\\', \\'lat\\': 35.6895, \\'lon\\': 139.6917, \\'tz_id\\': \\'Asia/Tokyo\\', \\'localtime_epoch\\': 1730644117, \\'localtime\\': \\'2024-11-03 23:28\\'}, \\'current\\': {\\'last_updated_epoch\\': 1730643300, \\'last_updated\\': \\'2024-11-03 23:15\\', \\'temp_c\\': 18.1, \\'temp_f\\': 64.6, \\'is_day\\': 0, \\'condition\\': {\\'text\\': \\'Clear\\', \\'icon\\': \\'//cdn.weatherapi.com/weather/64x64/night/113.png\\', \\'code\\': 1000}, \\'wind_mph\\': 6.9, \\'wind_kph\\': 11.2, \\'wind_degree\\': 115, \\'wind_dir\\': \\'ESE\\', \\'pressure_mb\\': 1022.0, \\'pressure_in\\': 30.18, \\'precip_mm\\': 0.0, \\'precip_in\\': 0.0, \\'humidity\\': 68, \\'cloud\\': 0, \\'feelslike_c\\': 18.1, \\'feelslike_f\\': 64.6, \\'windchill_c\\': 17.6, \\'windchill_f\\': 63.7, \\'heatindex_c\\': 17.6, \\'heatindex_f\\': 63.7, \\'dewpoint_c\\': 8.6, \\'dewpoint_f\\': 47.5, \\'vis_km\\': 10.0, \\'vis_miles\\': 6.0, \\'uv\\': 0.0, \\'gust_mph\\': 9.4, \\'gust_kph\\': 15.2}}\"}, {\"url\": \"https://www.timeanddate.com/weather/japan/tokyo/ext\", \"content\": \"Tokyo 14 Day Extended Forecast. Weather Today Weather Hourly 14 Day Forecast Yesterday/Past Weather Climate (Averages) Currently: 68 °F. Partly sunny. (Weather station: Tokyo Heliport, Japan). See more current weather.\"}]', name='tavily_search_results_json', id='1f265b60-5431-4611-b00c-1f9351f1de97', tool_call_id='call_RekNETi8JTXz2y2FlZ8uFD6r', artifact={'query': 'current weather in Tokyo', 'follow_up_questions': None, 'answer': None, 'images': [], 'results': [{'title': 'Weather in Tokyo', 'url': 'https://www.weatherapi.com/', 'content': \"{'location': {'name': 'Tokyo', 'region': 'Tokyo', 'country': 'Japan', 'lat': 35.6895, 'lon': 139.6917, 'tz_id': 'Asia/Tokyo', 'localtime_epoch': 1730644117, 'localtime': '2024-11-03 23:28'}, 'current': {'last_updated_epoch': 1730643300, 'last_updated': '2024-11-03 23:15', 'temp_c': 18.1, 'temp_f': 64.6, 'is_day': 0, 'condition': {'text': 'Clear', 'icon': '//cdn.weatherapi.com/weather/64x64/night/113.png', 'code': 1000}, 'wind_mph': 6.9, 'wind_kph': 11.2, 'wind_degree': 115, 'wind_dir': 'ESE', 'pressure_mb': 1022.0, 'pressure_in': 30.18, 'precip_mm': 0.0, 'precip_in': 0.0, 'humidity': 68, 'cloud': 0, 'feelslike_c': 18.1, 'feelslike_f': 64.6, 'windchill_c': 17.6, 'windchill_f': 63.7, 'heatindex_c': 17.6, 'heatindex_f': 63.7, 'dewpoint_c': 8.6, 'dewpoint_f': 47.5, 'vis_km': 10.0, 'vis_miles': 6.0, 'uv': 0.0, 'gust_mph': 9.4, 'gust_kph': 15.2}}\", 'score': 0.9745031, 'raw_content': None}, {'title': 'Tokyo, Japan 14 day weather forecast - timeanddate.com', 'url': 'https://www.timeanddate.com/weather/japan/tokyo/ext', 'content': 'Tokyo 14 Day Extended Forecast. Weather Today Weather Hourly 14 Day Forecast Yesterday/Past Weather Climate (Averages) Currently: 68 °F. Partly sunny. (Weather station: Tokyo Heliport, Japan). See more current weather.', 'score': 0.9392481, 'raw_content': None}], 'response_time': 3.16})]}}\n",
      "----\n",
      "{'agent': {'messages': [AIMessage(content='The current weather in Tokyo, Japan is clear with a temperature of 18.1°C (64.6°F). The wind is coming from the ESE at 11.2 kph (6.9 mph). The humidity is at 68%. [Source](https://www.weatherapi.com/)', additional_kwargs={'refusal': None}, response_metadata={'token_usage': {'completion_tokens': 63, 'prompt_tokens': 602, 'total_tokens': 665, 'completion_tokens_details': {'audio_tokens': None, 'reasoning_tokens': 0}, 'prompt_tokens_details': {'audio_tokens': None, 'cached_tokens': 0}}, 'model_name': 'gpt-4-0613', 'system_fingerprint': None, 'finish_reason': 'stop', 'logprobs': None}, id='run-e22b5128-c169-4b3e-acfe-7d006d1eeff9-0', usage_metadata={'input_tokens': 602, 'output_tokens': 63, 'total_tokens': 665, 'input_token_details': {'cache_read': 0}, 'output_token_details': {'reasoning': 0}})]}}\n",
      "----\n"
     ]
    }
   ],
   "source": [
    "output_stream = agent_executor.stream(\n",
    "    {\"messages\": [HumanMessage(content=\"whats the weather in Tokyo?\")]}\n",
    ")\n",
    "for chunk in output_stream:\n",
    "    print(chunk)\n",
    "    print(\"----\")"
   ]
  },
  {
   "cell_type": "markdown",
   "metadata": {},
   "source": [
    "# トークンストリーミング"
   ]
  },
  {
   "cell_type": "code",
   "execution_count": 26,
   "metadata": {},
   "outputs": [
    {
     "name": "stdout",
     "output_type": "stream",
     "text": [
      "--\n",
      "Starting tool: tavily_search_results_json with inputs: {'query': 'current weather in San Francisco'}\n",
      "Done tool: tavily_search_results_json\n",
      "Tool output was: content='[{\"url\": \"https://www.weatherapi.com/\", \"content\": \"{\\'location\\': {\\'name\\': \\'San Francisco\\', \\'region\\': \\'California\\', \\'country\\': \\'United States of America\\', \\'lat\\': 37.775, \\'lon\\': -122.4183, \\'tz_id\\': \\'America/Los_Angeles\\', \\'localtime_epoch\\': 1730644006, \\'localtime\\': \\'2024-11-03 06:26\\'}, \\'current\\': {\\'last_updated_epoch\\': 1730643300, \\'last_updated\\': \\'2024-11-03 06:15\\', \\'temp_c\\': 12.8, \\'temp_f\\': 55.0, \\'is_day\\': 0, \\'condition\\': {\\'text\\': \\'Partly cloudy\\', \\'icon\\': \\'//cdn.weatherapi.com/weather/64x64/night/116.png\\', \\'code\\': 1003}, \\'wind_mph\\': 9.8, \\'wind_kph\\': 15.8, \\'wind_degree\\': 323, \\'wind_dir\\': \\'NW\\', \\'pressure_mb\\': 1017.0, \\'pressure_in\\': 30.04, \\'precip_mm\\': 0.0, \\'precip_in\\': 0.0, \\'humidity\\': 86, \\'cloud\\': 25, \\'feelslike_c\\': 11.3, \\'feelslike_f\\': 52.3, \\'windchill_c\\': 10.3, \\'windchill_f\\': 50.5, \\'heatindex_c\\': 12.0, \\'heatindex_f\\': 53.6, \\'dewpoint_c\\': 10.6, \\'dewpoint_f\\': 51.1, \\'vis_km\\': 16.0, \\'vis_miles\\': 9.0, \\'uv\\': 0.0, \\'gust_mph\\': 15.4, \\'gust_kph\\': 24.7}}\"}, {\"url\": \"https://world-weather.info/forecast/usa/san_francisco/march-2024/\", \"content\": \"Detailed ⚡ San Francisco Weather Forecast for March 2024 - day/night 🌡️ temperatures, precipitations - World-Weather.info. Add the current city. Search. Weather; Archive; Widgets °F. World; United States; California; Weather in San Francisco; ... 11 +57° +50° 12 +59° +52° 13\"}]' name='tavily_search_results_json' tool_call_id='call_Ve6gTi8ZuYWZsbOjAhr117DQ' artifact={'query': 'current weather in San Francisco', 'follow_up_questions': None, 'answer': None, 'images': [], 'results': [{'title': 'Weather in San Francisco', 'url': 'https://www.weatherapi.com/', 'content': \"{'location': {'name': 'San Francisco', 'region': 'California', 'country': 'United States of America', 'lat': 37.775, 'lon': -122.4183, 'tz_id': 'America/Los_Angeles', 'localtime_epoch': 1730644006, 'localtime': '2024-11-03 06:26'}, 'current': {'last_updated_epoch': 1730643300, 'last_updated': '2024-11-03 06:15', 'temp_c': 12.8, 'temp_f': 55.0, 'is_day': 0, 'condition': {'text': 'Partly cloudy', 'icon': '//cdn.weatherapi.com/weather/64x64/night/116.png', 'code': 1003}, 'wind_mph': 9.8, 'wind_kph': 15.8, 'wind_degree': 323, 'wind_dir': 'NW', 'pressure_mb': 1017.0, 'pressure_in': 30.04, 'precip_mm': 0.0, 'precip_in': 0.0, 'humidity': 86, 'cloud': 25, 'feelslike_c': 11.3, 'feelslike_f': 52.3, 'windchill_c': 10.3, 'windchill_f': 50.5, 'heatindex_c': 12.0, 'heatindex_f': 53.6, 'dewpoint_c': 10.6, 'dewpoint_f': 51.1, 'vis_km': 16.0, 'vis_miles': 9.0, 'uv': 0.0, 'gust_mph': 15.4, 'gust_kph': 24.7}}\", 'score': 0.9963354, 'raw_content': None}, {'title': 'Weather in San Francisco in March 2024', 'url': 'https://world-weather.info/forecast/usa/san_francisco/march-2024/', 'content': 'Detailed ⚡ San Francisco Weather Forecast for March 2024 - day/night 🌡️ temperatures, precipitations - World-Weather.info. Add the current city. Search. Weather; Archive; Widgets °F. World; United States; California; Weather in San Francisco; ... 11 +57° +50° 12 +59° +52° 13', 'score': 0.9957353, 'raw_content': None}], 'response_time': 3.44}\n",
      "--\n",
      "The| current| weather| in| San| Francisco|,| California| is| partly| cloudy| with| a| temperature| of| |12|.|8|°C| (|55|.|0|°F|).| The| wind| is| coming| from| the| northwest| at| a| speed| of| |15|.|8| k|ph| (|9|.|8| mph|).| The| humidity| is| at| |86|%| and| there|'s| no| precipitation| at| the| moment|.| Please| note| that| this| information| was| last| updated| at| |6|:|15| AM| on| November| |3|,| |202|4|.| [|Source|](|https|://|www|.weather|api|.com|/)|"
     ]
    }
   ],
   "source": [
    "async for event in agent_executor.astream_events(\n",
    "    {\"messages\": [HumanMessage(content=\"whats the weather in sf?\")]}, version=\"v1\"\n",
    "):\n",
    "    kind = event[\"event\"]\n",
    "    if kind == \"on_chain_start\":\n",
    "        if (\n",
    "            event[\"name\"] == \"Agent\"\n",
    "        ):  # Was assigned when creating the agent with `.with_config({\"run_name\": \"Agent\"})`\n",
    "            print(\n",
    "                f\"Starting agent: {event['name']} with input: {event['data'].get('input')}\"\n",
    "            )\n",
    "    elif kind == \"on_chain_end\":\n",
    "        if (\n",
    "            event[\"name\"] == \"Agent\"\n",
    "        ):  # Was assigned when creating the agent with `.with_config({\"run_name\": \"Agent\"})`\n",
    "            print()\n",
    "            print(\"--\")\n",
    "            print(\n",
    "                f\"Done agent: {event['name']} with output: {event['data'].get('output')['output']}\"\n",
    "            )\n",
    "    if kind == \"on_chat_model_stream\":\n",
    "        content = event[\"data\"][\"chunk\"].content\n",
    "        if content:\n",
    "            # Empty content in the context of OpenAI means\n",
    "            # that the model is asking for a tool to be invoked.\n",
    "            # So we only print non-empty content\n",
    "            print(content, end=\"|\")\n",
    "    elif kind == \"on_tool_start\":\n",
    "        print(\"--\")\n",
    "        print(\n",
    "            f\"Starting tool: {event['name']} with inputs: {event['data'].get('input')}\"\n",
    "        )\n",
    "    elif kind == \"on_tool_end\":\n",
    "        print(f\"Done tool: {event['name']}\")\n",
    "        print(f\"Tool output was: {event['data'].get('output')}\")\n",
    "        print(\"--\")"
   ]
  },
  {
   "cell_type": "markdown",
   "metadata": {},
   "source": [
    "# メモリに追加"
   ]
  },
  {
   "cell_type": "code",
   "execution_count": 27,
   "metadata": {},
   "outputs": [],
   "source": [
    "from langgraph.checkpoint.memory import MemorySaver\n",
    "\n",
    "memory = MemorySaver()\n",
    "\n",
    "agent_executor = create_react_agent(model, tools, checkpointer=memory)\n",
    "\n",
    "config = {\"configurable\": {\"thread_id\": \"abc123\"}}"
   ]
  },
  {
   "cell_type": "code",
   "execution_count": 28,
   "metadata": {},
   "outputs": [
    {
     "name": "stdout",
     "output_type": "stream",
     "text": [
      "{'agent': {'messages': [AIMessage(content='Hello Bob! How can I assist you today?', additional_kwargs={'refusal': None}, response_metadata={'token_usage': {'completion_tokens': 11, 'prompt_tokens': 85, 'total_tokens': 96, 'completion_tokens_details': {'audio_tokens': None, 'reasoning_tokens': 0}, 'prompt_tokens_details': {'audio_tokens': None, 'cached_tokens': 0}}, 'model_name': 'gpt-4-0613', 'system_fingerprint': None, 'finish_reason': 'stop', 'logprobs': None}, id='run-a69cf850-317e-4e0c-b396-77a0c2c75e0f-0', usage_metadata={'input_tokens': 85, 'output_tokens': 11, 'total_tokens': 96, 'input_token_details': {'cache_read': 0}, 'output_token_details': {'reasoning': 0}})]}}\n",
      "----\n"
     ]
    }
   ],
   "source": [
    "for chunk in agent_executor.stream(\n",
    "    {\"messages\": [HumanMessage(content=\"hi im bob!\")]}, config\n",
    "):\n",
    "    print(chunk)\n",
    "    print(\"----\")"
   ]
  },
  {
   "cell_type": "code",
   "execution_count": 29,
   "metadata": {},
   "outputs": [
    {
     "name": "stdout",
     "output_type": "stream",
     "text": [
      "{'agent': {'messages': [AIMessage(content='Your name is Bob.', additional_kwargs={'refusal': None}, response_metadata={'token_usage': {'completion_tokens': 6, 'prompt_tokens': 108, 'total_tokens': 114, 'completion_tokens_details': {'audio_tokens': None, 'reasoning_tokens': 0}, 'prompt_tokens_details': {'audio_tokens': None, 'cached_tokens': 0}}, 'model_name': 'gpt-4-0613', 'system_fingerprint': None, 'finish_reason': 'stop', 'logprobs': None}, id='run-15d65bec-a6e6-4db0-a015-36fef8401232-0', usage_metadata={'input_tokens': 108, 'output_tokens': 6, 'total_tokens': 114, 'input_token_details': {'cache_read': 0}, 'output_token_details': {'reasoning': 0}})]}}\n",
      "----\n"
     ]
    }
   ],
   "source": [
    "for chunk in agent_executor.stream(\n",
    "    {\"messages\": [HumanMessage(content=\"whats my name?\")]}, config\n",
    "):\n",
    "    print(chunk)\n",
    "    print(\"----\")"
   ]
  },
  {
   "cell_type": "code",
   "execution_count": 31,
   "metadata": {},
   "outputs": [
    {
     "name": "stdout",
     "output_type": "stream",
     "text": [
      "{'agent': {'messages': [AIMessage(content=\"I'm sorry, but as an AI, I don't have access to personal data about individuals unless it has been shared with me in the course of our conversation. I'm designed to respect user privacy and confidentiality.\", additional_kwargs={'refusal': None}, response_metadata={'token_usage': {'completion_tokens': 44, 'prompt_tokens': 142, 'total_tokens': 186, 'completion_tokens_details': {'audio_tokens': None, 'reasoning_tokens': 0}, 'prompt_tokens_details': {'audio_tokens': None, 'cached_tokens': 0}}, 'model_name': 'gpt-4-0613', 'system_fingerprint': None, 'finish_reason': 'stop', 'logprobs': None}, id='run-4b6067b6-a0ec-4f6a-9627-7c8926539719-0', usage_metadata={'input_tokens': 142, 'output_tokens': 44, 'total_tokens': 186, 'input_token_details': {'cache_read': 0}, 'output_token_details': {'reasoning': 0}})]}}\n",
      "----\n"
     ]
    }
   ],
   "source": [
    "# 新しい会話スレッドを開始\n",
    "config = {\"configurable\": {\"thread_id\": \"xyz123\"}}\n",
    "for chunk in agent_executor.stream(\n",
    "    {\"messages\": [HumanMessage(content=\"whats my name?\")]}, config\n",
    "):\n",
    "    print(chunk)\n",
    "    print(\"----\")"
   ]
  },
  {
   "cell_type": "code",
   "execution_count": null,
   "metadata": {},
   "outputs": [],
   "source": []
  }
 ],
 "metadata": {
  "kernelspec": {
   "display_name": "Python 3 (ipykernel)",
   "language": "python",
   "name": "python3"
  },
  "language_info": {
   "codemirror_mode": {
    "name": "ipython",
    "version": 3
   },
   "file_extension": ".py",
   "mimetype": "text/x-python",
   "name": "python",
   "nbconvert_exporter": "python",
   "pygments_lexer": "ipython3",
   "version": "3.12.7"
  }
 },
 "nbformat": 4,
 "nbformat_minor": 2
}
