{
 "cells": [
  {
   "cell_type": "markdown",
   "metadata": {},
   "source": [
    "# [Build an Agent](https://python.langchain.com/docs/tutorials/agents/)\n",
    "\n",
    "エージェントは、LLM を推論エンジンとして使用して、実行するアクションと、アクションを実行するために必要な入力を決定するシステムです。  \n",
    "アクションを実行した後、結果を LLM にフィードバックして、さらにアクションが必要かどうか、または終了しても問題ないかを判断できます。\n",
    "\n",
    "## LangSmith\n",
    "\n",
    "https://smith.langchain.com/\n",
    "\n",
    "## Tavily\n",
    "\n",
    "https://tavily.com/\n",
    "\n",
    "\n",
    "## リファレンス\n",
    "\n",
    "- [TavilySearchResults](https://python.langchain.com/api_reference/community/tools/langchain_community.tools.tavily_search.tool.TavilySearchResults.html)\n"
   ]
  },
  {
   "cell_type": "markdown",
   "metadata": {},
   "source": [
    "# Tavilyの定義"
   ]
  },
  {
   "cell_type": "markdown",
   "metadata": {},
   "source": []
  },
  {
   "cell_type": "code",
   "execution_count": 19,
   "metadata": {},
   "outputs": [
    {
     "name": "stdout",
     "output_type": "stream",
     "text": [
      "[{'url': 'https://www.weatherapi.com/', 'content': \"{'location': {'name': 'Tokyo', 'region': 'Tokyo', 'country': 'Japan', 'lat': 35.6895, 'lon': 139.6917, 'tz_id': 'Asia/Tokyo', 'localtime_epoch': 1730643303, 'localtime': '2024-11-03 23:15'}, 'current': {'last_updated_epoch': 1730643300, 'last_updated': '2024-11-03 23:15', 'temp_c': 18.1, 'temp_f': 64.6, 'is_day': 0, 'condition': {'text': 'Clear', 'icon': '//cdn.weatherapi.com/weather/64x64/night/113.png', 'code': 1000}, 'wind_mph': 6.9, 'wind_kph': 11.2, 'wind_degree': 115, 'wind_dir': 'ESE', 'pressure_mb': 1022.0, 'pressure_in': 30.18, 'precip_mm': 0.0, 'precip_in': 0.0, 'humidity': 68, 'cloud': 0, 'feelslike_c': 18.1, 'feelslike_f': 64.6, 'windchill_c': 17.6, 'windchill_f': 63.7, 'heatindex_c': 17.6, 'heatindex_f': 63.7, 'dewpoint_c': 8.6, 'dewpoint_f': 47.5, 'vis_km': 10.0, 'vis_miles': 6.0, 'uv': 0.0, 'gust_mph': 9.4, 'gust_kph': 15.2}}\"}, {'url': 'https://weatherspark.com/h/m/143809/2024/3/Historical-Weather-in-March-2024-in-Tokyo-Japan', 'content': 'Tokyo Temperature History March 2024. The daily range of reported temperatures (gray bars) and 24-hour highs (red ticks) and lows (blue ticks), placed over the daily average high (faint red line) and low (faint blue line) temperature, with 25th to 75th and 10th to 90th percentile bands.'}]\n"
     ]
    }
   ],
   "source": [
    "from langchain_community.tools.tavily_search import TavilySearchResults\n",
    "\n",
    "search = TavilySearchResults(max_results=2)\n",
    "search_results = search.invoke(\"what is the weather in Tokyo\")\n",
    "print(search_results)\n",
    "\n",
    "tools = [search]"
   ]
  },
  {
   "cell_type": "markdown",
   "metadata": {},
   "source": [
    "# エージェントを利用した推論"
   ]
  },
  {
   "cell_type": "code",
   "execution_count": 34,
   "metadata": {},
   "outputs": [],
   "source": [
    "from langchain_openai import ChatOpenAI\n",
    "from langchain_community.tools.tavily_search import TavilySearchResults\n",
    "from langchain_core.messages import HumanMessage\n",
    "from langgraph.checkpoint.memory import MemorySaver\n",
    "from langgraph.prebuilt import create_react_agent\n",
    "from langchain_core.runnables import RunnableConfig\n",
    "\n",
    "# モデル\n",
    "model = ChatOpenAI(model=\"gpt-4o\")\n",
    "\n",
    "# メモリ\n",
    "memory = MemorySaver()\n",
    "\n",
    "# エージェント作成\n",
    "search = TavilySearchResults(max_results=2)\n",
    "tools = [search]\n",
    "agent_executor = create_react_agent(model, tools, checkpointer=memory)"
   ]
  },
  {
   "cell_type": "code",
   "execution_count": 35,
   "metadata": {},
   "outputs": [
    {
     "name": "stdout",
     "output_type": "stream",
     "text": [
      "{'agent': {'messages': [AIMessage(content=\"Hi Bob! It's great to meet you. How's the weather in San Francisco today?\", additional_kwargs={'refusal': None}, response_metadata={'token_usage': {'completion_tokens': 19, 'prompt_tokens': 88, 'total_tokens': 107, 'completion_tokens_details': {'audio_tokens': None, 'reasoning_tokens': 0}, 'prompt_tokens_details': {'audio_tokens': None, 'cached_tokens': 0}}, 'model_name': 'gpt-4o-2024-08-06', 'system_fingerprint': 'fp_159d8341cc', 'finish_reason': 'stop', 'logprobs': None}, id='run-ac5a9768-d451-4160-adae-ecbaf663d7bd-0', usage_metadata={'input_tokens': 88, 'output_tokens': 19, 'total_tokens': 107, 'input_token_details': {'cache_read': 0}, 'output_token_details': {'reasoning': 0}})]}}\n",
      "-----\n"
     ]
    }
   ],
   "source": [
    "config = RunnableConfig(configurable={\"thread_id\": \"abc123\"})\n",
    "\n",
    "# 自己紹介をしているだけなので、Tavilyにアクセスする必要はない\n",
    "output_stream = agent_executor.stream(\n",
    "    {\"messages\": [HumanMessage(\"hi im bob! and i live in sf\")]},\n",
    "    config\n",
    ")\n",
    "\n",
    "for chunk in output_stream:\n",
    "    print(chunk)\n",
    "    print(\"-----\")"
   ]
  },
  {
   "cell_type": "code",
   "execution_count": 36,
   "metadata": {},
   "outputs": [
    {
     "name": "stdout",
     "output_type": "stream",
     "text": [
      "{'agent': {'messages': [AIMessage(content='', additional_kwargs={'tool_calls': [{'id': 'call_Pa2EjEryBASO4j9kK7xma3SE', 'function': {'arguments': '{\"query\":\"current weather San Francisco\"}', 'name': 'tavily_search_results_json'}, 'type': 'function'}], 'refusal': None}, response_metadata={'token_usage': {'completion_tokens': 21, 'prompt_tokens': 122, 'total_tokens': 143, 'completion_tokens_details': {'audio_tokens': None, 'reasoning_tokens': 0}, 'prompt_tokens_details': {'audio_tokens': None, 'cached_tokens': 0}}, 'model_name': 'gpt-4o-2024-08-06', 'system_fingerprint': 'fp_159d8341cc', 'finish_reason': 'tool_calls', 'logprobs': None}, id='run-e69a7034-d05a-42ba-a988-a99af0396094-0', tool_calls=[{'name': 'tavily_search_results_json', 'args': {'query': 'current weather San Francisco'}, 'id': 'call_Pa2EjEryBASO4j9kK7xma3SE', 'type': 'tool_call'}], usage_metadata={'input_tokens': 122, 'output_tokens': 21, 'total_tokens': 143, 'input_token_details': {'cache_read': 0}, 'output_token_details': {'reasoning': 0}})]}}\n",
      "-----\n",
      "{'tools': {'messages': [ToolMessage(content='[{\"url\": \"https://www.weatherapi.com/\", \"content\": \"{\\'location\\': {\\'name\\': \\'San Francisco\\', \\'region\\': \\'California\\', \\'country\\': \\'United States of America\\', \\'lat\\': 37.775, \\'lon\\': -122.4183, \\'tz_id\\': \\'America/Los_Angeles\\', \\'localtime_epoch\\': 1730644847, \\'localtime\\': \\'2024-11-03 06:40\\'}, \\'current\\': {\\'last_updated_epoch\\': 1730644200, \\'last_updated\\': \\'2024-11-03 06:30\\', \\'temp_c\\': 12.8, \\'temp_f\\': 55.0, \\'is_day\\': 1, \\'condition\\': {\\'text\\': \\'Partly cloudy\\', \\'icon\\': \\'//cdn.weatherapi.com/weather/64x64/day/116.png\\', \\'code\\': 1003}, \\'wind_mph\\': 9.8, \\'wind_kph\\': 15.8, \\'wind_degree\\': 323, \\'wind_dir\\': \\'NW\\', \\'pressure_mb\\': 1017.0, \\'pressure_in\\': 30.04, \\'precip_mm\\': 0.0, \\'precip_in\\': 0.0, \\'humidity\\': 86, \\'cloud\\': 25, \\'feelslike_c\\': 11.3, \\'feelslike_f\\': 52.3, \\'windchill_c\\': 10.3, \\'windchill_f\\': 50.5, \\'heatindex_c\\': 12.0, \\'heatindex_f\\': 53.6, \\'dewpoint_c\\': 10.6, \\'dewpoint_f\\': 51.1, \\'vis_km\\': 16.0, \\'vis_miles\\': 9.0, \\'uv\\': 0.0, \\'gust_mph\\': 15.4, \\'gust_kph\\': 24.7}}\"}, {\"url\": \"https://www.timeanddate.com/weather/usa/san-francisco/hourly\", \"content\": \"Hour-by-Hour Forecast for San Francisco, California, USA. Time/General. Weather. Time Zone. DST Changes. Sun & Moon. Weather Today Weather Hourly 14 Day Forecast Yesterday/Past Weather Climate (Averages) Currently: 63 °F. Scattered clouds.\"}]', name='tavily_search_results_json', id='9808f9d9-077b-4743-bdd0-2b9bd5cf513a', tool_call_id='call_Pa2EjEryBASO4j9kK7xma3SE', artifact={'query': 'current weather San Francisco', 'follow_up_questions': None, 'answer': None, 'images': [], 'results': [{'title': 'Weather in San Francisco', 'url': 'https://www.weatherapi.com/', 'content': \"{'location': {'name': 'San Francisco', 'region': 'California', 'country': 'United States of America', 'lat': 37.775, 'lon': -122.4183, 'tz_id': 'America/Los_Angeles', 'localtime_epoch': 1730644847, 'localtime': '2024-11-03 06:40'}, 'current': {'last_updated_epoch': 1730644200, 'last_updated': '2024-11-03 06:30', 'temp_c': 12.8, 'temp_f': 55.0, 'is_day': 1, 'condition': {'text': 'Partly cloudy', 'icon': '//cdn.weatherapi.com/weather/64x64/day/116.png', 'code': 1003}, 'wind_mph': 9.8, 'wind_kph': 15.8, 'wind_degree': 323, 'wind_dir': 'NW', 'pressure_mb': 1017.0, 'pressure_in': 30.04, 'precip_mm': 0.0, 'precip_in': 0.0, 'humidity': 86, 'cloud': 25, 'feelslike_c': 11.3, 'feelslike_f': 52.3, 'windchill_c': 10.3, 'windchill_f': 50.5, 'heatindex_c': 12.0, 'heatindex_f': 53.6, 'dewpoint_c': 10.6, 'dewpoint_f': 51.1, 'vis_km': 16.0, 'vis_miles': 9.0, 'uv': 0.0, 'gust_mph': 15.4, 'gust_kph': 24.7}}\", 'score': 0.9716722, 'raw_content': None}, {'title': 'Hourly forecast for San Francisco, California, USA - timeanddate.com', 'url': 'https://www.timeanddate.com/weather/usa/san-francisco/hourly', 'content': 'Hour-by-Hour Forecast for San Francisco, California, USA. Time/General. Weather. Time Zone. DST Changes. Sun & Moon. Weather Today Weather Hourly 14 Day Forecast Yesterday/Past Weather Climate (Averages) Currently: 63 °F. Scattered clouds.', 'score': 0.91978675, 'raw_content': None}], 'response_time': 3.02})]}}\n",
      "-----\n",
      "{'agent': {'messages': [AIMessage(content=\"The current weather in San Francisco is partly cloudy with a temperature of 55°F (12.8°C). The wind is coming from the northwest at about 9.8 mph (15.8 kph), and the humidity is at 86%. Visibility is good, around 16 km (9 miles). Overall, it feels like it's around 52.3°F (11.3°C). Enjoy your day!\", additional_kwargs={'refusal': None}, response_metadata={'token_usage': {'completion_tokens': 86, 'prompt_tokens': 645, 'total_tokens': 731, 'completion_tokens_details': {'audio_tokens': None, 'reasoning_tokens': 0}, 'prompt_tokens_details': {'audio_tokens': None, 'cached_tokens': 0}}, 'model_name': 'gpt-4o-2024-08-06', 'system_fingerprint': 'fp_159d8341cc', 'finish_reason': 'stop', 'logprobs': None}, id='run-0bffb392-6b09-4e4c-8965-7148c3d4ee75-0', usage_metadata={'input_tokens': 645, 'output_tokens': 86, 'total_tokens': 731, 'input_token_details': {'cache_read': 0}, 'output_token_details': {'reasoning': 0}})]}}\n",
      "-----\n"
     ]
    }
   ],
   "source": [
    "# MemorySaverに保存された情報から、住んでいる地域を取得して、Tavilyにアクセスして天気を取得する\n",
    "output_stream = agent_executor.stream(\n",
    "    {\"messages\": [HumanMessage(\"whats the weather where I live?\")]},\n",
    "    config\n",
    ")\n",
    "\n",
    "for chunk in output_stream:\n",
    "    print(chunk)\n",
    "    print(\"-----\")\n"
   ]
  },
  {
   "cell_type": "markdown",
   "metadata": {},
   "source": [
    "# Not ストリーミング"
   ]
  },
  {
   "cell_type": "code",
   "execution_count": 38,
   "metadata": {},
   "outputs": [
    {
     "data": {
      "text/plain": [
       "[HumanMessage(content=\"What's the weather in Tokyo?\", additional_kwargs={}, response_metadata={}, id='ae4c1bfa-45d2-4369-a4b2-e40b8b220ff9'),\n",
       " AIMessage(content='', additional_kwargs={'tool_calls': [{'id': 'call_Ymg3brnC4yjjK7VWG7u1Ntyb', 'function': {'arguments': '{\"query\":\"current weather in Tokyo\"}', 'name': 'tavily_search_results_json'}, 'type': 'function'}], 'refusal': None}, response_metadata={'token_usage': {'completion_tokens': 21, 'prompt_tokens': 85, 'total_tokens': 106, 'completion_tokens_details': {'audio_tokens': None, 'reasoning_tokens': 0}, 'prompt_tokens_details': {'audio_tokens': None, 'cached_tokens': 0}}, 'model_name': 'gpt-4o-2024-08-06', 'system_fingerprint': 'fp_159d8341cc', 'finish_reason': 'tool_calls', 'logprobs': None}, id='run-f65c4945-12f1-40b8-a23f-a3ee41aa0d8d-0', tool_calls=[{'name': 'tavily_search_results_json', 'args': {'query': 'current weather in Tokyo'}, 'id': 'call_Ymg3brnC4yjjK7VWG7u1Ntyb', 'type': 'tool_call'}], usage_metadata={'input_tokens': 85, 'output_tokens': 21, 'total_tokens': 106, 'input_token_details': {'cache_read': 0}, 'output_token_details': {'reasoning': 0}}),\n",
       " ToolMessage(content='[{\"url\": \"https://www.weatherapi.com/\", \"content\": \"{\\'location\\': {\\'name\\': \\'Tokyo\\', \\'region\\': \\'Tokyo\\', \\'country\\': \\'Japan\\', \\'lat\\': 35.6895, \\'lon\\': 139.6917, \\'tz_id\\': \\'Asia/Tokyo\\', \\'localtime_epoch\\': 1730645044, \\'localtime\\': \\'2024-11-03 23:44\\'}, \\'current\\': {\\'last_updated_epoch\\': 1730644200, \\'last_updated\\': \\'2024-11-03 23:30\\', \\'temp_c\\': 18.1, \\'temp_f\\': 64.6, \\'is_day\\': 0, \\'condition\\': {\\'text\\': \\'Clear\\', \\'icon\\': \\'//cdn.weatherapi.com/weather/64x64/night/113.png\\', \\'code\\': 1000}, \\'wind_mph\\': 6.9, \\'wind_kph\\': 11.2, \\'wind_degree\\': 115, \\'wind_dir\\': \\'ESE\\', \\'pressure_mb\\': 1022.0, \\'pressure_in\\': 30.18, \\'precip_mm\\': 0.0, \\'precip_in\\': 0.0, \\'humidity\\': 68, \\'cloud\\': 0, \\'feelslike_c\\': 18.1, \\'feelslike_f\\': 64.6, \\'windchill_c\\': 17.6, \\'windchill_f\\': 63.7, \\'heatindex_c\\': 17.6, \\'heatindex_f\\': 63.7, \\'dewpoint_c\\': 8.6, \\'dewpoint_f\\': 47.5, \\'vis_km\\': 10.0, \\'vis_miles\\': 6.0, \\'uv\\': 0.0, \\'gust_mph\\': 9.4, \\'gust_kph\\': 15.2}}\"}, {\"url\": \"https://www.timeanddate.com/weather/japan/tokyo/ext\", \"content\": \"Tokyo 14 Day Extended Forecast. Weather Today Weather Hourly 14 Day Forecast Yesterday/Past Weather Climate (Averages) Currently: 68 °F. Partly sunny. (Weather station: Tokyo Heliport, Japan). See more current weather.\"}]', name='tavily_search_results_json', id='c981fefa-6bec-44a8-95a4-e2f1341b230e', tool_call_id='call_Ymg3brnC4yjjK7VWG7u1Ntyb', artifact={'query': 'current weather in Tokyo', 'follow_up_questions': None, 'answer': None, 'images': [], 'results': [{'title': 'Weather in Tokyo', 'url': 'https://www.weatherapi.com/', 'content': \"{'location': {'name': 'Tokyo', 'region': 'Tokyo', 'country': 'Japan', 'lat': 35.6895, 'lon': 139.6917, 'tz_id': 'Asia/Tokyo', 'localtime_epoch': 1730645044, 'localtime': '2024-11-03 23:44'}, 'current': {'last_updated_epoch': 1730644200, 'last_updated': '2024-11-03 23:30', 'temp_c': 18.1, 'temp_f': 64.6, 'is_day': 0, 'condition': {'text': 'Clear', 'icon': '//cdn.weatherapi.com/weather/64x64/night/113.png', 'code': 1000}, 'wind_mph': 6.9, 'wind_kph': 11.2, 'wind_degree': 115, 'wind_dir': 'ESE', 'pressure_mb': 1022.0, 'pressure_in': 30.18, 'precip_mm': 0.0, 'precip_in': 0.0, 'humidity': 68, 'cloud': 0, 'feelslike_c': 18.1, 'feelslike_f': 64.6, 'windchill_c': 17.6, 'windchill_f': 63.7, 'heatindex_c': 17.6, 'heatindex_f': 63.7, 'dewpoint_c': 8.6, 'dewpoint_f': 47.5, 'vis_km': 10.0, 'vis_miles': 6.0, 'uv': 0.0, 'gust_mph': 9.4, 'gust_kph': 15.2}}\", 'score': 0.9894391, 'raw_content': None}, {'title': 'Tokyo, Japan 14 day weather forecast - timeanddate.com', 'url': 'https://www.timeanddate.com/weather/japan/tokyo/ext', 'content': 'Tokyo 14 Day Extended Forecast. Weather Today Weather Hourly 14 Day Forecast Yesterday/Past Weather Climate (Averages) Currently: 68 °F. Partly sunny. (Weather station: Tokyo Heliport, Japan). See more current weather.', 'score': 0.9394706, 'raw_content': None}], 'response_time': 3.65}),\n",
       " AIMessage(content='The current weather in Tokyo is clear with a temperature of 18.1°C (64.6°F). The wind is blowing from the east-southeast at 11.2 kph (6.9 mph). The humidity is at 68%, and there is no precipitation. The atmospheric pressure is 1022.0 mb (30.18 inHg), and visibility is 10 km (6 miles).', additional_kwargs={'refusal': None}, response_metadata={'token_usage': {'completion_tokens': 86, 'prompt_tokens': 594, 'total_tokens': 680, 'completion_tokens_details': {'audio_tokens': None, 'reasoning_tokens': 0}, 'prompt_tokens_details': {'audio_tokens': None, 'cached_tokens': 0}}, 'model_name': 'gpt-4o-2024-08-06', 'system_fingerprint': 'fp_45cf54deae', 'finish_reason': 'stop', 'logprobs': None}, id='run-706359ef-5515-46ba-8e0e-fd9aaa41f4e6-0', usage_metadata={'input_tokens': 594, 'output_tokens': 86, 'total_tokens': 680, 'input_token_details': {'cache_read': 0}, 'output_token_details': {'reasoning': 0}})]"
      ]
     },
     "execution_count": 38,
     "metadata": {},
     "output_type": "execute_result"
    }
   ],
   "source": [
    "config = RunnableConfig(configurable={\"thread_id\": \"paenorbj\"})\n",
    "response = agent_executor.invoke(\n",
    "    {\"messages\": [HumanMessage(content=\"What's the weather in Tokyo?\")]},\n",
    "    config,\n",
    ")\n",
    "response[\"messages\"]"
   ]
  },
  {
   "cell_type": "markdown",
   "metadata": {},
   "source": [
    "# トークンストリーミング"
   ]
  },
  {
   "cell_type": "code",
   "execution_count": 40,
   "metadata": {},
   "outputs": [
    {
     "name": "stdout",
     "output_type": "stream",
     "text": [
      "--\n",
      "Starting tool: tavily_search_results_json with inputs: {'query': 'San Francisco weather'}\n",
      "Done tool: tavily_search_results_json\n",
      "Tool output was: content='[{\"url\": \"https://www.weatherapi.com/\", \"content\": \"{\\'location\\': {\\'name\\': \\'San Francisco\\', \\'region\\': \\'California\\', \\'country\\': \\'United States of America\\', \\'lat\\': 37.775, \\'lon\\': -122.4183, \\'tz_id\\': \\'America/Los_Angeles\\', \\'localtime_epoch\\': 1730645131, \\'localtime\\': \\'2024-11-03 06:45\\'}, \\'current\\': {\\'last_updated_epoch\\': 1730645100, \\'last_updated\\': \\'2024-11-03 06:45\\', \\'temp_c\\': 12.8, \\'temp_f\\': 55.0, \\'is_day\\': 1, \\'condition\\': {\\'text\\': \\'Partly cloudy\\', \\'icon\\': \\'//cdn.weatherapi.com/weather/64x64/day/116.png\\', \\'code\\': 1003}, \\'wind_mph\\': 9.8, \\'wind_kph\\': 15.8, \\'wind_degree\\': 323, \\'wind_dir\\': \\'NW\\', \\'pressure_mb\\': 1017.0, \\'pressure_in\\': 30.04, \\'precip_mm\\': 0.0, \\'precip_in\\': 0.0, \\'humidity\\': 86, \\'cloud\\': 25, \\'feelslike_c\\': 11.3, \\'feelslike_f\\': 52.3, \\'windchill_c\\': 10.3, \\'windchill_f\\': 50.5, \\'heatindex_c\\': 12.0, \\'heatindex_f\\': 53.6, \\'dewpoint_c\\': 10.6, \\'dewpoint_f\\': 51.1, \\'vis_km\\': 16.0, \\'vis_miles\\': 9.0, \\'uv\\': 0.0, \\'gust_mph\\': 15.4, \\'gust_kph\\': 24.7}}\"}, {\"url\": \"https://weatherspark.com/h/m/557/2024/3/Historical-Weather-in-March-2024-in-San-Francisco-California-United-States\", \"content\": \"March 2024 Weather History in San Francisco California, United States. ... This report shows the past weather for San Francisco, providing a weather history for March 2024. It features all historical weather data series we have available, including the San Francisco temperature history for March 2024. ... Mon, Mar 11 Rain, Light Rain, Mist: 0.\"}]' name='tavily_search_results_json' tool_call_id='call_TqNmZWdD5juZnWCOthL7rv1t' artifact={'query': 'San Francisco weather', 'follow_up_questions': None, 'answer': None, 'images': [], 'results': [{'title': 'Weather in San Francisco', 'url': 'https://www.weatherapi.com/', 'content': \"{'location': {'name': 'San Francisco', 'region': 'California', 'country': 'United States of America', 'lat': 37.775, 'lon': -122.4183, 'tz_id': 'America/Los_Angeles', 'localtime_epoch': 1730645131, 'localtime': '2024-11-03 06:45'}, 'current': {'last_updated_epoch': 1730645100, 'last_updated': '2024-11-03 06:45', 'temp_c': 12.8, 'temp_f': 55.0, 'is_day': 1, 'condition': {'text': 'Partly cloudy', 'icon': '//cdn.weatherapi.com/weather/64x64/day/116.png', 'code': 1003}, 'wind_mph': 9.8, 'wind_kph': 15.8, 'wind_degree': 323, 'wind_dir': 'NW', 'pressure_mb': 1017.0, 'pressure_in': 30.04, 'precip_mm': 0.0, 'precip_in': 0.0, 'humidity': 86, 'cloud': 25, 'feelslike_c': 11.3, 'feelslike_f': 52.3, 'windchill_c': 10.3, 'windchill_f': 50.5, 'heatindex_c': 12.0, 'heatindex_f': 53.6, 'dewpoint_c': 10.6, 'dewpoint_f': 51.1, 'vis_km': 16.0, 'vis_miles': 9.0, 'uv': 0.0, 'gust_mph': 15.4, 'gust_kph': 24.7}}\", 'score': 0.9997592, 'raw_content': None}, {'title': 'San Francisco March 2024 Historical Weather Data (California, United ...', 'url': 'https://weatherspark.com/h/m/557/2024/3/Historical-Weather-in-March-2024-in-San-Francisco-California-United-States', 'content': 'March 2024 Weather History in San Francisco California, United States. ... This report shows the past weather for San Francisco, providing a weather history for March 2024. It features all historical weather data series we have available, including the San Francisco temperature history for March 2024. ... Mon, Mar 11 Rain, Light Rain, Mist: 0.', 'score': 0.9991239, 'raw_content': None}], 'response_time': 3.17}\n",
      "--\n",
      "The| current| weather| in| San| Francisco| is| partly| cloudy| with| a| temperature| of| |12|.|8|°C| (|55|.|0|°F|).| The| wind| is| coming| from| the| northwest| at| |9|.|8| mph| (|15|.|8| k|ph|),| and| the| humidity| is| |86|%.| There| is| no| precipitation| at| the| moment|,| and| visibility| is| |16| km| (|9| miles|).| The| weather| feels| like| |11|.|3|°C| (|52|.|3|°F|)| due| to| the| wind| chill|.|"
     ]
    }
   ],
   "source": [
    "config = RunnableConfig(configurable={\"thread_id\": \"pa;oenb\"})\n",
    "async for event in agent_executor.astream_events(\n",
    "    {\"messages\": [HumanMessage(content=\"whats the weather in sf?\")]}, config, version=\"v1\"\n",
    "):\n",
    "    kind = event[\"event\"]\n",
    "    if kind == \"on_chain_start\":\n",
    "        if (\n",
    "            event[\"name\"] == \"Agent\"\n",
    "        ):  # Was assigned when creating the agent with `.with_config({\"run_name\": \"Agent\"})`\n",
    "            print(\n",
    "                f\"Starting agent: {event['name']} with input: {event['data'].get('input')}\"\n",
    "            )\n",
    "    elif kind == \"on_chain_end\":\n",
    "        if (\n",
    "            event[\"name\"] == \"Agent\"\n",
    "        ):  # Was assigned when creating the agent with `.with_config({\"run_name\": \"Agent\"})`\n",
    "            print()\n",
    "            print(\"--\")\n",
    "            print(\n",
    "                f\"Done agent: {event['name']} with output: {event['data'].get('output')['output']}\"\n",
    "            )\n",
    "    if kind == \"on_chat_model_stream\":\n",
    "        content = event[\"data\"][\"chunk\"].content\n",
    "        if content:\n",
    "            # Empty content in the context of OpenAI means\n",
    "            # that the model is asking for a tool to be invoked.\n",
    "            # So we only print non-empty content\n",
    "            print(content, end=\"|\")\n",
    "    elif kind == \"on_tool_start\":\n",
    "        print(\"--\")\n",
    "        print(\n",
    "            f\"Starting tool: {event['name']} with inputs: {event['data'].get('input')}\"\n",
    "        )\n",
    "    elif kind == \"on_tool_end\":\n",
    "        print(f\"Done tool: {event['name']}\")\n",
    "        print(f\"Tool output was: {event['data'].get('output')}\")\n",
    "        print(\"--\")"
   ]
  },
  {
   "cell_type": "code",
   "execution_count": null,
   "metadata": {},
   "outputs": [],
   "source": []
  }
 ],
 "metadata": {
  "kernelspec": {
   "display_name": "Python 3 (ipykernel)",
   "language": "python",
   "name": "python3"
  },
  "language_info": {
   "codemirror_mode": {
    "name": "ipython",
    "version": 3
   },
   "file_extension": ".py",
   "mimetype": "text/x-python",
   "name": "python",
   "nbconvert_exporter": "python",
   "pygments_lexer": "ipython3",
   "version": "3.12.7"
  }
 },
 "nbformat": 4,
 "nbformat_minor": 2
}
