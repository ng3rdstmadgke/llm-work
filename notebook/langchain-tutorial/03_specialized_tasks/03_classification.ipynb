{
 "cells": [
  {
   "cell_type": "markdown",
   "metadata": {
    "vscode": {
     "languageId": "plaintext"
    }
   },
   "source": [
    "# [Classify Text into Labels](https://python.langchain.com/docs/tutorials/classification/)"
   ]
  },
  {
   "cell_type": "markdown",
   "metadata": {},
   "source": [
    "# ■ with_structured_outputを使う方法\n",
    "\n",
    "- [モデルから構造かデータを返す方法](https://python.langchain.com/docs/how_to/structured_output/)"
   ]
  },
  {
   "cell_type": "code",
   "execution_count": 9,
   "metadata": {},
   "outputs": [],
   "source": [
    "from langchain_core.prompts import ChatPromptTemplate, HumanMessagePromptTemplate, SystemMessagePromptTemplate\n",
    "from langchain_openai import ChatOpenAI\n",
    "from pydantic import BaseModel, Field\n",
    "from langchain_core.output_parsers import PydanticToolsParser\n",
    "\n",
    "\n",
    "# プロンプト\n",
    "tagging_prompt = \"\"\"\n",
    "以下の文章から必要な情報を抽出してください。\n",
    "'Classification' 機能に存在するプロパティのみを抽出してください。\n",
    "\n",
    "文章:\n",
    "{input}\n",
    "\"\"\"\n",
    "\n",
    "prompt = ChatPromptTemplate([\n",
    "    HumanMessagePromptTemplate.from_template(tagging_prompt)\n",
    "])\n",
    "\n",
    "\n",
    "# 出力のデータ構造\n",
    "class Classification(BaseModel):\n",
    "    sentiment: str = Field(\n",
    "        ...,\n",
    "        description=\"文章の感情\",\n",
    "        enum=[\"positive\", \"neutral\", \"negative\"]\n",
    "    )\n",
    "    aggressiveness: int = Field(\n",
    "        ...,\n",
    "        description=\"攻撃的な度合。数字が大きいほど攻撃的\",\n",
    "        enum=[1, 2, 3, 4, 5],\n",
    "    )\n",
    "    language: str = Field(\n",
    "        ...,\n",
    "        enum=[\"Japanese\", \"English\", \"Other\"]\n",
    "    )\n",
    "\n",
    "\n",
    "llm = ChatOpenAI(model=\"gpt-4o\", temperature=0).with_structured_output(Classification)\n",
    "\n",
    "tagging_chain = prompt | llm\n"
   ]
  },
  {
   "cell_type": "code",
   "execution_count": 10,
   "metadata": {},
   "outputs": [
    {
     "data": {
      "text/plain": [
       "Classification(sentiment='positive', aggressiveness=1, language='Japanese')"
      ]
     },
     "execution_count": 10,
     "metadata": {},
     "output_type": "execute_result"
    }
   ],
   "source": [
    "input = \"\"\"\n",
    "家族のスマートフォン充電のために購入\n",
    "Ankerということもあり品質は十分\n",
    "充電速度は24WなのでPDには対応しておりません。\n",
    "\n",
    "なので、寝る前に充電する方におすすめ\n",
    "他にもUSBで充電する機器などでUSB充電器が足りない方にもおすすめ\n",
    "\n",
    "値段も手軽で電源端子も折りたたみ収納できますので旅行にも持っていきやすいです。\n",
    "\"\"\"\n",
    "\n",
    "tagging_chain.invoke({\"input\": input})"
   ]
  },
  {
   "cell_type": "code",
   "execution_count": 11,
   "metadata": {},
   "outputs": [
    {
     "data": {
      "text/plain": [
       "Classification(sentiment='negative', aggressiveness=2, language='Japanese')"
      ]
     },
     "execution_count": 11,
     "metadata": {},
     "output_type": "execute_result"
    }
   ],
   "source": [
    "input = \"\"\"\n",
    "仕事用と趣味用に2台購入して２年ほど経ちました。使用頻度の低い趣味用の方でコントロールキーとNキーが反応しないことが頻繁に起きるようになりました。掃除してみようとキーをバラしたところスペースキーが下の部品まで折れてくっついてきて元に戻せなくなりご臨終しました。\n",
    "また打鍵感は爪に負担を感じ、指が痛くなることが多々ありました。\n",
    "見た目やバックライトは綺麗で気に入っていたので残念です。\n",
    "\"\"\"\n",
    "\n",
    "tagging_chain.invoke({\"input\": input})"
   ]
  },
  {
   "cell_type": "code",
   "execution_count": 12,
   "metadata": {},
   "outputs": [
    {
     "data": {
      "text/plain": [
       "Classification(sentiment='negative', aggressiveness=3, language='Japanese')"
      ]
     },
     "execution_count": 12,
     "metadata": {},
     "output_type": "execute_result"
    }
   ],
   "source": [
    "input = \"\"\"\n",
    "使い始めて約2年ほど経ったあたりでキーの反応が悪くなる現象が出始めた。\n",
    "1日1～2時間ライトに使ってただけなので耐久性は非常に低いと言わざるを得ない。\n",
    "他の方のレビューでも書かれているようなので品質は低いのでしょう。\n",
    "\n",
    "初めてのゲーミングキーボードで1万3千円もしたのに2年持たなかったのはガッカリしました。\n",
    "ハイパーXのキーボードはもう買いませんし、お勧めしません。\n",
    "\"\"\"\n",
    "tagging_chain.invoke({\"input\": input})"
   ]
  },
  {
   "cell_type": "markdown",
   "metadata": {},
   "source": [
    "# ■ シンプルにOutputParserをチェインにつなげる方法"
   ]
  },
  {
   "cell_type": "code",
   "execution_count": 5,
   "metadata": {},
   "outputs": [],
   "source": [
    "from langchain_core.prompts import ChatPromptTemplate, HumanMessagePromptTemplate, SystemMessagePromptTemplate\n",
    "from langchain_openai import ChatOpenAI\n",
    "from pydantic import BaseModel, Field\n",
    "from langchain_core.output_parsers import PydanticOutputParser\n",
    "\n",
    "#\n",
    "# プロンプト\n",
    "#\n",
    "tagging_prompt = \"\"\"\n",
    "以下の文章から必要な情報を抽出してください。\n",
    "\n",
    "{format_instructions}\n",
    "\n",
    "文章:\n",
    "{input}\n",
    "\"\"\"\n",
    "\n",
    "prompt = ChatPromptTemplate([\n",
    "    HumanMessagePromptTemplate.from_template(tagging_prompt)\n",
    "])\n",
    "\n",
    "\n",
    "#\n",
    "# 出力パーサー\n",
    "#\n",
    "\n",
    "# 出力データ構造\n",
    "#   ...: 必須フィールド\n",
    "#   enum: 各プロパティが取りうる値のリスト\n",
    "#   description: モデルがプロパティの意味を理解するための説明\n",
    "class Classification(BaseModel):\n",
    "    sentiment: str = Field(\n",
    "        ...,\n",
    "        description=\"文章の感情\",\n",
    "        enum=[\"positive\", \"neutral\", \"negative\"]\n",
    "    )\n",
    "    aggressiveness: int = Field(\n",
    "        ...,\n",
    "        description=\"攻撃的な度合。数字が大きいほど攻撃的\",\n",
    "        enum=[1, 2, 3, 4, 5],\n",
    "    )\n",
    "    language: str = Field(\n",
    "        ...,\n",
    "        enum=[\"Japanese\", \"English\", \"Other\"]\n",
    "    )\n",
    "\n",
    "parser = PydanticOutputParser(pydantic_object=Classification)\n",
    "\n",
    "\n",
    "#\n",
    "# モデル\n",
    "#\n",
    "llm = ChatOpenAI(model=\"gpt-4o\", temperature=0)\n",
    "\n",
    "#\n",
    "# チェーン\n",
    "#\n",
    "tagging_chain = prompt | llm | parser"
   ]
  },
  {
   "cell_type": "code",
   "execution_count": 6,
   "metadata": {},
   "outputs": [
    {
     "data": {
      "text/plain": [
       "Classification(sentiment='positive', aggressiveness=1, language='Japanese')"
      ]
     },
     "execution_count": 6,
     "metadata": {},
     "output_type": "execute_result"
    }
   ],
   "source": [
    "input = \"\"\"\n",
    "家族のスマートフォン充電のために購入\n",
    "Ankerということもあり品質は十分\n",
    "充電速度は24WなのでPDには対応しておりません。\n",
    "\n",
    "なので、寝る前に充電する方におすすめ\n",
    "他にもUSBで充電する機器などでUSB充電器が足りない方にもおすすめ\n",
    "\n",
    "値段も手軽で電源端子も折りたたみ収納できますので旅行にも持っていきやすいです。\n",
    "\"\"\"\n",
    "\n",
    "tagging_chain.invoke({\"input\": input, \"format_instructions\": parser.get_format_instructions()})"
   ]
  },
  {
   "cell_type": "code",
   "execution_count": 7,
   "metadata": {},
   "outputs": [
    {
     "data": {
      "text/plain": [
       "Classification(sentiment='negative', aggressiveness=2, language='Japanese')"
      ]
     },
     "execution_count": 7,
     "metadata": {},
     "output_type": "execute_result"
    }
   ],
   "source": [
    "input = \"\"\"\n",
    "仕事用と趣味用に2台購入して２年ほど経ちました。使用頻度の低い趣味用の方でコントロールキーとNキーが反応しないことが頻繁に起きるようになりました。掃除してみようとキーをバラしたところスペースキーが下の部品まで折れてくっついてきて元に戻せなくなりご臨終しました。\n",
    "また打鍵感は爪に負担を感じ、指が痛くなることが多々ありました。\n",
    "見た目やバックライトは綺麗で気に入っていたので残念です。\n",
    "\"\"\"\n",
    "\n",
    "tagging_chain.invoke({\"input\": input, \"format_instructions\": parser.get_format_instructions()})"
   ]
  },
  {
   "cell_type": "code",
   "execution_count": 8,
   "metadata": {},
   "outputs": [
    {
     "data": {
      "text/plain": [
       "Classification(sentiment='negative', aggressiveness=3, language='Japanese')"
      ]
     },
     "execution_count": 8,
     "metadata": {},
     "output_type": "execute_result"
    }
   ],
   "source": [
    "input = \"\"\"\n",
    "使い始めて約2年ほど経ったあたりでキーの反応が悪くなる現象が出始めた。\n",
    "1日1～2時間ライトに使ってただけなので耐久性は非常に低いと言わざるを得ない。\n",
    "他の方のレビューでも書かれているようなので品質は低いのでしょう。\n",
    "\n",
    "初めてのゲーミングキーボードで1万3千円もしたのに2年持たなかったのはガッカリしました。\n",
    "ハイパーXのキーボードはもう買いませんし、お勧めしません。\n",
    "\"\"\"\n",
    "tagging_chain.invoke({\"input\": input, \"format_instructions\": parser.get_format_instructions()})"
   ]
  },
  {
   "cell_type": "code",
   "execution_count": null,
   "metadata": {},
   "outputs": [],
   "source": []
  }
 ],
 "metadata": {
  "kernelspec": {
   "display_name": "Python 3 (ipykernel)",
   "language": "python",
   "name": "python3"
  },
  "language_info": {
   "codemirror_mode": {
    "name": "ipython",
    "version": 3
   },
   "file_extension": ".py",
   "mimetype": "text/x-python",
   "name": "python",
   "nbconvert_exporter": "python",
   "pygments_lexer": "ipython3",
   "version": "3.12.7"
  }
 },
 "nbformat": 4,
 "nbformat_minor": 2
}
