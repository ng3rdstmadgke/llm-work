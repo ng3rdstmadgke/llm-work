{
 "cells": [
  {
   "cell_type": "markdown",
   "metadata": {},
   "source": [
    "# [Conversational RAG](https://python.langchain.com/docs/tutorials/qa_chat_history/)\n",
    "\n",
    "会話型RAGは一般に言うQ&Aアプリケーションです。\n",
    "Q&Aアプリケーションでは、ユーザーとのやり取りを「メモリ」に保持し、それらを現在の思考に組み込むためのロジックが必要です。  \n",
    "\n",
    "このチュートリアルでは、会話履歴をメモリに保持し、プロンプトに組み込む方法を学びます。\n",
    "\n",
    "## 参考\n",
    "\n",
    "\n",
    "- [create_stuff_documents_chain](https://python.langchain.com/api_reference/langchain/chains/langchain.chains.combine_documents.stuff.create_stuff_documents_chain.html)  \n",
    "受け取った入力を要約や他の処理を行わず、すべてプロンプトに詰め込む(stuff)  \n",
    "今回の場合、 `input` と `context` をキーに持つ辞書を入力に持ち、入力された内容をすべてプロンプトテンプレートに詰め込む\n",
    "- [create_retrieval_chain](https://python.langchain.com/api_reference/langchain/chains/langchain.chains.retrieval.create_retrieval_chain.html)  \n",
    "`input` をキーに持つ辞書を入力に持ち、入力で渡されたキーと `context` (検索結果) をキーに持つ辞書を出力する\n",
    "\n"
   ]
  },
  {
   "cell_type": "markdown",
   "metadata": {},
   "source": [
    "# ■ プレビュー"
   ]
  },
  {
   "cell_type": "code",
   "execution_count": 95,
   "metadata": {},
   "outputs": [
    {
     "data": {
      "image/jpeg": "[encoded data removed]",
      "text/plain": [
       "<IPython.core.display.Image object>"
      ]
     },
     "metadata": {},
     "output_type": "display_data"
    }
   ],
   "source": [
    "import os\n",
    "os.environ[\"USER_AGENT\"] = \"Mozilla/5.0 (Windows NT 10.0; Win64; x64) AppleWebKit/537.36 (KHTML, like Gecko) Chrome/130.0.0.0 Safari/537.36\"\n",
    "\n",
    "from typing import List, Sequence\n",
    "from typing_extensions import TypedDict, Annotated\n",
    "from IPython.display import Image, display\n",
    "import bs4\n",
    "from langchain_core.documents import Document\n",
    "from langchain_core.runnables import Runnable\n",
    "from langchain.chains import create_retrieval_chain, create_history_aware_retriever\n",
    "from langchain.chains.combine_documents import create_stuff_documents_chain\n",
    "from langchain_community.document_loaders import WebBaseLoader\n",
    "from langchain_core.prompts import ChatPromptTemplate, SystemMessagePromptTemplate, HumanMessagePromptTemplate, MessagesPlaceholder, AIMessagePromptTemplate\n",
    "from langchain_core.vectorstores import InMemoryVectorStore\n",
    "from langchain_openai import ChatOpenAI, OpenAIEmbeddings\n",
    "from langchain_text_splitters import RecursiveCharacterTextSplitter\n",
    "from langchain_core.runnables import RunnablePassthrough\n",
    "from langchain_core.output_parsers import StrOutputParser\n",
    "from langchain_core.messages import BaseMessage, HumanMessage, AIMessage\n",
    "from langgraph.checkpoint.memory import MemorySaver\n",
    "from langgraph.graph import START, StateGraph\n",
    "from langgraph.graph.message import add_messages\n",
    "from langchain_core.runnables import RunnableConfig\n",
    "\n",
    "# モデル\n",
    "llm = ChatOpenAI(model=\"gpt-4o\")\n",
    "\n",
    "#\n",
    "# 1. ロード & 分割 & 保存\n",
    "#\n",
    "\n",
    "# ロード\n",
    "bs4_strainer = bs4.SoupStrainer(class_=(\"post-content\", \"post-title\", \"post-header\"))\n",
    "loader = WebBaseLoader(\n",
    "    web_paths=(\"https://lilianweng.github.io/posts/2023-06-23-agent/\",),\n",
    "    bs_kwargs=dict(parse_only=bs4_strainer)\n",
    ")\n",
    "docs: List[Document] = loader.load()\n",
    "\n",
    "# 分割\n",
    "text_splitter = RecursiveCharacterTextSplitter(chunk_size=1000, chunk_overlap=200, add_start_index=True)\n",
    "splits: List[Document] = text_splitter.split_documents(docs)\n",
    "\n",
    "# 保存\n",
    "vectorstore = InMemoryVectorStore.from_documents(documents=splits, embedding=OpenAIEmbeddings())\n",
    "\n",
    "# 取得\n",
    "retriever = vectorstore.as_retriever()\n",
    "def format_docs(docs: List[Document]) -> str:\n",
    "    return \"\\n\".join([doc.page_content for doc in docs])\n",
    "\n",
    "\n",
    "#\n",
    "# 2. Retrieverの作成\n",
    "# 会話履歴とクエリを使ってクエリを再作成し、そのクエリを検索するRetrieverを作成する\n",
    "#\n",
    "\n",
    "# クエリと会話履歴から独立した質問を作成するためのプロンプト\n",
    "contextualize_q_system_prompt = \"\"\"\n",
    "チャット履歴と、チャット履歴のコンテキスを参照する可能性のある最新のユーザーからの質問がある場合、チャット履歴なしで理解できる独立した質問を作成してください。\n",
    "質問には答えず、必要であれば作り直し、そうでなければそのまま返してください。\n",
    "\"\"\"\n",
    "contextualize_q_prompt = ChatPromptTemplate.from_messages([\n",
    "    SystemMessagePromptTemplate.from_template(contextualize_q_system_prompt),\n",
    "    MessagesPlaceholder(\"chat_history\"),  # 入力にchat_historyというキーがあると、それを会話履歴として展開する\n",
    "    HumanMessagePromptTemplate.from_template(\"{input}\"),\n",
    "])\n",
    "\n",
    "# クエリ(input: str) と 会話履歴(chat_history: List[BaseMessage]) からクエリを作成して、Retrieverで検索するチェイン\n",
    "history_aware_retriever = create_history_aware_retriever(llm, retriever, contextualize_q_prompt)\n",
    "\n",
    "\n",
    "#\n",
    "# 3. Retrieverを質問応答のチェインに組み込む\n",
    "#\n",
    "\n",
    "system_template = \"\"\"\n",
    "あなたは質問応答のアシスタントです。\n",
    "質問に答えるために、検索された文脈の以下の部分を使用してください。\n",
    "答えがわからない場合は、わからないと答えましょう。\n",
    "回答は3文以内で簡潔に。\n",
    "\n",
    "\n",
    "{context}\n",
    "\"\"\"\n",
    "\n",
    "qa_prompt = ChatPromptTemplate([\n",
    "    SystemMessagePromptTemplate.from_template(system_template),\n",
    "    MessagesPlaceholder(\"chat_history\"),\n",
    "    HumanMessagePromptTemplate.from_template(\"{input}\")\n",
    "])\n",
    "\n",
    "question_answer_chain = create_stuff_documents_chain(llm=llm, prompt=qa_prompt, output_parser=StrOutputParser())\n",
    "\n",
    "rag_chain = create_retrieval_chain(retriever=history_aware_retriever, combine_docs_chain=question_answer_chain)\n",
    "\n",
    "#\n",
    "# 4. LangGraphで会話履歴を自動更新\n",
    "#\n",
    "\n",
    "class State(TypedDict):\n",
    "    input: str\n",
    "    chat_history: Annotated[List[BaseMessage], add_messages]\n",
    "    context: str\n",
    "    answer: str\n",
    "    \n",
    "def call_model(state: State, config: RunnableConfig):\n",
    "    result = rag_chain.invoke(state)\n",
    "    return {\n",
    "        \"chat_history\": [\n",
    "            HumanMessage(content=state[\"input\"]),\n",
    "            AIMessage(content=result[\"answer\"])\n",
    "        ],\n",
    "        \"context\": result[\"context\"],\n",
    "        \"answer\": result[\"answer\"],\n",
    "    }\n",
    "\n",
    "workflow = StateGraph(state_schema=State)\n",
    "workflow.add_node(\"model\", call_model)\n",
    "workflow.add_edge(START, \"model\")\n",
    "\n",
    "memory = MemorySaver()\n",
    "app = workflow.compile(checkpointer=memory)\n",
    "\n",
    "# mermaidでグラフを可視化してPNG形式で出力\n",
    "display(Image(app.get_graph().draw_mermaid_png()))"
   ]
  },
  {
   "cell_type": "code",
   "execution_count": 96,
   "metadata": {},
   "outputs": [
    {
     "name": "stdout",
     "output_type": "stream",
     "text": [
      "{'answer': 'タスク分解とは、大きなタスクを複数の小さくて管理しやすいタスクに分解するプロセスです。これは、複雑なタスクを簡素化し、ステップバイステップで解決するために、モデルのパフォーマンスを向上させる方法として使用されます。',\n",
      " 'chat_history': [HumanMessage(content='タスク分解とは何ですか?', additional_kwargs={}, response_metadata={}, id='82c14712-658a-4bfd-917b-c3946acd1e0f'),\n",
      "                  AIMessage(content='タスク分解とは、大きなタスクを複数の小さくて管理しやすいタスクに分解するプロセスです。これは、複雑なタスクを簡素化し、ステップバイステップで解決するために、モデルのパフォーマンスを向上させる方法として使用されます。', additional_kwargs={}, response_metadata={}, id='5103b10e-be9e-41a8-88f4-7dc449114251')],\n",
      " 'context': [Document(id='6ccdfc8b-084b-4101-bb46-1f65bb5cdbfc', metadata={'source': 'https://lilianweng.github.io/posts/2023-06-23-agent/', 'start_index': 2192}, page_content='Tree of Thoughts (Yao et al. 2023) extends CoT by exploring multiple reasoning possibilities at each step. It first decomposes the problem into multiple thought steps and generates multiple thoughts per step, creating a tree structure. The search process can be BFS (breadth-first search) or DFS (depth-first search) with each state evaluated by a classifier (via a prompt) or majority vote.\\nTask decomposition can be done (1) by LLM with simple prompting like \"Steps for XYZ.\\\\n1.\", \"What are the subgoals for achieving XYZ?\", (2) by using task-specific instructions; e.g. \"Write a story outline.\" for writing a novel, or (3) with human inputs.'),\n",
      "             Document(id='665fccab-3bb3-42fe-9f47-5ce38e848a0c', metadata={'source': 'https://lilianweng.github.io/posts/2023-06-23-agent/', 'start_index': 1585}, page_content='Fig. 1. Overview of a LLM-powered autonomous agent system.\\nComponent One: Planning#\\nA complicated task usually involves many steps. An agent needs to know what they are and plan ahead.\\nTask Decomposition#\\nChain of thought (CoT; Wei et al. 2022) has become a standard prompting technique for enhancing model performance on complex tasks. The model is instructed to “think step by step” to utilize more test-time computation to decompose hard tasks into smaller and simpler steps. CoT transforms big tasks into multiple manageable tasks and shed lights into an interpretation of the model’s thinking process.'),\n",
      "             Document(id='c45df966-bb8a-4bd6-9277-c1f64a965632', metadata={'source': 'https://lilianweng.github.io/posts/2023-06-23-agent/', 'start_index': 17804}, page_content='The AI assistant can parse user input to several tasks: [{\"task\": task, \"id\", task_id, \"dep\": dependency_task_ids, \"args\": {\"text\": text, \"image\": URL, \"audio\": URL, \"video\": URL}}]. The \"dep\" field denotes the id of the previous task which generates a new resource that the current task relies on. A special tag \"-task_id\" refers to the generated text image, audio and video in the dependency task with id as task_id. The task MUST be selected from the following options: {{ Available Task List }}. There is a logical relationship between tasks, please note their order. If the user input can\\'t be parsed, you need to reply empty JSON. Here are several cases for your reference: {{ Demonstrations }}. The chat history is recorded as {{ Chat History }}. From this chat history, you can find the path of the user-mentioned resources for your task planning.'),\n",
      "             Document(id='b25402fa-edd9-42fa-aa7e-2eafea4406ae', metadata={'source': 'https://lilianweng.github.io/posts/2023-06-23-agent/', 'start_index': 29630}, page_content='Resources:\\n1. Internet access for searches and information gathering.\\n2. Long Term memory management.\\n3. GPT-3.5 powered Agents for delegation of simple tasks.\\n4. File output.\\n\\nPerformance Evaluation:\\n1. Continuously review and analyze your actions to ensure you are performing to the best of your abilities.\\n2. Constructively self-criticize your big-picture behavior constantly.\\n3. Reflect on past decisions and strategies to refine your approach.\\n4. Every command has a cost, so be smart and efficient. Aim to complete tasks in the least number of steps.')],\n",
      " 'input': 'タスク分解とは何ですか?'}\n"
     ]
    }
   ],
   "source": [
    "from pprint import pprint\n",
    "\n",
    "config = RunnableConfig(configurable={\"thread_id\": \"23456\"})\n",
    "response = app.invoke(input={\"input\": \"タスク分解とは何ですか?\"}, config=config)\n",
    "pprint(response)"
   ]
  },
  {
   "cell_type": "code",
   "execution_count": 97,
   "metadata": {},
   "outputs": [
    {
     "name": "stdout",
     "output_type": "stream",
     "text": [
      "{'answer': 'はい、タスク分解は、Chain of '\n",
      "           'Thought（CoT）のような手法を通じて、複雑なタスクの解決を支援するために一般的に用いられる手法です。',\n",
      " 'chat_history': [HumanMessage(content='タスク分解とは何ですか?', additional_kwargs={}, response_metadata={}, id='82c14712-658a-4bfd-917b-c3946acd1e0f'),\n",
      "                  AIMessage(content='タスク分解とは、大きなタスクを複数の小さくて管理しやすいタスクに分解するプロセスです。これは、複雑なタスクを簡素化し、ステップバイステップで解決するために、モデルのパフォーマンスを向上させる方法として使用されます。', additional_kwargs={}, response_metadata={}, id='5103b10e-be9e-41a8-88f4-7dc449114251'),\n",
      "                  HumanMessage(content='それは一般的な手法ですか?', additional_kwargs={}, response_metadata={}, id='d211b0e3-d596-468b-931d-1d33707c0b41'),\n",
      "                  AIMessage(content='はい、タスク分解は、Chain of Thought（CoT）のような手法を通じて、複雑なタスクの解決を支援するために一般的に用いられる手法です。', additional_kwargs={}, response_metadata={}, id='db241116-0def-4649-9b1f-1016f7b663c7')],\n",
      " 'context': [Document(id='6ccdfc8b-084b-4101-bb46-1f65bb5cdbfc', metadata={'source': 'https://lilianweng.github.io/posts/2023-06-23-agent/', 'start_index': 2192}, page_content='Tree of Thoughts (Yao et al. 2023) extends CoT by exploring multiple reasoning possibilities at each step. It first decomposes the problem into multiple thought steps and generates multiple thoughts per step, creating a tree structure. The search process can be BFS (breadth-first search) or DFS (depth-first search) with each state evaluated by a classifier (via a prompt) or majority vote.\\nTask decomposition can be done (1) by LLM with simple prompting like \"Steps for XYZ.\\\\n1.\", \"What are the subgoals for achieving XYZ?\", (2) by using task-specific instructions; e.g. \"Write a story outline.\" for writing a novel, or (3) with human inputs.'),\n",
      "             Document(id='665fccab-3bb3-42fe-9f47-5ce38e848a0c', metadata={'source': 'https://lilianweng.github.io/posts/2023-06-23-agent/', 'start_index': 1585}, page_content='Fig. 1. Overview of a LLM-powered autonomous agent system.\\nComponent One: Planning#\\nA complicated task usually involves many steps. An agent needs to know what they are and plan ahead.\\nTask Decomposition#\\nChain of thought (CoT; Wei et al. 2022) has become a standard prompting technique for enhancing model performance on complex tasks. The model is instructed to “think step by step” to utilize more test-time computation to decompose hard tasks into smaller and simpler steps. CoT transforms big tasks into multiple manageable tasks and shed lights into an interpretation of the model’s thinking process.'),\n",
      "             Document(id='b25402fa-edd9-42fa-aa7e-2eafea4406ae', metadata={'source': 'https://lilianweng.github.io/posts/2023-06-23-agent/', 'start_index': 29630}, page_content='Resources:\\n1. Internet access for searches and information gathering.\\n2. Long Term memory management.\\n3. GPT-3.5 powered Agents for delegation of simple tasks.\\n4. File output.\\n\\nPerformance Evaluation:\\n1. Continuously review and analyze your actions to ensure you are performing to the best of your abilities.\\n2. Constructively self-criticize your big-picture behavior constantly.\\n3. Reflect on past decisions and strategies to refine your approach.\\n4. Every command has a cost, so be smart and efficient. Aim to complete tasks in the least number of steps.'),\n",
      "             Document(id='03367cb7-ddfe-42c2-b39c-e252e7715c1e', metadata={'source': 'https://lilianweng.github.io/posts/2023-06-23-agent/', 'start_index': 39086}, page_content='}\\n]\\nChallenges#\\nAfter going through key ideas and demos of building LLM-centered agents, I start to see a couple common limitations:')],\n",
      " 'input': 'それは一般的な手法ですか?'}\n"
     ]
    }
   ],
   "source": [
    "# クエリと会話履歴から独立した質問を生成して、Retriverで検索\n",
    "# 会話履歴と合わせて、「タスク分解は一般的な手法ですか？」というクエリが生成される。出力はそのクエリをRetrieverで検索した結果\n",
    "response = app.invoke(input={\"input\": \"それは一般的な手法ですか?\"}, config=config)\n",
    "pprint(response)"
   ]
  },
  {
   "cell_type": "code",
   "execution_count": 98,
   "metadata": {},
   "outputs": [
    {
     "name": "stdout",
     "output_type": "stream",
     "text": [
      "================================\u001b[1m Human Message \u001b[0m=================================\n",
      "\n",
      "タスク分解とは何ですか?\n",
      "==================================\u001b[1m Ai Message \u001b[0m==================================\n",
      "\n",
      "タスク分解とは、大きなタスクを複数の小さくて管理しやすいタスクに分解するプロセスです。これは、複雑なタスクを簡素化し、ステップバイステップで解決するために、モデルのパフォーマンスを向上させる方法として使用されます。\n",
      "================================\u001b[1m Human Message \u001b[0m=================================\n",
      "\n",
      "それは一般的な手法ですか?\n",
      "==================================\u001b[1m Ai Message \u001b[0m==================================\n",
      "\n",
      "はい、タスク分解は、Chain of Thought（CoT）のような手法を通じて、複雑なタスクの解決を支援するために一般的に用いられる手法です。\n"
     ]
    }
   ],
   "source": [
    "# Graphのステートから会話履歴を確認してみる\n",
    "chat_history = app.get_state(config).values[\"chat_history\"]\n",
    "for message in chat_history:\n",
    "    message.pretty_print()"
   ]
  },
  {
   "cell_type": "markdown",
   "metadata": {},
   "source": [
    "# ■ 05_rag_app.ipynbで実装した会話履歴を考慮しないRAGアプリケーション\n",
    "\n",
    "会話履歴を考慮しないRAGを一旦実装します。"
   ]
  },
  {
   "cell_type": "code",
   "execution_count": 64,
   "metadata": {},
   "outputs": [],
   "source": [
    "import os\n",
    "os.environ[\"USER_AGENT\"] = \"Mozilla/5.0 (Windows NT 10.0; Win64; x64) AppleWebKit/537.36 (KHTML, like Gecko) Chrome/130.0.0.0 Safari/537.36\"\n",
    "\n",
    "from typing import List\n",
    "from langchain_core.documents import Document\n",
    "from langchain_core.runnables import Runnable\n",
    "import bs4\n",
    "from langchain.chains import create_retrieval_chain\n",
    "from langchain.chains.combine_documents import create_stuff_documents_chain\n",
    "from langchain_community.document_loaders import WebBaseLoader\n",
    "from langchain_core.prompts import ChatPromptTemplate, SystemMessagePromptTemplate, HumanMessagePromptTemplate\n",
    "from langchain_core.vectorstores import InMemoryVectorStore\n",
    "from langchain_openai import ChatOpenAI, OpenAIEmbeddings\n",
    "from langchain_text_splitters import RecursiveCharacterTextSplitter\n",
    "from langchain_core.runnables import RunnablePassthrough\n",
    "from langchain_core.output_parsers import StrOutputParser\n",
    "\n",
    "# モデル\n",
    "llm = ChatOpenAI(model=\"gpt-4o\")\n",
    "\n",
    "#\n",
    "# 1. ロード & 分割 & 保存\n",
    "#\n",
    "\n",
    "# ロード\n",
    "bs4_strainer = bs4.SoupStrainer(class_=(\"post-content\", \"post-title\", \"post-header\"))\n",
    "loader = WebBaseLoader(\n",
    "    web_paths=(\"https://lilianweng.github.io/posts/2023-06-23-agent/\",),\n",
    "    bs_kwargs=dict(parse_only=bs4_strainer)\n",
    ")\n",
    "docs: List[Document] = loader.load()\n",
    "\n",
    "# 分割\n",
    "text_splitter = RecursiveCharacterTextSplitter(chunk_size=1000, chunk_overlap=200, add_start_index=True)\n",
    "splits: List[Document] = text_splitter.split_documents(docs)\n",
    "\n",
    "# 保存\n",
    "vectorstore = InMemoryVectorStore.from_documents(documents=splits, embedding=OpenAIEmbeddings())\n",
    "\n",
    "# 取得\n",
    "retriever = vectorstore.as_retriever()\n",
    "def format_docs(docs: List[Document]) -> str:\n",
    "    return \"\\n\".join([doc.page_content for doc in docs])\n",
    "\n",
    "\n",
    "#\n",
    "# 2. Retrieverを質問応答のチェインに組み込む\n",
    "#\n",
    "system_template = \"\"\"\n",
    "あなたは質問応答のアシスタントです。\n",
    "質問に答えるために、検索された文脈の以下の部分を使用してください。\n",
    "答えがわからない場合は、わからないと答えましょう。\n",
    "回答は3文以内で簡潔に。\n",
    "\n",
    "\n",
    "{context}\n",
    "\"\"\"\n",
    "\n",
    "prompt = ChatPromptTemplate([\n",
    "    SystemMessagePromptTemplate.from_template(system_template),\n",
    "    HumanMessagePromptTemplate.from_template(\"{input}\")\n",
    "])\n",
    "\n",
    "question_answer_chain = create_stuff_documents_chain(llm=llm, prompt=prompt, output_parser=StrOutputParser())\n",
    "rag_chain = create_retrieval_chain(retriever=retriever, combine_docs_chain=question_answer_chain)\n"
   ]
  },
  {
   "cell_type": "code",
   "execution_count": 65,
   "metadata": {},
   "outputs": [
    {
     "name": "stdout",
     "output_type": "stream",
     "text": [
      "{'answer': 'タスク分解とは、複雑なタスクを小さくて簡単なステップに分けるプロセスです。Chain of Thought (CoT) '\n",
      "           'は、モデルがステップごとに考えるように指示することで、タスクを分解し、モデルの思考プロセスを解釈しやすくします。これにより、複雑な問題を管理しやすくすることができます。',\n",
      " 'context': [Document(id='003cc3f3-ddc4-423e-a9f0-58e5abffabd4', metadata={'source': 'https://lilianweng.github.io/posts/2023-06-23-agent/', 'start_index': 2192}, page_content='Tree of Thoughts (Yao et al. 2023) extends CoT by exploring multiple reasoning possibilities at each step. It first decomposes the problem into multiple thought steps and generates multiple thoughts per step, creating a tree structure. The search process can be BFS (breadth-first search) or DFS (depth-first search) with each state evaluated by a classifier (via a prompt) or majority vote.\\nTask decomposition can be done (1) by LLM with simple prompting like \"Steps for XYZ.\\\\n1.\", \"What are the subgoals for achieving XYZ?\", (2) by using task-specific instructions; e.g. \"Write a story outline.\" for writing a novel, or (3) with human inputs.'),\n",
      "             Document(id='ce64aaf7-4510-40be-afaf-6f4e0b694333', metadata={'source': 'https://lilianweng.github.io/posts/2023-06-23-agent/', 'start_index': 1585}, page_content='Fig. 1. Overview of a LLM-powered autonomous agent system.\\nComponent One: Planning#\\nA complicated task usually involves many steps. An agent needs to know what they are and plan ahead.\\nTask Decomposition#\\nChain of thought (CoT; Wei et al. 2022) has become a standard prompting technique for enhancing model performance on complex tasks. The model is instructed to “think step by step” to utilize more test-time computation to decompose hard tasks into smaller and simpler steps. CoT transforms big tasks into multiple manageable tasks and shed lights into an interpretation of the model’s thinking process.'),\n",
      "             Document(id='dbfd8cf5-64c8-4090-be9f-ee5c65b6bf38', metadata={'source': 'https://lilianweng.github.io/posts/2023-06-23-agent/', 'start_index': 17804}, page_content='The AI assistant can parse user input to several tasks: [{\"task\": task, \"id\", task_id, \"dep\": dependency_task_ids, \"args\": {\"text\": text, \"image\": URL, \"audio\": URL, \"video\": URL}}]. The \"dep\" field denotes the id of the previous task which generates a new resource that the current task relies on. A special tag \"-task_id\" refers to the generated text image, audio and video in the dependency task with id as task_id. The task MUST be selected from the following options: {{ Available Task List }}. There is a logical relationship between tasks, please note their order. If the user input can\\'t be parsed, you need to reply empty JSON. Here are several cases for your reference: {{ Demonstrations }}. The chat history is recorded as {{ Chat History }}. From this chat history, you can find the path of the user-mentioned resources for your task planning.'),\n",
      "             Document(id='a681c1ac-52c5-4287-b737-97bd352d0f3c', metadata={'source': 'https://lilianweng.github.io/posts/2023-06-23-agent/', 'start_index': 29630}, page_content='Resources:\\n1. Internet access for searches and information gathering.\\n2. Long Term memory management.\\n3. GPT-3.5 powered Agents for delegation of simple tasks.\\n4. File output.\\n\\nPerformance Evaluation:\\n1. Continuously review and analyze your actions to ensure you are performing to the best of your abilities.\\n2. Constructively self-criticize your big-picture behavior constantly.\\n3. Reflect on past decisions and strategies to refine your approach.\\n4. Every command has a cost, so be smart and efficient. Aim to complete tasks in the least number of steps.')],\n",
      " 'input': 'タスク分解とは何ですか。'}\n",
      "{'answer': 'どの手法について質問しているのか文脈が不足しているため、一般的かどうかはわかりません。',\n",
      " 'context': [Document(id='f6e4a24c-9f24-4a93-99ed-ac944cdf5647', metadata={'source': 'https://lilianweng.github.io/posts/2023-06-23-agent/', 'start_index': 39086}, page_content='}\\n]\\nChallenges#\\nAfter going through key ideas and demos of building LLM-centered agents, I start to see a couple common limitations:'),\n",
      "             Document(id='c77c846d-a575-4827-90fc-d37adb2e9afa', metadata={'source': 'https://lilianweng.github.io/posts/2023-06-23-agent/', 'start_index': 5930}, page_content='Fig. 4. Experiments on AlfWorld Env and HotpotQA. Hallucination is a more common failure than inefficient planning in AlfWorld. (Image source: Shinn & Labash, 2023)'),\n",
      "             Document(id='b06dd3e2-12cc-4664-bbed-9f3d679592c8', metadata={'source': 'https://lilianweng.github.io/posts/2023-06-23-agent/', 'start_index': 32942}, page_content='}\\n]\\nThen after these clarification, the agent moved into the code writing mode with a different system message.\\nSystem message:'),\n",
      "             Document(id='4234c885-fabf-46d4-a631-9ed66e29d0b5', metadata={'source': 'https://lilianweng.github.io/posts/2023-06-23-agent/', 'start_index': 14988}, page_content='Fig. 9. Comparison of MIPS algorithms, measured in recall@10. (Image source: Google Blog, 2020)\\nCheck more MIPS algorithms and performance comparison in ann-benchmarks.com.\\nComponent Three: Tool Use#\\nTool use is a remarkable and distinguishing characteristic of human beings. We create, modify and utilize external objects to do things that go beyond our physical and cognitive limits. Equipping LLMs with external tools can significantly extend the model capabilities.')],\n",
      " 'input': 'それは一般的な手法ですか?'}\n"
     ]
    }
   ],
   "source": [
    "from pprint import pprint\n",
    "response = rag_chain.invoke({\"input\": \"タスク分解とは何ですか。\"})\n",
    "pprint(response)\n",
    "response = rag_chain.invoke({\"input\": \"それは一般的な手法ですか?\"})  # 会話の履歴が保持されていないため、これはわからない\n",
    "pprint(response)\n"
   ]
  },
  {
   "cell_type": "markdown",
   "metadata": {},
   "source": [
    "# ■ 会話型RAGとしての修正を加える\n",
    "\n",
    "上記の例ではユーザーの入力クエリを利用して関連するドキュメントをベクトルストアから取得しますが、会話の場面では、ユーザーのクエリを理解するために会話の履歴が必要になる可能性があります。  \n",
    "\n",
    "例えば、以下の例では「それ」が「タスク分解」を示す代名詞だということをAI側が理解する必要があります。\n",
    "\n",
    "> Human: タスク分解とは何ですか？  \n",
    "> AI: タスク分解とは...  \n",
    "> Human: それは一般的な方法ですか  \n",
    "\n",
    "そこで、上記のソースコードに2つの修正を加えます。\n",
    "\n",
    "### 1. 会話履歴を組み込んだクエリでRetrieveする\n",
    "retrieverのクエリに会話の文脈を組み込みます。(クエリと会話履歴を受け取り質問を再作成するサブチェーンを作成)  \n",
    "クエリと会話履歴をそのままretrieverに渡すのではなく、クエリの内容が会話履歴を入力として会話履歴無しで理解できる独立した質問をLLMで生成します\n",
    "\n",
    "- 修正前: `クエリ` -> `retriever`\n",
    "- 修正後: `(クエリ, 会話履歴)` -> `LLM` -> `独立した質問の生成` -> `retriever`\n",
    "\n",
    "### 2. Q&Aのプロンプトに会話履歴を含める\n",
    "\n",
    "Q&Aのプロンプトに過去の会話履歴を含めるようにします。"
   ]
  },
  {
   "cell_type": "markdown",
   "metadata": {},
   "source": [
    "## 1. 会話履歴を組み込んだクエリでRetrieveする\n",
    "\n",
    "クエリと会話履歴を使って質問文を再作成するサブチェーンを定義します。  \n",
    "※ クエリの内容が会話履歴を参照するような文章の場合に、会話履歴を参照しなくても意味が分かるような独立した質問を生成する必要があります。\n",
    "\n",
    "- [MessagePlaceholder](https://python.langchain.com/api_reference/core/prompts/langchain_core.prompts.chat.MessagesPlaceholder.html)\n",
    "  - `List[BaseMessage]` を展開するプレースホルダ\n",
    "- [create_history_aware_retriever](https://python.langchain.com/api_reference/langchain/chains/langchain.chains.history_aware_retriever.create_history_aware_retriever.html)\n",
    "  - 概要  \n",
    "    会話履歴をretriveして `List[Document]` を返すチェーン  \n",
    "    `chat_history` が入力として渡されない場合、クエリをそのままretrieverで検索する  \n",
    "    `chat_history` が入力として渡される場合、クエリと会話履歴から検索クエリを生成し、retrieverで検索する  \n",
    "  - 入力と出力\n",
    "    - 入力: `input: str` (クエリ(必須)) と `chat_history: List[BaseMessage]` (会話履歴)\n",
    "    - 出力: `List[Document]`\n"
   ]
  },
  {
   "cell_type": "code",
   "execution_count": 66,
   "metadata": {},
   "outputs": [],
   "source": [
    "from langchain.globals import set_verbose, set_debug\n",
    "set_verbose(False)\n",
    "set_debug(False)"
   ]
  },
  {
   "cell_type": "code",
   "execution_count": 67,
   "metadata": {},
   "outputs": [],
   "source": [
    "from langchain_core.prompts import MessagesPlaceholder, ChatPromptTemplate, SystemMessagePromptTemplate, HumanMessagePromptTemplate, AIMessagePromptTemplate\n",
    "from langchain.chains import create_history_aware_retriever\n",
    "\n",
    "\n",
    "# クエリと会話履歴から独立した質問を作成するためのプロンプト\n",
    "contextualize_q_system_prompt = \"\"\"\n",
    "チャット履歴と、チャット履歴のコンテキスを参照する可能性のある最新のユーザーからの質問がある場合、チャット履歴なしで理解できる独立した質問を作成してください。\n",
    "質問には答えず、必要であれば作り直し、そうでなければそのまま返してください。\n",
    "\"\"\"\n",
    "contextualize_q_prompt = ChatPromptTemplate.from_messages([\n",
    "    SystemMessagePromptTemplate.from_template(contextualize_q_system_prompt),\n",
    "    MessagesPlaceholder(\"chat_history\"),  # 入力にchat_historyというキーがあると、それを会話履歴として展開する\n",
    "    HumanMessagePromptTemplate.from_template(\"{input}\"),\n",
    "])\n",
    "\n",
    "# クエリ(input: str) と 会話履歴(chat_history: List[BaseMessage]) からクエリを作成して、Retrieverで検索するチェイン\n",
    "history_aware_retriever = create_history_aware_retriever(llm, retriever, contextualize_q_prompt)"
   ]
  },
  {
   "cell_type": "code",
   "execution_count": 68,
   "metadata": {},
   "outputs": [
    {
     "name": "stdout",
     "output_type": "stream",
     "text": [
      "[Document(id='003cc3f3-ddc4-423e-a9f0-58e5abffabd4', metadata={'source': 'https://lilianweng.github.io/posts/2023-06-23-agent/', 'start_index': 2192}, page_content='Tree of Thoughts (Yao et al. 2023) extends CoT by exploring multiple reasoning possibilities at each step. It first decomposes the problem into multiple thought steps and generates multiple thoughts per step, creating a tree structure. The search process can be BFS (breadth-first search) or DFS (depth-first search) with each state evaluated by a classifier (via a prompt) or majority vote.\\nTask decomposition can be done (1) by LLM with simple prompting like \"Steps for XYZ.\\\\n1.\", \"What are the subgoals for achieving XYZ?\", (2) by using task-specific instructions; e.g. \"Write a story outline.\" for writing a novel, or (3) with human inputs.'),\n",
      " Document(id='ce64aaf7-4510-40be-afaf-6f4e0b694333', metadata={'source': 'https://lilianweng.github.io/posts/2023-06-23-agent/', 'start_index': 1585}, page_content='Fig. 1. Overview of a LLM-powered autonomous agent system.\\nComponent One: Planning#\\nA complicated task usually involves many steps. An agent needs to know what they are and plan ahead.\\nTask Decomposition#\\nChain of thought (CoT; Wei et al. 2022) has become a standard prompting technique for enhancing model performance on complex tasks. The model is instructed to “think step by step” to utilize more test-time computation to decompose hard tasks into smaller and simpler steps. CoT transforms big tasks into multiple manageable tasks and shed lights into an interpretation of the model’s thinking process.'),\n",
      " Document(id='dbfd8cf5-64c8-4090-be9f-ee5c65b6bf38', metadata={'source': 'https://lilianweng.github.io/posts/2023-06-23-agent/', 'start_index': 17804}, page_content='The AI assistant can parse user input to several tasks: [{\"task\": task, \"id\", task_id, \"dep\": dependency_task_ids, \"args\": {\"text\": text, \"image\": URL, \"audio\": URL, \"video\": URL}}]. The \"dep\" field denotes the id of the previous task which generates a new resource that the current task relies on. A special tag \"-task_id\" refers to the generated text image, audio and video in the dependency task with id as task_id. The task MUST be selected from the following options: {{ Available Task List }}. There is a logical relationship between tasks, please note their order. If the user input can\\'t be parsed, you need to reply empty JSON. Here are several cases for your reference: {{ Demonstrations }}. The chat history is recorded as {{ Chat History }}. From this chat history, you can find the path of the user-mentioned resources for your task planning.'),\n",
      " Document(id='a681c1ac-52c5-4287-b737-97bd352d0f3c', metadata={'source': 'https://lilianweng.github.io/posts/2023-06-23-agent/', 'start_index': 29630}, page_content='Resources:\\n1. Internet access for searches and information gathering.\\n2. Long Term memory management.\\n3. GPT-3.5 powered Agents for delegation of simple tasks.\\n4. File output.\\n\\nPerformance Evaluation:\\n1. Continuously review and analyze your actions to ensure you are performing to the best of your abilities.\\n2. Constructively self-criticize your big-picture behavior constantly.\\n3. Reflect on past decisions and strategies to refine your approach.\\n4. Every command has a cost, so be smart and efficient. Aim to complete tasks in the least number of steps.')]\n"
     ]
    }
   ],
   "source": [
    "chat_history = []\n",
    "\n",
    "# クエリをRetrieverで検索\n",
    "question_01 = \"タスク分解とは何ですか。\"\n",
    "response = history_aware_retriever.invoke({\"input\": question_01, \"chat_history\": chat_history})\n",
    "pprint(response)"
   ]
  },
  {
   "cell_type": "code",
   "execution_count": 69,
   "metadata": {},
   "outputs": [
    {
     "name": "stdout",
     "output_type": "stream",
     "text": [
      "[Document(id='a681c1ac-52c5-4287-b737-97bd352d0f3c', metadata={'source': 'https://lilianweng.github.io/posts/2023-06-23-agent/', 'start_index': 29630}, page_content='Resources:\\n1. Internet access for searches and information gathering.\\n2. Long Term memory management.\\n3. GPT-3.5 powered Agents for delegation of simple tasks.\\n4. File output.\\n\\nPerformance Evaluation:\\n1. Continuously review and analyze your actions to ensure you are performing to the best of your abilities.\\n2. Constructively self-criticize your big-picture behavior constantly.\\n3. Reflect on past decisions and strategies to refine your approach.\\n4. Every command has a cost, so be smart and efficient. Aim to complete tasks in the least number of steps.'),\n",
      " Document(id='ce64aaf7-4510-40be-afaf-6f4e0b694333', metadata={'source': 'https://lilianweng.github.io/posts/2023-06-23-agent/', 'start_index': 1585}, page_content='Fig. 1. Overview of a LLM-powered autonomous agent system.\\nComponent One: Planning#\\nA complicated task usually involves many steps. An agent needs to know what they are and plan ahead.\\nTask Decomposition#\\nChain of thought (CoT; Wei et al. 2022) has become a standard prompting technique for enhancing model performance on complex tasks. The model is instructed to “think step by step” to utilize more test-time computation to decompose hard tasks into smaller and simpler steps. CoT transforms big tasks into multiple manageable tasks and shed lights into an interpretation of the model’s thinking process.'),\n",
      " Document(id='003cc3f3-ddc4-423e-a9f0-58e5abffabd4', metadata={'source': 'https://lilianweng.github.io/posts/2023-06-23-agent/', 'start_index': 2192}, page_content='Tree of Thoughts (Yao et al. 2023) extends CoT by exploring multiple reasoning possibilities at each step. It first decomposes the problem into multiple thought steps and generates multiple thoughts per step, creating a tree structure. The search process can be BFS (breadth-first search) or DFS (depth-first search) with each state evaluated by a classifier (via a prompt) or majority vote.\\nTask decomposition can be done (1) by LLM with simple prompting like \"Steps for XYZ.\\\\n1.\", \"What are the subgoals for achieving XYZ?\", (2) by using task-specific instructions; e.g. \"Write a story outline.\" for writing a novel, or (3) with human inputs.'),\n",
      " Document(id='2df4f460-c5df-436e-8354-9a8391240702', metadata={'source': 'https://lilianweng.github.io/posts/2023-06-23-agent/', 'start_index': 39221}, page_content='Finite context length: The restricted context capacity limits the inclusion of historical information, detailed instructions, API call context, and responses. The design of the system has to work with this limited communication bandwidth, while mechanisms like self-reflection to learn from past mistakes would benefit a lot from long or infinite context windows. Although vector stores and retrieval can provide access to a larger knowledge pool, their representation power is not as powerful as full attention.\\n\\n\\nChallenges in long-term planning and task decomposition: Planning over a lengthy history and effectively exploring the solution space remain challenging. LLMs struggle to adjust plans when faced with unexpected errors, making them less robust compared to humans who learn from trial and error.')]\n"
     ]
    }
   ],
   "source": [
    "from langchain_core.messages import AIMessage, HumanMessage\n",
    "\n",
    "# 会話履歴を更新\n",
    "answer_01 = \"タスク分解とは、複雑なタスクをより小さくシンプルなステップに分けるプロセスです。これにより、エージェントは各ステップを計画し、効率的に問題を解決することができます。具体的には、質問を通じてサブゴールを特定したり、タスク特有の指示を使用したり、人間の入力を活用したりします。\"\n",
    "chat_history.extend([\n",
    "    HumanMessage(content=question_01),\n",
    "    AIMessage(content=answer_01)\n",
    "])\n",
    "\n",
    "# クエリと会話履歴から独立した質問を生成して、Retriverで検索\n",
    "# 会話履歴と合わせて、「タスク分解は一般的な手法ですか？」というクエリが生成される。出力はそのクエリをRetrieverで検索した結果\n",
    "response = history_aware_retriever.invoke({\"input\": \"それは一般的な手法ですか?\", \"chat_history\": chat_history})\n",
    "pprint(response)"
   ]
  },
  {
   "cell_type": "code",
   "execution_count": 70,
   "metadata": {},
   "outputs": [
    {
     "name": "stdout",
     "output_type": "stream",
     "text": [
      "================================\u001b[1m Human Message \u001b[0m=================================\n",
      "\n",
      "タスク分解とは何ですか。\n",
      "==================================\u001b[1m Ai Message \u001b[0m==================================\n",
      "\n",
      "タスク分解とは、複雑なタスクをより小さくシンプルなステップに分けるプロセスです。これにより、エージェントは各ステップを計画し、効率的に問題を解決することができます。具体的には、質問を通じてサブゴールを特定したり、タスク特有の指示を使用したり、人間の入力を活用したりします。\n"
     ]
    }
   ],
   "source": [
    "for message in chat_history:\n",
    "    message.pretty_print()"
   ]
  },
  {
   "cell_type": "markdown",
   "metadata": {},
   "source": [
    "# 2. Q&Aプロンプトに会話履歴を組み込む\n",
    "\n",
    "Q&Aのプロンプトに会話履歴を組み込み、先ほど実装したhistory_aware_retrieverを統合します\n",
    "\n",
    "流れとしては以下のようになります。\n",
    "\n",
    "\n",
    "<img src=\"../../docs/img/06_conversational_rag_app/01.png\" width=\"700px\">\n",
    "\n",
    "1. **history_aware_retriever**\n",
    "    - `input: str` (ユーザーからのクエリ), `chat_history: List[BaseMessage]` (会話履歴) を入力として、独立した質問を生成するプロンプトを作成\n",
    "    - プロンプトをLLMに渡して、独立した質問として成立するクエリを生成\n",
    "    - 生成したクエリをRetrieverで検索\n",
    "    - 検索結果 `List[Document]` を出力\n",
    "1. **question_answer_chain**\n",
    "    - `context: List[Document]` (検索結果), `input: str` (ユーザーからのクエリ), `chat_history: List[BaseMessage]` (会話履歴) を入力として検索結果から質問に答えるプロンプトを生成\n",
    "    - プロンプトをLLMに渡して、回答を生成\n",
    "    - 出力"
   ]
  },
  {
   "cell_type": "code",
   "execution_count": 71,
   "metadata": {},
   "outputs": [],
   "source": [
    "from langchain_core.prompts import ChatPromptTemplate, SystemMessagePromptTemplate, HumanMessagePromptTemplate, MessagesPlaceholder\n",
    "\n",
    "system_template = \"\"\"\n",
    "あなたは質問応答のアシスタントです。\n",
    "質問に答えるために、検索された文脈の以下の部分を使用してください。\n",
    "答えがわからない場合は、わからないと答えましょう。\n",
    "回答は3文以内で簡潔に。\n",
    "\n",
    "\n",
    "{context}\n",
    "\"\"\"\n",
    "\n",
    "qa_prompt = ChatPromptTemplate([\n",
    "    SystemMessagePromptTemplate.from_template(system_template),\n",
    "    MessagesPlaceholder(\"chat_history\"),\n",
    "    HumanMessagePromptTemplate.from_template(\"{input}\")\n",
    "])\n",
    "\n",
    "question_answer_chain = create_stuff_documents_chain(llm=llm, prompt=qa_prompt, output_parser=StrOutputParser())\n",
    "rag_chain = create_retrieval_chain(retriever=history_aware_retriever, combine_docs_chain=question_answer_chain)"
   ]
  },
  {
   "cell_type": "code",
   "execution_count": 72,
   "metadata": {},
   "outputs": [
    {
     "name": "stdout",
     "output_type": "stream",
     "text": [
      "{'answer': 'タスク分解とは、複雑なタスクを小さくて簡単なステップに分解するプロセスです。これは、Chain of '\n",
      "           'Thought（CoT）のような手法を用いて、モデルが段階的に考えるように指示することで、モデルのパフォーマンスを向上させる技術です。タスク分解により、大きなタスクが管理しやすい複数のタスクに変換され、モデルの思考プロセスの解釈が可能になります。',\n",
      " 'chat_history': [],\n",
      " 'context': [Document(id='003cc3f3-ddc4-423e-a9f0-58e5abffabd4', metadata={'source': 'https://lilianweng.github.io/posts/2023-06-23-agent/', 'start_index': 2192}, page_content='Tree of Thoughts (Yao et al. 2023) extends CoT by exploring multiple reasoning possibilities at each step. It first decomposes the problem into multiple thought steps and generates multiple thoughts per step, creating a tree structure. The search process can be BFS (breadth-first search) or DFS (depth-first search) with each state evaluated by a classifier (via a prompt) or majority vote.\\nTask decomposition can be done (1) by LLM with simple prompting like \"Steps for XYZ.\\\\n1.\", \"What are the subgoals for achieving XYZ?\", (2) by using task-specific instructions; e.g. \"Write a story outline.\" for writing a novel, or (3) with human inputs.'),\n",
      "             Document(id='ce64aaf7-4510-40be-afaf-6f4e0b694333', metadata={'source': 'https://lilianweng.github.io/posts/2023-06-23-agent/', 'start_index': 1585}, page_content='Fig. 1. Overview of a LLM-powered autonomous agent system.\\nComponent One: Planning#\\nA complicated task usually involves many steps. An agent needs to know what they are and plan ahead.\\nTask Decomposition#\\nChain of thought (CoT; Wei et al. 2022) has become a standard prompting technique for enhancing model performance on complex tasks. The model is instructed to “think step by step” to utilize more test-time computation to decompose hard tasks into smaller and simpler steps. CoT transforms big tasks into multiple manageable tasks and shed lights into an interpretation of the model’s thinking process.'),\n",
      "             Document(id='dbfd8cf5-64c8-4090-be9f-ee5c65b6bf38', metadata={'source': 'https://lilianweng.github.io/posts/2023-06-23-agent/', 'start_index': 17804}, page_content='The AI assistant can parse user input to several tasks: [{\"task\": task, \"id\", task_id, \"dep\": dependency_task_ids, \"args\": {\"text\": text, \"image\": URL, \"audio\": URL, \"video\": URL}}]. The \"dep\" field denotes the id of the previous task which generates a new resource that the current task relies on. A special tag \"-task_id\" refers to the generated text image, audio and video in the dependency task with id as task_id. The task MUST be selected from the following options: {{ Available Task List }}. There is a logical relationship between tasks, please note their order. If the user input can\\'t be parsed, you need to reply empty JSON. Here are several cases for your reference: {{ Demonstrations }}. The chat history is recorded as {{ Chat History }}. From this chat history, you can find the path of the user-mentioned resources for your task planning.'),\n",
      "             Document(id='a681c1ac-52c5-4287-b737-97bd352d0f3c', metadata={'source': 'https://lilianweng.github.io/posts/2023-06-23-agent/', 'start_index': 29630}, page_content='Resources:\\n1. Internet access for searches and information gathering.\\n2. Long Term memory management.\\n3. GPT-3.5 powered Agents for delegation of simple tasks.\\n4. File output.\\n\\nPerformance Evaluation:\\n1. Continuously review and analyze your actions to ensure you are performing to the best of your abilities.\\n2. Constructively self-criticize your big-picture behavior constantly.\\n3. Reflect on past decisions and strategies to refine your approach.\\n4. Every command has a cost, so be smart and efficient. Aim to complete tasks in the least number of steps.')],\n",
      " 'input': 'タスク分解とは何ですか。'}\n"
     ]
    }
   ],
   "source": [
    "chat_history = []\n",
    "\n",
    "# クエリをRetrieverで検索\n",
    "question_01 = \"タスク分解とは何ですか。\"\n",
    "response = rag_chain.invoke({\"input\": question_01, \"chat_history\": chat_history})\n",
    "pprint(response)\n",
    "\n",
    "# 会話履歴を更新\n",
    "from langchain_core.messages import AIMessage, HumanMessage\n",
    "chat_history.extend([\n",
    "    HumanMessage(content=question_01),\n",
    "    AIMessage(content=response[\"answer\"])\n",
    "])"
   ]
  },
  {
   "cell_type": "code",
   "execution_count": 73,
   "metadata": {},
   "outputs": [
    {
     "name": "stdout",
     "output_type": "stream",
     "text": [
      "{'answer': 'はい、タスク分解は多くの問題解決やプロジェクト管理において一般的な手法です。特に、大規模言語モデル（LLM）のようなAIシステムにおいても、複雑なタスクを効率的に処理するために活用されています。',\n",
      " 'chat_history': [HumanMessage(content='タスク分解とは何ですか。', additional_kwargs={}, response_metadata={}),\n",
      "                  AIMessage(content='タスク分解とは、複雑なタスクを小さくて簡単なステップに分解するプロセスです。これは、Chain of Thought（CoT）のような手法を用いて、モデルが段階的に考えるように指示することで、モデルのパフォーマンスを向上させる技術です。タスク分解により、大きなタスクが管理しやすい複数のタスクに変換され、モデルの思考プロセスの解釈が可能になります。', additional_kwargs={}, response_metadata={})],\n",
      " 'context': [Document(id='f6e4a24c-9f24-4a93-99ed-ac944cdf5647', metadata={'source': 'https://lilianweng.github.io/posts/2023-06-23-agent/', 'start_index': 39086}, page_content='}\\n]\\nChallenges#\\nAfter going through key ideas and demos of building LLM-centered agents, I start to see a couple common limitations:'),\n",
      "             Document(id='c77c846d-a575-4827-90fc-d37adb2e9afa', metadata={'source': 'https://lilianweng.github.io/posts/2023-06-23-agent/', 'start_index': 5930}, page_content='Fig. 4. Experiments on AlfWorld Env and HotpotQA. Hallucination is a more common failure than inefficient planning in AlfWorld. (Image source: Shinn & Labash, 2023)'),\n",
      "             Document(id='b06dd3e2-12cc-4664-bbed-9f3d679592c8', metadata={'source': 'https://lilianweng.github.io/posts/2023-06-23-agent/', 'start_index': 32942}, page_content='}\\n]\\nThen after these clarification, the agent moved into the code writing mode with a different system message.\\nSystem message:'),\n",
      "             Document(id='4234c885-fabf-46d4-a631-9ed66e29d0b5', metadata={'source': 'https://lilianweng.github.io/posts/2023-06-23-agent/', 'start_index': 14988}, page_content='Fig. 9. Comparison of MIPS algorithms, measured in recall@10. (Image source: Google Blog, 2020)\\nCheck more MIPS algorithms and performance comparison in ann-benchmarks.com.\\nComponent Three: Tool Use#\\nTool use is a remarkable and distinguishing characteristic of human beings. We create, modify and utilize external objects to do things that go beyond our physical and cognitive limits. Equipping LLMs with external tools can significantly extend the model capabilities.')],\n",
      " 'input': 'それは一般的な手法ですか?'}\n"
     ]
    }
   ],
   "source": [
    "# クエリと会話履歴から独立した質問を生成して、Retriverで検索\n",
    "# 会話履歴と合わせて、「タスク分解は一般的な手法ですか？」というクエリが生成される。出力はそのクエリをRetrieverで検索した結果\n",
    "response = rag_chain.invoke({\"input\": \"それは一般的な手法ですか?\", \"chat_history\": chat_history})\n",
    "pprint(response)"
   ]
  },
  {
   "cell_type": "markdown",
   "metadata": {},
   "source": []
  },
  {
   "cell_type": "markdown",
   "metadata": {},
   "source": [
    "# LangGraphで会話履歴の管理を行う"
   ]
  },
  {
   "cell_type": "code",
   "execution_count": 79,
   "metadata": {},
   "outputs": [
    {
     "data": {
      "image/jpeg": "[encoded data removed]",
      "text/plain": [
       "<IPython.core.display.Image object>"
      ]
     },
     "metadata": {},
     "output_type": "display_data"
    }
   ],
   "source": [
    "from typing import Sequence\n",
    "from langchain_core.messages import BaseMessage\n",
    "from langgraph.checkpoint.memory import MemorySaver\n",
    "from langgraph.graph import START, StateGraph\n",
    "from langgraph.graph.message import add_messages\n",
    "from typing_extensions import TypedDict, Annotated\n",
    "from IPython.display import Image, display\n",
    "\n",
    "# アプリケーションの状態を表すデータ構造\n",
    "# rag_chainの入出力に合わせている\n",
    "class State(TypedDict):\n",
    "    input: str\n",
    "    chat_history: Annotated[Sequence[BaseMessage], add_messages]\n",
    "    context: str\n",
    "    answer: str\n",
    "\n",
    "# rag_chainを実行する単純なノードを定義\n",
    "# ノードの戻り値でグラフの状態を更新する\n",
    "def call_model(state: State):\n",
    "    response = rag_chain.invoke(state)\n",
    "    return {\n",
    "        # 入力メッセージと応答メッセージで会話履歴を更新\n",
    "        \"chat_history\": [\n",
    "            HumanMessage(content=state[\"input\"]),\n",
    "            AIMessage(content=response[\"answer\"])\n",
    "        ],\n",
    "        \"context\": response[\"context\"],\n",
    "        \"answer\": response[\"answer\"]\n",
    "    }\n",
    "\n",
    "\n",
    "workflow = StateGraph(state_schema=State)\n",
    "workflow.add_node(\"model\", call_model)\n",
    "workflow.add_edge(START, \"model\")\n",
    "\n",
    "memory = MemorySaver()\n",
    "app = workflow.compile(checkpointer=memory)\n",
    "\n",
    "# mermaidでグラフを可視化してPNG形式で出力\n",
    "display(Image(app.get_graph().draw_mermaid_png()))"
   ]
  },
  {
   "cell_type": "code",
   "execution_count": 80,
   "metadata": {},
   "outputs": [
    {
     "name": "stdout",
     "output_type": "stream",
     "text": [
      "{'answer': 'タスク分解とは、複雑なタスクをより小さくて簡単なステップに分解するプロセスです。これは、問題を解決しやすくするための手法で、モデルの思考過程を解釈するのに役立ちます。タスク分解は、Chain '\n",
      "           'of Thought (CoT) や人間の入力を利用して行うことができます。',\n",
      " 'chat_history': [HumanMessage(content='タスク分解とは何ですか。', additional_kwargs={}, response_metadata={}, id='bbffa7d4-a627-4921-8b51-b291e3eb0da9'),\n",
      "                  AIMessage(content='タスク分解とは、複雑なタスクをより小さくて簡単なステップに分解するプロセスです。これは、問題を解決しやすくするための手法で、モデルの思考過程を解釈するのに役立ちます。タスク分解は、Chain of Thought (CoT) や人間の入力を利用して行うことができます。', additional_kwargs={}, response_metadata={}, id='ddfa4e3a-3bd3-48dd-8c7a-5f76ca4bf3da')],\n",
      " 'context': [Document(id='003cc3f3-ddc4-423e-a9f0-58e5abffabd4', metadata={'source': 'https://lilianweng.github.io/posts/2023-06-23-agent/', 'start_index': 2192}, page_content='Tree of Thoughts (Yao et al. 2023) extends CoT by exploring multiple reasoning possibilities at each step. It first decomposes the problem into multiple thought steps and generates multiple thoughts per step, creating a tree structure. The search process can be BFS (breadth-first search) or DFS (depth-first search) with each state evaluated by a classifier (via a prompt) or majority vote.\\nTask decomposition can be done (1) by LLM with simple prompting like \"Steps for XYZ.\\\\n1.\", \"What are the subgoals for achieving XYZ?\", (2) by using task-specific instructions; e.g. \"Write a story outline.\" for writing a novel, or (3) with human inputs.'),\n",
      "             Document(id='ce64aaf7-4510-40be-afaf-6f4e0b694333', metadata={'source': 'https://lilianweng.github.io/posts/2023-06-23-agent/', 'start_index': 1585}, page_content='Fig. 1. Overview of a LLM-powered autonomous agent system.\\nComponent One: Planning#\\nA complicated task usually involves many steps. An agent needs to know what they are and plan ahead.\\nTask Decomposition#\\nChain of thought (CoT; Wei et al. 2022) has become a standard prompting technique for enhancing model performance on complex tasks. The model is instructed to “think step by step” to utilize more test-time computation to decompose hard tasks into smaller and simpler steps. CoT transforms big tasks into multiple manageable tasks and shed lights into an interpretation of the model’s thinking process.'),\n",
      "             Document(id='dbfd8cf5-64c8-4090-be9f-ee5c65b6bf38', metadata={'source': 'https://lilianweng.github.io/posts/2023-06-23-agent/', 'start_index': 17804}, page_content='The AI assistant can parse user input to several tasks: [{\"task\": task, \"id\", task_id, \"dep\": dependency_task_ids, \"args\": {\"text\": text, \"image\": URL, \"audio\": URL, \"video\": URL}}]. The \"dep\" field denotes the id of the previous task which generates a new resource that the current task relies on. A special tag \"-task_id\" refers to the generated text image, audio and video in the dependency task with id as task_id. The task MUST be selected from the following options: {{ Available Task List }}. There is a logical relationship between tasks, please note their order. If the user input can\\'t be parsed, you need to reply empty JSON. Here are several cases for your reference: {{ Demonstrations }}. The chat history is recorded as {{ Chat History }}. From this chat history, you can find the path of the user-mentioned resources for your task planning.'),\n",
      "             Document(id='a681c1ac-52c5-4287-b737-97bd352d0f3c', metadata={'source': 'https://lilianweng.github.io/posts/2023-06-23-agent/', 'start_index': 29630}, page_content='Resources:\\n1. Internet access for searches and information gathering.\\n2. Long Term memory management.\\n3. GPT-3.5 powered Agents for delegation of simple tasks.\\n4. File output.\\n\\nPerformance Evaluation:\\n1. Continuously review and analyze your actions to ensure you are performing to the best of your abilities.\\n2. Constructively self-criticize your big-picture behavior constantly.\\n3. Reflect on past decisions and strategies to refine your approach.\\n4. Every command has a cost, so be smart and efficient. Aim to complete tasks in the least number of steps.')],\n",
      " 'input': 'タスク分解とは何ですか。'}\n"
     ]
    }
   ],
   "source": [
    "from langchain_core.runnables import RunnableConfig\n",
    "from pprint import pprint\n",
    "\n",
    "config = RunnableConfig(configurable={\"thread_id\": \"123456\"})\n",
    "result = app.invoke({\"input\": \"タスク分解とは何ですか。\"}, config=config)\n",
    "pprint(result)"
   ]
  },
  {
   "cell_type": "code",
   "execution_count": 81,
   "metadata": {},
   "outputs": [
    {
     "name": "stdout",
     "output_type": "stream",
     "text": [
      "{'answer': 'はい、タスク分解は複雑なタスクに対するモデルのパフォーマンスを向上させるための一般的な手法です。Chain of Thought '\n",
      "           '(CoT) などのプロンプト技術として広く利用されています。',\n",
      " 'chat_history': [HumanMessage(content='タスク分解とは何ですか。', additional_kwargs={}, response_metadata={}, id='bbffa7d4-a627-4921-8b51-b291e3eb0da9'),\n",
      "                  AIMessage(content='タスク分解とは、複雑なタスクをより小さくて簡単なステップに分解するプロセスです。これは、問題を解決しやすくするための手法で、モデルの思考過程を解釈するのに役立ちます。タスク分解は、Chain of Thought (CoT) や人間の入力を利用して行うことができます。', additional_kwargs={}, response_metadata={}, id='ddfa4e3a-3bd3-48dd-8c7a-5f76ca4bf3da'),\n",
      "                  HumanMessage(content='それは一般的な手法ですか。', additional_kwargs={}, response_metadata={}, id='351595d9-5891-4ad4-b9a8-5a10287cbceb'),\n",
      "                  AIMessage(content='はい、タスク分解は複雑なタスクに対するモデルのパフォーマンスを向上させるための一般的な手法です。Chain of Thought (CoT) などのプロンプト技術として広く利用されています。', additional_kwargs={}, response_metadata={}, id='c0a7fd6b-551a-469d-aa1f-9310d901ea6a')],\n",
      " 'context': [Document(id='003cc3f3-ddc4-423e-a9f0-58e5abffabd4', metadata={'source': 'https://lilianweng.github.io/posts/2023-06-23-agent/', 'start_index': 2192}, page_content='Tree of Thoughts (Yao et al. 2023) extends CoT by exploring multiple reasoning possibilities at each step. It first decomposes the problem into multiple thought steps and generates multiple thoughts per step, creating a tree structure. The search process can be BFS (breadth-first search) or DFS (depth-first search) with each state evaluated by a classifier (via a prompt) or majority vote.\\nTask decomposition can be done (1) by LLM with simple prompting like \"Steps for XYZ.\\\\n1.\", \"What are the subgoals for achieving XYZ?\", (2) by using task-specific instructions; e.g. \"Write a story outline.\" for writing a novel, or (3) with human inputs.'),\n",
      "             Document(id='ce64aaf7-4510-40be-afaf-6f4e0b694333', metadata={'source': 'https://lilianweng.github.io/posts/2023-06-23-agent/', 'start_index': 1585}, page_content='Fig. 1. Overview of a LLM-powered autonomous agent system.\\nComponent One: Planning#\\nA complicated task usually involves many steps. An agent needs to know what they are and plan ahead.\\nTask Decomposition#\\nChain of thought (CoT; Wei et al. 2022) has become a standard prompting technique for enhancing model performance on complex tasks. The model is instructed to “think step by step” to utilize more test-time computation to decompose hard tasks into smaller and simpler steps. CoT transforms big tasks into multiple manageable tasks and shed lights into an interpretation of the model’s thinking process.'),\n",
      "             Document(id='a681c1ac-52c5-4287-b737-97bd352d0f3c', metadata={'source': 'https://lilianweng.github.io/posts/2023-06-23-agent/', 'start_index': 29630}, page_content='Resources:\\n1. Internet access for searches and information gathering.\\n2. Long Term memory management.\\n3. GPT-3.5 powered Agents for delegation of simple tasks.\\n4. File output.\\n\\nPerformance Evaluation:\\n1. Continuously review and analyze your actions to ensure you are performing to the best of your abilities.\\n2. Constructively self-criticize your big-picture behavior constantly.\\n3. Reflect on past decisions and strategies to refine your approach.\\n4. Every command has a cost, so be smart and efficient. Aim to complete tasks in the least number of steps.'),\n",
      "             Document(id='f6e4a24c-9f24-4a93-99ed-ac944cdf5647', metadata={'source': 'https://lilianweng.github.io/posts/2023-06-23-agent/', 'start_index': 39086}, page_content='}\\n]\\nChallenges#\\nAfter going through key ideas and demos of building LLM-centered agents, I start to see a couple common limitations:')],\n",
      " 'input': 'それは一般的な手法ですか。'}\n"
     ]
    }
   ],
   "source": [
    "result = app.invoke({\"input\": \"それは一般的な手法ですか。\"}, config=config)\n",
    "pprint(result)"
   ]
  },
  {
   "cell_type": "code",
   "execution_count": 82,
   "metadata": {},
   "outputs": [
    {
     "name": "stdout",
     "output_type": "stream",
     "text": [
      "================================\u001b[1m Human Message \u001b[0m=================================\n",
      "\n",
      "タスク分解とは何ですか。\n",
      "==================================\u001b[1m Ai Message \u001b[0m==================================\n",
      "\n",
      "タスク分解とは、複雑なタスクをより小さくて簡単なステップに分解するプロセスです。これは、問題を解決しやすくするための手法で、モデルの思考過程を解釈するのに役立ちます。タスク分解は、Chain of Thought (CoT) や人間の入力を利用して行うことができます。\n",
      "================================\u001b[1m Human Message \u001b[0m=================================\n",
      "\n",
      "それは一般的な手法ですか。\n",
      "==================================\u001b[1m Ai Message \u001b[0m==================================\n",
      "\n",
      "はい、タスク分解は複雑なタスクに対するモデルのパフォーマンスを向上させるための一般的な手法です。Chain of Thought (CoT) などのプロンプト技術として広く利用されています。\n"
     ]
    }
   ],
   "source": [
    "# Graphのステートから会話履歴を確認してみる\n",
    "chat_history = app.get_state(config).values[\"chat_history\"]\n",
    "for message in chat_history:\n",
    "    message.pretty_print()"
   ]
  },
  {
   "cell_type": "code",
   "execution_count": null,
   "metadata": {},
   "outputs": [],
   "source": []
  }
 ],
 "metadata": {
  "kernelspec": {
   "display_name": "Python 3 (ipykernel)",
   "language": "python",
   "name": "python3"
  },
  "language_info": {
   "codemirror_mode": {
    "name": "ipython",
    "version": 3
   },
   "file_extension": ".py",
   "mimetype": "text/x-python",
   "name": "python",
   "nbconvert_exporter": "python",
   "pygments_lexer": "ipython3",
   "version": "3.12.7"
  }
 },
 "nbformat": 4,
 "nbformat_minor": 2
}
