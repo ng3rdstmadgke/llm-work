{
 "cells": [
  {
   "cell_type": "markdown",
   "metadata": {},
   "source": [
    "# [Conversational RAG](https://python.langchain.com/docs/tutorials/qa_chat_history/)\n",
    "\n",
    "会話型RAGは一般に言うQ&Aアプリケーションです。\n",
    "Q&Aアプリケーションでは、ユーザーとのやり取りを「メモリ」に保持し、それらを現在の思考に組み込むためのロジックが必要です。  \n",
    "\n",
    "このチュートリアルでは、会話履歴をメモリに保持し、プロンプトに組み込む方法を学びます。\n",
    "\n",
    "## 参考\n",
    "\n",
    "\n",
    "- [create_stuff_documents_chain](https://python.langchain.com/api_reference/langchain/chains/langchain.chains.combine_documents.stuff.create_stuff_documents_chain.html)  \n",
    "受け取った入力を要約や他の処理を行わず、すべてプロンプトに詰め込む(stuff)  \n",
    "今回の場合、 `input` と `context` をキーに持つ辞書を入力に持ち、入力された内容をすべてプロンプトテンプレートに詰め込む\n",
    "- [create_retrieval_chain](https://python.langchain.com/api_reference/langchain/chains/langchain.chains.retrieval.create_retrieval_chain.html)  \n",
    "`input` をキーに持つ辞書を入力に持ち、入力で渡されたキーと `context` (検索結果) をキーに持つ辞書を出力する\n",
    "\n"
   ]
  },
  {
   "cell_type": "markdown",
   "metadata": {},
   "source": [
    "# プレビュー"
   ]
  },
  {
   "cell_type": "code",
   "execution_count": 44,
   "metadata": {},
   "outputs": [],
   "source": [
    "import os\n",
    "os.environ[\"USER_AGENT\"] = \"Mozilla/5.0 (Windows NT 10.0; Win64; x64) AppleWebKit/537.36 (KHTML, like Gecko) Chrome/130.0.0.0 Safari/537.36\"\n",
    "\n",
    "from typing import List\n",
    "from langchain_core.documents import Document\n",
    "from langchain_core.runnables import Runnable\n",
    "import bs4\n",
    "from langchain.chains import create_retrieval_chain, create_history_aware_retriever\n",
    "from langchain.chains.combine_documents import create_stuff_documents_chain\n",
    "from langchain_community.document_loaders import WebBaseLoader\n",
    "from langchain_core.prompts import ChatPromptTemplate, SystemMessagePromptTemplate, HumanMessagePromptTemplate, MessagesPlaceholder, AIMessagePromptTemplate\n",
    "from langchain_core.vectorstores import InMemoryVectorStore\n",
    "from langchain_openai import ChatOpenAI, OpenAIEmbeddings\n",
    "from langchain_text_splitters import RecursiveCharacterTextSplitter\n",
    "from langchain_core.runnables import RunnablePassthrough\n",
    "from langchain_core.output_parsers import StrOutputParser\n",
    "\n",
    "# モデル\n",
    "llm = ChatOpenAI(model=\"gpt-4o-mini\")\n",
    "\n",
    "#\n",
    "# 1. ロード & 分割 & 保存\n",
    "#\n",
    "\n",
    "# ロード\n",
    "bs4_strainer = bs4.SoupStrainer(class_=(\"post-content\", \"post-title\", \"post-header\"))\n",
    "loader = WebBaseLoader(\n",
    "    web_paths=(\"https://lilianweng.github.io/posts/2023-06-23-agent/\",),\n",
    "    bs_kwargs=dict(parse_only=bs4_strainer)\n",
    ")\n",
    "docs: List[Document] = loader.load()\n",
    "\n",
    "# 分割\n",
    "text_splitter = RecursiveCharacterTextSplitter(chunk_size=1000, chunk_overlap=200, add_start_index=True)\n",
    "splits: List[Document] = text_splitter.split_documents(docs)\n",
    "\n",
    "# 保存\n",
    "vectorstore = InMemoryVectorStore.from_documents(documents=splits, embedding=OpenAIEmbeddings())\n",
    "\n",
    "# 取得\n",
    "retriever = vectorstore.as_retriever()\n",
    "def format_docs(docs: List[Document]) -> str:\n",
    "    return \"\\n\".join([doc.page_content for doc in docs])\n",
    "\n",
    "\n",
    "#\n",
    "# 2. Retrieverの作成\n",
    "# 会話履歴とクエリを使ってクエリを再作成し、そのクエリを検索するRetrieverを作成する\n",
    "#\n",
    "\n",
    "# クエリと会話履歴から独立した質問を作成するためのプロンプト\n",
    "contextualize_q_system_prompt = \"\"\"\n",
    "チャット履歴と、チャット履歴のコンテキスを参照する可能性のある最新のユーザーからの質問がある場合、チャット履歴なしで理解できる独立した質問を作成してください。\n",
    "質問には答えず、必要であれば作り直し、そうでなければそのまま返してください。\n",
    "\"\"\"\n",
    "contextualize_q_prompt = ChatPromptTemplate.from_messages([\n",
    "    SystemMessagePromptTemplate.from_template(contextualize_q_system_prompt),\n",
    "    MessagesPlaceholder(\"chat_history\"),  # 入力にchat_historyというキーがあると、それを会話履歴として展開する\n",
    "    HumanMessagePromptTemplate.from_template(\"{input}\"),\n",
    "])\n",
    "\n",
    "# クエリ(input: str) と 会話履歴(chat_history: List[BaseMessage]) からクエリを作成して、Retrieverで検索するチェイン\n",
    "history_aware_retriever = create_history_aware_retriever(llm, retriever, contextualize_q_prompt)\n",
    "\n",
    "\n",
    "#\n",
    "# 3. Retrieverを質問応答のチェインに組み込む\n",
    "#\n",
    "\n",
    "system_template = \"\"\"\n",
    "あなたは質問応答のアシスタントです。\n",
    "質問に答えるために、検索された文脈の以下の部分を使用してください。\n",
    "答えがわからない場合は、わからないと答えましょう。\n",
    "回答は3文以内で簡潔に。\n",
    "\n",
    "\n",
    "{context}\n",
    "\"\"\"\n",
    "\n",
    "qa_prompt = ChatPromptTemplate([\n",
    "    SystemMessagePromptTemplate.from_template(system_template),\n",
    "    MessagesPlaceholder(\"chat_history\"),\n",
    "    HumanMessagePromptTemplate.from_template(\"{input}\")\n",
    "])\n",
    "\n",
    "question_answer_chain = create_stuff_documents_chain(llm=llm, prompt=qa_prompt, output_parser=StrOutputParser())\n",
    "\n",
    "rag_chain = create_retrieval_chain(retriever=history_aware_retriever, combine_docs_chain=question_answer_chain)"
   ]
  },
  {
   "cell_type": "code",
   "execution_count": 48,
   "metadata": {},
   "outputs": [
    {
     "name": "stdout",
     "output_type": "stream",
     "text": [
      "{'answer': 'タスク分解とは、複雑なタスクを小さく管理しやすいステップに分けるプロセスです。これにより、モデルは各ステップでの思考を明確にし、より効果的に問題を解決できるようになります。具体的には、シンプルなプロンプトや人間の入力を用いてタスクを分解することができます。',\n",
      " 'chat_history': [],\n",
      " 'context': [Document(id='3723e5f0-8fda-4891-85e1-c15e01d6a98c', metadata={'source': 'https://lilianweng.github.io/posts/2023-06-23-agent/', 'start_index': 2192}, page_content='Tree of Thoughts (Yao et al. 2023) extends CoT by exploring multiple reasoning possibilities at each step. It first decomposes the problem into multiple thought steps and generates multiple thoughts per step, creating a tree structure. The search process can be BFS (breadth-first search) or DFS (depth-first search) with each state evaluated by a classifier (via a prompt) or majority vote.\\nTask decomposition can be done (1) by LLM with simple prompting like \"Steps for XYZ.\\\\n1.\", \"What are the subgoals for achieving XYZ?\", (2) by using task-specific instructions; e.g. \"Write a story outline.\" for writing a novel, or (3) with human inputs.'),\n",
      "             Document(id='e1821dfc-1aee-418e-ac44-8e235d201f95', metadata={'source': 'https://lilianweng.github.io/posts/2023-06-23-agent/', 'start_index': 1585}, page_content='Fig. 1. Overview of a LLM-powered autonomous agent system.\\nComponent One: Planning#\\nA complicated task usually involves many steps. An agent needs to know what they are and plan ahead.\\nTask Decomposition#\\nChain of thought (CoT; Wei et al. 2022) has become a standard prompting technique for enhancing model performance on complex tasks. The model is instructed to “think step by step” to utilize more test-time computation to decompose hard tasks into smaller and simpler steps. CoT transforms big tasks into multiple manageable tasks and shed lights into an interpretation of the model’s thinking process.'),\n",
      "             Document(id='342093df-8ff5-40d4-ac0f-4f6e974c9c7b', metadata={'source': 'https://lilianweng.github.io/posts/2023-06-23-agent/', 'start_index': 17804}, page_content='The AI assistant can parse user input to several tasks: [{\"task\": task, \"id\", task_id, \"dep\": dependency_task_ids, \"args\": {\"text\": text, \"image\": URL, \"audio\": URL, \"video\": URL}}]. The \"dep\" field denotes the id of the previous task which generates a new resource that the current task relies on. A special tag \"-task_id\" refers to the generated text image, audio and video in the dependency task with id as task_id. The task MUST be selected from the following options: {{ Available Task List }}. There is a logical relationship between tasks, please note their order. If the user input can\\'t be parsed, you need to reply empty JSON. Here are several cases for your reference: {{ Demonstrations }}. The chat history is recorded as {{ Chat History }}. From this chat history, you can find the path of the user-mentioned resources for your task planning.'),\n",
      "             Document(id='ef7b942f-b066-4b37-bda2-b49f75ed1e92', metadata={'source': 'https://lilianweng.github.io/posts/2023-06-23-agent/', 'start_index': 29630}, page_content='Resources:\\n1. Internet access for searches and information gathering.\\n2. Long Term memory management.\\n3. GPT-3.5 powered Agents for delegation of simple tasks.\\n4. File output.\\n\\nPerformance Evaluation:\\n1. Continuously review and analyze your actions to ensure you are performing to the best of your abilities.\\n2. Constructively self-criticize your big-picture behavior constantly.\\n3. Reflect on past decisions and strategies to refine your approach.\\n4. Every command has a cost, so be smart and efficient. Aim to complete tasks in the least number of steps.')],\n",
      " 'input': 'タスク分解とは何ですか。'}\n",
      "'タスク分解とは、複雑なタスクを小さく管理しやすいステップに分けるプロセスです。これにより、モデルは各ステップでの思考を明確にし、より効果的に問題を解決できるようになります。具体的には、シンプルなプロンプトや人間の入力を用いてタスクを分解することができます。'\n"
     ]
    }
   ],
   "source": [
    "from pprint import pprint\n",
    "from langchain_core.messages import AIMessage, HumanMessage\n",
    "\n",
    "chat_history = []\n",
    "\n",
    "# クエリをRetrieverで検索\n",
    "question_01 = \"タスク分解とは何ですか。\"\n",
    "response = rag_chain.invoke({\"input\": question_01, \"chat_history\": chat_history})\n",
    "pprint(response)\n",
    "pprint(response[\"answer\"])\n",
    "\n",
    "# 会話履歴を更新\n",
    "chat_history.extend([\n",
    "    HumanMessage(content=question_01),\n",
    "    AIMessage(content=response[\"answer\"])\n",
    "])"
   ]
  },
  {
   "cell_type": "code",
   "execution_count": 49,
   "metadata": {},
   "outputs": [
    {
     "name": "stdout",
     "output_type": "stream",
     "text": [
      "{'answer': 'はい、タスク分解は一般的な手法であり、Chain of Thought (CoT) '\n",
      "           'などの技術がこの手法を活用しています。特に複雑なタスクに対して、段階的に考えることでモデルのパフォーマンスを向上させるために広く使われています。',\n",
      " 'chat_history': [HumanMessage(content='タスク分解とは何ですか。', additional_kwargs={}, response_metadata={}),\n",
      "                  AIMessage(content='タスク分解とは、複雑なタスクを小さく管理しやすいステップに分けるプロセスです。これにより、モデルは各ステップでの思考を明確にし、より効果的に問題を解決できるようになります。具体的には、シンプルなプロンプトや人間の入力を用いてタスクを分解することができます。', additional_kwargs={}, response_metadata={})],\n",
      " 'context': [Document(id='3723e5f0-8fda-4891-85e1-c15e01d6a98c', metadata={'source': 'https://lilianweng.github.io/posts/2023-06-23-agent/', 'start_index': 2192}, page_content='Tree of Thoughts (Yao et al. 2023) extends CoT by exploring multiple reasoning possibilities at each step. It first decomposes the problem into multiple thought steps and generates multiple thoughts per step, creating a tree structure. The search process can be BFS (breadth-first search) or DFS (depth-first search) with each state evaluated by a classifier (via a prompt) or majority vote.\\nTask decomposition can be done (1) by LLM with simple prompting like \"Steps for XYZ.\\\\n1.\", \"What are the subgoals for achieving XYZ?\", (2) by using task-specific instructions; e.g. \"Write a story outline.\" for writing a novel, or (3) with human inputs.'),\n",
      "             Document(id='e1821dfc-1aee-418e-ac44-8e235d201f95', metadata={'source': 'https://lilianweng.github.io/posts/2023-06-23-agent/', 'start_index': 1585}, page_content='Fig. 1. Overview of a LLM-powered autonomous agent system.\\nComponent One: Planning#\\nA complicated task usually involves many steps. An agent needs to know what they are and plan ahead.\\nTask Decomposition#\\nChain of thought (CoT; Wei et al. 2022) has become a standard prompting technique for enhancing model performance on complex tasks. The model is instructed to “think step by step” to utilize more test-time computation to decompose hard tasks into smaller and simpler steps. CoT transforms big tasks into multiple manageable tasks and shed lights into an interpretation of the model’s thinking process.'),\n",
      "             Document(id='ef7b942f-b066-4b37-bda2-b49f75ed1e92', metadata={'source': 'https://lilianweng.github.io/posts/2023-06-23-agent/', 'start_index': 29630}, page_content='Resources:\\n1. Internet access for searches and information gathering.\\n2. Long Term memory management.\\n3. GPT-3.5 powered Agents for delegation of simple tasks.\\n4. File output.\\n\\nPerformance Evaluation:\\n1. Continuously review and analyze your actions to ensure you are performing to the best of your abilities.\\n2. Constructively self-criticize your big-picture behavior constantly.\\n3. Reflect on past decisions and strategies to refine your approach.\\n4. Every command has a cost, so be smart and efficient. Aim to complete tasks in the least number of steps.'),\n",
      "             Document(id='ce3c33fd-a421-4e6d-9902-145f90dd2f7f', metadata={'source': 'https://lilianweng.github.io/posts/2023-06-23-agent/', 'start_index': 39086}, page_content='}\\n]\\nChallenges#\\nAfter going through key ideas and demos of building LLM-centered agents, I start to see a couple common limitations:')],\n",
      " 'input': 'それは一般的な手法ですか?'}\n",
      "('はい、タスク分解は一般的な手法であり、Chain of Thought (CoT) '\n",
      " 'などの技術がこの手法を活用しています。特に複雑なタスクに対して、段階的に考えることでモデルのパフォーマンスを向上させるために広く使われています。')\n"
     ]
    }
   ],
   "source": [
    "# クエリと会話履歴から独立した質問を生成して、Retriverで検索\n",
    "# 会話履歴と合わせて、「タスク分解は一般的な手法ですか？」というクエリが生成される。出力はそのクエリをRetrieverで検索した結果\n",
    "response = rag_chain.invoke({\"input\": \"それは一般的な手法ですか?\", \"chat_history\": chat_history})\n",
    "pprint(response)\n",
    "pprint(response[\"answer\"])"
   ]
  },
  {
   "cell_type": "markdown",
   "metadata": {},
   "source": [
    "# ■ 05_rag_app.ipynbで実装した会話履歴を考慮しないRAGアプリケーション\n",
    "\n",
    "会話履歴を考慮しないRAGを一旦実装します。"
   ]
  },
  {
   "cell_type": "code",
   "execution_count": null,
   "metadata": {},
   "outputs": [],
   "source": [
    "import os\n",
    "os.environ[\"USER_AGENT\"] = \"Mozilla/5.0 (Windows NT 10.0; Win64; x64) AppleWebKit/537.36 (KHTML, like Gecko) Chrome/130.0.0.0 Safari/537.36\"\n",
    "\n",
    "from typing import List\n",
    "from langchain_core.documents import Document\n",
    "from langchain_core.runnables import Runnable\n",
    "import bs4\n",
    "from langchain.chains import create_retrieval_chain\n",
    "from langchain.chains.combine_documents import create_stuff_documents_chain\n",
    "from langchain_community.document_loaders import WebBaseLoader\n",
    "from langchain_core.prompts import ChatPromptTemplate, SystemMessagePromptTemplate, HumanMessagePromptTemplate\n",
    "from langchain_core.vectorstores import InMemoryVectorStore\n",
    "from langchain_openai import ChatOpenAI, OpenAIEmbeddings\n",
    "from langchain_text_splitters import RecursiveCharacterTextSplitter\n",
    "from langchain_core.runnables import RunnablePassthrough\n",
    "from langchain_core.output_parsers import StrOutputParser\n",
    "\n",
    "# モデル\n",
    "llm = ChatOpenAI(model=\"gpt-4o-mini\")\n",
    "\n",
    "#\n",
    "# 1. ロード & 分割 & 保存\n",
    "#\n",
    "\n",
    "# ロード\n",
    "bs4_strainer = bs4.SoupStrainer(class_=(\"post-content\", \"post-title\", \"post-header\"))\n",
    "loader = WebBaseLoader(\n",
    "    web_paths=(\"https://lilianweng.github.io/posts/2023-06-23-agent/\",),\n",
    "    bs_kwargs=dict(parse_only=bs4_strainer)\n",
    ")\n",
    "docs: List[Document] = loader.load()\n",
    "\n",
    "# 分割\n",
    "text_splitter = RecursiveCharacterTextSplitter(chunk_size=1000, chunk_overlap=200, add_start_index=True)\n",
    "splits: List[Document] = text_splitter.split_documents(docs)\n",
    "\n",
    "# 保存\n",
    "vectorstore = InMemoryVectorStore.from_documents(documents=splits, embedding=OpenAIEmbeddings())\n",
    "\n",
    "# 取得\n",
    "retriever = vectorstore.as_retriever()\n",
    "def format_docs(docs: List[Document]) -> str:\n",
    "    return \"\\n\".join([doc.page_content for doc in docs])\n",
    "\n",
    "\n",
    "#\n",
    "# 2. Retrieverを質問応答のチェインに組み込む\n",
    "#\n",
    "system_template = \"\"\"\n",
    "あなたは質問応答のアシスタントです。\n",
    "質問に答えるために、検索された文脈の以下の部分を使用してください。\n",
    "答えがわからない場合は、わからないと答えましょう。\n",
    "回答は3文以内で簡潔に。\n",
    "\n",
    "\n",
    "{context}\n",
    "\"\"\"\n",
    "\n",
    "prompt = ChatPromptTemplate([\n",
    "    SystemMessagePromptTemplate.from_template(system_template),\n",
    "    HumanMessagePromptTemplate.from_template(\"{input}\")\n",
    "])\n",
    "\n",
    "question_answer_chain = create_stuff_documents_chain(llm=llm, prompt=prompt, output_parser=StrOutputParser())\n",
    "rag_chain = create_retrieval_chain(retriever=retriever, combine_docs_chain=question_answer_chain)\n"
   ]
  },
  {
   "cell_type": "code",
   "execution_count": 4,
   "metadata": {},
   "outputs": [
    {
     "name": "stdout",
     "output_type": "stream",
     "text": [
      "{'answer': 'タスク分解とは、複雑なタスクをより小さくシンプルなステップに分けるプロセスです。これにより、エージェントは各ステップを計画し、効率的に問題を解決することができます。具体的には、質問を通じてサブゴールを特定したり、タスク特有の指示を使用したり、人間の入力を活用したりします。',\n",
      " 'context': [Document(id='a49cddaa-be16-43ed-ad36-3b7075941d79', metadata={'source': 'https://lilianweng.github.io/posts/2023-06-23-agent/', 'start_index': 2192}, page_content='Tree of Thoughts (Yao et al. 2023) extends CoT by exploring multiple reasoning possibilities at each step. It first decomposes the problem into multiple thought steps and generates multiple thoughts per step, creating a tree structure. The search process can be BFS (breadth-first search) or DFS (depth-first search) with each state evaluated by a classifier (via a prompt) or majority vote.\\nTask decomposition can be done (1) by LLM with simple prompting like \"Steps for XYZ.\\\\n1.\", \"What are the subgoals for achieving XYZ?\", (2) by using task-specific instructions; e.g. \"Write a story outline.\" for writing a novel, or (3) with human inputs.'),\n",
      "             Document(id='0d056d26-a15b-46d1-876a-c1c357a853b7', metadata={'source': 'https://lilianweng.github.io/posts/2023-06-23-agent/', 'start_index': 1585}, page_content='Fig. 1. Overview of a LLM-powered autonomous agent system.\\nComponent One: Planning#\\nA complicated task usually involves many steps. An agent needs to know what they are and plan ahead.\\nTask Decomposition#\\nChain of thought (CoT; Wei et al. 2022) has become a standard prompting technique for enhancing model performance on complex tasks. The model is instructed to “think step by step” to utilize more test-time computation to decompose hard tasks into smaller and simpler steps. CoT transforms big tasks into multiple manageable tasks and shed lights into an interpretation of the model’s thinking process.'),\n",
      "             Document(id='12f2f725-e018-4d8b-8af5-dc12b6866335', metadata={'source': 'https://lilianweng.github.io/posts/2023-06-23-agent/', 'start_index': 17804}, page_content='The AI assistant can parse user input to several tasks: [{\"task\": task, \"id\", task_id, \"dep\": dependency_task_ids, \"args\": {\"text\": text, \"image\": URL, \"audio\": URL, \"video\": URL}}]. The \"dep\" field denotes the id of the previous task which generates a new resource that the current task relies on. A special tag \"-task_id\" refers to the generated text image, audio and video in the dependency task with id as task_id. The task MUST be selected from the following options: {{ Available Task List }}. There is a logical relationship between tasks, please note their order. If the user input can\\'t be parsed, you need to reply empty JSON. Here are several cases for your reference: {{ Demonstrations }}. The chat history is recorded as {{ Chat History }}. From this chat history, you can find the path of the user-mentioned resources for your task planning.'),\n",
      "             Document(id='140f7b86-fa3e-405f-94fe-955e65de7ac9', metadata={'source': 'https://lilianweng.github.io/posts/2023-06-23-agent/', 'start_index': 29630}, page_content='Resources:\\n1. Internet access for searches and information gathering.\\n2. Long Term memory management.\\n3. GPT-3.5 powered Agents for delegation of simple tasks.\\n4. File output.\\n\\nPerformance Evaluation:\\n1. Continuously review and analyze your actions to ensure you are performing to the best of your abilities.\\n2. Constructively self-criticize your big-picture behavior constantly.\\n3. Reflect on past decisions and strategies to refine your approach.\\n4. Every command has a cost, so be smart and efficient. Aim to complete tasks in the least number of steps.')],\n",
      " 'input': 'タスク分解とは何ですか。'}\n",
      "{'answer': 'わからない。',\n",
      " 'context': [Document(id='0a7adaa7-0cb6-4c58-9e27-c79e0aa9d909', metadata={'source': 'https://lilianweng.github.io/posts/2023-06-23-agent/', 'start_index': 39086}, page_content='}\\n]\\nChallenges#\\nAfter going through key ideas and demos of building LLM-centered agents, I start to see a couple common limitations:'),\n",
      "             Document(id='99e00cf8-c081-4489-9afc-926318955355', metadata={'source': 'https://lilianweng.github.io/posts/2023-06-23-agent/', 'start_index': 5930}, page_content='Fig. 4. Experiments on AlfWorld Env and HotpotQA. Hallucination is a more common failure than inefficient planning in AlfWorld. (Image source: Shinn & Labash, 2023)'),\n",
      "             Document(id='8f6bfc46-7bb1-461f-a1de-906e0b3f521d', metadata={'source': 'https://lilianweng.github.io/posts/2023-06-23-agent/', 'start_index': 32942}, page_content='}\\n]\\nThen after these clarification, the agent moved into the code writing mode with a different system message.\\nSystem message:'),\n",
      "             Document(id='532d87ab-2d90-4705-b575-fc9511e6f141', metadata={'source': 'https://lilianweng.github.io/posts/2023-06-23-agent/', 'start_index': 14988}, page_content='Fig. 9. Comparison of MIPS algorithms, measured in recall@10. (Image source: Google Blog, 2020)\\nCheck more MIPS algorithms and performance comparison in ann-benchmarks.com.\\nComponent Three: Tool Use#\\nTool use is a remarkable and distinguishing characteristic of human beings. We create, modify and utilize external objects to do things that go beyond our physical and cognitive limits. Equipping LLMs with external tools can significantly extend the model capabilities.')],\n",
      " 'input': 'それは一般的な手法ですか?'}\n"
     ]
    }
   ],
   "source": [
    "from pprint import pprint\n",
    "response = rag_chain.invoke({\"input\": \"タスク分解とは何ですか。\"})\n",
    "pprint(response)\n",
    "response = rag_chain.invoke({\"input\": \"それは一般的な手法ですか?\"})  # 会話の履歴が保持されていないため、これはわからない\n",
    "pprint(response)\n"
   ]
  },
  {
   "cell_type": "markdown",
   "metadata": {},
   "source": [
    "# ■ 会話型RAGとしての修正を加える\n",
    "\n",
    "上記の例ではユーザーの入力クエリを利用して関連するドキュメントをベクトルストアから取得しますが、会話の場面では、ユーザーのクエリを理解するために会話の履歴が必要になる可能性があります。  \n",
    "\n",
    "例えば、以下の例では「それ」が「タスク分解」を示す代名詞だということをAI側が理解する必要があります。\n",
    "\n",
    "> Human: タスク分解とは何ですか？  \n",
    "> AI: タスク分解とは...  \n",
    "> Human: それは一般的な方法ですか  \n",
    "\n",
    "そこで、上記のソースコードに2つの修正を加えます。\n",
    "\n",
    "### 1. 会話履歴を組み込んだクエリでRetrieveする\n",
    "retrieverのクエリに会話の文脈を組み込みます。(クエリと会話履歴を受け取り質問を再作成するサブチェーンを作成)  \n",
    "クエリと会話履歴をそのままretrieverに渡すのではなく、クエリの内容が会話履歴を入力として会話履歴無しで理解できる独立した質問をLLMで生成します\n",
    "\n",
    "- 修正前: `クエリ` -> `retriever`\n",
    "- 修正後: `(クエリ, 会話履歴)` -> `LLM` -> `独立した質問の生成` -> `retriever`\n",
    "\n",
    "### 2. Q&Aのプロンプトに会話履歴を含める\n",
    "\n",
    "Q&Aのプロンプトに過去の会話履歴を含めるようにします。"
   ]
  },
  {
   "cell_type": "markdown",
   "metadata": {},
   "source": [
    "## 1. 会話履歴を組み込んだクエリでRetrieveする\n",
    "\n",
    "クエリと会話履歴を使って質問文を再作成するサブチェーンを定義します。  \n",
    "※ クエリの内容が会話履歴を参照するような文章の場合に、会話履歴を参照しなくても意味が分かるような独立した質問を生成する必要があります。\n",
    "\n",
    "- [MessagePlaceholder](https://python.langchain.com/api_reference/core/prompts/langchain_core.prompts.chat.MessagesPlaceholder.html)\n",
    "  - `List[BaseMessage]` を展開するプレースホルダ\n",
    "- [create_history_aware_retriever](https://python.langchain.com/api_reference/langchain/chains/langchain.chains.history_aware_retriever.create_history_aware_retriever.html)\n",
    "  - 概要  \n",
    "    会話履歴をretriveして `List[Document]` を返すチェーン  \n",
    "    `chat_history` が入力として渡されない場合、クエリをそのままretrieverで検索する  \n",
    "    `chat_history` が入力として渡される場合、クエリと会話履歴から検索クエリを生成し、retrieverで検索する  \n",
    "  - 入力と出力\n",
    "    - 入力: `input: str` (クエリ(必須)) と `chat_history: List[BaseMessage]` (会話履歴)\n",
    "    - 出力: `List[Document]`\n"
   ]
  },
  {
   "cell_type": "code",
   "execution_count": null,
   "metadata": {},
   "outputs": [],
   "source": [
    "from langchain.globals import set_verbose, set_debug\n",
    "set_verbose(False)\n",
    "set_debug(True)"
   ]
  },
  {
   "cell_type": "code",
   "execution_count": 35,
   "metadata": {},
   "outputs": [],
   "source": [
    "from langchain_core.prompts import MessagesPlaceholder, ChatPromptTemplate, SystemMessagePromptTemplate, HumanMessagePromptTemplate, AIMessagePromptTemplate\n",
    "from langchain.chains import create_history_aware_retriever\n",
    "from langchain_openai import ChatOpenAI\n",
    "llm = ChatOpenAI(model=\"gpt-4o\")\n",
    "\n",
    "\n",
    "# クエリと会話履歴から独立した質問を作成するためのプロンプト\n",
    "contextualize_q_system_prompt = \"\"\"\n",
    "チャット履歴と、チャット履歴のコンテキスを参照する可能性のある最新のユーザーからの質問がある場合、チャット履歴なしで理解できる独立した質問を作成してください。\n",
    "質問には答えず、必要であれば作り直し、そうでなければそのまま返してください。\n",
    "\"\"\"\n",
    "contextualize_q_prompt = ChatPromptTemplate.from_messages([\n",
    "    SystemMessagePromptTemplate.from_template(contextualize_q_system_prompt),\n",
    "    MessagesPlaceholder(\"chat_history\"),  # 入力にchat_historyというキーがあると、それを会話履歴として展開する\n",
    "    HumanMessagePromptTemplate.from_template(\"{input}\"),\n",
    "])\n",
    "\n",
    "# クエリ(input: str) と 会話履歴(chat_history: List[BaseMessage]) からクエリを作成して、Retrieverで検索するチェイン\n",
    "history_aware_retriever = create_history_aware_retriever(llm, retriever, contextualize_q_prompt)"
   ]
  },
  {
   "cell_type": "code",
   "execution_count": 36,
   "metadata": {},
   "outputs": [
    {
     "name": "stdout",
     "output_type": "stream",
     "text": [
      "[Document(id='aaa08e0b-9593-4fd6-9a39-2dd5e1706637', metadata={'source': 'https://lilianweng.github.io/posts/2023-06-23-agent/', 'start_index': 2192}, page_content='Tree of Thoughts (Yao et al. 2023) extends CoT by exploring multiple reasoning possibilities at each step. It first decomposes the problem into multiple thought steps and generates multiple thoughts per step, creating a tree structure. The search process can be BFS (breadth-first search) or DFS (depth-first search) with each state evaluated by a classifier (via a prompt) or majority vote.\\nTask decomposition can be done (1) by LLM with simple prompting like \"Steps for XYZ.\\\\n1.\", \"What are the subgoals for achieving XYZ?\", (2) by using task-specific instructions; e.g. \"Write a story outline.\" for writing a novel, or (3) with human inputs.'),\n",
      " Document(id='f528980d-96e6-4b85-b248-4570f26540d7', metadata={'source': 'https://lilianweng.github.io/posts/2023-06-23-agent/', 'start_index': 1585}, page_content='Fig. 1. Overview of a LLM-powered autonomous agent system.\\nComponent One: Planning#\\nA complicated task usually involves many steps. An agent needs to know what they are and plan ahead.\\nTask Decomposition#\\nChain of thought (CoT; Wei et al. 2022) has become a standard prompting technique for enhancing model performance on complex tasks. The model is instructed to “think step by step” to utilize more test-time computation to decompose hard tasks into smaller and simpler steps. CoT transforms big tasks into multiple manageable tasks and shed lights into an interpretation of the model’s thinking process.'),\n",
      " Document(id='18269535-8c7f-4b52-bf81-7c57863fc647', metadata={'source': 'https://lilianweng.github.io/posts/2023-06-23-agent/', 'start_index': 17804}, page_content='The AI assistant can parse user input to several tasks: [{\"task\": task, \"id\", task_id, \"dep\": dependency_task_ids, \"args\": {\"text\": text, \"image\": URL, \"audio\": URL, \"video\": URL}}]. The \"dep\" field denotes the id of the previous task which generates a new resource that the current task relies on. A special tag \"-task_id\" refers to the generated text image, audio and video in the dependency task with id as task_id. The task MUST be selected from the following options: {{ Available Task List }}. There is a logical relationship between tasks, please note their order. If the user input can\\'t be parsed, you need to reply empty JSON. Here are several cases for your reference: {{ Demonstrations }}. The chat history is recorded as {{ Chat History }}. From this chat history, you can find the path of the user-mentioned resources for your task planning.'),\n",
      " Document(id='18875598-92fc-4c4a-808d-a542f2faacc4', metadata={'source': 'https://lilianweng.github.io/posts/2023-06-23-agent/', 'start_index': 29630}, page_content='Resources:\\n1. Internet access for searches and information gathering.\\n2. Long Term memory management.\\n3. GPT-3.5 powered Agents for delegation of simple tasks.\\n4. File output.\\n\\nPerformance Evaluation:\\n1. Continuously review and analyze your actions to ensure you are performing to the best of your abilities.\\n2. Constructively self-criticize your big-picture behavior constantly.\\n3. Reflect on past decisions and strategies to refine your approach.\\n4. Every command has a cost, so be smart and efficient. Aim to complete tasks in the least number of steps.')]\n"
     ]
    }
   ],
   "source": [
    "chat_history = []\n",
    "\n",
    "# クエリをRetrieverで検索\n",
    "question_01 = \"タスク分解とは何ですか。\"\n",
    "response = history_aware_retriever.invoke({\"input\": question_01, \"chat_history\": chat_history})\n",
    "pprint(response)"
   ]
  },
  {
   "cell_type": "code",
   "execution_count": 38,
   "metadata": {},
   "outputs": [
    {
     "name": "stdout",
     "output_type": "stream",
     "text": [
      "[Document(id='aaa08e0b-9593-4fd6-9a39-2dd5e1706637', metadata={'source': 'https://lilianweng.github.io/posts/2023-06-23-agent/', 'start_index': 2192}, page_content='Tree of Thoughts (Yao et al. 2023) extends CoT by exploring multiple reasoning possibilities at each step. It first decomposes the problem into multiple thought steps and generates multiple thoughts per step, creating a tree structure. The search process can be BFS (breadth-first search) or DFS (depth-first search) with each state evaluated by a classifier (via a prompt) or majority vote.\\nTask decomposition can be done (1) by LLM with simple prompting like \"Steps for XYZ.\\\\n1.\", \"What are the subgoals for achieving XYZ?\", (2) by using task-specific instructions; e.g. \"Write a story outline.\" for writing a novel, or (3) with human inputs.'),\n",
      " Document(id='f528980d-96e6-4b85-b248-4570f26540d7', metadata={'source': 'https://lilianweng.github.io/posts/2023-06-23-agent/', 'start_index': 1585}, page_content='Fig. 1. Overview of a LLM-powered autonomous agent system.\\nComponent One: Planning#\\nA complicated task usually involves many steps. An agent needs to know what they are and plan ahead.\\nTask Decomposition#\\nChain of thought (CoT; Wei et al. 2022) has become a standard prompting technique for enhancing model performance on complex tasks. The model is instructed to “think step by step” to utilize more test-time computation to decompose hard tasks into smaller and simpler steps. CoT transforms big tasks into multiple manageable tasks and shed lights into an interpretation of the model’s thinking process.'),\n",
      " Document(id='0ea7d50d-0115-4a90-8eb9-8b8c6d7edd02', metadata={'source': 'https://lilianweng.github.io/posts/2023-06-23-agent/', 'start_index': 39086}, page_content='}\\n]\\nChallenges#\\nAfter going through key ideas and demos of building LLM-centered agents, I start to see a couple common limitations:'),\n",
      " Document(id='18875598-92fc-4c4a-808d-a542f2faacc4', metadata={'source': 'https://lilianweng.github.io/posts/2023-06-23-agent/', 'start_index': 29630}, page_content='Resources:\\n1. Internet access for searches and information gathering.\\n2. Long Term memory management.\\n3. GPT-3.5 powered Agents for delegation of simple tasks.\\n4. File output.\\n\\nPerformance Evaluation:\\n1. Continuously review and analyze your actions to ensure you are performing to the best of your abilities.\\n2. Constructively self-criticize your big-picture behavior constantly.\\n3. Reflect on past decisions and strategies to refine your approach.\\n4. Every command has a cost, so be smart and efficient. Aim to complete tasks in the least number of steps.')]\n"
     ]
    }
   ],
   "source": [
    "from langchain_core.messages import AIMessage, HumanMessage\n",
    "\n",
    "# 会話履歴を更新\n",
    "answer_01 = \"タスク分解とは、複雑なタスクをより小さくシンプルなステップに分けるプロセスです。これにより、エージェントは各ステップを計画し、効率的に問題を解決することができます。具体的には、質問を通じてサブゴールを特定したり、タスク特有の指示を使用したり、人間の入力を活用したりします。\"\n",
    "chat_history.extend([\n",
    "    HumanMessage(content=question_01),\n",
    "    AIMessage(content=answer_01)\n",
    "])\n",
    "\n",
    "# クエリと会話履歴から独立した質問を生成して、Retriverで検索\n",
    "# 会話履歴と合わせて、「タスク分解は一般的な手法ですか？」というクエリが生成される。出力はそのクエリをRetrieverで検索した結果\n",
    "response = history_aware_retriever.invoke({\"input\": \"それは一般的な手法ですか?\", \"chat_history\": chat_history})\n",
    "pprint(response)"
   ]
  },
  {
   "cell_type": "markdown",
   "metadata": {},
   "source": [
    "# 2. Q&Aプロンプトに会話履歴を組み込む\n",
    "\n",
    "Q&Aのプロンプトに会話履歴を組み込み、先ほど実装したhistory_aware_retrieverを統合します\n",
    "\n",
    "流れとしては以下のようになります。\n",
    "\n",
    "\n",
    "<img src=\"../../docs/img/06_conversational_rag_app/01.png\" width=\"700px\">\n",
    "\n",
    "1. **history_aware_retriever**\n",
    "    - `input: str` (ユーザーからのクエリ), `chat_history: List[BaseMessage]` (会話履歴) を入力として、独立した質問を生成するプロンプトを作成\n",
    "    - プロンプトをLLMに渡して、独立した質問として成立するクエリを生成\n",
    "    - 生成したクエリをRetrieverで検索\n",
    "    - 検索結果 `List[Document]` を出力\n",
    "1. **question_answer_chain**\n",
    "    - `context: List[Document]` (検索結果), `input: str` (ユーザーからのクエリ), `chat_history: List[BaseMessage]` (会話履歴) を入力として検索結果から質問に答えるプロンプトを生成\n",
    "    - プロンプトをLLMに渡して、回答を生成\n",
    "    - 出力"
   ]
  },
  {
   "cell_type": "code",
   "execution_count": 39,
   "metadata": {},
   "outputs": [],
   "source": [
    "from langchain_core.prompts import ChatPromptTemplate, SystemMessagePromptTemplate, HumanMessagePromptTemplate, MessagesPlaceholder\n",
    "\n",
    "system_template = \"\"\"\n",
    "あなたは質問応答のアシスタントです。\n",
    "質問に答えるために、検索された文脈の以下の部分を使用してください。\n",
    "答えがわからない場合は、わからないと答えましょう。\n",
    "回答は3文以内で簡潔に。\n",
    "\n",
    "\n",
    "{context}\n",
    "\"\"\"\n",
    "\n",
    "qa_prompt = ChatPromptTemplate([\n",
    "    SystemMessagePromptTemplate.from_template(system_template),\n",
    "    MessagesPlaceholder(\"chat_history\"),\n",
    "    HumanMessagePromptTemplate.from_template(\"{input}\")\n",
    "])\n",
    "\n",
    "question_answer_chain = create_stuff_documents_chain(llm=llm, prompt=qa_prompt, output_parser=StrOutputParser())\n",
    "rag_chain = create_retrieval_chain(retriever=history_aware_retriever, combine_docs_chain=question_answer_chain)"
   ]
  },
  {
   "cell_type": "code",
   "execution_count": null,
   "metadata": {},
   "outputs": [
    {
     "name": "stdout",
     "output_type": "stream",
     "text": [
      "{'answer': 'タスク分解とは、大きな複雑なタスクを複数の小さくて管理しやすいステップに分解するプロセスです。これにより、モデルやエージェントが各ステップを順番に処理しやすくなり、全体のタスクを効率的に達成することができます。',\n",
      " 'chat_history': [],\n",
      " 'context': [Document(id='aaa08e0b-9593-4fd6-9a39-2dd5e1706637', metadata={'source': 'https://lilianweng.github.io/posts/2023-06-23-agent/', 'start_index': 2192}, page_content='Tree of Thoughts (Yao et al. 2023) extends CoT by exploring multiple reasoning possibilities at each step. It first decomposes the problem into multiple thought steps and generates multiple thoughts per step, creating a tree structure. The search process can be BFS (breadth-first search) or DFS (depth-first search) with each state evaluated by a classifier (via a prompt) or majority vote.\\nTask decomposition can be done (1) by LLM with simple prompting like \"Steps for XYZ.\\\\n1.\", \"What are the subgoals for achieving XYZ?\", (2) by using task-specific instructions; e.g. \"Write a story outline.\" for writing a novel, or (3) with human inputs.'),\n",
      "             Document(id='f528980d-96e6-4b85-b248-4570f26540d7', metadata={'source': 'https://lilianweng.github.io/posts/2023-06-23-agent/', 'start_index': 1585}, page_content='Fig. 1. Overview of a LLM-powered autonomous agent system.\\nComponent One: Planning#\\nA complicated task usually involves many steps. An agent needs to know what they are and plan ahead.\\nTask Decomposition#\\nChain of thought (CoT; Wei et al. 2022) has become a standard prompting technique for enhancing model performance on complex tasks. The model is instructed to “think step by step” to utilize more test-time computation to decompose hard tasks into smaller and simpler steps. CoT transforms big tasks into multiple manageable tasks and shed lights into an interpretation of the model’s thinking process.'),\n",
      "             Document(id='18269535-8c7f-4b52-bf81-7c57863fc647', metadata={'source': 'https://lilianweng.github.io/posts/2023-06-23-agent/', 'start_index': 17804}, page_content='The AI assistant can parse user input to several tasks: [{\"task\": task, \"id\", task_id, \"dep\": dependency_task_ids, \"args\": {\"text\": text, \"image\": URL, \"audio\": URL, \"video\": URL}}]. The \"dep\" field denotes the id of the previous task which generates a new resource that the current task relies on. A special tag \"-task_id\" refers to the generated text image, audio and video in the dependency task with id as task_id. The task MUST be selected from the following options: {{ Available Task List }}. There is a logical relationship between tasks, please note their order. If the user input can\\'t be parsed, you need to reply empty JSON. Here are several cases for your reference: {{ Demonstrations }}. The chat history is recorded as {{ Chat History }}. From this chat history, you can find the path of the user-mentioned resources for your task planning.'),\n",
      "             Document(id='18875598-92fc-4c4a-808d-a542f2faacc4', metadata={'source': 'https://lilianweng.github.io/posts/2023-06-23-agent/', 'start_index': 29630}, page_content='Resources:\\n1. Internet access for searches and information gathering.\\n2. Long Term memory management.\\n3. GPT-3.5 powered Agents for delegation of simple tasks.\\n4. File output.\\n\\nPerformance Evaluation:\\n1. Continuously review and analyze your actions to ensure you are performing to the best of your abilities.\\n2. Constructively self-criticize your big-picture behavior constantly.\\n3. Reflect on past decisions and strategies to refine your approach.\\n4. Every command has a cost, so be smart and efficient. Aim to complete tasks in the least number of steps.')],\n",
      " 'input': 'タスク分解とは何ですか。'}\n"
     ]
    }
   ],
   "source": [
    "chat_history = []\n",
    "\n",
    "# クエリをRetrieverで検索\n",
    "question_01 = \"タスク分解とは何ですか。\"\n",
    "response = rag_chain.invoke({\"input\": question_01, \"chat_history\": chat_history})\n",
    "pprint(response)\n",
    "\n",
    "# 会話履歴を更新\n",
    "from langchain_core.messages import AIMessage, HumanMessage\n",
    "chat_history.extend([\n",
    "    HumanMessage(content=question_01),\n",
    "    AIMessage(content=response[\"answer\"])\n",
    "])"
   ]
  },
  {
   "cell_type": "code",
   "execution_count": 43,
   "metadata": {},
   "outputs": [
    {
     "name": "stdout",
     "output_type": "stream",
     "text": [
      "{'answer': 'はい、タスク分解は特に複雑なタスクを扱う際に一般的な手法であり、効率的に作業を進めるために広く利用されています。',\n",
      " 'chat_history': [HumanMessage(content='タスク分解とは何ですか。', additional_kwargs={}, response_metadata={}),\n",
      "                  AIMessage(content='タスク分解とは、大きな複雑なタスクを複数の小さくて管理しやすいステップに分解するプロセスです。これにより、モデルやエージェントが各ステップを順番に処理しやすくなり、全体のタスクを効率的に達成することができます。', additional_kwargs={}, response_metadata={})],\n",
      " 'context': [Document(id='18875598-92fc-4c4a-808d-a542f2faacc4', metadata={'source': 'https://lilianweng.github.io/posts/2023-06-23-agent/', 'start_index': 29630}, page_content='Resources:\\n1. Internet access for searches and information gathering.\\n2. Long Term memory management.\\n3. GPT-3.5 powered Agents for delegation of simple tasks.\\n4. File output.\\n\\nPerformance Evaluation:\\n1. Continuously review and analyze your actions to ensure you are performing to the best of your abilities.\\n2. Constructively self-criticize your big-picture behavior constantly.\\n3. Reflect on past decisions and strategies to refine your approach.\\n4. Every command has a cost, so be smart and efficient. Aim to complete tasks in the least number of steps.'),\n",
      "             Document(id='aaa08e0b-9593-4fd6-9a39-2dd5e1706637', metadata={'source': 'https://lilianweng.github.io/posts/2023-06-23-agent/', 'start_index': 2192}, page_content='Tree of Thoughts (Yao et al. 2023) extends CoT by exploring multiple reasoning possibilities at each step. It first decomposes the problem into multiple thought steps and generates multiple thoughts per step, creating a tree structure. The search process can be BFS (breadth-first search) or DFS (depth-first search) with each state evaluated by a classifier (via a prompt) or majority vote.\\nTask decomposition can be done (1) by LLM with simple prompting like \"Steps for XYZ.\\\\n1.\", \"What are the subgoals for achieving XYZ?\", (2) by using task-specific instructions; e.g. \"Write a story outline.\" for writing a novel, or (3) with human inputs.'),\n",
      "             Document(id='f528980d-96e6-4b85-b248-4570f26540d7', metadata={'source': 'https://lilianweng.github.io/posts/2023-06-23-agent/', 'start_index': 1585}, page_content='Fig. 1. Overview of a LLM-powered autonomous agent system.\\nComponent One: Planning#\\nA complicated task usually involves many steps. An agent needs to know what they are and plan ahead.\\nTask Decomposition#\\nChain of thought (CoT; Wei et al. 2022) has become a standard prompting technique for enhancing model performance on complex tasks. The model is instructed to “think step by step” to utilize more test-time computation to decompose hard tasks into smaller and simpler steps. CoT transforms big tasks into multiple manageable tasks and shed lights into an interpretation of the model’s thinking process.'),\n",
      "             Document(id='0ea7d50d-0115-4a90-8eb9-8b8c6d7edd02', metadata={'source': 'https://lilianweng.github.io/posts/2023-06-23-agent/', 'start_index': 39086}, page_content='}\\n]\\nChallenges#\\nAfter going through key ideas and demos of building LLM-centered agents, I start to see a couple common limitations:')],\n",
      " 'input': 'それは一般的な手法ですか?'}\n"
     ]
    }
   ],
   "source": [
    "# クエリと会話履歴から独立した質問を生成して、Retriverで検索\n",
    "# 会話履歴と合わせて、「タスク分解は一般的な手法ですか？」というクエリが生成される。出力はそのクエリをRetrieverで検索した結果\n",
    "response = rag_chain.invoke({\"input\": \"それは一般的な手法ですか?\", \"chat_history\": chat_history})\n",
    "pprint(response)"
   ]
  },
  {
   "cell_type": "markdown",
   "metadata": {},
   "source": []
  },
  {
   "cell_type": "code",
   "execution_count": null,
   "metadata": {},
   "outputs": [],
   "source": []
  }
 ],
 "metadata": {
  "kernelspec": {
   "display_name": "Python 3 (ipykernel)",
   "language": "python",
   "name": "python3"
  },
  "language_info": {
   "codemirror_mode": {
    "name": "ipython",
    "version": 3
   },
   "file_extension": ".py",
   "mimetype": "text/x-python",
   "name": "python",
   "nbconvert_exporter": "python",
   "pygments_lexer": "ipython3",
   "version": "3.12.7"
  }
 },
 "nbformat": 4,
 "nbformat_minor": 2
}
