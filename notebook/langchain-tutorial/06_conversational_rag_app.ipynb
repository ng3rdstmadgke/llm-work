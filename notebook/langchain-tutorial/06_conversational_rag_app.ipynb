{
 "cells": [
  {
   "cell_type": "markdown",
   "metadata": {},
   "source": [
    "# [Conversational RAG](https://python.langchain.com/docs/tutorials/qa_chat_history/)\n",
    "\n",
    "会話型RAGは一般に言うQ&Aアプリケーションです。\n",
    "Q&Aアプリケーションでは、ユーザーとのやり取りを「メモリ」に保持し、それらを現在の思考に組み込むためのロジックが必要です。  \n",
    "\n",
    "このチュートリアルでは、会話履歴をメモリに保持し、プロンプトに組み込む方法を学びます。\n",
    "\n",
    "## 参考\n",
    "\n",
    "\n",
    "- [create_stuff_documents_chain](https://python.langchain.com/api_reference/langchain/chains/langchain.chains.combine_documents.stuff.create_stuff_documents_chain.html)  \n",
    "受け取った入力を要約や他の処理を行わず、すべてプロンプトに詰め込む(stuff)  \n",
    "今回の場合、 `input` と `context` をキーに持つ辞書を入力に持ち、入力された内容をすべてプロンプトテンプレートに詰め込む\n",
    "- [create_retrieval_chain](https://python.langchain.com/api_reference/langchain/chains/langchain.chains.retrieval.create_retrieval_chain.html)  \n",
    "`input` をキーに持つ辞書を入力に持ち、入力で渡されたキーと `context` (検索結果) をキーに持つ辞書を出力する\n",
    "\n"
   ]
  },
  {
   "cell_type": "markdown",
   "metadata": {},
   "source": [
    "# ■ プレビュー"
   ]
  },
  {
   "cell_type": "code",
   "execution_count": 95,
   "metadata": {},
   "outputs": [
    {
     "data": {
      "image/jpeg": "[encoded data removed]",
      "text/plain": [
       "<IPython.core.display.Image object>"
      ]
     },
     "metadata": {},
     "output_type": "display_data"
    }
   ],
   "source": [
    "import os\n",
    "os.environ[\"USER_AGENT\"] = \"Mozilla/5.0 (Windows NT 10.0; Win64; x64) AppleWebKit/537.36 (KHTML, like Gecko) Chrome/130.0.0.0 Safari/537.36\"\n",
    "\n",
    "from typing import List, Sequence\n",
    "from typing_extensions import TypedDict, Annotated\n",
    "from IPython.display import Image, display\n",
    "import bs4\n",
    "from langchain_core.documents import Document\n",
    "from langchain_core.runnables import Runnable\n",
    "from langchain.chains import create_retrieval_chain, create_history_aware_retriever\n",
    "from langchain.chains.combine_documents import create_stuff_documents_chain\n",
    "from langchain_community.document_loaders import WebBaseLoader\n",
    "from langchain_core.prompts import ChatPromptTemplate, SystemMessagePromptTemplate, HumanMessagePromptTemplate, MessagesPlaceholder, AIMessagePromptTemplate\n",
    "from langchain_core.vectorstores import InMemoryVectorStore\n",
    "from langchain_openai import ChatOpenAI, OpenAIEmbeddings\n",
    "from langchain_text_splitters import RecursiveCharacterTextSplitter\n",
    "from langchain_core.runnables import RunnablePassthrough\n",
    "from langchain_core.output_parsers import StrOutputParser\n",
    "from langchain_core.messages import BaseMessage, HumanMessage, AIMessage\n",
    "from langgraph.checkpoint.memory import MemorySaver\n",
    "from langgraph.graph import START, StateGraph\n",
    "from langgraph.graph.message import add_messages\n",
    "from langchain_core.runnables import RunnableConfig\n",
    "\n",
    "# モデル\n",
    "llm = ChatOpenAI(model=\"gpt-4o\")\n",
    "\n",
    "#\n",
    "# 1. ロード & 分割 & 保存\n",
    "#\n",
    "\n",
    "# ロード\n",
    "bs4_strainer = bs4.SoupStrainer(class_=(\"post-content\", \"post-title\", \"post-header\"))\n",
    "loader = WebBaseLoader(\n",
    "    web_paths=(\"https://lilianweng.github.io/posts/2023-06-23-agent/\",),\n",
    "    bs_kwargs=dict(parse_only=bs4_strainer)\n",
    ")\n",
    "docs: List[Document] = loader.load()\n",
    "\n",
    "# 分割\n",
    "text_splitter = RecursiveCharacterTextSplitter(chunk_size=1000, chunk_overlap=200, add_start_index=True)\n",
    "splits: List[Document] = text_splitter.split_documents(docs)\n",
    "\n",
    "# 保存\n",
    "vectorstore = InMemoryVectorStore.from_documents(documents=splits, embedding=OpenAIEmbeddings())\n",
    "\n",
    "# 取得\n",
    "retriever = vectorstore.as_retriever()\n",
    "def format_docs(docs: List[Document]) -> str:\n",
    "    return \"\\n\".join([doc.page_content for doc in docs])\n",
    "\n",
    "\n",
    "#\n",
    "# 2. Retrieverの作成\n",
    "# 会話履歴とクエリを使ってクエリを再作成し、そのクエリを検索するRetrieverを作成する\n",
    "#\n",
    "\n",
    "# クエリと会話履歴から独立した質問を作成するためのプロンプト\n",
    "contextualize_q_system_prompt = \"\"\"\n",
    "チャット履歴と、チャット履歴のコンテキスを参照する可能性のある最新のユーザーからの質問がある場合、チャット履歴なしで理解できる独立した質問を作成してください。\n",
    "質問には答えず、必要であれば作り直し、そうでなければそのまま返してください。\n",
    "\"\"\"\n",
    "contextualize_q_prompt = ChatPromptTemplate.from_messages([\n",
    "    SystemMessagePromptTemplate.from_template(contextualize_q_system_prompt),\n",
    "    MessagesPlaceholder(\"chat_history\"),  # 入力にchat_historyというキーがあると、それを会話履歴として展開する\n",
    "    HumanMessagePromptTemplate.from_template(\"{input}\"),\n",
    "])\n",
    "\n",
    "# クエリ(input: str) と 会話履歴(chat_history: List[BaseMessage]) からクエリを作成して、Retrieverで検索するチェイン\n",
    "history_aware_retriever = create_history_aware_retriever(llm, retriever, contextualize_q_prompt)\n",
    "\n",
    "\n",
    "#\n",
    "# 3. Retrieverを質問応答のチェインに組み込む\n",
    "#\n",
    "\n",
    "system_template = \"\"\"\n",
    "あなたは質問応答のアシスタントです。\n",
    "質問に答えるために、検索された文脈の以下の部分を使用してください。\n",
    "答えがわからない場合は、わからないと答えましょう。\n",
    "回答は3文以内で簡潔に。\n",
    "\n",
    "\n",
    "{context}\n",
    "\"\"\"\n",
    "\n",
    "qa_prompt = ChatPromptTemplate([\n",
    "    SystemMessagePromptTemplate.from_template(system_template),\n",
    "    MessagesPlaceholder(\"chat_history\"),\n",
    "    HumanMessagePromptTemplate.from_template(\"{input}\")\n",
    "])\n",
    "\n",
    "question_answer_chain = create_stuff_documents_chain(llm=llm, prompt=qa_prompt, output_parser=StrOutputParser())\n",
    "\n",
    "rag_chain = create_retrieval_chain(retriever=history_aware_retriever, combine_docs_chain=question_answer_chain)\n",
    "\n",
    "#\n",
    "# 4. LangGraphで会話履歴を自動更新\n",
    "#\n",
    "\n",
    "class State(TypedDict):\n",
    "    input: str\n",
    "    chat_history: Annotated[List[BaseMessage], add_messages]\n",
    "    context: str\n",
    "    answer: str\n",
    "    \n",
    "def call_model(state: State, config: RunnableConfig):\n",
    "    result = rag_chain.invoke(state)\n",
    "    return {\n",
    "        \"chat_history\": [\n",
    "            HumanMessage(content=state[\"input\"]),\n",
    "            AIMessage(content=result[\"answer\"])\n",
    "        ],\n",
    "        \"context\": result[\"context\"],\n",
    "        \"answer\": result[\"answer\"],\n",
    "    }\n",
    "\n",
    "workflow = StateGraph(state_schema=State)\n",
    "workflow.add_node(\"model\", call_model)\n",
    "workflow.add_edge(START, \"model\")\n",
    "\n",
    "memory = MemorySaver()\n",
    "app = workflow.compile(checkpointer=memory)\n",
    "\n",
    "# mermaidでグラフを可視化してPNG形式で出力\n",
    "display(Image(app.get_graph().draw_mermaid_png()))"
   ]
  },
  {
   "cell_type": "code",
   "execution_count": 96,
   "metadata": {},
   "outputs": [
    {
     "name": "stdout",
     "output_type": "stream",
     "text": [
      "{'answer': 'タスク分解とは、大きなタスクを複数の小さくて管理しやすいタスクに分解するプロセスです。これは、複雑なタスクを簡素化し、ステップバイステップで解決するために、モデルのパフォーマンスを向上させる方法として使用されます。',\n",
      " 'chat_history': [HumanMessage(content='タスク分解とは何ですか?', additional_kwargs={}, response_metadata={}, id='82c14712-658a-4bfd-917b-c3946acd1e0f'),\n",
      "                  AIMessage(content='タスク分解とは、大きなタスクを複数の小さくて管理しやすいタスクに分解するプロセスです。これは、複雑なタスクを簡素化し、ステップバイステップで解決するために、モデルのパフォーマンスを向上させる方法として使用されます。', additional_kwargs={}, response_metadata={}, id='5103b10e-be9e-41a8-88f4-7dc449114251')],\n",
      " 'context': [Document(id='6ccdfc8b-084b-4101-bb46-1f65bb5cdbfc', metadata={'source': 'https://lilianweng.github.io/posts/2023-06-23-agent/', 'start_index': 2192}, page_content='Tree of Thoughts (Yao et al. 2023) extends CoT by exploring multiple reasoning possibilities at each step. It first decomposes the problem into multiple thought steps and generates multiple thoughts per step, creating a tree structure. The search process can be BFS (breadth-first search) or DFS (depth-first search) with each state evaluated by a classifier (via a prompt) or majority vote.\\nTask decomposition can be done (1) by LLM with simple prompting like \"Steps for XYZ.\\\\n1.\", \"What are the subgoals for achieving XYZ?\", (2) by using task-specific instructions; e.g. \"Write a story outline.\" for writing a novel, or (3) with human inputs.'),\n",
      "             Document(id='665fccab-3bb3-42fe-9f47-5ce38e848a0c', metadata={'source': 'https://lilianweng.github.io/posts/2023-06-23-agent/', 'start_index': 1585}, page_content='Fig. 1. Overview of a LLM-powered autonomous agent system.\\nComponent One: Planning#\\nA complicated task usually involves many steps. An agent needs to know what they are and plan ahead.\\nTask Decomposition#\\nChain of thought (CoT; Wei et al. 2022) has become a standard prompting technique for enhancing model performance on complex tasks. The model is instructed to “think step by step” to utilize more test-time computation to decompose hard tasks into smaller and simpler steps. CoT transforms big tasks into multiple manageable tasks and shed lights into an interpretation of the model’s thinking process.'),\n",
      "             Document(id='c45df966-bb8a-4bd6-9277-c1f64a965632', metadata={'source': 'https://lilianweng.github.io/posts/2023-06-23-agent/', 'start_index': 17804}, page_content='The AI assistant can parse user input to several tasks: [{\"task\": task, \"id\", task_id, \"dep\": dependency_task_ids, \"args\": {\"text\": text, \"image\": URL, \"audio\": URL, \"video\": URL}}]. The \"dep\" field denotes the id of the previous task which generates a new resource that the current task relies on. A special tag \"-task_id\" refers to the generated text image, audio and video in the dependency task with id as task_id. The task MUST be selected from the following options: {{ Available Task List }}. There is a logical relationship between tasks, please note their order. If the user input can\\'t be parsed, you need to reply empty JSON. Here are several cases for your reference: {{ Demonstrations }}. The chat history is recorded as {{ Chat History }}. From this chat history, you can find the path of the user-mentioned resources for your task planning.'),\n",
      "             Document(id='b25402fa-edd9-42fa-aa7e-2eafea4406ae', metadata={'source': 'https://lilianweng.github.io/posts/2023-06-23-agent/', 'start_index': 29630}, page_content='Resources:\\n1. Internet access for searches and information gathering.\\n2. Long Term memory management.\\n3. GPT-3.5 powered Agents for delegation of simple tasks.\\n4. File output.\\n\\nPerformance Evaluation:\\n1. Continuously review and analyze your actions to ensure you are performing to the best of your abilities.\\n2. Constructively self-criticize your big-picture behavior constantly.\\n3. Reflect on past decisions and strategies to refine your approach.\\n4. Every command has a cost, so be smart and efficient. Aim to complete tasks in the least number of steps.')],\n",
      " 'input': 'タスク分解とは何ですか?'}\n"
     ]
    }
   ],
   "source": [
    "from pprint import pprint\n",
    "\n",
    "config = RunnableConfig(configurable={\"thread_id\": \"23456\"})\n",
    "response = app.invoke(input={\"input\": \"タスク分解とは何ですか?\"}, config=config)\n",
    "pprint(response)"
   ]
  },
  {
   "cell_type": "code",
   "execution_count": 97,
   "metadata": {},
   "outputs": [
    {
     "name": "stdout",
     "output_type": "stream",
     "text": [
      "{'answer': 'はい、タスク分解は、Chain of '\n",
      "           'Thought（CoT）のような手法を通じて、複雑なタスクの解決を支援するために一般的に用いられる手法です。',\n",
      " 'chat_history': [HumanMessage(content='タスク分解とは何ですか?', additional_kwargs={}, response_metadata={}, id='82c14712-658a-4bfd-917b-c3946acd1e0f'),\n",
      "                  AIMessage(content='タスク分解とは、大きなタスクを複数の小さくて管理しやすいタスクに分解するプロセスです。これは、複雑なタスクを簡素化し、ステップバイステップで解決するために、モデルのパフォーマンスを向上させる方法として使用されます。', additional_kwargs={}, response_metadata={}, id='5103b10e-be9e-41a8-88f4-7dc449114251'),\n",
      "                  HumanMessage(content='それは一般的な手法ですか?', additional_kwargs={}, response_metadata={}, id='d211b0e3-d596-468b-931d-1d33707c0b41'),\n",
      "                  AIMessage(content='はい、タスク分解は、Chain of Thought（CoT）のような手法を通じて、複雑なタスクの解決を支援するために一般的に用いられる手法です。', additional_kwargs={}, response_metadata={}, id='db241116-0def-4649-9b1f-1016f7b663c7')],\n",
      " 'context': [Document(id='6ccdfc8b-084b-4101-bb46-1f65bb5cdbfc', metadata={'source': 'https://lilianweng.github.io/posts/2023-06-23-agent/', 'start_index': 2192}, page_content='Tree of Thoughts (Yao et al. 2023) extends CoT by exploring multiple reasoning possibilities at each step. It first decomposes the problem into multiple thought steps and generates multiple thoughts per step, creating a tree structure. The search process can be BFS (breadth-first search) or DFS (depth-first search) with each state evaluated by a classifier (via a prompt) or majority vote.\\nTask decomposition can be done (1) by LLM with simple prompting like \"Steps for XYZ.\\\\n1.\", \"What are the subgoals for achieving XYZ?\", (2) by using task-specific instructions; e.g. \"Write a story outline.\" for writing a novel, or (3) with human inputs.'),\n",
      "             Document(id='665fccab-3bb3-42fe-9f47-5ce38e848a0c', metadata={'source': 'https://lilianweng.github.io/posts/2023-06-23-agent/', 'start_index': 1585}, page_content='Fig. 1. Overview of a LLM-powered autonomous agent system.\\nComponent One: Planning#\\nA complicated task usually involves many steps. An agent needs to know what they are and plan ahead.\\nTask Decomposition#\\nChain of thought (CoT; Wei et al. 2022) has become a standard prompting technique for enhancing model performance on complex tasks. The model is instructed to “think step by step” to utilize more test-time computation to decompose hard tasks into smaller and simpler steps. CoT transforms big tasks into multiple manageable tasks and shed lights into an interpretation of the model’s thinking process.'),\n",
      "             Document(id='b25402fa-edd9-42fa-aa7e-2eafea4406ae', metadata={'source': 'https://lilianweng.github.io/posts/2023-06-23-agent/', 'start_index': 29630}, page_content='Resources:\\n1. Internet access for searches and information gathering.\\n2. Long Term memory management.\\n3. GPT-3.5 powered Agents for delegation of simple tasks.\\n4. File output.\\n\\nPerformance Evaluation:\\n1. Continuously review and analyze your actions to ensure you are performing to the best of your abilities.\\n2. Constructively self-criticize your big-picture behavior constantly.\\n3. Reflect on past decisions and strategies to refine your approach.\\n4. Every command has a cost, so be smart and efficient. Aim to complete tasks in the least number of steps.'),\n",
      "             Document(id='03367cb7-ddfe-42c2-b39c-e252e7715c1e', metadata={'source': 'https://lilianweng.github.io/posts/2023-06-23-agent/', 'start_index': 39086}, page_content='}\\n]\\nChallenges#\\nAfter going through key ideas and demos of building LLM-centered agents, I start to see a couple common limitations:')],\n",
      " 'input': 'それは一般的な手法ですか?'}\n"
     ]
    }
   ],
   "source": [
    "# クエリと会話履歴から独立した質問を生成して、Retriverで検索\n",
    "# 会話履歴と合わせて、「タスク分解は一般的な手法ですか？」というクエリが生成される。出力はそのクエリをRetrieverで検索した結果\n",
    "response = app.invoke(input={\"input\": \"それは一般的な手法ですか?\"}, config=config)\n",
    "pprint(response)"
   ]
  },
  {
   "cell_type": "code",
   "execution_count": 98,
   "metadata": {},
   "outputs": [
    {
     "name": "stdout",
     "output_type": "stream",
     "text": [
      "================================\u001b[1m Human Message \u001b[0m=================================\n",
      "\n",
      "タスク分解とは何ですか?\n",
      "==================================\u001b[1m Ai Message \u001b[0m==================================\n",
      "\n",
      "タスク分解とは、大きなタスクを複数の小さくて管理しやすいタスクに分解するプロセスです。これは、複雑なタスクを簡素化し、ステップバイステップで解決するために、モデルのパフォーマンスを向上させる方法として使用されます。\n",
      "================================\u001b[1m Human Message \u001b[0m=================================\n",
      "\n",
      "それは一般的な手法ですか?\n",
      "==================================\u001b[1m Ai Message \u001b[0m==================================\n",
      "\n",
      "はい、タスク分解は、Chain of Thought（CoT）のような手法を通じて、複雑なタスクの解決を支援するために一般的に用いられる手法です。\n"
     ]
    }
   ],
   "source": [
    "# Graphのステートから会話履歴を確認してみる\n",
    "chat_history = app.get_state(config).values[\"chat_history\"]\n",
    "for message in chat_history:\n",
    "    message.pretty_print()"
   ]
  },
  {
   "cell_type": "markdown",
   "metadata": {},
   "source": [
    "# ■ プレビュー (エージェント利用)"
   ]
  },
  {
   "cell_type": "code",
   "execution_count": null,
   "metadata": {},
   "outputs": [],
   "source": [
    "import bs4\n",
    "from langchain.tools.retriever import create_retriever_tool\n",
    "from langchain_community.document_loaders import WebBaseLoader\n",
    "from langchain_core.vectorstores import InMemoryVectorStore\n",
    "from langchain_openai import ChatOpenAI, OpenAIEmbeddings\n",
    "from langchain_text_splitters import RecursiveCharacterTextSplitter\n",
    "from langgraph.checkpoint.memory import MemorySaver\n",
    "from langgraph.prebuilt import create_react_agent\n",
    "from langchain_core.runnables import RunnableConfig\n",
    "\n",
    "memory = MemorySaver()\n",
    "llm = ChatOpenAI(model=\"gpt-4o-mini\", temperature=0)\n",
    "\n",
    "\n",
    "### Construct retriever ###\n",
    "loader = WebBaseLoader(\n",
    "    web_paths=(\"https://lilianweng.github.io/posts/2023-06-23-agent/\",),\n",
    "    bs_kwargs=dict(\n",
    "        parse_only=bs4.SoupStrainer(\n",
    "            class_=(\"post-content\", \"post-title\", \"post-header\")\n",
    "        )\n",
    "    ),\n",
    ")\n",
    "docs = loader.load()\n",
    "\n",
    "text_splitter = RecursiveCharacterTextSplitter(chunk_size=1000, chunk_overlap=200)\n",
    "splits = text_splitter.split_documents(docs)\n",
    "vectorstore = InMemoryVectorStore.from_documents(\n",
    "    documents=splits, embedding=OpenAIEmbeddings()\n",
    ")\n",
    "retriever = vectorstore.as_retriever()\n",
    "\n",
    "\n",
    "### Build retriever tool ###\n",
    "tool = create_retriever_tool(\n",
    "    retriever,\n",
    "    \"blog_post_retriever\",\n",
    "    \"Autonomous Agentsブログ記事の抜粋を検索して返す。\",\n",
    ")\n",
    "tools = [tool]\n",
    "\n",
    "\n",
    "agent_executor = create_react_agent(llm, tools, checkpointer=memory)"
   ]
  },
  {
   "cell_type": "code",
   "execution_count": null,
   "metadata": {},
   "outputs": [
    {
     "name": "stdout",
     "output_type": "stream",
     "text": [
      "{'messages': [HumanMessage(content='タスク分解とは何ですか。', additional_kwargs={}, response_metadata={}, id='80a561b4-ec35-4679-a885-a1ad48284ee7')]}\n",
      "================================================================\n",
      "{'messages': [HumanMessage(content='タスク分解とは何ですか。', additional_kwargs={}, response_metadata={}, id='80a561b4-ec35-4679-a885-a1ad48284ee7'),\n",
      "              AIMessage(content='', additional_kwargs={'tool_calls': [{'id': 'call_XYsyQyVPWDMO2rSvuorti3hC', 'function': {'arguments': '{\"query\":\"タスク分解\"}', 'name': 'blog_post_retriever'}, 'type': 'function'}], 'refusal': None}, response_metadata={'token_usage': {'completion_tokens': 20, 'prompt_tokens': 72, 'total_tokens': 92, 'completion_tokens_details': {'accepted_prediction_tokens': 0, 'audio_tokens': 0, 'reasoning_tokens': 0, 'rejected_prediction_tokens': 0}, 'prompt_tokens_details': {'audio_tokens': 0, 'cached_tokens': 0}}, 'model_name': 'gpt-4o-mini-2024-07-18', 'system_fingerprint': 'fp_0ba0d124f1', 'finish_reason': 'tool_calls', 'logprobs': None}, id='run-7b3948f7-cc7b-4bd1-8add-9decc78b24de-0', tool_calls=[{'name': 'blog_post_retriever', 'args': {'query': 'タスク分解'}, 'id': 'call_XYsyQyVPWDMO2rSvuorti3hC', 'type': 'tool_call'}], usage_metadata={'input_tokens': 72, 'output_tokens': 20, 'total_tokens': 92, 'input_token_details': {'audio': 0, 'cache_read': 0}, 'output_token_details': {'audio': 0, 'reasoning': 0}})]}\n",
      "================================================================\n",
      "{'messages': [HumanMessage(content='タスク分解とは何ですか。', additional_kwargs={}, response_metadata={}, id='80a561b4-ec35-4679-a885-a1ad48284ee7'),\n",
      "              AIMessage(content='', additional_kwargs={'tool_calls': [{'id': 'call_XYsyQyVPWDMO2rSvuorti3hC', 'function': {'arguments': '{\"query\":\"タスク分解\"}', 'name': 'blog_post_retriever'}, 'type': 'function'}], 'refusal': None}, response_metadata={'token_usage': {'completion_tokens': 20, 'prompt_tokens': 72, 'total_tokens': 92, 'completion_tokens_details': {'accepted_prediction_tokens': 0, 'audio_tokens': 0, 'reasoning_tokens': 0, 'rejected_prediction_tokens': 0}, 'prompt_tokens_details': {'audio_tokens': 0, 'cached_tokens': 0}}, 'model_name': 'gpt-4o-mini-2024-07-18', 'system_fingerprint': 'fp_0ba0d124f1', 'finish_reason': 'tool_calls', 'logprobs': None}, id='run-7b3948f7-cc7b-4bd1-8add-9decc78b24de-0', tool_calls=[{'name': 'blog_post_retriever', 'args': {'query': 'タスク分解'}, 'id': 'call_XYsyQyVPWDMO2rSvuorti3hC', 'type': 'tool_call'}], usage_metadata={'input_tokens': 72, 'output_tokens': 20, 'total_tokens': 92, 'input_token_details': {'audio': 0, 'cache_read': 0}, 'output_token_details': {'audio': 0, 'reasoning': 0}}),\n",
      "              ToolMessage(content='Tree of Thoughts (Yao et al. 2023) extends CoT by exploring multiple reasoning possibilities at each step. It first decomposes the problem into multiple thought steps and generates multiple thoughts per step, creating a tree structure. The search process can be BFS (breadth-first search) or DFS (depth-first search) with each state evaluated by a classifier (via a prompt) or majority vote.\\nTask decomposition can be done (1) by LLM with simple prompting like \"Steps for XYZ.\\\\n1.\", \"What are the subgoals for achieving XYZ?\", (2) by using task-specific instructions; e.g. \"Write a story outline.\" for writing a novel, or (3) with human inputs.\\n\\nFig. 1. Overview of a LLM-powered autonomous agent system.\\nComponent One: Planning#\\nA complicated task usually involves many steps. An agent needs to know what they are and plan ahead.\\nTask Decomposition#\\nChain of thought (CoT; Wei et al. 2022) has become a standard prompting technique for enhancing model performance on complex tasks. The model is instructed to “think step by step” to utilize more test-time computation to decompose hard tasks into smaller and simpler steps. CoT transforms big tasks into multiple manageable tasks and shed lights into an interpretation of the model’s thinking process.\\n\\nThe AI assistant can parse user input to several tasks: [{\"task\": task, \"id\", task_id, \"dep\": dependency_task_ids, \"args\": {\"text\": text, \"image\": URL, \"audio\": URL, \"video\": URL}}]. The \"dep\" field denotes the id of the previous task which generates a new resource that the current task relies on. A special tag \"-task_id\" refers to the generated text image, audio and video in the dependency task with id as task_id. The task MUST be selected from the following options: {{ Available Task List }}. There is a logical relationship between tasks, please note their order. If the user input can\\'t be parsed, you need to reply empty JSON. Here are several cases for your reference: {{ Demonstrations }}. The chat history is recorded as {{ Chat History }}. From this chat history, you can find the path of the user-mentioned resources for your task planning.\\n\\nResources:\\n1. Internet access for searches and information gathering.\\n2. Long Term memory management.\\n3. GPT-3.5 powered Agents for delegation of simple tasks.\\n4. File output.\\n\\nPerformance Evaluation:\\n1. Continuously review and analyze your actions to ensure you are performing to the best of your abilities.\\n2. Constructively self-criticize your big-picture behavior constantly.\\n3. Reflect on past decisions and strategies to refine your approach.\\n4. Every command has a cost, so be smart and efficient. Aim to complete tasks in the least number of steps.', name='blog_post_retriever', id='3db27510-d406-464e-977a-e11d9832a8d7', tool_call_id='call_XYsyQyVPWDMO2rSvuorti3hC')]}\n",
      "================================================================\n",
      "{'messages': [HumanMessage(content='タスク分解とは何ですか。', additional_kwargs={}, response_metadata={}, id='80a561b4-ec35-4679-a885-a1ad48284ee7'),\n",
      "              AIMessage(content='', additional_kwargs={'tool_calls': [{'id': 'call_XYsyQyVPWDMO2rSvuorti3hC', 'function': {'arguments': '{\"query\":\"タスク分解\"}', 'name': 'blog_post_retriever'}, 'type': 'function'}], 'refusal': None}, response_metadata={'token_usage': {'completion_tokens': 20, 'prompt_tokens': 72, 'total_tokens': 92, 'completion_tokens_details': {'accepted_prediction_tokens': 0, 'audio_tokens': 0, 'reasoning_tokens': 0, 'rejected_prediction_tokens': 0}, 'prompt_tokens_details': {'audio_tokens': 0, 'cached_tokens': 0}}, 'model_name': 'gpt-4o-mini-2024-07-18', 'system_fingerprint': 'fp_0ba0d124f1', 'finish_reason': 'tool_calls', 'logprobs': None}, id='run-7b3948f7-cc7b-4bd1-8add-9decc78b24de-0', tool_calls=[{'name': 'blog_post_retriever', 'args': {'query': 'タスク分解'}, 'id': 'call_XYsyQyVPWDMO2rSvuorti3hC', 'type': 'tool_call'}], usage_metadata={'input_tokens': 72, 'output_tokens': 20, 'total_tokens': 92, 'input_token_details': {'audio': 0, 'cache_read': 0}, 'output_token_details': {'audio': 0, 'reasoning': 0}}),\n",
      "              ToolMessage(content='Tree of Thoughts (Yao et al. 2023) extends CoT by exploring multiple reasoning possibilities at each step. It first decomposes the problem into multiple thought steps and generates multiple thoughts per step, creating a tree structure. The search process can be BFS (breadth-first search) or DFS (depth-first search) with each state evaluated by a classifier (via a prompt) or majority vote.\\nTask decomposition can be done (1) by LLM with simple prompting like \"Steps for XYZ.\\\\n1.\", \"What are the subgoals for achieving XYZ?\", (2) by using task-specific instructions; e.g. \"Write a story outline.\" for writing a novel, or (3) with human inputs.\\n\\nFig. 1. Overview of a LLM-powered autonomous agent system.\\nComponent One: Planning#\\nA complicated task usually involves many steps. An agent needs to know what they are and plan ahead.\\nTask Decomposition#\\nChain of thought (CoT; Wei et al. 2022) has become a standard prompting technique for enhancing model performance on complex tasks. The model is instructed to “think step by step” to utilize more test-time computation to decompose hard tasks into smaller and simpler steps. CoT transforms big tasks into multiple manageable tasks and shed lights into an interpretation of the model’s thinking process.\\n\\nThe AI assistant can parse user input to several tasks: [{\"task\": task, \"id\", task_id, \"dep\": dependency_task_ids, \"args\": {\"text\": text, \"image\": URL, \"audio\": URL, \"video\": URL}}]. The \"dep\" field denotes the id of the previous task which generates a new resource that the current task relies on. A special tag \"-task_id\" refers to the generated text image, audio and video in the dependency task with id as task_id. The task MUST be selected from the following options: {{ Available Task List }}. There is a logical relationship between tasks, please note their order. If the user input can\\'t be parsed, you need to reply empty JSON. Here are several cases for your reference: {{ Demonstrations }}. The chat history is recorded as {{ Chat History }}. From this chat history, you can find the path of the user-mentioned resources for your task planning.\\n\\nResources:\\n1. Internet access for searches and information gathering.\\n2. Long Term memory management.\\n3. GPT-3.5 powered Agents for delegation of simple tasks.\\n4. File output.\\n\\nPerformance Evaluation:\\n1. Continuously review and analyze your actions to ensure you are performing to the best of your abilities.\\n2. Constructively self-criticize your big-picture behavior constantly.\\n3. Reflect on past decisions and strategies to refine your approach.\\n4. Every command has a cost, so be smart and efficient. Aim to complete tasks in the least number of steps.', name='blog_post_retriever', id='3db27510-d406-464e-977a-e11d9832a8d7', tool_call_id='call_XYsyQyVPWDMO2rSvuorti3hC'),\n",
      "              AIMessage(content='タスク分解とは、複雑なタスクをより小さく、管理しやすいステップに分けるプロセスです。これにより、タスクを段階的に実行しやすくなり、全体の理解や実行が容易になります。具体的には、以下のような方法で行われます：\\n\\n1. **シンプルなプロンプトを使用**: 例えば、「XYZのためのステップは何か？」や「XYZを達成するためのサブゴールは？」といった質問を通じて、タスクを分解します。\\n2. **タスク特有の指示を使用**: 例えば、「小説のアウトラインを書いてください」といった具体的な指示を与えることで、タスクを明確にします。\\n3. **人間の入力を利用**: ユーザーからの具体的な指示や情報を基にタスクを分解します。\\n\\nタスク分解は、特に複雑な問題を解決する際に有効であり、思考過程を明確にするための「思考の連鎖（Chain of Thought）」技術が用いられることが多いです。この技術により、モデルは「ステップバイステップで考える」ように指示され、複雑なタスクをよりシンプルなタスクに変換します。', additional_kwargs={'refusal': None}, response_metadata={'token_usage': {'completion_tokens': 321, 'prompt_tokens': 680, 'total_tokens': 1001, 'completion_tokens_details': {'accepted_prediction_tokens': 0, 'audio_tokens': 0, 'reasoning_tokens': 0, 'rejected_prediction_tokens': 0}, 'prompt_tokens_details': {'audio_tokens': 0, 'cached_tokens': 0}}, 'model_name': 'gpt-4o-mini-2024-07-18', 'system_fingerprint': 'fp_0ba0d124f1', 'finish_reason': 'stop', 'logprobs': None}, id='run-f6db7460-2f10-4b0f-9135-033aa48e7dbf-0', usage_metadata={'input_tokens': 680, 'output_tokens': 321, 'total_tokens': 1001, 'input_token_details': {'audio': 0, 'cache_read': 0}, 'output_token_details': {'audio': 0, 'reasoning': 0}})]}\n",
      "================================================================\n"
     ]
    }
   ],
   "source": [
    "from pprint import pprint\n",
    "config = RunnableConfig(configurable={\"thread_id\": \"34567\"})\n",
    "\n",
    "query = \"タスク分解とは何ですか。\"\n",
    "events = agent_executor.stream(\n",
    "    {\"messages\": [HumanMessage(content=query)]},\n",
    "    config=config,\n",
    "    stream_mode=\"values\"\n",
    ")\n",
    "\n",
    "for event in events:\n",
    "    pprint(event)\n",
    "    print(\"================================================================\")\n",
    "    #event[\"messages\"][-1].pretty_print()"
   ]
  },
  {
   "cell_type": "code",
   "execution_count": 132,
   "metadata": {},
   "outputs": [
    {
     "name": "stdout",
     "output_type": "stream",
     "text": [
      "{'messages': [HumanMessage(content='タスク分解とは何ですか。', additional_kwargs={}, response_metadata={}, id='80a561b4-ec35-4679-a885-a1ad48284ee7'),\n",
      "              AIMessage(content='', additional_kwargs={'tool_calls': [{'id': 'call_XYsyQyVPWDMO2rSvuorti3hC', 'function': {'arguments': '{\"query\":\"タスク分解\"}', 'name': 'blog_post_retriever'}, 'type': 'function'}], 'refusal': None}, response_metadata={'token_usage': {'completion_tokens': 20, 'prompt_tokens': 72, 'total_tokens': 92, 'completion_tokens_details': {'accepted_prediction_tokens': 0, 'audio_tokens': 0, 'reasoning_tokens': 0, 'rejected_prediction_tokens': 0}, 'prompt_tokens_details': {'audio_tokens': 0, 'cached_tokens': 0}}, 'model_name': 'gpt-4o-mini-2024-07-18', 'system_fingerprint': 'fp_0ba0d124f1', 'finish_reason': 'tool_calls', 'logprobs': None}, id='run-7b3948f7-cc7b-4bd1-8add-9decc78b24de-0', tool_calls=[{'name': 'blog_post_retriever', 'args': {'query': 'タスク分解'}, 'id': 'call_XYsyQyVPWDMO2rSvuorti3hC', 'type': 'tool_call'}], usage_metadata={'input_tokens': 72, 'output_tokens': 20, 'total_tokens': 92, 'input_token_details': {'audio': 0, 'cache_read': 0}, 'output_token_details': {'audio': 0, 'reasoning': 0}}),\n",
      "              ToolMessage(content='Tree of Thoughts (Yao et al. 2023) extends CoT by exploring multiple reasoning possibilities at each step. It first decomposes the problem into multiple thought steps and generates multiple thoughts per step, creating a tree structure. The search process can be BFS (breadth-first search) or DFS (depth-first search) with each state evaluated by a classifier (via a prompt) or majority vote.\\nTask decomposition can be done (1) by LLM with simple prompting like \"Steps for XYZ.\\\\n1.\", \"What are the subgoals for achieving XYZ?\", (2) by using task-specific instructions; e.g. \"Write a story outline.\" for writing a novel, or (3) with human inputs.\\n\\nFig. 1. Overview of a LLM-powered autonomous agent system.\\nComponent One: Planning#\\nA complicated task usually involves many steps. An agent needs to know what they are and plan ahead.\\nTask Decomposition#\\nChain of thought (CoT; Wei et al. 2022) has become a standard prompting technique for enhancing model performance on complex tasks. The model is instructed to “think step by step” to utilize more test-time computation to decompose hard tasks into smaller and simpler steps. CoT transforms big tasks into multiple manageable tasks and shed lights into an interpretation of the model’s thinking process.\\n\\nThe AI assistant can parse user input to several tasks: [{\"task\": task, \"id\", task_id, \"dep\": dependency_task_ids, \"args\": {\"text\": text, \"image\": URL, \"audio\": URL, \"video\": URL}}]. The \"dep\" field denotes the id of the previous task which generates a new resource that the current task relies on. A special tag \"-task_id\" refers to the generated text image, audio and video in the dependency task with id as task_id. The task MUST be selected from the following options: {{ Available Task List }}. There is a logical relationship between tasks, please note their order. If the user input can\\'t be parsed, you need to reply empty JSON. Here are several cases for your reference: {{ Demonstrations }}. The chat history is recorded as {{ Chat History }}. From this chat history, you can find the path of the user-mentioned resources for your task planning.\\n\\nResources:\\n1. Internet access for searches and information gathering.\\n2. Long Term memory management.\\n3. GPT-3.5 powered Agents for delegation of simple tasks.\\n4. File output.\\n\\nPerformance Evaluation:\\n1. Continuously review and analyze your actions to ensure you are performing to the best of your abilities.\\n2. Constructively self-criticize your big-picture behavior constantly.\\n3. Reflect on past decisions and strategies to refine your approach.\\n4. Every command has a cost, so be smart and efficient. Aim to complete tasks in the least number of steps.', name='blog_post_retriever', id='3db27510-d406-464e-977a-e11d9832a8d7', tool_call_id='call_XYsyQyVPWDMO2rSvuorti3hC'),\n",
      "              AIMessage(content='タスク分解とは、複雑なタスクをより小さく、管理しやすいステップに分けるプロセスです。これにより、タスクを段階的に実行しやすくなり、全体の理解や実行が容易になります。具体的には、以下のような方法で行われます：\\n\\n1. **シンプルなプロンプトを使用**: 例えば、「XYZのためのステップは何か？」や「XYZを達成するためのサブゴールは？」といった質問を通じて、タスクを分解します。\\n2. **タスク特有の指示を使用**: 例えば、「小説のアウトラインを書いてください」といった具体的な指示を与えることで、タスクを明確にします。\\n3. **人間の入力を利用**: ユーザーからの具体的な指示や情報を基にタスクを分解します。\\n\\nタスク分解は、特に複雑な問題を解決する際に有効であり、思考過程を明確にするための「思考の連鎖（Chain of Thought）」技術が用いられることが多いです。この技術により、モデルは「ステップバイステップで考える」ように指示され、複雑なタスクをよりシンプルなタスクに変換します。', additional_kwargs={'refusal': None}, response_metadata={'token_usage': {'completion_tokens': 321, 'prompt_tokens': 680, 'total_tokens': 1001, 'completion_tokens_details': {'accepted_prediction_tokens': 0, 'audio_tokens': 0, 'reasoning_tokens': 0, 'rejected_prediction_tokens': 0}, 'prompt_tokens_details': {'audio_tokens': 0, 'cached_tokens': 0}}, 'model_name': 'gpt-4o-mini-2024-07-18', 'system_fingerprint': 'fp_0ba0d124f1', 'finish_reason': 'stop', 'logprobs': None}, id='run-f6db7460-2f10-4b0f-9135-033aa48e7dbf-0', usage_metadata={'input_tokens': 680, 'output_tokens': 321, 'total_tokens': 1001, 'input_token_details': {'audio': 0, 'cache_read': 0}, 'output_token_details': {'audio': 0, 'reasoning': 0}}),\n",
      "              HumanMessage(content='それは一般的な方法ですか。', additional_kwargs={}, response_metadata={}, id='2f96cd90-17f6-43bc-9779-ea4cc95b5a1a')]}\n",
      "================================================================\n",
      "{'messages': [HumanMessage(content='タスク分解とは何ですか。', additional_kwargs={}, response_metadata={}, id='80a561b4-ec35-4679-a885-a1ad48284ee7'),\n",
      "              AIMessage(content='', additional_kwargs={'tool_calls': [{'id': 'call_XYsyQyVPWDMO2rSvuorti3hC', 'function': {'arguments': '{\"query\":\"タスク分解\"}', 'name': 'blog_post_retriever'}, 'type': 'function'}], 'refusal': None}, response_metadata={'token_usage': {'completion_tokens': 20, 'prompt_tokens': 72, 'total_tokens': 92, 'completion_tokens_details': {'accepted_prediction_tokens': 0, 'audio_tokens': 0, 'reasoning_tokens': 0, 'rejected_prediction_tokens': 0}, 'prompt_tokens_details': {'audio_tokens': 0, 'cached_tokens': 0}}, 'model_name': 'gpt-4o-mini-2024-07-18', 'system_fingerprint': 'fp_0ba0d124f1', 'finish_reason': 'tool_calls', 'logprobs': None}, id='run-7b3948f7-cc7b-4bd1-8add-9decc78b24de-0', tool_calls=[{'name': 'blog_post_retriever', 'args': {'query': 'タスク分解'}, 'id': 'call_XYsyQyVPWDMO2rSvuorti3hC', 'type': 'tool_call'}], usage_metadata={'input_tokens': 72, 'output_tokens': 20, 'total_tokens': 92, 'input_token_details': {'audio': 0, 'cache_read': 0}, 'output_token_details': {'audio': 0, 'reasoning': 0}}),\n",
      "              ToolMessage(content='Tree of Thoughts (Yao et al. 2023) extends CoT by exploring multiple reasoning possibilities at each step. It first decomposes the problem into multiple thought steps and generates multiple thoughts per step, creating a tree structure. The search process can be BFS (breadth-first search) or DFS (depth-first search) with each state evaluated by a classifier (via a prompt) or majority vote.\\nTask decomposition can be done (1) by LLM with simple prompting like \"Steps for XYZ.\\\\n1.\", \"What are the subgoals for achieving XYZ?\", (2) by using task-specific instructions; e.g. \"Write a story outline.\" for writing a novel, or (3) with human inputs.\\n\\nFig. 1. Overview of a LLM-powered autonomous agent system.\\nComponent One: Planning#\\nA complicated task usually involves many steps. An agent needs to know what they are and plan ahead.\\nTask Decomposition#\\nChain of thought (CoT; Wei et al. 2022) has become a standard prompting technique for enhancing model performance on complex tasks. The model is instructed to “think step by step” to utilize more test-time computation to decompose hard tasks into smaller and simpler steps. CoT transforms big tasks into multiple manageable tasks and shed lights into an interpretation of the model’s thinking process.\\n\\nThe AI assistant can parse user input to several tasks: [{\"task\": task, \"id\", task_id, \"dep\": dependency_task_ids, \"args\": {\"text\": text, \"image\": URL, \"audio\": URL, \"video\": URL}}]. The \"dep\" field denotes the id of the previous task which generates a new resource that the current task relies on. A special tag \"-task_id\" refers to the generated text image, audio and video in the dependency task with id as task_id. The task MUST be selected from the following options: {{ Available Task List }}. There is a logical relationship between tasks, please note their order. If the user input can\\'t be parsed, you need to reply empty JSON. Here are several cases for your reference: {{ Demonstrations }}. The chat history is recorded as {{ Chat History }}. From this chat history, you can find the path of the user-mentioned resources for your task planning.\\n\\nResources:\\n1. Internet access for searches and information gathering.\\n2. Long Term memory management.\\n3. GPT-3.5 powered Agents for delegation of simple tasks.\\n4. File output.\\n\\nPerformance Evaluation:\\n1. Continuously review and analyze your actions to ensure you are performing to the best of your abilities.\\n2. Constructively self-criticize your big-picture behavior constantly.\\n3. Reflect on past decisions and strategies to refine your approach.\\n4. Every command has a cost, so be smart and efficient. Aim to complete tasks in the least number of steps.', name='blog_post_retriever', id='3db27510-d406-464e-977a-e11d9832a8d7', tool_call_id='call_XYsyQyVPWDMO2rSvuorti3hC'),\n",
      "              AIMessage(content='タスク分解とは、複雑なタスクをより小さく、管理しやすいステップに分けるプロセスです。これにより、タスクを段階的に実行しやすくなり、全体の理解や実行が容易になります。具体的には、以下のような方法で行われます：\\n\\n1. **シンプルなプロンプトを使用**: 例えば、「XYZのためのステップは何か？」や「XYZを達成するためのサブゴールは？」といった質問を通じて、タスクを分解します。\\n2. **タスク特有の指示を使用**: 例えば、「小説のアウトラインを書いてください」といった具体的な指示を与えることで、タスクを明確にします。\\n3. **人間の入力を利用**: ユーザーからの具体的な指示や情報を基にタスクを分解します。\\n\\nタスク分解は、特に複雑な問題を解決する際に有効であり、思考過程を明確にするための「思考の連鎖（Chain of Thought）」技術が用いられることが多いです。この技術により、モデルは「ステップバイステップで考える」ように指示され、複雑なタスクをよりシンプルなタスクに変換します。', additional_kwargs={'refusal': None}, response_metadata={'token_usage': {'completion_tokens': 321, 'prompt_tokens': 680, 'total_tokens': 1001, 'completion_tokens_details': {'accepted_prediction_tokens': 0, 'audio_tokens': 0, 'reasoning_tokens': 0, 'rejected_prediction_tokens': 0}, 'prompt_tokens_details': {'audio_tokens': 0, 'cached_tokens': 0}}, 'model_name': 'gpt-4o-mini-2024-07-18', 'system_fingerprint': 'fp_0ba0d124f1', 'finish_reason': 'stop', 'logprobs': None}, id='run-f6db7460-2f10-4b0f-9135-033aa48e7dbf-0', usage_metadata={'input_tokens': 680, 'output_tokens': 321, 'total_tokens': 1001, 'input_token_details': {'audio': 0, 'cache_read': 0}, 'output_token_details': {'audio': 0, 'reasoning': 0}}),\n",
      "              HumanMessage(content='それは一般的な方法ですか。', additional_kwargs={}, response_metadata={}, id='2f96cd90-17f6-43bc-9779-ea4cc95b5a1a'),\n",
      "              AIMessage(content='はい、タスク分解は一般的な方法です。特に以下のような分野で広く利用されています：\\n\\n1. **プロジェクト管理**: 大規模なプロジェクトを管理する際に、タスクを小さな作業単位に分けることで、進捗を追跡しやすくなります。\\n\\n2. **ソフトウェア開発**: プログラムの機能を小さなモジュールやタスクに分解することで、開発プロセスを効率化し、バグの特定や修正を容易にします。\\n\\n3. **教育**: 学習内容を小さな単元に分けることで、学生が理解しやすくなり、段階的に知識を積み上げることができます。\\n\\n4. **問題解決**: 複雑な問題を解決する際に、問題を小さな部分に分けて、それぞれを個別に解決することで、全体の解決策を見つけやすくします。\\n\\nこのように、タスク分解は多くの場面で効果的なアプローチとして広く受け入れられています。', additional_kwargs={'refusal': None}, response_metadata={'token_usage': {'completion_tokens': 275, 'prompt_tokens': 1017, 'total_tokens': 1292, 'completion_tokens_details': {'accepted_prediction_tokens': 0, 'audio_tokens': 0, 'reasoning_tokens': 0, 'rejected_prediction_tokens': 0}, 'prompt_tokens_details': {'audio_tokens': 0, 'cached_tokens': 0}}, 'model_name': 'gpt-4o-mini-2024-07-18', 'system_fingerprint': 'fp_0ba0d124f1', 'finish_reason': 'stop', 'logprobs': None}, id='run-11227a09-08a0-4769-a9d4-7453b58b0a07-0', usage_metadata={'input_tokens': 1017, 'output_tokens': 275, 'total_tokens': 1292, 'input_token_details': {'audio': 0, 'cache_read': 0}, 'output_token_details': {'audio': 0, 'reasoning': 0}})]}\n",
      "================================================================\n"
     ]
    }
   ],
   "source": [
    "query = \"それは一般的な方法ですか。\"\n",
    "events = agent_executor.stream(\n",
    "    {\"messages\": [HumanMessage(content=query)]},\n",
    "    config=config,\n",
    "    stream_mode=\"values\"\n",
    ")\n",
    "\n",
    "for event in events:\n",
    "    pprint(event)\n",
    "    print(\"================================================================\")\n",
    "    #event[\"messages\"][-1].pretty_print()"
   ]
  },
  {
   "cell_type": "markdown",
   "metadata": {},
   "source": [
    "# ■ 05_rag_app.ipynbで実装した会話履歴を考慮しないRAGアプリケーション\n",
    "\n",
    "会話履歴を考慮しないRAGを一旦実装します。"
   ]
  },
  {
   "cell_type": "code",
   "execution_count": 129,
   "metadata": {},
   "outputs": [],
   "source": [
    "import os\n",
    "os.environ[\"USER_AGENT\"] = \"Mozilla/5.0 (Windows NT 10.0; Win64; x64) AppleWebKit/537.36 (KHTML, like Gecko) Chrome/130.0.0.0 Safari/537.36\"\n",
    "\n",
    "from typing import List\n",
    "from langchain_core.documents import Document\n",
    "from langchain_core.runnables import Runnable\n",
    "import bs4\n",
    "from langchain.chains import create_retrieval_chain\n",
    "from langchain.chains.combine_documents import create_stuff_documents_chain\n",
    "from langchain_community.document_loaders import WebBaseLoader\n",
    "from langchain_core.prompts import ChatPromptTemplate, SystemMessagePromptTemplate, HumanMessagePromptTemplate\n",
    "from langchain_core.vectorstores import InMemoryVectorStore\n",
    "from langchain_openai import ChatOpenAI, OpenAIEmbeddings\n",
    "from langchain_text_splitters import RecursiveCharacterTextSplitter\n",
    "from langchain_core.runnables import RunnablePassthrough\n",
    "from langchain_core.output_parsers import StrOutputParser\n",
    "\n",
    "# モデル\n",
    "llm = ChatOpenAI(model=\"gpt-4o\")\n",
    "\n",
    "#\n",
    "# 1. ロード & 分割 & 保存\n",
    "#\n",
    "\n",
    "# ロード\n",
    "bs4_strainer = bs4.SoupStrainer(class_=(\"post-content\", \"post-title\", \"post-header\"))\n",
    "loader = WebBaseLoader(\n",
    "    web_paths=(\"https://lilianweng.github.io/posts/2023-06-23-agent/\",),\n",
    "    bs_kwargs=dict(parse_only=bs4_strainer)\n",
    ")\n",
    "docs: List[Document] = loader.load()\n",
    "\n",
    "# 分割\n",
    "text_splitter = RecursiveCharacterTextSplitter(chunk_size=1000, chunk_overlap=200, add_start_index=True)\n",
    "splits: List[Document] = text_splitter.split_documents(docs)\n",
    "\n",
    "# 保存\n",
    "vectorstore = InMemoryVectorStore.from_documents(documents=splits, embedding=OpenAIEmbeddings())\n",
    "\n",
    "# 取得\n",
    "retriever = vectorstore.as_retriever()\n",
    "def format_docs(docs: List[Document]) -> str:\n",
    "    return \"\\n\".join([doc.page_content for doc in docs])\n",
    "\n",
    "\n",
    "#\n",
    "# 2. Retrieverを質問応答のチェインに組み込む\n",
    "#\n",
    "system_template = \"\"\"\n",
    "あなたは質問応答のアシスタントです。\n",
    "質問に答えるために、検索された文脈の以下の部分を使用してください。\n",
    "答えがわからない場合は、わからないと答えましょう。\n",
    "回答は3文以内で簡潔に。\n",
    "\n",
    "\n",
    "{context}\n",
    "\"\"\"\n",
    "\n",
    "prompt = ChatPromptTemplate([\n",
    "    SystemMessagePromptTemplate.from_template(system_template),\n",
    "    HumanMessagePromptTemplate.from_template(\"{input}\")\n",
    "])\n",
    "\n",
    "question_answer_chain = create_stuff_documents_chain(llm=llm, prompt=prompt, output_parser=StrOutputParser())\n",
    "rag_chain = create_retrieval_chain(retriever=retriever, combine_docs_chain=question_answer_chain)\n"
   ]
  },
  {
   "cell_type": "code",
   "execution_count": 100,
   "metadata": {},
   "outputs": [
    {
     "name": "stdout",
     "output_type": "stream",
     "text": [
      "{'answer': 'タスク分解は、大きなタスクを複数の小さくて扱いやすいタスクに分割するプロセスです。これにより、複雑なタスクを順序立てて解決しやすくなります。Chain '\n",
      "           'of Thought (CoT) や Tree of Thoughtsなどの技術が利用され、モデルの性能を向上させます。',\n",
      " 'context': [Document(id='7d4a10a8-ba11-4227-9158-e73256000ee4', metadata={'source': 'https://lilianweng.github.io/posts/2023-06-23-agent/', 'start_index': 2192}, page_content='Tree of Thoughts (Yao et al. 2023) extends CoT by exploring multiple reasoning possibilities at each step. It first decomposes the problem into multiple thought steps and generates multiple thoughts per step, creating a tree structure. The search process can be BFS (breadth-first search) or DFS (depth-first search) with each state evaluated by a classifier (via a prompt) or majority vote.\\nTask decomposition can be done (1) by LLM with simple prompting like \"Steps for XYZ.\\\\n1.\", \"What are the subgoals for achieving XYZ?\", (2) by using task-specific instructions; e.g. \"Write a story outline.\" for writing a novel, or (3) with human inputs.'),\n",
      "             Document(id='ece55ad6-392b-4fa1-985e-4aa11d080bfd', metadata={'source': 'https://lilianweng.github.io/posts/2023-06-23-agent/', 'start_index': 1585}, page_content='Fig. 1. Overview of a LLM-powered autonomous agent system.\\nComponent One: Planning#\\nA complicated task usually involves many steps. An agent needs to know what they are and plan ahead.\\nTask Decomposition#\\nChain of thought (CoT; Wei et al. 2022) has become a standard prompting technique for enhancing model performance on complex tasks. The model is instructed to “think step by step” to utilize more test-time computation to decompose hard tasks into smaller and simpler steps. CoT transforms big tasks into multiple manageable tasks and shed lights into an interpretation of the model’s thinking process.'),\n",
      "             Document(id='8f1b395b-f768-421e-9376-36447ef456ce', metadata={'source': 'https://lilianweng.github.io/posts/2023-06-23-agent/', 'start_index': 17804}, page_content='The AI assistant can parse user input to several tasks: [{\"task\": task, \"id\", task_id, \"dep\": dependency_task_ids, \"args\": {\"text\": text, \"image\": URL, \"audio\": URL, \"video\": URL}}]. The \"dep\" field denotes the id of the previous task which generates a new resource that the current task relies on. A special tag \"-task_id\" refers to the generated text image, audio and video in the dependency task with id as task_id. The task MUST be selected from the following options: {{ Available Task List }}. There is a logical relationship between tasks, please note their order. If the user input can\\'t be parsed, you need to reply empty JSON. Here are several cases for your reference: {{ Demonstrations }}. The chat history is recorded as {{ Chat History }}. From this chat history, you can find the path of the user-mentioned resources for your task planning.'),\n",
      "             Document(id='17fda699-b9b9-40ec-affd-784f4420496c', metadata={'source': 'https://lilianweng.github.io/posts/2023-06-23-agent/', 'start_index': 29630}, page_content='Resources:\\n1. Internet access for searches and information gathering.\\n2. Long Term memory management.\\n3. GPT-3.5 powered Agents for delegation of simple tasks.\\n4. File output.\\n\\nPerformance Evaluation:\\n1. Continuously review and analyze your actions to ensure you are performing to the best of your abilities.\\n2. Constructively self-criticize your big-picture behavior constantly.\\n3. Reflect on past decisions and strategies to refine your approach.\\n4. Every command has a cost, so be smart and efficient. Aim to complete tasks in the least number of steps.')],\n",
      " 'input': 'タスク分解とは何ですか。'}\n",
      "{'answer': 'どの手法について質問しているのか具体的に教えていただけますか？情報が不足しているため、質問に答えるのが難しいです。',\n",
      " 'context': [Document(id='d82459ca-b8d6-40e4-97c7-6c883a1e3b3d', metadata={'source': 'https://lilianweng.github.io/posts/2023-06-23-agent/', 'start_index': 39086}, page_content='}\\n]\\nChallenges#\\nAfter going through key ideas and demos of building LLM-centered agents, I start to see a couple common limitations:'),\n",
      "             Document(id='d6134ea8-f759-4e4d-9431-a867e2c9f3c6', metadata={'source': 'https://lilianweng.github.io/posts/2023-06-23-agent/', 'start_index': 5930}, page_content='Fig. 4. Experiments on AlfWorld Env and HotpotQA. Hallucination is a more common failure than inefficient planning in AlfWorld. (Image source: Shinn & Labash, 2023)'),\n",
      "             Document(id='ad34212b-f742-4d7f-8e96-0549b5fde394', metadata={'source': 'https://lilianweng.github.io/posts/2023-06-23-agent/', 'start_index': 32942}, page_content='}\\n]\\nThen after these clarification, the agent moved into the code writing mode with a different system message.\\nSystem message:'),\n",
      "             Document(id='745d4fbf-639a-4a77-9e5a-907720950397', metadata={'source': 'https://lilianweng.github.io/posts/2023-06-23-agent/', 'start_index': 14988}, page_content='Fig. 9. Comparison of MIPS algorithms, measured in recall@10. (Image source: Google Blog, 2020)\\nCheck more MIPS algorithms and performance comparison in ann-benchmarks.com.\\nComponent Three: Tool Use#\\nTool use is a remarkable and distinguishing characteristic of human beings. We create, modify and utilize external objects to do things that go beyond our physical and cognitive limits. Equipping LLMs with external tools can significantly extend the model capabilities.')],\n",
      " 'input': 'それは一般的な手法ですか?'}\n"
     ]
    }
   ],
   "source": [
    "from pprint import pprint\n",
    "response = rag_chain.invoke({\"input\": \"タスク分解とは何ですか。\"})\n",
    "pprint(response)\n",
    "response = rag_chain.invoke({\"input\": \"それは一般的な手法ですか?\"})  # 会話の履歴が保持されていないため、これはわからない\n",
    "pprint(response)\n"
   ]
  },
  {
   "cell_type": "markdown",
   "metadata": {},
   "source": [
    "# ■ 会話型RAGとしての修正を加える\n",
    "\n",
    "上記の例ではユーザーの入力クエリを利用して関連するドキュメントをベクトルストアから取得しますが、会話の場面では、ユーザーのクエリを理解するために会話の履歴が必要になる可能性があります。  \n",
    "\n",
    "例えば、以下の例では「それ」が「タスク分解」を示す代名詞だということをAI側が理解する必要があります。\n",
    "\n",
    "> Human: タスク分解とは何ですか？  \n",
    "> AI: タスク分解とは...  \n",
    "> Human: それは一般的な方法ですか  \n",
    "\n",
    "そこで、上記のソースコードに2つの修正を加えます。\n",
    "\n",
    "### 1. 会話履歴を組み込んだクエリでRetrieveする\n",
    "retrieverのクエリに会話の文脈を組み込みます。(クエリと会話履歴を受け取り質問を再作成するサブチェーンを作成)  \n",
    "クエリと会話履歴をそのままretrieverに渡すのではなく、クエリの内容が会話履歴を入力として会話履歴無しで理解できる独立した質問をLLMで生成します\n",
    "\n",
    "- 修正前: `クエリ` -> `retriever`\n",
    "- 修正後: `(クエリ, 会話履歴)` -> `LLM` -> `独立した質問の生成` -> `retriever`\n",
    "\n",
    "### 2. Q&Aのプロンプトに会話履歴を含める\n",
    "\n",
    "Q&Aのプロンプトに過去の会話履歴を含めるようにします。"
   ]
  },
  {
   "cell_type": "markdown",
   "metadata": {},
   "source": [
    "## 1. 会話履歴を組み込んだクエリでRetrieveする\n",
    "\n",
    "クエリと会話履歴を使って質問文を再作成するサブチェーンを定義します。  \n",
    "※ クエリの内容が会話履歴を参照するような文章の場合に、会話履歴を参照しなくても意味が分かるような独立した質問を生成する必要があります。\n",
    "\n",
    "- [MessagePlaceholder](https://python.langchain.com/api_reference/core/prompts/langchain_core.prompts.chat.MessagesPlaceholder.html)\n",
    "  - `List[BaseMessage]` を展開するプレースホルダ\n",
    "- [create_history_aware_retriever](https://python.langchain.com/api_reference/langchain/chains/langchain.chains.history_aware_retriever.create_history_aware_retriever.html)\n",
    "  - 概要  \n",
    "    会話履歴をretriveして `List[Document]` を返すチェーン  \n",
    "    `chat_history` が入力として渡されない場合、クエリをそのままretrieverで検索する  \n",
    "    `chat_history` が入力として渡される場合、クエリと会話履歴から検索クエリを生成し、retrieverで検索する  \n",
    "  - 入力と出力\n",
    "    - 入力: `input: str` (クエリ(必須)) と `chat_history: List[BaseMessage]` (会話履歴)\n",
    "    - 出力: `List[Document]`\n"
   ]
  },
  {
   "cell_type": "code",
   "execution_count": 101,
   "metadata": {},
   "outputs": [],
   "source": [
    "from langchain.globals import set_verbose, set_debug\n",
    "set_verbose(False)\n",
    "set_debug(False)"
   ]
  },
  {
   "cell_type": "code",
   "execution_count": 102,
   "metadata": {},
   "outputs": [],
   "source": [
    "from langchain_core.prompts import MessagesPlaceholder, ChatPromptTemplate, SystemMessagePromptTemplate, HumanMessagePromptTemplate, AIMessagePromptTemplate\n",
    "from langchain.chains import create_history_aware_retriever\n",
    "\n",
    "\n",
    "# クエリと会話履歴から独立した質問を作成するためのプロンプト\n",
    "contextualize_q_system_prompt = \"\"\"\n",
    "チャット履歴と、チャット履歴のコンテキスを参照する可能性のある最新のユーザーからの質問がある場合、チャット履歴なしで理解できる独立した質問を作成してください。\n",
    "質問には答えず、必要であれば作り直し、そうでなければそのまま返してください。\n",
    "\"\"\"\n",
    "contextualize_q_prompt = ChatPromptTemplate.from_messages([\n",
    "    SystemMessagePromptTemplate.from_template(contextualize_q_system_prompt),\n",
    "    MessagesPlaceholder(\"chat_history\"),  # 入力にchat_historyというキーがあると、それを会話履歴として展開する\n",
    "    HumanMessagePromptTemplate.from_template(\"{input}\"),\n",
    "])\n",
    "\n",
    "# クエリ(input: str) と 会話履歴(chat_history: List[BaseMessage]) からクエリを作成して、Retrieverで検索するチェイン\n",
    "history_aware_retriever = create_history_aware_retriever(llm, retriever, contextualize_q_prompt)"
   ]
  },
  {
   "cell_type": "code",
   "execution_count": 103,
   "metadata": {},
   "outputs": [
    {
     "name": "stdout",
     "output_type": "stream",
     "text": [
      "[Document(id='7d4a10a8-ba11-4227-9158-e73256000ee4', metadata={'source': 'https://lilianweng.github.io/posts/2023-06-23-agent/', 'start_index': 2192}, page_content='Tree of Thoughts (Yao et al. 2023) extends CoT by exploring multiple reasoning possibilities at each step. It first decomposes the problem into multiple thought steps and generates multiple thoughts per step, creating a tree structure. The search process can be BFS (breadth-first search) or DFS (depth-first search) with each state evaluated by a classifier (via a prompt) or majority vote.\\nTask decomposition can be done (1) by LLM with simple prompting like \"Steps for XYZ.\\\\n1.\", \"What are the subgoals for achieving XYZ?\", (2) by using task-specific instructions; e.g. \"Write a story outline.\" for writing a novel, or (3) with human inputs.'),\n",
      " Document(id='ece55ad6-392b-4fa1-985e-4aa11d080bfd', metadata={'source': 'https://lilianweng.github.io/posts/2023-06-23-agent/', 'start_index': 1585}, page_content='Fig. 1. Overview of a LLM-powered autonomous agent system.\\nComponent One: Planning#\\nA complicated task usually involves many steps. An agent needs to know what they are and plan ahead.\\nTask Decomposition#\\nChain of thought (CoT; Wei et al. 2022) has become a standard prompting technique for enhancing model performance on complex tasks. The model is instructed to “think step by step” to utilize more test-time computation to decompose hard tasks into smaller and simpler steps. CoT transforms big tasks into multiple manageable tasks and shed lights into an interpretation of the model’s thinking process.'),\n",
      " Document(id='8f1b395b-f768-421e-9376-36447ef456ce', metadata={'source': 'https://lilianweng.github.io/posts/2023-06-23-agent/', 'start_index': 17804}, page_content='The AI assistant can parse user input to several tasks: [{\"task\": task, \"id\", task_id, \"dep\": dependency_task_ids, \"args\": {\"text\": text, \"image\": URL, \"audio\": URL, \"video\": URL}}]. The \"dep\" field denotes the id of the previous task which generates a new resource that the current task relies on. A special tag \"-task_id\" refers to the generated text image, audio and video in the dependency task with id as task_id. The task MUST be selected from the following options: {{ Available Task List }}. There is a logical relationship between tasks, please note their order. If the user input can\\'t be parsed, you need to reply empty JSON. Here are several cases for your reference: {{ Demonstrations }}. The chat history is recorded as {{ Chat History }}. From this chat history, you can find the path of the user-mentioned resources for your task planning.'),\n",
      " Document(id='17fda699-b9b9-40ec-affd-784f4420496c', metadata={'source': 'https://lilianweng.github.io/posts/2023-06-23-agent/', 'start_index': 29630}, page_content='Resources:\\n1. Internet access for searches and information gathering.\\n2. Long Term memory management.\\n3. GPT-3.5 powered Agents for delegation of simple tasks.\\n4. File output.\\n\\nPerformance Evaluation:\\n1. Continuously review and analyze your actions to ensure you are performing to the best of your abilities.\\n2. Constructively self-criticize your big-picture behavior constantly.\\n3. Reflect on past decisions and strategies to refine your approach.\\n4. Every command has a cost, so be smart and efficient. Aim to complete tasks in the least number of steps.')]\n"
     ]
    }
   ],
   "source": [
    "chat_history = []\n",
    "\n",
    "# クエリをRetrieverで検索\n",
    "question_01 = \"タスク分解とは何ですか。\"\n",
    "response = history_aware_retriever.invoke({\"input\": question_01, \"chat_history\": chat_history})\n",
    "pprint(response)"
   ]
  },
  {
   "cell_type": "code",
   "execution_count": 104,
   "metadata": {},
   "outputs": [
    {
     "name": "stdout",
     "output_type": "stream",
     "text": [
      "[Document(id='7d4a10a8-ba11-4227-9158-e73256000ee4', metadata={'source': 'https://lilianweng.github.io/posts/2023-06-23-agent/', 'start_index': 2192}, page_content='Tree of Thoughts (Yao et al. 2023) extends CoT by exploring multiple reasoning possibilities at each step. It first decomposes the problem into multiple thought steps and generates multiple thoughts per step, creating a tree structure. The search process can be BFS (breadth-first search) or DFS (depth-first search) with each state evaluated by a classifier (via a prompt) or majority vote.\\nTask decomposition can be done (1) by LLM with simple prompting like \"Steps for XYZ.\\\\n1.\", \"What are the subgoals for achieving XYZ?\", (2) by using task-specific instructions; e.g. \"Write a story outline.\" for writing a novel, or (3) with human inputs.'),\n",
      " Document(id='ece55ad6-392b-4fa1-985e-4aa11d080bfd', metadata={'source': 'https://lilianweng.github.io/posts/2023-06-23-agent/', 'start_index': 1585}, page_content='Fig. 1. Overview of a LLM-powered autonomous agent system.\\nComponent One: Planning#\\nA complicated task usually involves many steps. An agent needs to know what they are and plan ahead.\\nTask Decomposition#\\nChain of thought (CoT; Wei et al. 2022) has become a standard prompting technique for enhancing model performance on complex tasks. The model is instructed to “think step by step” to utilize more test-time computation to decompose hard tasks into smaller and simpler steps. CoT transforms big tasks into multiple manageable tasks and shed lights into an interpretation of the model’s thinking process.'),\n",
      " Document(id='17fda699-b9b9-40ec-affd-784f4420496c', metadata={'source': 'https://lilianweng.github.io/posts/2023-06-23-agent/', 'start_index': 29630}, page_content='Resources:\\n1. Internet access for searches and information gathering.\\n2. Long Term memory management.\\n3. GPT-3.5 powered Agents for delegation of simple tasks.\\n4. File output.\\n\\nPerformance Evaluation:\\n1. Continuously review and analyze your actions to ensure you are performing to the best of your abilities.\\n2. Constructively self-criticize your big-picture behavior constantly.\\n3. Reflect on past decisions and strategies to refine your approach.\\n4. Every command has a cost, so be smart and efficient. Aim to complete tasks in the least number of steps.'),\n",
      " Document(id='8f1b395b-f768-421e-9376-36447ef456ce', metadata={'source': 'https://lilianweng.github.io/posts/2023-06-23-agent/', 'start_index': 17804}, page_content='The AI assistant can parse user input to several tasks: [{\"task\": task, \"id\", task_id, \"dep\": dependency_task_ids, \"args\": {\"text\": text, \"image\": URL, \"audio\": URL, \"video\": URL}}]. The \"dep\" field denotes the id of the previous task which generates a new resource that the current task relies on. A special tag \"-task_id\" refers to the generated text image, audio and video in the dependency task with id as task_id. The task MUST be selected from the following options: {{ Available Task List }}. There is a logical relationship between tasks, please note their order. If the user input can\\'t be parsed, you need to reply empty JSON. Here are several cases for your reference: {{ Demonstrations }}. The chat history is recorded as {{ Chat History }}. From this chat history, you can find the path of the user-mentioned resources for your task planning.')]\n"
     ]
    }
   ],
   "source": [
    "from langchain_core.messages import AIMessage, HumanMessage\n",
    "\n",
    "# 会話履歴を更新\n",
    "answer_01 = \"タスク分解とは、複雑なタスクをより小さくシンプルなステップに分けるプロセスです。これにより、エージェントは各ステップを計画し、効率的に問題を解決することができます。具体的には、質問を通じてサブゴールを特定したり、タスク特有の指示を使用したり、人間の入力を活用したりします。\"\n",
    "chat_history.extend([\n",
    "    HumanMessage(content=question_01),\n",
    "    AIMessage(content=answer_01)\n",
    "])\n",
    "\n",
    "# クエリと会話履歴から独立した質問を生成して、Retriverで検索\n",
    "# 会話履歴と合わせて、「タスク分解は一般的な手法ですか？」というクエリが生成される。出力はそのクエリをRetrieverで検索した結果\n",
    "response = history_aware_retriever.invoke({\"input\": \"それは一般的な手法ですか?\", \"chat_history\": chat_history})\n",
    "pprint(response)"
   ]
  },
  {
   "cell_type": "code",
   "execution_count": 105,
   "metadata": {},
   "outputs": [
    {
     "name": "stdout",
     "output_type": "stream",
     "text": [
      "================================\u001b[1m Human Message \u001b[0m=================================\n",
      "\n",
      "タスク分解とは何ですか。\n",
      "==================================\u001b[1m Ai Message \u001b[0m==================================\n",
      "\n",
      "タスク分解とは、複雑なタスクをより小さくシンプルなステップに分けるプロセスです。これにより、エージェントは各ステップを計画し、効率的に問題を解決することができます。具体的には、質問を通じてサブゴールを特定したり、タスク特有の指示を使用したり、人間の入力を活用したりします。\n"
     ]
    }
   ],
   "source": [
    "for message in chat_history:\n",
    "    message.pretty_print()"
   ]
  },
  {
   "cell_type": "markdown",
   "metadata": {},
   "source": [
    "## 2. Q&Aプロンプトに会話履歴を組み込む\n",
    "\n",
    "Q&Aのプロンプトに会話履歴を組み込み、先ほど実装したhistory_aware_retrieverを統合します\n",
    "\n",
    "流れとしては以下のようになります。\n",
    "\n",
    "\n",
    "<img src=\"../../docs/img/06_conversational_rag_app/01.png\" width=\"700px\">\n",
    "\n",
    "1. **history_aware_retriever**\n",
    "    - `input: str` (ユーザーからのクエリ), `chat_history: List[BaseMessage]` (会話履歴) を入力として、独立した質問を生成するプロンプトを作成\n",
    "    - プロンプトをLLMに渡して、独立した質問として成立するクエリを生成\n",
    "    - 生成したクエリをRetrieverで検索\n",
    "    - 検索結果 `List[Document]` を出力\n",
    "1. **question_answer_chain**\n",
    "    - `context: List[Document]` (検索結果), `input: str` (ユーザーからのクエリ), `chat_history: List[BaseMessage]` (会話履歴) を入力として検索結果から質問に答えるプロンプトを生成\n",
    "    - プロンプトをLLMに渡して、回答を生成\n",
    "    - 出力"
   ]
  },
  {
   "cell_type": "code",
   "execution_count": 106,
   "metadata": {},
   "outputs": [],
   "source": [
    "from langchain_core.prompts import ChatPromptTemplate, SystemMessagePromptTemplate, HumanMessagePromptTemplate, MessagesPlaceholder\n",
    "\n",
    "system_template = \"\"\"\n",
    "あなたは質問応答のアシスタントです。\n",
    "質問に答えるために、検索された文脈の以下の部分を使用してください。\n",
    "答えがわからない場合は、わからないと答えましょう。\n",
    "回答は3文以内で簡潔に。\n",
    "\n",
    "\n",
    "{context}\n",
    "\"\"\"\n",
    "\n",
    "qa_prompt = ChatPromptTemplate([\n",
    "    SystemMessagePromptTemplate.from_template(system_template),\n",
    "    MessagesPlaceholder(\"chat_history\"),\n",
    "    HumanMessagePromptTemplate.from_template(\"{input}\")\n",
    "])\n",
    "\n",
    "question_answer_chain = create_stuff_documents_chain(llm=llm, prompt=qa_prompt, output_parser=StrOutputParser())\n",
    "rag_chain = create_retrieval_chain(retriever=history_aware_retriever, combine_docs_chain=question_answer_chain)"
   ]
  },
  {
   "cell_type": "code",
   "execution_count": 107,
   "metadata": {},
   "outputs": [
    {
     "name": "stdout",
     "output_type": "stream",
     "text": [
      "{'answer': 'タスク分解は、大きなタスクをより小さく管理しやすいステップに分ける方法です。これは、モデルが複雑なタスクをステップごとに考えるよう指示することで、パフォーマンスを向上させる「Chain '\n",
      "           'of Thought」技術の一部です。タスク分解により、問題解決のプロセスを明確にし、効率的に進めることができます。',\n",
      " 'chat_history': [],\n",
      " 'context': [Document(id='7d4a10a8-ba11-4227-9158-e73256000ee4', metadata={'source': 'https://lilianweng.github.io/posts/2023-06-23-agent/', 'start_index': 2192}, page_content='Tree of Thoughts (Yao et al. 2023) extends CoT by exploring multiple reasoning possibilities at each step. It first decomposes the problem into multiple thought steps and generates multiple thoughts per step, creating a tree structure. The search process can be BFS (breadth-first search) or DFS (depth-first search) with each state evaluated by a classifier (via a prompt) or majority vote.\\nTask decomposition can be done (1) by LLM with simple prompting like \"Steps for XYZ.\\\\n1.\", \"What are the subgoals for achieving XYZ?\", (2) by using task-specific instructions; e.g. \"Write a story outline.\" for writing a novel, or (3) with human inputs.'),\n",
      "             Document(id='ece55ad6-392b-4fa1-985e-4aa11d080bfd', metadata={'source': 'https://lilianweng.github.io/posts/2023-06-23-agent/', 'start_index': 1585}, page_content='Fig. 1. Overview of a LLM-powered autonomous agent system.\\nComponent One: Planning#\\nA complicated task usually involves many steps. An agent needs to know what they are and plan ahead.\\nTask Decomposition#\\nChain of thought (CoT; Wei et al. 2022) has become a standard prompting technique for enhancing model performance on complex tasks. The model is instructed to “think step by step” to utilize more test-time computation to decompose hard tasks into smaller and simpler steps. CoT transforms big tasks into multiple manageable tasks and shed lights into an interpretation of the model’s thinking process.'),\n",
      "             Document(id='8f1b395b-f768-421e-9376-36447ef456ce', metadata={'source': 'https://lilianweng.github.io/posts/2023-06-23-agent/', 'start_index': 17804}, page_content='The AI assistant can parse user input to several tasks: [{\"task\": task, \"id\", task_id, \"dep\": dependency_task_ids, \"args\": {\"text\": text, \"image\": URL, \"audio\": URL, \"video\": URL}}]. The \"dep\" field denotes the id of the previous task which generates a new resource that the current task relies on. A special tag \"-task_id\" refers to the generated text image, audio and video in the dependency task with id as task_id. The task MUST be selected from the following options: {{ Available Task List }}. There is a logical relationship between tasks, please note their order. If the user input can\\'t be parsed, you need to reply empty JSON. Here are several cases for your reference: {{ Demonstrations }}. The chat history is recorded as {{ Chat History }}. From this chat history, you can find the path of the user-mentioned resources for your task planning.'),\n",
      "             Document(id='17fda699-b9b9-40ec-affd-784f4420496c', metadata={'source': 'https://lilianweng.github.io/posts/2023-06-23-agent/', 'start_index': 29630}, page_content='Resources:\\n1. Internet access for searches and information gathering.\\n2. Long Term memory management.\\n3. GPT-3.5 powered Agents for delegation of simple tasks.\\n4. File output.\\n\\nPerformance Evaluation:\\n1. Continuously review and analyze your actions to ensure you are performing to the best of your abilities.\\n2. Constructively self-criticize your big-picture behavior constantly.\\n3. Reflect on past decisions and strategies to refine your approach.\\n4. Every command has a cost, so be smart and efficient. Aim to complete tasks in the least number of steps.')],\n",
      " 'input': 'タスク分解とは何ですか。'}\n"
     ]
    }
   ],
   "source": [
    "chat_history = []\n",
    "\n",
    "# クエリをRetrieverで検索\n",
    "question_01 = \"タスク分解とは何ですか。\"\n",
    "response = rag_chain.invoke({\"input\": question_01, \"chat_history\": chat_history})\n",
    "pprint(response)\n",
    "\n",
    "# 会話履歴を更新\n",
    "from langchain_core.messages import AIMessage, HumanMessage\n",
    "chat_history.extend([\n",
    "    HumanMessage(content=question_01),\n",
    "    AIMessage(content=response[\"answer\"])\n",
    "])"
   ]
  },
  {
   "cell_type": "code",
   "execution_count": 108,
   "metadata": {},
   "outputs": [
    {
     "name": "stdout",
     "output_type": "stream",
     "text": [
      "{'answer': 'はい、タスク分解は問題解決やプロジェクト管理において一般的な手法です。効率的な作業進行や複雑なタスクの理解を助けるため、さまざまな分野で広く利用されています。',\n",
      " 'chat_history': [HumanMessage(content='タスク分解とは何ですか。', additional_kwargs={}, response_metadata={}),\n",
      "                  AIMessage(content='タスク分解は、大きなタスクをより小さく管理しやすいステップに分ける方法です。これは、モデルが複雑なタスクをステップごとに考えるよう指示することで、パフォーマンスを向上させる「Chain of Thought」技術の一部です。タスク分解により、問題解決のプロセスを明確にし、効率的に進めることができます。', additional_kwargs={}, response_metadata={})],\n",
      " 'context': [Document(id='ad34212b-f742-4d7f-8e96-0549b5fde394', metadata={'source': 'https://lilianweng.github.io/posts/2023-06-23-agent/', 'start_index': 32942}, page_content='}\\n]\\nThen after these clarification, the agent moved into the code writing mode with a different system message.\\nSystem message:'),\n",
      "             Document(id='d82459ca-b8d6-40e4-97c7-6c883a1e3b3d', metadata={'source': 'https://lilianweng.github.io/posts/2023-06-23-agent/', 'start_index': 39086}, page_content='}\\n]\\nChallenges#\\nAfter going through key ideas and demos of building LLM-centered agents, I start to see a couple common limitations:'),\n",
      "             Document(id='d6134ea8-f759-4e4d-9431-a867e2c9f3c6', metadata={'source': 'https://lilianweng.github.io/posts/2023-06-23-agent/', 'start_index': 5930}, page_content='Fig. 4. Experiments on AlfWorld Env and HotpotQA. Hallucination is a more common failure than inefficient planning in AlfWorld. (Image source: Shinn & Labash, 2023)'),\n",
      "             Document(id='b0e14b7f-5554-48a1-a0ad-b0906c80ef65', metadata={'source': 'https://lilianweng.github.io/posts/2023-06-23-agent/', 'start_index': 16115}, page_content='They did an experiment on fine-tuning LLM to call a calculator, using arithmetic as a test case. Their experiments showed that it was harder to solve verbal math problems than explicitly stated math problems because LLMs (7B Jurassic1-large model) failed to extract the right arguments for the basic arithmetic reliably. The results highlight when the external symbolic tools can work reliably, knowing when to and how to use the tools are crucial, determined by the LLM capability.\\nBoth TALM (Tool Augmented Language Models; Parisi et al. 2022) and Toolformer (Schick et al. 2023) fine-tune a LM to learn to use external tool APIs. The dataset is expanded based on whether a newly added API call annotation can improve the quality of model outputs. See more details in the “External APIs” section of Prompt Engineering.')],\n",
      " 'input': 'それは一般的な手法ですか?'}\n"
     ]
    }
   ],
   "source": [
    "# クエリと会話履歴から独立した質問を生成して、Retriverで検索\n",
    "# 会話履歴と合わせて、「タスク分解は一般的な手法ですか？」というクエリが生成される。出力はそのクエリをRetrieverで検索した結果\n",
    "response = rag_chain.invoke({\"input\": \"それは一般的な手法ですか?\", \"chat_history\": chat_history})\n",
    "pprint(response)"
   ]
  },
  {
   "cell_type": "markdown",
   "metadata": {},
   "source": []
  },
  {
   "cell_type": "markdown",
   "metadata": {},
   "source": [
    "# ■ LangGraphで会話履歴の管理を行う"
   ]
  },
  {
   "cell_type": "code",
   "execution_count": 109,
   "metadata": {},
   "outputs": [
    {
     "data": {
      "image/jpeg": "[encoded data removed]",
      "text/plain": [
       "<IPython.core.display.Image object>"
      ]
     },
     "metadata": {},
     "output_type": "display_data"
    }
   ],
   "source": [
    "from typing import Sequence\n",
    "from langchain_core.messages import BaseMessage\n",
    "from langgraph.checkpoint.memory import MemorySaver\n",
    "from langgraph.graph import START, StateGraph\n",
    "from langgraph.graph.message import add_messages\n",
    "from typing_extensions import TypedDict, Annotated\n",
    "from IPython.display import Image, display\n",
    "\n",
    "# アプリケーションの状態を表すデータ構造\n",
    "# rag_chainの入出力に合わせている\n",
    "class State(TypedDict):\n",
    "    input: str\n",
    "    chat_history: Annotated[Sequence[BaseMessage], add_messages]\n",
    "    context: str\n",
    "    answer: str\n",
    "\n",
    "# rag_chainを実行する単純なノードを定義\n",
    "# ノードの戻り値でグラフの状態を更新する\n",
    "def call_model(state: State):\n",
    "    response = rag_chain.invoke(state)\n",
    "    return {\n",
    "        # 入力メッセージと応答メッセージで会話履歴を更新\n",
    "        \"chat_history\": [\n",
    "            HumanMessage(content=state[\"input\"]),\n",
    "            AIMessage(content=response[\"answer\"])\n",
    "        ],\n",
    "        \"context\": response[\"context\"],\n",
    "        \"answer\": response[\"answer\"]\n",
    "    }\n",
    "\n",
    "\n",
    "workflow = StateGraph(state_schema=State)\n",
    "workflow.add_node(\"model\", call_model)\n",
    "workflow.add_edge(START, \"model\")\n",
    "\n",
    "memory = MemorySaver()\n",
    "app = workflow.compile(checkpointer=memory)\n",
    "\n",
    "# mermaidでグラフを可視化してPNG形式で出力\n",
    "display(Image(app.get_graph().draw_mermaid_png()))"
   ]
  },
  {
   "cell_type": "code",
   "execution_count": 110,
   "metadata": {},
   "outputs": [
    {
     "name": "stdout",
     "output_type": "stream",
     "text": [
      "{'answer': 'タスク分解とは、複雑なタスクを複数の小さくて簡単なステップに分解するプロセスです。これにより、モデルが「ステップごとに考える」ことで、より複雑な問題に取り組む際のパフォーマンスを向上させることができます。タスク分解は、問題を管理可能なタスクに変換し、モデルの思考プロセスを解釈する手助けをします。',\n",
      " 'chat_history': [HumanMessage(content='タスク分解とは何ですか。', additional_kwargs={}, response_metadata={}, id='2a3a74cc-9f2b-41da-832b-54aa8ac26c99'),\n",
      "                  AIMessage(content='タスク分解とは、複雑なタスクを複数の小さくて簡単なステップに分解するプロセスです。これにより、モデルが「ステップごとに考える」ことで、より複雑な問題に取り組む際のパフォーマンスを向上させることができます。タスク分解は、問題を管理可能なタスクに変換し、モデルの思考プロセスを解釈する手助けをします。', additional_kwargs={}, response_metadata={}, id='8231aaa2-07c8-411b-9648-da005c4b48c6')],\n",
      " 'context': [Document(id='7d4a10a8-ba11-4227-9158-e73256000ee4', metadata={'source': 'https://lilianweng.github.io/posts/2023-06-23-agent/', 'start_index': 2192}, page_content='Tree of Thoughts (Yao et al. 2023) extends CoT by exploring multiple reasoning possibilities at each step. It first decomposes the problem into multiple thought steps and generates multiple thoughts per step, creating a tree structure. The search process can be BFS (breadth-first search) or DFS (depth-first search) with each state evaluated by a classifier (via a prompt) or majority vote.\\nTask decomposition can be done (1) by LLM with simple prompting like \"Steps for XYZ.\\\\n1.\", \"What are the subgoals for achieving XYZ?\", (2) by using task-specific instructions; e.g. \"Write a story outline.\" for writing a novel, or (3) with human inputs.'),\n",
      "             Document(id='ece55ad6-392b-4fa1-985e-4aa11d080bfd', metadata={'source': 'https://lilianweng.github.io/posts/2023-06-23-agent/', 'start_index': 1585}, page_content='Fig. 1. Overview of a LLM-powered autonomous agent system.\\nComponent One: Planning#\\nA complicated task usually involves many steps. An agent needs to know what they are and plan ahead.\\nTask Decomposition#\\nChain of thought (CoT; Wei et al. 2022) has become a standard prompting technique for enhancing model performance on complex tasks. The model is instructed to “think step by step” to utilize more test-time computation to decompose hard tasks into smaller and simpler steps. CoT transforms big tasks into multiple manageable tasks and shed lights into an interpretation of the model’s thinking process.'),\n",
      "             Document(id='8f1b395b-f768-421e-9376-36447ef456ce', metadata={'source': 'https://lilianweng.github.io/posts/2023-06-23-agent/', 'start_index': 17804}, page_content='The AI assistant can parse user input to several tasks: [{\"task\": task, \"id\", task_id, \"dep\": dependency_task_ids, \"args\": {\"text\": text, \"image\": URL, \"audio\": URL, \"video\": URL}}]. The \"dep\" field denotes the id of the previous task which generates a new resource that the current task relies on. A special tag \"-task_id\" refers to the generated text image, audio and video in the dependency task with id as task_id. The task MUST be selected from the following options: {{ Available Task List }}. There is a logical relationship between tasks, please note their order. If the user input can\\'t be parsed, you need to reply empty JSON. Here are several cases for your reference: {{ Demonstrations }}. The chat history is recorded as {{ Chat History }}. From this chat history, you can find the path of the user-mentioned resources for your task planning.'),\n",
      "             Document(id='17fda699-b9b9-40ec-affd-784f4420496c', metadata={'source': 'https://lilianweng.github.io/posts/2023-06-23-agent/', 'start_index': 29630}, page_content='Resources:\\n1. Internet access for searches and information gathering.\\n2. Long Term memory management.\\n3. GPT-3.5 powered Agents for delegation of simple tasks.\\n4. File output.\\n\\nPerformance Evaluation:\\n1. Continuously review and analyze your actions to ensure you are performing to the best of your abilities.\\n2. Constructively self-criticize your big-picture behavior constantly.\\n3. Reflect on past decisions and strategies to refine your approach.\\n4. Every command has a cost, so be smart and efficient. Aim to complete tasks in the least number of steps.')],\n",
      " 'input': 'タスク分解とは何ですか。'}\n"
     ]
    }
   ],
   "source": [
    "from langchain_core.runnables import RunnableConfig\n",
    "from pprint import pprint\n",
    "\n",
    "config = RunnableConfig(configurable={\"thread_id\": \"123456\"})\n",
    "result = app.invoke({\"input\": \"タスク分解とは何ですか。\"}, config=config)\n",
    "pprint(result)"
   ]
  },
  {
   "cell_type": "code",
   "execution_count": 111,
   "metadata": {},
   "outputs": [
    {
     "name": "stdout",
     "output_type": "stream",
     "text": [
      "{'answer': 'はい、タスク分解はChain of Thought (CoT) '\n",
      "           'として知られ、多くの複雑なタスクにおいてモデルのパフォーマンスを向上させるための標準的な手法です。',\n",
      " 'chat_history': [HumanMessage(content='タスク分解とは何ですか。', additional_kwargs={}, response_metadata={}, id='2a3a74cc-9f2b-41da-832b-54aa8ac26c99'),\n",
      "                  AIMessage(content='タスク分解とは、複雑なタスクを複数の小さくて簡単なステップに分解するプロセスです。これにより、モデルが「ステップごとに考える」ことで、より複雑な問題に取り組む際のパフォーマンスを向上させることができます。タスク分解は、問題を管理可能なタスクに変換し、モデルの思考プロセスを解釈する手助けをします。', additional_kwargs={}, response_metadata={}, id='8231aaa2-07c8-411b-9648-da005c4b48c6'),\n",
      "                  HumanMessage(content='それは一般的な手法ですか。', additional_kwargs={}, response_metadata={}, id='54bda561-66ba-4b68-a387-478efb90c6d9'),\n",
      "                  AIMessage(content='はい、タスク分解はChain of Thought (CoT) として知られ、多くの複雑なタスクにおいてモデルのパフォーマンスを向上させるための標準的な手法です。', additional_kwargs={}, response_metadata={}, id='fe44c9c3-c464-4ee7-b2aa-2ffe4d673d33')],\n",
      " 'context': [Document(id='7d4a10a8-ba11-4227-9158-e73256000ee4', metadata={'source': 'https://lilianweng.github.io/posts/2023-06-23-agent/', 'start_index': 2192}, page_content='Tree of Thoughts (Yao et al. 2023) extends CoT by exploring multiple reasoning possibilities at each step. It first decomposes the problem into multiple thought steps and generates multiple thoughts per step, creating a tree structure. The search process can be BFS (breadth-first search) or DFS (depth-first search) with each state evaluated by a classifier (via a prompt) or majority vote.\\nTask decomposition can be done (1) by LLM with simple prompting like \"Steps for XYZ.\\\\n1.\", \"What are the subgoals for achieving XYZ?\", (2) by using task-specific instructions; e.g. \"Write a story outline.\" for writing a novel, or (3) with human inputs.'),\n",
      "             Document(id='ece55ad6-392b-4fa1-985e-4aa11d080bfd', metadata={'source': 'https://lilianweng.github.io/posts/2023-06-23-agent/', 'start_index': 1585}, page_content='Fig. 1. Overview of a LLM-powered autonomous agent system.\\nComponent One: Planning#\\nA complicated task usually involves many steps. An agent needs to know what they are and plan ahead.\\nTask Decomposition#\\nChain of thought (CoT; Wei et al. 2022) has become a standard prompting technique for enhancing model performance on complex tasks. The model is instructed to “think step by step” to utilize more test-time computation to decompose hard tasks into smaller and simpler steps. CoT transforms big tasks into multiple manageable tasks and shed lights into an interpretation of the model’s thinking process.'),\n",
      "             Document(id='17fda699-b9b9-40ec-affd-784f4420496c', metadata={'source': 'https://lilianweng.github.io/posts/2023-06-23-agent/', 'start_index': 29630}, page_content='Resources:\\n1. Internet access for searches and information gathering.\\n2. Long Term memory management.\\n3. GPT-3.5 powered Agents for delegation of simple tasks.\\n4. File output.\\n\\nPerformance Evaluation:\\n1. Continuously review and analyze your actions to ensure you are performing to the best of your abilities.\\n2. Constructively self-criticize your big-picture behavior constantly.\\n3. Reflect on past decisions and strategies to refine your approach.\\n4. Every command has a cost, so be smart and efficient. Aim to complete tasks in the least number of steps.'),\n",
      "             Document(id='745d4fbf-639a-4a77-9e5a-907720950397', metadata={'source': 'https://lilianweng.github.io/posts/2023-06-23-agent/', 'start_index': 14988}, page_content='Fig. 9. Comparison of MIPS algorithms, measured in recall@10. (Image source: Google Blog, 2020)\\nCheck more MIPS algorithms and performance comparison in ann-benchmarks.com.\\nComponent Three: Tool Use#\\nTool use is a remarkable and distinguishing characteristic of human beings. We create, modify and utilize external objects to do things that go beyond our physical and cognitive limits. Equipping LLMs with external tools can significantly extend the model capabilities.')],\n",
      " 'input': 'それは一般的な手法ですか。'}\n"
     ]
    }
   ],
   "source": [
    "result = app.invoke({\"input\": \"それは一般的な手法ですか。\"}, config=config)\n",
    "pprint(result)"
   ]
  },
  {
   "cell_type": "code",
   "execution_count": 112,
   "metadata": {},
   "outputs": [
    {
     "name": "stdout",
     "output_type": "stream",
     "text": [
      "================================\u001b[1m Human Message \u001b[0m=================================\n",
      "\n",
      "タスク分解とは何ですか。\n",
      "==================================\u001b[1m Ai Message \u001b[0m==================================\n",
      "\n",
      "タスク分解とは、複雑なタスクを複数の小さくて簡単なステップに分解するプロセスです。これにより、モデルが「ステップごとに考える」ことで、より複雑な問題に取り組む際のパフォーマンスを向上させることができます。タスク分解は、問題を管理可能なタスクに変換し、モデルの思考プロセスを解釈する手助けをします。\n",
      "================================\u001b[1m Human Message \u001b[0m=================================\n",
      "\n",
      "それは一般的な手法ですか。\n",
      "==================================\u001b[1m Ai Message \u001b[0m==================================\n",
      "\n",
      "はい、タスク分解はChain of Thought (CoT) として知られ、多くの複雑なタスクにおいてモデルのパフォーマンスを向上させるための標準的な手法です。\n"
     ]
    }
   ],
   "source": [
    "# Graphのステートから会話履歴を確認してみる\n",
    "chat_history = app.get_state(config).values[\"chat_history\"]\n",
    "for message in chat_history:\n",
    "    message.pretty_print()"
   ]
  },
  {
   "cell_type": "markdown",
   "metadata": {},
   "source": [
    "# ■ エージェントを利用したRetrieverの取得"
   ]
  },
  {
   "cell_type": "markdown",
   "metadata": {},
   "source": [
    "## 1. 検索ツール\n",
    "\n",
    "エージェントは「ツール」にアクセスし、その実行を管理できます。  \n",
    "今回はRetrieverをエージェントが使用できるLangChainツールに変換します。\n",
    "\n",
    "### [create_retriever_tool](https://python.langchain.com/api_reference/core/tools/langchain_core.tools.retriever.create_retriever_tool.html)  \n",
    "\n",
    "ドキュメントの検索を行うツールを作成します。  \n",
    "[Toolクラス](https://python.langchain.com/api_reference/core/tools/langchain_core.tools.simple.Tool.html#langchain_core.tools.simple.Tool) は LangChain の [Runnablesインターフェース](https://python.langchain.com/docs/concepts/runnables/) を実装しています。\n",
    "\n",
    "```python\n",
    "create_retriever_tool(\n",
    "  retriever: BaseRetriever,\n",
    "  name: str,\n",
    "  description: str,\n",
    "  *,\n",
    "  document_prompt: BasePromptTemplate | None = None,\n",
    "  document_separator: str = '\\n\\n'\n",
    ") -> Tool[source]:\n",
    "```"
   ]
  },
  {
   "cell_type": "code",
   "execution_count": 113,
   "metadata": {},
   "outputs": [],
   "source": [
    "from langchain.tools.retriever import create_retriever_tool\n",
    "\n",
    "tool = create_retriever_tool(\n",
    "    retriever=retriever,\n",
    "    name=\"blog_post_retriever\",\n",
    "    description=\"Autonomous Agentsブログ記事からの抜粋を検索して返します。\"\n",
    ")\n",
    "tools = [tool]"
   ]
  },
  {
   "cell_type": "code",
   "execution_count": 121,
   "metadata": {},
   "outputs": [
    {
     "data": {
      "text/plain": [
       "'Tree of Thoughts (Yao et al. 2023) extends CoT by exploring multiple reasoning possibilities at each step. It first decomposes the problem into multiple thought steps and generates multiple thoughts per step, creating a tree structure. The search process can be BFS (breadth-first search) or DFS (depth-first search) with each state evaluated by a classifier (via a prompt) or majority vote.\\nTask decomposition can be done (1) by LLM with simple prompting like \"Steps for XYZ.\\\\n1.\", \"What are the subgoals for achieving XYZ?\", (2) by using task-specific instructions; e.g. \"Write a story outline.\" for writing a novel, or (3) with human inputs.\\n\\nFig. 1. Overview of a LLM-powered autonomous agent system.\\nComponent One: Planning#\\nA complicated task usually involves many steps. An agent needs to know what they are and plan ahead.\\nTask Decomposition#\\nChain of thought (CoT; Wei et al. 2022) has become a standard prompting technique for enhancing model performance on complex tasks. The model is instructed to “think step by step” to utilize more test-time computation to decompose hard tasks into smaller and simpler steps. CoT transforms big tasks into multiple manageable tasks and shed lights into an interpretation of the model’s thinking process.\\n\\nThe AI assistant can parse user input to several tasks: [{\"task\": task, \"id\", task_id, \"dep\": dependency_task_ids, \"args\": {\"text\": text, \"image\": URL, \"audio\": URL, \"video\": URL}}]. The \"dep\" field denotes the id of the previous task which generates a new resource that the current task relies on. A special tag \"-task_id\" refers to the generated text image, audio and video in the dependency task with id as task_id. The task MUST be selected from the following options: {{ Available Task List }}. There is a logical relationship between tasks, please note their order. If the user input can\\'t be parsed, you need to reply empty JSON. Here are several cases for your reference: {{ Demonstrations }}. The chat history is recorded as {{ Chat History }}. From this chat history, you can find the path of the user-mentioned resources for your task planning.\\n\\nResources:\\n1. Internet access for searches and information gathering.\\n2. Long Term memory management.\\n3. GPT-3.5 powered Agents for delegation of simple tasks.\\n4. File output.\\n\\nPerformance Evaluation:\\n1. Continuously review and analyze your actions to ensure you are performing to the best of your abilities.\\n2. Constructively self-criticize your big-picture behavior constantly.\\n3. Reflect on past decisions and strategies to refine your approach.\\n4. Every command has a cost, so be smart and efficient. Aim to complete tasks in the least number of steps.'"
      ]
     },
     "execution_count": 121,
     "metadata": {},
     "output_type": "execute_result"
    }
   ],
   "source": [
    "# ToolはRunnablesなので実行可能\n",
    "tool.invoke(\"タスク分解\")"
   ]
  },
  {
   "cell_type": "markdown",
   "metadata": {},
   "source": [
    "## 2. エージェント\n",
    "\n",
    "ツールと LLM を定義したので、エージェントを作成できます。  \n",
    "エージェントの構築にはLangGraph を使用します。  \n",
    "現在、エージェントの構築には高レベルのインターフェイスを使用していますが、LangGraph の優れた点は、エージェント ロジックを変更する場合に備えて、この高レベルのインターフェイスが低レベルの高度に制御可能な API によってサポートされていることです。\n",
    "\n",
    "### [create_react_agent](https://langchain-ai.github.io/langgraph/reference/prebuilt/)\n",
    "\n",
    "ツール呼び出しを利用するチャットモデルで動作するグラフを作成します。\n",
    "\n",
    "- model: ツール呼び出しをサポートするチャットモデル\n",
    "- tools: ツールのリスト or ToolExecutor or ToolNode (`Union[ToolExecutor, Sequence[BaseTool], ToolNode]`)\n",
    "\n",
    "```python\n",
    "create_react_agent(\n",
    "  model: LanguageModelLike,\n",
    "  tools: Union[ToolExecutor, Sequence[BaseTool], ToolNode],\n",
    "  *,\n",
    "  state_schema: Optional[StateSchemaType] = None,\n",
    "  messages_modifier: Optional[MessagesModifier] = None,\n",
    "  state_modifier: Optional[StateModifier] = None,\n",
    "  checkpointer: Optional[Checkpointer] = None,\n",
    "  store: Optional[BaseStore] = None,\n",
    "  interrupt_before: Optional[list[str]] = None,\n",
    "  interrupt_after: Optional[list[str]] = None,\n",
    "  debug: bool = False\n",
    ") -> CompiledGraph\n",
    "```"
   ]
  },
  {
   "cell_type": "code",
   "execution_count": 133,
   "metadata": {},
   "outputs": [],
   "source": [
    "from langgraph.prebuilt import create_react_agent\n",
    "\n",
    "agent_executor = create_react_agent(model=llm, tools=tools)"
   ]
  },
  {
   "cell_type": "markdown",
   "metadata": {},
   "source": [
    "クエリをretrieverで検索してみる (今のところステートフルではない)"
   ]
  },
  {
   "cell_type": "code",
   "execution_count": 134,
   "metadata": {},
   "outputs": [
    {
     "name": "stdout",
     "output_type": "stream",
     "text": [
      "================================\u001b[1m Human Message \u001b[0m=================================\n",
      "\n",
      "タスク分解とは何ですか。\n",
      "==================================\u001b[1m Ai Message \u001b[0m==================================\n",
      "Tool Calls:\n",
      "  blog_post_retriever (call_RnPMtiUBi6XBcytuGYFt1q1o)\n",
      " Call ID: call_RnPMtiUBi6XBcytuGYFt1q1o\n",
      "  Args:\n",
      "    query: タスク分解\n",
      "=================================\u001b[1m Tool Message \u001b[0m=================================\n",
      "Name: blog_post_retriever\n",
      "\n",
      "Tree of Thoughts (Yao et al. 2023) extends CoT by exploring multiple reasoning possibilities at each step. It first decomposes the problem into multiple thought steps and generates multiple thoughts per step, creating a tree structure. The search process can be BFS (breadth-first search) or DFS (depth-first search) with each state evaluated by a classifier (via a prompt) or majority vote.\n",
      "Task decomposition can be done (1) by LLM with simple prompting like \"Steps for XYZ.\\n1.\", \"What are the subgoals for achieving XYZ?\", (2) by using task-specific instructions; e.g. \"Write a story outline.\" for writing a novel, or (3) with human inputs.\n",
      "\n",
      "Fig. 1. Overview of a LLM-powered autonomous agent system.\n",
      "Component One: Planning#\n",
      "A complicated task usually involves many steps. An agent needs to know what they are and plan ahead.\n",
      "Task Decomposition#\n",
      "Chain of thought (CoT; Wei et al. 2022) has become a standard prompting technique for enhancing model performance on complex tasks. The model is instructed to “think step by step” to utilize more test-time computation to decompose hard tasks into smaller and simpler steps. CoT transforms big tasks into multiple manageable tasks and shed lights into an interpretation of the model’s thinking process.\n",
      "\n",
      "The AI assistant can parse user input to several tasks: [{\"task\": task, \"id\", task_id, \"dep\": dependency_task_ids, \"args\": {\"text\": text, \"image\": URL, \"audio\": URL, \"video\": URL}}]. The \"dep\" field denotes the id of the previous task which generates a new resource that the current task relies on. A special tag \"-task_id\" refers to the generated text image, audio and video in the dependency task with id as task_id. The task MUST be selected from the following options: {{ Available Task List }}. There is a logical relationship between tasks, please note their order. If the user input can't be parsed, you need to reply empty JSON. Here are several cases for your reference: {{ Demonstrations }}. The chat history is recorded as {{ Chat History }}. From this chat history, you can find the path of the user-mentioned resources for your task planning.\n",
      "\n",
      "Resources:\n",
      "1. Internet access for searches and information gathering.\n",
      "2. Long Term memory management.\n",
      "3. GPT-3.5 powered Agents for delegation of simple tasks.\n",
      "4. File output.\n",
      "\n",
      "Performance Evaluation:\n",
      "1. Continuously review and analyze your actions to ensure you are performing to the best of your abilities.\n",
      "2. Constructively self-criticize your big-picture behavior constantly.\n",
      "3. Reflect on past decisions and strategies to refine your approach.\n",
      "4. Every command has a cost, so be smart and efficient. Aim to complete tasks in the least number of steps.\n",
      "==================================\u001b[1m Ai Message \u001b[0m==================================\n",
      "\n",
      "タスク分解とは、複雑なタスクをより小さく、管理しやすいステップに分けるプロセスです。これにより、タスクを段階的に実行しやすくなり、全体の進行状況を把握しやすくなります。具体的には、以下のような方法で行われます：\n",
      "\n",
      "1. **ステップごとの思考**: タスクを「ステップバイステップ」で考えるように指示し、複雑な問題を複数の思考ステップに分解します。\n",
      "2. **サブゴールの設定**: 大きな目標を達成するための小さな目標（サブゴール）を設定します。\n",
      "3. **人間の入力**: 人間が具体的な指示を与えることで、タスクを分解することも可能です。\n",
      "\n",
      "タスク分解は、AIアシスタントや自律エージェントがユーザーの入力を解析し、依存関係を考慮しながらタスクを整理する際にも利用されます。このプロセスは、タスクの実行を効率化し、モデルの思考過程を明確にするために重要です。\n"
     ]
    }
   ],
   "source": [
    "query = \"タスク分解とは何ですか。\"\n",
    "events = agent_executor.stream(\n",
    "    {\"messages\": [HumanMessage(content=query)]},\n",
    "    stream_mode=\"values\"\n",
    ")\n",
    "\n",
    "for event in events:\n",
    "    event[\"messages\"][-1].pretty_print()"
   ]
  },
  {
   "cell_type": "markdown",
   "metadata": {},
   "source": [
    "LangGraph の組み込みの永続性を利用して、ステートフルな更新をメモリに保存することもできます。"
   ]
  },
  {
   "cell_type": "code",
   "execution_count": 135,
   "metadata": {},
   "outputs": [],
   "source": [
    "from langgraph.checkpoint.memory import MemorySaver\n",
    "\n",
    "memory = MemorySaver()\n",
    "agent_executor = create_react_agent(llm, tools, checkpointer=memory)"
   ]
  },
  {
   "cell_type": "markdown",
   "metadata": {},
   "source": [
    "その動作を観察してみましょう。\n",
    "取得ステップを必要としないクエリを入力した場合、エージェントは取得ステップを実行しないことに注意してください。"
   ]
  },
  {
   "cell_type": "code",
   "execution_count": 137,
   "metadata": {},
   "outputs": [
    {
     "name": "stdout",
     "output_type": "stream",
     "text": [
      "================================\u001b[1m Human Message \u001b[0m=================================\n",
      "\n",
      "Hi! I'm bob\n",
      "==================================\u001b[1m Ai Message \u001b[0m==================================\n",
      "\n",
      "Hi again, Bob! How can I help you today?\n"
     ]
    }
   ],
   "source": [
    "config = RunnableConfig(configurable={\"thread_id\": \"abc123\"})\n",
    "\n",
    "events = agent_executor.stream(\n",
    "    {\"messages\": [HumanMessage(content=\"Hi! I'm bob\")]},\n",
    "    config=config,\n",
    "    stream_mode=\"values\"\n",
    ")\n",
    "\n",
    "for event in events:\n",
    "    event[\"messages\"][-1].pretty_print()"
   ]
  },
  {
   "cell_type": "markdown",
   "metadata": {},
   "source": [
    "さらに、検索ステップを必要とするクエリを入力すると、エージェントはツールへの入力を生成します。\n",
    "\n",
    "下記の例では、クエリをそのままツールに挿入するのではなく、エージェントは「what」や「is」などの不要な単語を削除しました。"
   ]
  },
  {
   "cell_type": "code",
   "execution_count": 138,
   "metadata": {},
   "outputs": [
    {
     "name": "stdout",
     "output_type": "stream",
     "text": [
      "{'messages': [HumanMessage(content=\"Hi! I'm bob\", additional_kwargs={}, response_metadata={}, id='295835c1-4f95-4b90-ade0-75c942516df0'),\n",
      "              AIMessage(content='Hello Bob! How can I assist you today?', additional_kwargs={'refusal': None}, response_metadata={'token_usage': {'completion_tokens': 11, 'prompt_tokens': 67, 'total_tokens': 78, 'completion_tokens_details': {'accepted_prediction_tokens': 0, 'audio_tokens': 0, 'reasoning_tokens': 0, 'rejected_prediction_tokens': 0}, 'prompt_tokens_details': {'audio_tokens': 0, 'cached_tokens': 0}}, 'model_name': 'gpt-4o-mini-2024-07-18', 'system_fingerprint': 'fp_0ba0d124f1', 'finish_reason': 'stop', 'logprobs': None}, id='run-72733a7e-4903-4cbd-acec-5302792cd029-0', usage_metadata={'input_tokens': 67, 'output_tokens': 11, 'total_tokens': 78, 'input_token_details': {'audio': 0, 'cache_read': 0}, 'output_token_details': {'audio': 0, 'reasoning': 0}}),\n",
      "              HumanMessage(content=\"Hi! I'm bob\", additional_kwargs={}, response_metadata={}, id='6a2ab361-bd9a-43f2-9e8d-bfb2ce57a45b'),\n",
      "              AIMessage(content='Hi again, Bob! How can I help you today?', additional_kwargs={'refusal': None}, response_metadata={'token_usage': {'completion_tokens': 13, 'prompt_tokens': 89, 'total_tokens': 102, 'completion_tokens_details': {'accepted_prediction_tokens': 0, 'audio_tokens': 0, 'reasoning_tokens': 0, 'rejected_prediction_tokens': 0}, 'prompt_tokens_details': {'audio_tokens': 0, 'cached_tokens': 0}}, 'model_name': 'gpt-4o-mini-2024-07-18', 'system_fingerprint': 'fp_0ba0d124f1', 'finish_reason': 'stop', 'logprobs': None}, id='run-334274cf-fc0c-466b-b169-649d6b39673d-0', usage_metadata={'input_tokens': 89, 'output_tokens': 13, 'total_tokens': 102, 'input_token_details': {'audio': 0, 'cache_read': 0}, 'output_token_details': {'audio': 0, 'reasoning': 0}}),\n",
      "              HumanMessage(content='タスク分解とは何ですか。', additional_kwargs={}, response_metadata={}, id='0e5e12ea-994d-4e9d-ad0a-7edc5df0a6a8')]}\n",
      "================================================================\n",
      "{'messages': [HumanMessage(content=\"Hi! I'm bob\", additional_kwargs={}, response_metadata={}, id='295835c1-4f95-4b90-ade0-75c942516df0'),\n",
      "              AIMessage(content='Hello Bob! How can I assist you today?', additional_kwargs={'refusal': None}, response_metadata={'token_usage': {'completion_tokens': 11, 'prompt_tokens': 67, 'total_tokens': 78, 'completion_tokens_details': {'accepted_prediction_tokens': 0, 'audio_tokens': 0, 'reasoning_tokens': 0, 'rejected_prediction_tokens': 0}, 'prompt_tokens_details': {'audio_tokens': 0, 'cached_tokens': 0}}, 'model_name': 'gpt-4o-mini-2024-07-18', 'system_fingerprint': 'fp_0ba0d124f1', 'finish_reason': 'stop', 'logprobs': None}, id='run-72733a7e-4903-4cbd-acec-5302792cd029-0', usage_metadata={'input_tokens': 67, 'output_tokens': 11, 'total_tokens': 78, 'input_token_details': {'audio': 0, 'cache_read': 0}, 'output_token_details': {'audio': 0, 'reasoning': 0}}),\n",
      "              HumanMessage(content=\"Hi! I'm bob\", additional_kwargs={}, response_metadata={}, id='6a2ab361-bd9a-43f2-9e8d-bfb2ce57a45b'),\n",
      "              AIMessage(content='Hi again, Bob! How can I help you today?', additional_kwargs={'refusal': None}, response_metadata={'token_usage': {'completion_tokens': 13, 'prompt_tokens': 89, 'total_tokens': 102, 'completion_tokens_details': {'accepted_prediction_tokens': 0, 'audio_tokens': 0, 'reasoning_tokens': 0, 'rejected_prediction_tokens': 0}, 'prompt_tokens_details': {'audio_tokens': 0, 'cached_tokens': 0}}, 'model_name': 'gpt-4o-mini-2024-07-18', 'system_fingerprint': 'fp_0ba0d124f1', 'finish_reason': 'stop', 'logprobs': None}, id='run-334274cf-fc0c-466b-b169-649d6b39673d-0', usage_metadata={'input_tokens': 89, 'output_tokens': 13, 'total_tokens': 102, 'input_token_details': {'audio': 0, 'cache_read': 0}, 'output_token_details': {'audio': 0, 'reasoning': 0}}),\n",
      "              HumanMessage(content='タスク分解とは何ですか。', additional_kwargs={}, response_metadata={}, id='0e5e12ea-994d-4e9d-ad0a-7edc5df0a6a8'),\n",
      "              AIMessage(content='', additional_kwargs={'tool_calls': [{'id': 'call_RsDalklXvPbvYMjSlApDweUH', 'function': {'arguments': '{\"query\":\"タスク分解\"}', 'name': 'blog_post_retriever'}, 'type': 'function'}], 'refusal': None}, response_metadata={'token_usage': {'completion_tokens': 20, 'prompt_tokens': 118, 'total_tokens': 138, 'completion_tokens_details': {'accepted_prediction_tokens': 0, 'audio_tokens': 0, 'reasoning_tokens': 0, 'rejected_prediction_tokens': 0}, 'prompt_tokens_details': {'audio_tokens': 0, 'cached_tokens': 0}}, 'model_name': 'gpt-4o-mini-2024-07-18', 'system_fingerprint': 'fp_9b78b61c52', 'finish_reason': 'tool_calls', 'logprobs': None}, id='run-cec9a5cf-36a1-451f-8c62-8223535293fc-0', tool_calls=[{'name': 'blog_post_retriever', 'args': {'query': 'タスク分解'}, 'id': 'call_RsDalklXvPbvYMjSlApDweUH', 'type': 'tool_call'}], usage_metadata={'input_tokens': 118, 'output_tokens': 20, 'total_tokens': 138, 'input_token_details': {'audio': 0, 'cache_read': 0}, 'output_token_details': {'audio': 0, 'reasoning': 0}})]}\n",
      "================================================================\n",
      "{'messages': [HumanMessage(content=\"Hi! I'm bob\", additional_kwargs={}, response_metadata={}, id='295835c1-4f95-4b90-ade0-75c942516df0'),\n",
      "              AIMessage(content='Hello Bob! How can I assist you today?', additional_kwargs={'refusal': None}, response_metadata={'token_usage': {'completion_tokens': 11, 'prompt_tokens': 67, 'total_tokens': 78, 'completion_tokens_details': {'accepted_prediction_tokens': 0, 'audio_tokens': 0, 'reasoning_tokens': 0, 'rejected_prediction_tokens': 0}, 'prompt_tokens_details': {'audio_tokens': 0, 'cached_tokens': 0}}, 'model_name': 'gpt-4o-mini-2024-07-18', 'system_fingerprint': 'fp_0ba0d124f1', 'finish_reason': 'stop', 'logprobs': None}, id='run-72733a7e-4903-4cbd-acec-5302792cd029-0', usage_metadata={'input_tokens': 67, 'output_tokens': 11, 'total_tokens': 78, 'input_token_details': {'audio': 0, 'cache_read': 0}, 'output_token_details': {'audio': 0, 'reasoning': 0}}),\n",
      "              HumanMessage(content=\"Hi! I'm bob\", additional_kwargs={}, response_metadata={}, id='6a2ab361-bd9a-43f2-9e8d-bfb2ce57a45b'),\n",
      "              AIMessage(content='Hi again, Bob! How can I help you today?', additional_kwargs={'refusal': None}, response_metadata={'token_usage': {'completion_tokens': 13, 'prompt_tokens': 89, 'total_tokens': 102, 'completion_tokens_details': {'accepted_prediction_tokens': 0, 'audio_tokens': 0, 'reasoning_tokens': 0, 'rejected_prediction_tokens': 0}, 'prompt_tokens_details': {'audio_tokens': 0, 'cached_tokens': 0}}, 'model_name': 'gpt-4o-mini-2024-07-18', 'system_fingerprint': 'fp_0ba0d124f1', 'finish_reason': 'stop', 'logprobs': None}, id='run-334274cf-fc0c-466b-b169-649d6b39673d-0', usage_metadata={'input_tokens': 89, 'output_tokens': 13, 'total_tokens': 102, 'input_token_details': {'audio': 0, 'cache_read': 0}, 'output_token_details': {'audio': 0, 'reasoning': 0}}),\n",
      "              HumanMessage(content='タスク分解とは何ですか。', additional_kwargs={}, response_metadata={}, id='0e5e12ea-994d-4e9d-ad0a-7edc5df0a6a8'),\n",
      "              AIMessage(content='', additional_kwargs={'tool_calls': [{'id': 'call_RsDalklXvPbvYMjSlApDweUH', 'function': {'arguments': '{\"query\":\"タスク分解\"}', 'name': 'blog_post_retriever'}, 'type': 'function'}], 'refusal': None}, response_metadata={'token_usage': {'completion_tokens': 20, 'prompt_tokens': 118, 'total_tokens': 138, 'completion_tokens_details': {'accepted_prediction_tokens': 0, 'audio_tokens': 0, 'reasoning_tokens': 0, 'rejected_prediction_tokens': 0}, 'prompt_tokens_details': {'audio_tokens': 0, 'cached_tokens': 0}}, 'model_name': 'gpt-4o-mini-2024-07-18', 'system_fingerprint': 'fp_9b78b61c52', 'finish_reason': 'tool_calls', 'logprobs': None}, id='run-cec9a5cf-36a1-451f-8c62-8223535293fc-0', tool_calls=[{'name': 'blog_post_retriever', 'args': {'query': 'タスク分解'}, 'id': 'call_RsDalklXvPbvYMjSlApDweUH', 'type': 'tool_call'}], usage_metadata={'input_tokens': 118, 'output_tokens': 20, 'total_tokens': 138, 'input_token_details': {'audio': 0, 'cache_read': 0}, 'output_token_details': {'audio': 0, 'reasoning': 0}}),\n",
      "              ToolMessage(content='Tree of Thoughts (Yao et al. 2023) extends CoT by exploring multiple reasoning possibilities at each step. It first decomposes the problem into multiple thought steps and generates multiple thoughts per step, creating a tree structure. The search process can be BFS (breadth-first search) or DFS (depth-first search) with each state evaluated by a classifier (via a prompt) or majority vote.\\nTask decomposition can be done (1) by LLM with simple prompting like \"Steps for XYZ.\\\\n1.\", \"What are the subgoals for achieving XYZ?\", (2) by using task-specific instructions; e.g. \"Write a story outline.\" for writing a novel, or (3) with human inputs.\\n\\nFig. 1. Overview of a LLM-powered autonomous agent system.\\nComponent One: Planning#\\nA complicated task usually involves many steps. An agent needs to know what they are and plan ahead.\\nTask Decomposition#\\nChain of thought (CoT; Wei et al. 2022) has become a standard prompting technique for enhancing model performance on complex tasks. The model is instructed to “think step by step” to utilize more test-time computation to decompose hard tasks into smaller and simpler steps. CoT transforms big tasks into multiple manageable tasks and shed lights into an interpretation of the model’s thinking process.\\n\\nThe AI assistant can parse user input to several tasks: [{\"task\": task, \"id\", task_id, \"dep\": dependency_task_ids, \"args\": {\"text\": text, \"image\": URL, \"audio\": URL, \"video\": URL}}]. The \"dep\" field denotes the id of the previous task which generates a new resource that the current task relies on. A special tag \"-task_id\" refers to the generated text image, audio and video in the dependency task with id as task_id. The task MUST be selected from the following options: {{ Available Task List }}. There is a logical relationship between tasks, please note their order. If the user input can\\'t be parsed, you need to reply empty JSON. Here are several cases for your reference: {{ Demonstrations }}. The chat history is recorded as {{ Chat History }}. From this chat history, you can find the path of the user-mentioned resources for your task planning.\\n\\nResources:\\n1. Internet access for searches and information gathering.\\n2. Long Term memory management.\\n3. GPT-3.5 powered Agents for delegation of simple tasks.\\n4. File output.\\n\\nPerformance Evaluation:\\n1. Continuously review and analyze your actions to ensure you are performing to the best of your abilities.\\n2. Constructively self-criticize your big-picture behavior constantly.\\n3. Reflect on past decisions and strategies to refine your approach.\\n4. Every command has a cost, so be smart and efficient. Aim to complete tasks in the least number of steps.', name='blog_post_retriever', id='2bd2850f-c8d2-4fa1-9b37-2a4df18ce7ae', tool_call_id='call_RsDalklXvPbvYMjSlApDweUH')]}\n",
      "================================================================\n",
      "{'messages': [HumanMessage(content=\"Hi! I'm bob\", additional_kwargs={}, response_metadata={}, id='295835c1-4f95-4b90-ade0-75c942516df0'),\n",
      "              AIMessage(content='Hello Bob! How can I assist you today?', additional_kwargs={'refusal': None}, response_metadata={'token_usage': {'completion_tokens': 11, 'prompt_tokens': 67, 'total_tokens': 78, 'completion_tokens_details': {'accepted_prediction_tokens': 0, 'audio_tokens': 0, 'reasoning_tokens': 0, 'rejected_prediction_tokens': 0}, 'prompt_tokens_details': {'audio_tokens': 0, 'cached_tokens': 0}}, 'model_name': 'gpt-4o-mini-2024-07-18', 'system_fingerprint': 'fp_0ba0d124f1', 'finish_reason': 'stop', 'logprobs': None}, id='run-72733a7e-4903-4cbd-acec-5302792cd029-0', usage_metadata={'input_tokens': 67, 'output_tokens': 11, 'total_tokens': 78, 'input_token_details': {'audio': 0, 'cache_read': 0}, 'output_token_details': {'audio': 0, 'reasoning': 0}}),\n",
      "              HumanMessage(content=\"Hi! I'm bob\", additional_kwargs={}, response_metadata={}, id='6a2ab361-bd9a-43f2-9e8d-bfb2ce57a45b'),\n",
      "              AIMessage(content='Hi again, Bob! How can I help you today?', additional_kwargs={'refusal': None}, response_metadata={'token_usage': {'completion_tokens': 13, 'prompt_tokens': 89, 'total_tokens': 102, 'completion_tokens_details': {'accepted_prediction_tokens': 0, 'audio_tokens': 0, 'reasoning_tokens': 0, 'rejected_prediction_tokens': 0}, 'prompt_tokens_details': {'audio_tokens': 0, 'cached_tokens': 0}}, 'model_name': 'gpt-4o-mini-2024-07-18', 'system_fingerprint': 'fp_0ba0d124f1', 'finish_reason': 'stop', 'logprobs': None}, id='run-334274cf-fc0c-466b-b169-649d6b39673d-0', usage_metadata={'input_tokens': 89, 'output_tokens': 13, 'total_tokens': 102, 'input_token_details': {'audio': 0, 'cache_read': 0}, 'output_token_details': {'audio': 0, 'reasoning': 0}}),\n",
      "              HumanMessage(content='タスク分解とは何ですか。', additional_kwargs={}, response_metadata={}, id='0e5e12ea-994d-4e9d-ad0a-7edc5df0a6a8'),\n",
      "              AIMessage(content='', additional_kwargs={'tool_calls': [{'id': 'call_RsDalklXvPbvYMjSlApDweUH', 'function': {'arguments': '{\"query\":\"タスク分解\"}', 'name': 'blog_post_retriever'}, 'type': 'function'}], 'refusal': None}, response_metadata={'token_usage': {'completion_tokens': 20, 'prompt_tokens': 118, 'total_tokens': 138, 'completion_tokens_details': {'accepted_prediction_tokens': 0, 'audio_tokens': 0, 'reasoning_tokens': 0, 'rejected_prediction_tokens': 0}, 'prompt_tokens_details': {'audio_tokens': 0, 'cached_tokens': 0}}, 'model_name': 'gpt-4o-mini-2024-07-18', 'system_fingerprint': 'fp_9b78b61c52', 'finish_reason': 'tool_calls', 'logprobs': None}, id='run-cec9a5cf-36a1-451f-8c62-8223535293fc-0', tool_calls=[{'name': 'blog_post_retriever', 'args': {'query': 'タスク分解'}, 'id': 'call_RsDalklXvPbvYMjSlApDweUH', 'type': 'tool_call'}], usage_metadata={'input_tokens': 118, 'output_tokens': 20, 'total_tokens': 138, 'input_token_details': {'audio': 0, 'cache_read': 0}, 'output_token_details': {'audio': 0, 'reasoning': 0}}),\n",
      "              ToolMessage(content='Tree of Thoughts (Yao et al. 2023) extends CoT by exploring multiple reasoning possibilities at each step. It first decomposes the problem into multiple thought steps and generates multiple thoughts per step, creating a tree structure. The search process can be BFS (breadth-first search) or DFS (depth-first search) with each state evaluated by a classifier (via a prompt) or majority vote.\\nTask decomposition can be done (1) by LLM with simple prompting like \"Steps for XYZ.\\\\n1.\", \"What are the subgoals for achieving XYZ?\", (2) by using task-specific instructions; e.g. \"Write a story outline.\" for writing a novel, or (3) with human inputs.\\n\\nFig. 1. Overview of a LLM-powered autonomous agent system.\\nComponent One: Planning#\\nA complicated task usually involves many steps. An agent needs to know what they are and plan ahead.\\nTask Decomposition#\\nChain of thought (CoT; Wei et al. 2022) has become a standard prompting technique for enhancing model performance on complex tasks. The model is instructed to “think step by step” to utilize more test-time computation to decompose hard tasks into smaller and simpler steps. CoT transforms big tasks into multiple manageable tasks and shed lights into an interpretation of the model’s thinking process.\\n\\nThe AI assistant can parse user input to several tasks: [{\"task\": task, \"id\", task_id, \"dep\": dependency_task_ids, \"args\": {\"text\": text, \"image\": URL, \"audio\": URL, \"video\": URL}}]. The \"dep\" field denotes the id of the previous task which generates a new resource that the current task relies on. A special tag \"-task_id\" refers to the generated text image, audio and video in the dependency task with id as task_id. The task MUST be selected from the following options: {{ Available Task List }}. There is a logical relationship between tasks, please note their order. If the user input can\\'t be parsed, you need to reply empty JSON. Here are several cases for your reference: {{ Demonstrations }}. The chat history is recorded as {{ Chat History }}. From this chat history, you can find the path of the user-mentioned resources for your task planning.\\n\\nResources:\\n1. Internet access for searches and information gathering.\\n2. Long Term memory management.\\n3. GPT-3.5 powered Agents for delegation of simple tasks.\\n4. File output.\\n\\nPerformance Evaluation:\\n1. Continuously review and analyze your actions to ensure you are performing to the best of your abilities.\\n2. Constructively self-criticize your big-picture behavior constantly.\\n3. Reflect on past decisions and strategies to refine your approach.\\n4. Every command has a cost, so be smart and efficient. Aim to complete tasks in the least number of steps.', name='blog_post_retriever', id='2bd2850f-c8d2-4fa1-9b37-2a4df18ce7ae', tool_call_id='call_RsDalklXvPbvYMjSlApDweUH'),\n",
      "              AIMessage(content='タスク分解とは、複雑なタスクをより小さく、管理しやすいステップに分けるプロセスです。これにより、タスクを段階的に実行しやすくなり、全体の進行状況を把握しやすくなります。\\n\\n具体的には、以下のような方法でタスク分解が行われます：\\n\\n1. **シンプルなプロンプトを使用**: 例えば、「XYZのためのステップは何ですか？」や「XYZを達成するためのサブゴールは何ですか？」といった質問を通じて、タスクを分解します。\\n\\n2. **タスク特有の指示を使用**: 例えば、「小説のアウトラインを書いてください」といった具体的な指示を与えることで、特定のタスクに対する分解を行います。\\n\\n3. **人間の入力を利用**: ユーザーからのフィードバックや指示を基にタスクを分解することもあります。\\n\\nタスク分解は、特に複雑な問題を解決する際に有効であり、思考過程を明確にし、モデルのパフォーマンスを向上させるための重要な手法です。', additional_kwargs={'refusal': None}, response_metadata={'token_usage': {'completion_tokens': 295, 'prompt_tokens': 726, 'total_tokens': 1021, 'completion_tokens_details': {'accepted_prediction_tokens': 0, 'audio_tokens': 0, 'reasoning_tokens': 0, 'rejected_prediction_tokens': 0}, 'prompt_tokens_details': {'audio_tokens': 0, 'cached_tokens': 0}}, 'model_name': 'gpt-4o-mini-2024-07-18', 'system_fingerprint': 'fp_0ba0d124f1', 'finish_reason': 'stop', 'logprobs': None}, id='run-19aeb054-c85a-4685-9192-6e91d5db5c32-0', usage_metadata={'input_tokens': 726, 'output_tokens': 295, 'total_tokens': 1021, 'input_token_details': {'audio': 0, 'cache_read': 0}, 'output_token_details': {'audio': 0, 'reasoning': 0}})]}\n",
      "================================================================\n"
     ]
    }
   ],
   "source": [
    "query = \"タスク分解とは何ですか。\"\n",
    "events = agent_executor.stream(\n",
    "    {\"messages\": [HumanMessage(content=query)]},\n",
    "    config=config,\n",
    "    stream_mode=\"values\"\n",
    ")\n",
    "\n",
    "for event in events:\n",
    "    pprint(event)\n",
    "    print(\"================================================================\")\n",
    "    #event[\"messages\"][-1].pretty_print()"
   ]
  },
  {
   "cell_type": "markdown",
   "metadata": {},
   "source": [
    "この同じ原則により、エージェントは必要に応じて会話のコンテキストを使用できます。\n",
    "\n",
    "エージェントは、クエリ内の「it」が「タスク分解」を指していると推測し、結果として適切な検索クエリ (この場合は「タスク分解の一般的な方法」) を生成したことに注意してください。"
   ]
  },
  {
   "cell_type": "code",
   "execution_count": 139,
   "metadata": {},
   "outputs": [
    {
     "name": "stdout",
     "output_type": "stream",
     "text": [
      "{'messages': [HumanMessage(content=\"Hi! I'm bob\", additional_kwargs={}, response_metadata={}, id='295835c1-4f95-4b90-ade0-75c942516df0'),\n",
      "              AIMessage(content='Hello Bob! How can I assist you today?', additional_kwargs={'refusal': None}, response_metadata={'token_usage': {'completion_tokens': 11, 'prompt_tokens': 67, 'total_tokens': 78, 'completion_tokens_details': {'accepted_prediction_tokens': 0, 'audio_tokens': 0, 'reasoning_tokens': 0, 'rejected_prediction_tokens': 0}, 'prompt_tokens_details': {'audio_tokens': 0, 'cached_tokens': 0}}, 'model_name': 'gpt-4o-mini-2024-07-18', 'system_fingerprint': 'fp_0ba0d124f1', 'finish_reason': 'stop', 'logprobs': None}, id='run-72733a7e-4903-4cbd-acec-5302792cd029-0', usage_metadata={'input_tokens': 67, 'output_tokens': 11, 'total_tokens': 78, 'input_token_details': {'audio': 0, 'cache_read': 0}, 'output_token_details': {'audio': 0, 'reasoning': 0}}),\n",
      "              HumanMessage(content=\"Hi! I'm bob\", additional_kwargs={}, response_metadata={}, id='6a2ab361-bd9a-43f2-9e8d-bfb2ce57a45b'),\n",
      "              AIMessage(content='Hi again, Bob! How can I help you today?', additional_kwargs={'refusal': None}, response_metadata={'token_usage': {'completion_tokens': 13, 'prompt_tokens': 89, 'total_tokens': 102, 'completion_tokens_details': {'accepted_prediction_tokens': 0, 'audio_tokens': 0, 'reasoning_tokens': 0, 'rejected_prediction_tokens': 0}, 'prompt_tokens_details': {'audio_tokens': 0, 'cached_tokens': 0}}, 'model_name': 'gpt-4o-mini-2024-07-18', 'system_fingerprint': 'fp_0ba0d124f1', 'finish_reason': 'stop', 'logprobs': None}, id='run-334274cf-fc0c-466b-b169-649d6b39673d-0', usage_metadata={'input_tokens': 89, 'output_tokens': 13, 'total_tokens': 102, 'input_token_details': {'audio': 0, 'cache_read': 0}, 'output_token_details': {'audio': 0, 'reasoning': 0}}),\n",
      "              HumanMessage(content='タスク分解とは何ですか。', additional_kwargs={}, response_metadata={}, id='0e5e12ea-994d-4e9d-ad0a-7edc5df0a6a8'),\n",
      "              AIMessage(content='', additional_kwargs={'tool_calls': [{'id': 'call_RsDalklXvPbvYMjSlApDweUH', 'function': {'arguments': '{\"query\":\"タスク分解\"}', 'name': 'blog_post_retriever'}, 'type': 'function'}], 'refusal': None}, response_metadata={'token_usage': {'completion_tokens': 20, 'prompt_tokens': 118, 'total_tokens': 138, 'completion_tokens_details': {'accepted_prediction_tokens': 0, 'audio_tokens': 0, 'reasoning_tokens': 0, 'rejected_prediction_tokens': 0}, 'prompt_tokens_details': {'audio_tokens': 0, 'cached_tokens': 0}}, 'model_name': 'gpt-4o-mini-2024-07-18', 'system_fingerprint': 'fp_9b78b61c52', 'finish_reason': 'tool_calls', 'logprobs': None}, id='run-cec9a5cf-36a1-451f-8c62-8223535293fc-0', tool_calls=[{'name': 'blog_post_retriever', 'args': {'query': 'タスク分解'}, 'id': 'call_RsDalklXvPbvYMjSlApDweUH', 'type': 'tool_call'}], usage_metadata={'input_tokens': 118, 'output_tokens': 20, 'total_tokens': 138, 'input_token_details': {'audio': 0, 'cache_read': 0}, 'output_token_details': {'audio': 0, 'reasoning': 0}}),\n",
      "              ToolMessage(content='Tree of Thoughts (Yao et al. 2023) extends CoT by exploring multiple reasoning possibilities at each step. It first decomposes the problem into multiple thought steps and generates multiple thoughts per step, creating a tree structure. The search process can be BFS (breadth-first search) or DFS (depth-first search) with each state evaluated by a classifier (via a prompt) or majority vote.\\nTask decomposition can be done (1) by LLM with simple prompting like \"Steps for XYZ.\\\\n1.\", \"What are the subgoals for achieving XYZ?\", (2) by using task-specific instructions; e.g. \"Write a story outline.\" for writing a novel, or (3) with human inputs.\\n\\nFig. 1. Overview of a LLM-powered autonomous agent system.\\nComponent One: Planning#\\nA complicated task usually involves many steps. An agent needs to know what they are and plan ahead.\\nTask Decomposition#\\nChain of thought (CoT; Wei et al. 2022) has become a standard prompting technique for enhancing model performance on complex tasks. The model is instructed to “think step by step” to utilize more test-time computation to decompose hard tasks into smaller and simpler steps. CoT transforms big tasks into multiple manageable tasks and shed lights into an interpretation of the model’s thinking process.\\n\\nThe AI assistant can parse user input to several tasks: [{\"task\": task, \"id\", task_id, \"dep\": dependency_task_ids, \"args\": {\"text\": text, \"image\": URL, \"audio\": URL, \"video\": URL}}]. The \"dep\" field denotes the id of the previous task which generates a new resource that the current task relies on. A special tag \"-task_id\" refers to the generated text image, audio and video in the dependency task with id as task_id. The task MUST be selected from the following options: {{ Available Task List }}. There is a logical relationship between tasks, please note their order. If the user input can\\'t be parsed, you need to reply empty JSON. Here are several cases for your reference: {{ Demonstrations }}. The chat history is recorded as {{ Chat History }}. From this chat history, you can find the path of the user-mentioned resources for your task planning.\\n\\nResources:\\n1. Internet access for searches and information gathering.\\n2. Long Term memory management.\\n3. GPT-3.5 powered Agents for delegation of simple tasks.\\n4. File output.\\n\\nPerformance Evaluation:\\n1. Continuously review and analyze your actions to ensure you are performing to the best of your abilities.\\n2. Constructively self-criticize your big-picture behavior constantly.\\n3. Reflect on past decisions and strategies to refine your approach.\\n4. Every command has a cost, so be smart and efficient. Aim to complete tasks in the least number of steps.', name='blog_post_retriever', id='2bd2850f-c8d2-4fa1-9b37-2a4df18ce7ae', tool_call_id='call_RsDalklXvPbvYMjSlApDweUH'),\n",
      "              AIMessage(content='タスク分解とは、複雑なタスクをより小さく、管理しやすいステップに分けるプロセスです。これにより、タスクを段階的に実行しやすくなり、全体の進行状況を把握しやすくなります。\\n\\n具体的には、以下のような方法でタスク分解が行われます：\\n\\n1. **シンプルなプロンプトを使用**: 例えば、「XYZのためのステップは何ですか？」や「XYZを達成するためのサブゴールは何ですか？」といった質問を通じて、タスクを分解します。\\n\\n2. **タスク特有の指示を使用**: 例えば、「小説のアウトラインを書いてください」といった具体的な指示を与えることで、特定のタスクに対する分解を行います。\\n\\n3. **人間の入力を利用**: ユーザーからのフィードバックや指示を基にタスクを分解することもあります。\\n\\nタスク分解は、特に複雑な問題を解決する際に有効であり、思考過程を明確にし、モデルのパフォーマンスを向上させるための重要な手法です。', additional_kwargs={'refusal': None}, response_metadata={'token_usage': {'completion_tokens': 295, 'prompt_tokens': 726, 'total_tokens': 1021, 'completion_tokens_details': {'accepted_prediction_tokens': 0, 'audio_tokens': 0, 'reasoning_tokens': 0, 'rejected_prediction_tokens': 0}, 'prompt_tokens_details': {'audio_tokens': 0, 'cached_tokens': 0}}, 'model_name': 'gpt-4o-mini-2024-07-18', 'system_fingerprint': 'fp_0ba0d124f1', 'finish_reason': 'stop', 'logprobs': None}, id='run-19aeb054-c85a-4685-9192-6e91d5db5c32-0', usage_metadata={'input_tokens': 726, 'output_tokens': 295, 'total_tokens': 1021, 'input_token_details': {'audio': 0, 'cache_read': 0}, 'output_token_details': {'audio': 0, 'reasoning': 0}}),\n",
      "              HumanMessage(content='それは一般的な方法ですか。', additional_kwargs={}, response_metadata={}, id='39810f69-d3ef-4e29-b1e2-527349b73b2b')]}\n",
      "================================================================\n",
      "{'messages': [HumanMessage(content=\"Hi! I'm bob\", additional_kwargs={}, response_metadata={}, id='295835c1-4f95-4b90-ade0-75c942516df0'),\n",
      "              AIMessage(content='Hello Bob! How can I assist you today?', additional_kwargs={'refusal': None}, response_metadata={'token_usage': {'completion_tokens': 11, 'prompt_tokens': 67, 'total_tokens': 78, 'completion_tokens_details': {'accepted_prediction_tokens': 0, 'audio_tokens': 0, 'reasoning_tokens': 0, 'rejected_prediction_tokens': 0}, 'prompt_tokens_details': {'audio_tokens': 0, 'cached_tokens': 0}}, 'model_name': 'gpt-4o-mini-2024-07-18', 'system_fingerprint': 'fp_0ba0d124f1', 'finish_reason': 'stop', 'logprobs': None}, id='run-72733a7e-4903-4cbd-acec-5302792cd029-0', usage_metadata={'input_tokens': 67, 'output_tokens': 11, 'total_tokens': 78, 'input_token_details': {'audio': 0, 'cache_read': 0}, 'output_token_details': {'audio': 0, 'reasoning': 0}}),\n",
      "              HumanMessage(content=\"Hi! I'm bob\", additional_kwargs={}, response_metadata={}, id='6a2ab361-bd9a-43f2-9e8d-bfb2ce57a45b'),\n",
      "              AIMessage(content='Hi again, Bob! How can I help you today?', additional_kwargs={'refusal': None}, response_metadata={'token_usage': {'completion_tokens': 13, 'prompt_tokens': 89, 'total_tokens': 102, 'completion_tokens_details': {'accepted_prediction_tokens': 0, 'audio_tokens': 0, 'reasoning_tokens': 0, 'rejected_prediction_tokens': 0}, 'prompt_tokens_details': {'audio_tokens': 0, 'cached_tokens': 0}}, 'model_name': 'gpt-4o-mini-2024-07-18', 'system_fingerprint': 'fp_0ba0d124f1', 'finish_reason': 'stop', 'logprobs': None}, id='run-334274cf-fc0c-466b-b169-649d6b39673d-0', usage_metadata={'input_tokens': 89, 'output_tokens': 13, 'total_tokens': 102, 'input_token_details': {'audio': 0, 'cache_read': 0}, 'output_token_details': {'audio': 0, 'reasoning': 0}}),\n",
      "              HumanMessage(content='タスク分解とは何ですか。', additional_kwargs={}, response_metadata={}, id='0e5e12ea-994d-4e9d-ad0a-7edc5df0a6a8'),\n",
      "              AIMessage(content='', additional_kwargs={'tool_calls': [{'id': 'call_RsDalklXvPbvYMjSlApDweUH', 'function': {'arguments': '{\"query\":\"タスク分解\"}', 'name': 'blog_post_retriever'}, 'type': 'function'}], 'refusal': None}, response_metadata={'token_usage': {'completion_tokens': 20, 'prompt_tokens': 118, 'total_tokens': 138, 'completion_tokens_details': {'accepted_prediction_tokens': 0, 'audio_tokens': 0, 'reasoning_tokens': 0, 'rejected_prediction_tokens': 0}, 'prompt_tokens_details': {'audio_tokens': 0, 'cached_tokens': 0}}, 'model_name': 'gpt-4o-mini-2024-07-18', 'system_fingerprint': 'fp_9b78b61c52', 'finish_reason': 'tool_calls', 'logprobs': None}, id='run-cec9a5cf-36a1-451f-8c62-8223535293fc-0', tool_calls=[{'name': 'blog_post_retriever', 'args': {'query': 'タスク分解'}, 'id': 'call_RsDalklXvPbvYMjSlApDweUH', 'type': 'tool_call'}], usage_metadata={'input_tokens': 118, 'output_tokens': 20, 'total_tokens': 138, 'input_token_details': {'audio': 0, 'cache_read': 0}, 'output_token_details': {'audio': 0, 'reasoning': 0}}),\n",
      "              ToolMessage(content='Tree of Thoughts (Yao et al. 2023) extends CoT by exploring multiple reasoning possibilities at each step. It first decomposes the problem into multiple thought steps and generates multiple thoughts per step, creating a tree structure. The search process can be BFS (breadth-first search) or DFS (depth-first search) with each state evaluated by a classifier (via a prompt) or majority vote.\\nTask decomposition can be done (1) by LLM with simple prompting like \"Steps for XYZ.\\\\n1.\", \"What are the subgoals for achieving XYZ?\", (2) by using task-specific instructions; e.g. \"Write a story outline.\" for writing a novel, or (3) with human inputs.\\n\\nFig. 1. Overview of a LLM-powered autonomous agent system.\\nComponent One: Planning#\\nA complicated task usually involves many steps. An agent needs to know what they are and plan ahead.\\nTask Decomposition#\\nChain of thought (CoT; Wei et al. 2022) has become a standard prompting technique for enhancing model performance on complex tasks. The model is instructed to “think step by step” to utilize more test-time computation to decompose hard tasks into smaller and simpler steps. CoT transforms big tasks into multiple manageable tasks and shed lights into an interpretation of the model’s thinking process.\\n\\nThe AI assistant can parse user input to several tasks: [{\"task\": task, \"id\", task_id, \"dep\": dependency_task_ids, \"args\": {\"text\": text, \"image\": URL, \"audio\": URL, \"video\": URL}}]. The \"dep\" field denotes the id of the previous task which generates a new resource that the current task relies on. A special tag \"-task_id\" refers to the generated text image, audio and video in the dependency task with id as task_id. The task MUST be selected from the following options: {{ Available Task List }}. There is a logical relationship between tasks, please note their order. If the user input can\\'t be parsed, you need to reply empty JSON. Here are several cases for your reference: {{ Demonstrations }}. The chat history is recorded as {{ Chat History }}. From this chat history, you can find the path of the user-mentioned resources for your task planning.\\n\\nResources:\\n1. Internet access for searches and information gathering.\\n2. Long Term memory management.\\n3. GPT-3.5 powered Agents for delegation of simple tasks.\\n4. File output.\\n\\nPerformance Evaluation:\\n1. Continuously review and analyze your actions to ensure you are performing to the best of your abilities.\\n2. Constructively self-criticize your big-picture behavior constantly.\\n3. Reflect on past decisions and strategies to refine your approach.\\n4. Every command has a cost, so be smart and efficient. Aim to complete tasks in the least number of steps.', name='blog_post_retriever', id='2bd2850f-c8d2-4fa1-9b37-2a4df18ce7ae', tool_call_id='call_RsDalklXvPbvYMjSlApDweUH'),\n",
      "              AIMessage(content='タスク分解とは、複雑なタスクをより小さく、管理しやすいステップに分けるプロセスです。これにより、タスクを段階的に実行しやすくなり、全体の進行状況を把握しやすくなります。\\n\\n具体的には、以下のような方法でタスク分解が行われます：\\n\\n1. **シンプルなプロンプトを使用**: 例えば、「XYZのためのステップは何ですか？」や「XYZを達成するためのサブゴールは何ですか？」といった質問を通じて、タスクを分解します。\\n\\n2. **タスク特有の指示を使用**: 例えば、「小説のアウトラインを書いてください」といった具体的な指示を与えることで、特定のタスクに対する分解を行います。\\n\\n3. **人間の入力を利用**: ユーザーからのフィードバックや指示を基にタスクを分解することもあります。\\n\\nタスク分解は、特に複雑な問題を解決する際に有効であり、思考過程を明確にし、モデルのパフォーマンスを向上させるための重要な手法です。', additional_kwargs={'refusal': None}, response_metadata={'token_usage': {'completion_tokens': 295, 'prompt_tokens': 726, 'total_tokens': 1021, 'completion_tokens_details': {'accepted_prediction_tokens': 0, 'audio_tokens': 0, 'reasoning_tokens': 0, 'rejected_prediction_tokens': 0}, 'prompt_tokens_details': {'audio_tokens': 0, 'cached_tokens': 0}}, 'model_name': 'gpt-4o-mini-2024-07-18', 'system_fingerprint': 'fp_0ba0d124f1', 'finish_reason': 'stop', 'logprobs': None}, id='run-19aeb054-c85a-4685-9192-6e91d5db5c32-0', usage_metadata={'input_tokens': 726, 'output_tokens': 295, 'total_tokens': 1021, 'input_token_details': {'audio': 0, 'cache_read': 0}, 'output_token_details': {'audio': 0, 'reasoning': 0}}),\n",
      "              HumanMessage(content='それは一般的な方法ですか。', additional_kwargs={}, response_metadata={}, id='39810f69-d3ef-4e29-b1e2-527349b73b2b'),\n",
      "              AIMessage(content='はい、タスク分解は一般的な方法です。特にプロジェクト管理や問題解決、ソフトウェア開発、教育など、さまざまな分野で広く利用されています。タスクを小さく分けることで、以下のような利点があります：\\n\\n1. **管理の容易さ**: 小さなタスクは進捗を追いやすく、達成感を得やすいです。\\n\\n2. **リソースの最適化**: 各タスクに必要なリソースや時間を明確にすることで、効率的に作業を進めることができます。\\n\\n3. **問題の特定**: タスクを分解することで、どの部分で問題が発生しているのかを特定しやすくなります。\\n\\n4. **チームワークの向上**: 大きなタスクを分けることで、チームメンバーがそれぞれの役割を持ち、協力して作業を進めることができます。\\n\\nこのように、タスク分解は多くの場面で効果的な手法として認識されています。', additional_kwargs={'refusal': None}, response_metadata={'token_usage': {'completion_tokens': 263, 'prompt_tokens': 1037, 'total_tokens': 1300, 'completion_tokens_details': {'accepted_prediction_tokens': 0, 'audio_tokens': 0, 'reasoning_tokens': 0, 'rejected_prediction_tokens': 0}, 'prompt_tokens_details': {'audio_tokens': 0, 'cached_tokens': 0}}, 'model_name': 'gpt-4o-mini-2024-07-18', 'system_fingerprint': 'fp_0ba0d124f1', 'finish_reason': 'stop', 'logprobs': None}, id='run-e7625e7f-a9b1-4919-9ee3-10d7b3732178-0', usage_metadata={'input_tokens': 1037, 'output_tokens': 263, 'total_tokens': 1300, 'input_token_details': {'audio': 0, 'cache_read': 0}, 'output_token_details': {'audio': 0, 'reasoning': 0}})]}\n",
      "================================================================\n"
     ]
    }
   ],
   "source": [
    "query = \"それは一般的な方法ですか。\"\n",
    "events = agent_executor.stream(\n",
    "    {\"messages\": [HumanMessage(content=query)]},\n",
    "    config=config,\n",
    "    stream_mode=\"values\"\n",
    ")\n",
    "\n",
    "for event in events:\n",
    "    pprint(event)\n",
    "    print(\"================================================================\")\n",
    "    #event[\"messages\"][-1].pretty_print()"
   ]
  },
  {
   "cell_type": "code",
   "execution_count": null,
   "metadata": {},
   "outputs": [],
   "source": []
  }
 ],
 "metadata": {
  "kernelspec": {
   "display_name": "Python 3 (ipykernel)",
   "language": "python",
   "name": "python3"
  },
  "language_info": {
   "codemirror_mode": {
    "name": "ipython",
    "version": 3
   },
   "file_extension": ".py",
   "mimetype": "text/x-python",
   "name": "python",
   "nbconvert_exporter": "python",
   "pygments_lexer": "ipython3",
   "version": "3.12.7"
  }
 },
 "nbformat": 4,
 "nbformat_minor": 2
}
