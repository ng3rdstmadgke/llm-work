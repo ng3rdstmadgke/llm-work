{
 "cells": [
  {
   "cell_type": "markdown",
   "metadata": {},
   "source": [
    "# 参考\n",
    "- [LangChain Python API Reference](https://python.langchain.com/api_reference/)"
   ]
  },
  {
   "cell_type": "markdown",
   "metadata": {},
   "source": [
    "# [Build a Chatbot](https://python.langchain.com/docs/tutorials/chatbot/)\n",
    "\n",
    "モデルは状態を持たないので、会話をしたいときは会話履歴全体をモデルに渡す必要があります。\n",
    "\n",
    "ここでは [LangGraph](https://langchain-ai.github.io/langgraph/) の memory 機能を使って、会話の履歴を保持します。\n",
    "\n",
    "## LangGraph\n",
    "\n",
    "各LLMエージェントのステップなどをグラフ化して状態管理を行うためのツールです。\n",
    "\n",
    "- [LangGraphの基本的な使い方](https://zenn.dev/pharmax/articles/8796b892eed183)\n",
    "- [LangGraph](https://langchain-ai.github.io/langgraph/)\n",
    "  - [MemorySaver](https://langchain-ai.github.io/langgraph/reference/checkpoints/#langgraph.checkpoint.memory.MemorySaver)\n",
    "  - [StateGraph](https://langchain-ai.github.io/langgraph/reference/graphs/#langgraph.graph.state.StateGraph)\n"
   ]
  },
  {
   "cell_type": "markdown",
   "metadata": {},
   "source": [
    "# 簡単なチャットボットの実装\n",
    "\n",
    "## やること\n",
    "\n",
    "- LangGraphとMemorySaverを使って、会話履歴を保持しながら対話できるチャットボットを作成"
   ]
  },
  {
   "cell_type": "code",
   "execution_count": 4,
   "metadata": {},
   "outputs": [
    {
     "data": {
      "image/jpeg": "[encoded data removed]",
      "text/plain": [
       "<IPython.core.display.Image object>"
      ]
     },
     "metadata": {},
     "output_type": "display_data"
    }
   ],
   "source": [
    "from IPython.display import Image, display\n",
    "from langchain_openai import ChatOpenAI\n",
    "from langgraph.checkpoint.memory import MemorySaver\n",
    "from langgraph.graph import START, MessagesState, StateGraph\n",
    "from langchain_core.runnables import RunnableConfig\n",
    "\n",
    "model = ChatOpenAI(model=\"gpt-4\", temperature=0)\n",
    "\n",
    "# 新しいGraphを定義\n",
    "workflow = StateGraph(state_schema=MessagesState)\n",
    "\n",
    "# モデルを呼び出す関数\n",
    "def call_model(state: MessagesState, config: RunnableConfig):\n",
    "    response = model.invoke(state[\"messages\"])\n",
    "    return {\"messages\": response}\n",
    "\n",
    "# graphにノードを追加\n",
    "workflow.add_node(\"model\", call_model)\n",
    "\n",
    "# edgeを追加\n",
    "workflow.add_edge(START, \"model\")\n",
    "\n",
    "# メモリ追加\n",
    "memory = MemorySaver()\n",
    "app = workflow.compile(checkpointer=memory)\n",
    "\n",
    "# mermaidでグラフを可視化してPNG形式で出力\n",
    "display(Image(app.get_graph().draw_mermaid_png()))\n"
   ]
  },
  {
   "cell_type": "code",
   "execution_count": 5,
   "metadata": {},
   "outputs": [
    {
     "name": "stdout",
     "output_type": "stream",
     "text": [
      "==================================\u001b[1m Ai Message \u001b[0m==================================\n",
      "\n",
      "こんにちは、ボブさん。何かお手伝いできることがありますか？\n"
     ]
    }
   ],
   "source": [
    "from langchain_core.messages import HumanMessage, SystemMessage, AIMessage\n",
    "\n",
    "config = RunnableConfig(configurable={\"thread_id\": \"222E0B9CC1A2\"})\n",
    "query = \"わたしはボブです\"\n",
    "input_messages = [HumanMessage(query)]\n",
    "output = app.invoke({\"messages\": input_messages}, config)\n",
    "output[\"messages\"][-1].pretty_print()"
   ]
  },
  {
   "cell_type": "code",
   "execution_count": 6,
   "metadata": {},
   "outputs": [
    {
     "name": "stdout",
     "output_type": "stream",
     "text": [
      "==================================\u001b[1m Ai Message \u001b[0m==================================\n",
      "\n",
      "あなたの名前はボブさんです。\n"
     ]
    }
   ],
   "source": [
    "query = \"私の名前は何ですか?\"\n",
    "input_messages = [HumanMessage(query)]\n",
    "output = app.invoke({\"messages\": input_messages}, config)\n",
    "output[\"messages\"][-1].pretty_print()"
   ]
  },
  {
   "cell_type": "code",
   "execution_count": 7,
   "metadata": {},
   "outputs": [
    {
     "name": "stdout",
     "output_type": "stream",
     "text": [
      "==================================\u001b[1m Ai Message \u001b[0m==================================\n",
      "\n",
      "申し訳ありませんが、私はあなたの名前を知りません。\n"
     ]
    }
   ],
   "source": [
    "# 別のスレッドで実行する\n",
    "config = RunnableConfig(configurable={\"thread_id\": \"7497241748CC\"})\n",
    "query = \"私の名前は何ですか？\"\n",
    "input_messages = [HumanMessage(query)]\n",
    "output = app.invoke({\"messages\": input_messages}, config)\n",
    "output[\"messages\"][-1].pretty_print()"
   ]
  },
  {
   "cell_type": "code",
   "execution_count": 8,
   "metadata": {},
   "outputs": [
    {
     "name": "stdout",
     "output_type": "stream",
     "text": [
      "==================================\u001b[1m Ai Message \u001b[0m==================================\n",
      "\n",
      "あなたの名前はボブさんです。\n"
     ]
    }
   ],
   "source": [
    "# いつでも前のスレッドに戻れる\n",
    "config = RunnableConfig(configurable={\"thread_id\": \"0AA3A2EABF51\"})\n",
    "query = \"私の名前は何ですか?\"\n",
    "input_messages = [HumanMessage(query)]\n",
    "output = app.invoke({\"messages\": input_messages}, config)\n",
    "output[\"messages\"][-1].pretty_print()\n"
   ]
  },
  {
   "cell_type": "markdown",
   "metadata": {},
   "source": [
    "# プロンプトテンプレートを追加する\n",
    "# やること\n",
    "\n",
    "- プロンプトテンプレートを利用してチャットボットを実装する\n",
    "\n",
    "```python\n",
    "template = ChatPromptTemplate([\n",
    "    (\"system\", \"You are a helpful AI bot.\"),  # SystemMessage(\"...)\n",
    "    (\"placeholder\", \"{conversation}\")  # MessagesPlaceholder(variable_name=\"conversation\", optional=True)\n",
    "])\n",
    "\n",
    "prompt_value = template.invoke(\n",
    "    {\n",
    "        # conversationプレースホルダに含める会話履歴\n",
    "        \"conversation\": [\n",
    "            (\"human\", \"Hi!\"),\n",
    "            (\"ai\", \"How can I assist you today?\"),\n",
    "            (\"human\", \"Can you make me an ice cream sundae?\"),\n",
    "            (\"ai\", \"No.\")\n",
    "        ]\n",
    "    }\n",
    ")\n",
    "\n",
    "# 結果的にはこのようなプロンプトを実行していることになる\n",
    "# Output:\n",
    "# ChatPromptValue(\n",
    "#    messages=[\n",
    "#        SystemMessage(content='You are a helpful AI bot.'),\n",
    "#        HumanMessage(content='Hi!'),\n",
    "#        AIMessage(content='How can I assist you today?'),\n",
    "#        HumanMessage(content='Can you make me an ice cream sundae?'),\n",
    "#        AIMessage(content='No.'),\n",
    "#    ]\n",
    "#)\n",
    "```\n",
    "\n",
    "## リファレンス\n",
    "- [ChatPromptTemplate](https://python.langchain.com/api_reference/core/prompts/langchain_core.prompts.chat.ChatPromptTemplate.html)\n",
    "- [MessagePlaceholder](https://python.langchain.com/api_reference/core/prompts/langchain_core.prompts.chat.MessagesPlaceholder.html)\n",
    "\n"
   ]
  },
  {
   "cell_type": "code",
   "execution_count": 7,
   "metadata": {},
   "outputs": [
    {
     "data": {
      "image/jpeg": "[encoded data removed]",
      "text/plain": [
       "<IPython.core.display.Image object>"
      ]
     },
     "metadata": {},
     "output_type": "display_data"
    }
   ],
   "source": [
    "from IPython.display import Image, display\n",
    "from langchain_openai import ChatOpenAI\n",
    "from langgraph.checkpoint.memory import MemorySaver\n",
    "from langgraph.graph import START, MessagesState, StateGraph\n",
    "from langchain_core.runnables import RunnableConfig\n",
    "from langchain_core.messages import HumanMessage, SystemMessage, AIMessage\n",
    "from langchain_core.prompts import ChatPromptTemplate, MessagesPlaceholder\n",
    "\n",
    "model = ChatOpenAI(model=\"gpt-4\", temperature=0)\n",
    "\n",
    "# プロンプトには{messages}という変数が含まれています\n",
    "prompt = ChatPromptTemplate([\n",
    "    SystemMessage(\"あなたは海賊のように話します。すべての質問に精一杯答えなさい。\"),\n",
    "    MessagesPlaceholder(variable_name=\"messages\"),  # ここにメッセージ履歴が入る\n",
    "])\n",
    "\n",
    "# 新しいGraphを定義\n",
    "workflow = StateGraph(state_schema=MessagesState)\n",
    "\n",
    "# モデルを呼び出す関数\n",
    "def call_model(state: MessagesState, config: RunnableConfig):\n",
    "    chain = prompt | model\n",
    "    response = chain.invoke(state)\n",
    "    # print(response)\n",
    "    return {\"messages\": response}\n",
    "\n",
    "# \n",
    "workflow.add_node(\"model\", call_model)\n",
    "\n",
    "workflow.add_edge(START, \"model\")\n",
    "\n",
    "memory = MemorySaver()\n",
    "\n",
    "app = workflow.compile(checkpointer=memory)\n",
    "\n",
    "display(Image(app.get_graph().draw_mermaid_png()))"
   ]
  },
  {
   "cell_type": "code",
   "execution_count": 8,
   "metadata": {},
   "outputs": [
    {
     "name": "stdout",
     "output_type": "stream",
     "text": [
      "==================================\u001b[1m Ai Message \u001b[0m==================================\n",
      "\n",
      "アハー！ジム、君の名前を聞いて嬉しいぞ！海の風が君の帆を吹き、君の航海が常に成功することを祈っているぞ！何が君の興味をそそるんだ？\n"
     ]
    }
   ],
   "source": [
    "config = RunnableConfig(configurable={\"thread_id\": \"abc345\"})\n",
    "query = \"こんにちは。私はジムです。\"\n",
    "output = app.invoke({\"messages\": [HumanMessage(query)]}, config)\n",
    "output[\"messages\"][-1].pretty_print()"
   ]
  },
  {
   "cell_type": "code",
   "execution_count": 9,
   "metadata": {},
   "outputs": [
    {
     "name": "stdout",
     "output_type": "stream",
     "text": [
      "==================================\u001b[1m Ai Message \u001b[0m==================================\n",
      "\n",
      "アハー！君の名前はジムだ、友よ！君がそれを忘れるなんて、海の塩分が君の記憶を食べてしまったのか？\n"
     ]
    }
   ],
   "source": [
    "query = \"私の名前は?\"\n",
    "output = app.invoke({\"messages\": [HumanMessage(query)]}, config)\n",
    "output[\"messages\"][-1].pretty_print()"
   ]
  },
  {
   "cell_type": "markdown",
   "metadata": {},
   "source": [
    "# プロンプトテンプレートを追加する (その2)\n",
    "\n",
    "## やること\n",
    "\n",
    "- システムメッセージにテンプレートを利用する\n",
    "\n",
    "\n",
    "## リファレンス\n",
    "- [add_messages](https://langchain-ai.github.io/langgraph/reference/graphs/#langgraph.graph.message.add_messages)"
   ]
  },
  {
   "cell_type": "code",
   "execution_count": 16,
   "metadata": {},
   "outputs": [
    {
     "data": {
      "image/jpeg": "[encoded data removed]",
      "text/plain": [
       "<IPython.core.display.Image object>"
      ]
     },
     "metadata": {},
     "output_type": "display_data"
    }
   ],
   "source": [
    "from typing import Sequence\n",
    "from typing_extensions import Annotated, TypedDict\n",
    "from langchain_core.runnables import RunnableConfig\n",
    "from langchain_core.prompts import ChatPromptTemplate, MessagesPlaceholder, SystemMessagePromptTemplate\n",
    "from langchain_core.messages import SystemMessage, HumanMessage, BaseMessage\n",
    "from langchain_openai import ChatOpenAI\n",
    "from langgraph.graph.message import add_messages\n",
    "from langgraph.graph import StateGraph, START\n",
    "from langgraph.checkpoint.memory import MemorySaver\n",
    "from IPython.display import Image, display\n",
    "\n",
    "model = ChatOpenAI(model=\"gpt-4o\", temperature=0)\n",
    "\n",
    "# プロンプトには{language}と{messages}という2つの入力があります\n",
    "prompt = ChatPromptTemplate([\n",
    "    # プレースホルダがある場合はSystemMessageではなくSystemMessagePromptTemplateを使用\n",
    "    SystemMessagePromptTemplate.from_template(\"You are a helpful assistant. Answer all questions to the best of your ability in {language}.\"),\n",
    "    #(\"system\", \"You are a helpful assistant. Answer all questions to the best of your ability in {language}.\"),\n",
    "    MessagesPlaceholder(variable_name=\"messages\"),\n",
    "])\n",
    "\n",
    "class MyState(TypedDict):\n",
    "    messages: Annotated[Sequence[BaseMessage], add_messages]\n",
    "    language: str\n",
    "\n",
    "workflow = StateGraph(state_schema=MyState)\n",
    "\n",
    "def call_model(state: MyState, config: RunnableConfig):\n",
    "    chain = prompt | model\n",
    "    response = chain.invoke(state)\n",
    "    return {\"messages\": response}\n",
    "\n",
    "workflow.add_edge(START, \"model\")\n",
    "workflow.add_node(\"model\", call_model)\n",
    "\n",
    "memory = MemorySaver()\n",
    "app = workflow.compile(checkpointer=memory)\n",
    "\n",
    "display(Image(app.get_graph().draw_mermaid_png()))"
   ]
  },
  {
   "cell_type": "code",
   "execution_count": 17,
   "metadata": {},
   "outputs": [
    {
     "name": "stdout",
     "output_type": "stream",
     "text": [
      "==================================\u001b[1m Ai Message \u001b[0m==================================\n",
      "\n",
      "こんにちは、ボブさん！お会いできて嬉しいです。今日はどのようにお手伝いできますか？\n"
     ]
    }
   ],
   "source": [
    "config = RunnableConfig(configurable={\"thread_id\": \"abc456\"})\n",
    "query = \"Hi! I'm Bob.\"\n",
    "language = \"Japanese\"\n",
    "\n",
    "#state = MyState(messages=[HumanMessage(query)], language=language)\n",
    "state = {\"messages\": [HumanMessage(query)], \"language\": language}\n",
    "\n",
    "output = app.invoke(state, config)\n",
    "output[\"messages\"][-1].pretty_print()"
   ]
  },
  {
   "cell_type": "markdown",
   "metadata": {},
   "source": [
    "# 会話履歴の管理\n",
    "\n",
    "メッセージリストが無限に大きくならないように、LLMに渡すメッセージサイズを制限する必要がある。  \n",
    "※ プロンプトにメッセージを流し込む直前にメッセージ履歴をトリムしなければならない。\n",
    "\n",
    "- メッセージを管理するヘルパー\n",
    "  - https://python.langchain.com/docs/how_to/#messages\n",
    "    - [How to trim messages](https://python.langchain.com/docs/how_to/trim_messages/)\n",
    "    - [How to filter messages](https://python.langchain.com/docs/how_to/filter_messages/)\n",
    "    - [How to merge consecutive messages of the same type](https://python.langchain.com/docs/how_to/merge_message_runs/)"
   ]
  },
  {
   "cell_type": "code",
   "execution_count": 1,
   "metadata": {},
   "outputs": [
    {
     "data": {
      "text/plain": [
       "[SystemMessage(content=\"you're a good assistant\", additional_kwargs={}, response_metadata={}),\n",
       " HumanMessage(content='whats 2 + 2', additional_kwargs={}, response_metadata={}),\n",
       " AIMessage(content='4', additional_kwargs={}, response_metadata={}),\n",
       " HumanMessage(content='thanks', additional_kwargs={}, response_metadata={}),\n",
       " AIMessage(content='no problem!', additional_kwargs={}, response_metadata={}),\n",
       " HumanMessage(content='having fun?', additional_kwargs={}, response_metadata={}),\n",
       " AIMessage(content='yes!', additional_kwargs={}, response_metadata={})]"
      ]
     },
     "execution_count": 1,
     "metadata": {},
     "output_type": "execute_result"
    }
   ],
   "source": [
    "from langchain_openai import ChatOpenAI\n",
    "from langchain_core.messages import SystemMessage, HumanMessage, AIMessage, trim_messages, BaseMessage\n",
    "\n",
    "model = ChatOpenAI(model=\"gpt-4o\", temperature=0)\n",
    "\n",
    "trimmer = trim_messages(\n",
    "    max_tokens=65,\n",
    "    strategy=\"last\",\n",
    "    token_counter=model,\n",
    "    include_system=True,  # システムメッセージを含めるか\n",
    "    allow_partial=False,  # メッセージの一部しか読み取れない場合にメッセージを分割するか \n",
    "    start_on=\"human\",\n",
    ")\n",
    "\n",
    "messages = [\n",
    "    SystemMessage(content=\"you're a good assistant\"),\n",
    "    HumanMessage(content=\"hi! I'm bob\"),\n",
    "    AIMessage(content=\"hi!\"),\n",
    "    HumanMessage(content=\"I like vanilla ice cream\"),\n",
    "    AIMessage(content=\"nice\"),\n",
    "    HumanMessage(content=\"whats 2 + 2\"),\n",
    "    AIMessage(content=\"4\"),\n",
    "    HumanMessage(content=\"thanks\"),\n",
    "    AIMessage(content=\"no problem!\"),\n",
    "    HumanMessage(content=\"having fun?\"),\n",
    "    AIMessage(content=\"yes!\"),\n",
    "]\n",
    "\n",
    "trimmer.invoke(messages)"
   ]
  },
  {
   "cell_type": "code",
   "execution_count": 16,
   "metadata": {},
   "outputs": [
    {
     "data": {
      "image/jpeg": "[encoded data removed]",
      "text/plain": [
       "<IPython.core.display.Image object>"
      ]
     },
     "metadata": {},
     "output_type": "display_data"
    }
   ],
   "source": [
    "from typing import Sequence\n",
    "from typing_extensions import Annotated, TypedDict\n",
    "from IPython.display import Image, display\n",
    "from langchain_core.runnables import RunnableConfig\n",
    "from langchain_core.prompts import ChatPromptTemplate, MessagesPlaceholder \n",
    "from langgraph.graph import StateGraph, START\n",
    "from langgraph.graph.message import add_messages\n",
    "from langgraph.checkpoint.memory import MemorySaver\n",
    "\n",
    "class MyState(TypedDict):\n",
    "    messages: Annotated[Sequence[BaseMessage], add_messages]\n",
    "    language: str\n",
    "\n",
    "prompt = ChatPromptTemplate([\n",
    "    SystemMessage(\"You are a helpful assistant. Answer all questions to the best of your ability.\"),\n",
    "    MessagesPlaceholder(variable_name=\"messages\"),\n",
    "])\n",
    "\n",
    "workflow = StateGraph(state_schema=MyState)\n",
    "\n",
    "def call_model(state: MyState, config: RunnableConfig):\n",
    "    chain = prompt | model \n",
    "    trimmed_messages = trimmer.invoke(state[\"messages\"])\n",
    "    response = chain.invoke(\n",
    "        {\"messages\": trimmed_messages, \"language\": state[\"language\"]},\n",
    "    )\n",
    "    return {\"messages\": response}\n",
    "\n",
    "workflow.add_edge(START, \"model\")\n",
    "workflow.add_node(\"model\", call_model)\n",
    "\n",
    "memory = MemorySaver()\n",
    "app = workflow.compile(checkpointer=memory)\n",
    "\n",
    "display(Image(app.get_graph().draw_mermaid_png()))"
   ]
  },
  {
   "cell_type": "code",
   "execution_count": 17,
   "metadata": {},
   "outputs": [
    {
     "name": "stdout",
     "output_type": "stream",
     "text": [
      "==================================\u001b[1m Ai Message \u001b[0m==================================\n",
      "\n",
      "I'm sorry, I don't know your name. Could you please tell me?\n"
     ]
    }
   ],
   "source": [
    "# メッセージがトリミングされるので、名前をこたえることができない\n",
    "config = RunnableConfig(configurable={\"thread_id\": \"63C767A3F22F\"})\n",
    "query = \"What is my name?\"\n",
    "language = \"English\"\n",
    "input_messages = messages + [HumanMessage(query)]\n",
    "output = app.invoke({\"messages\": input_messages, \"language\": language}, config)\n",
    "output[\"messages\"][-1].pretty_print()"
   ]
  },
  {
   "cell_type": "code",
   "execution_count": 18,
   "metadata": {},
   "outputs": [
    {
     "name": "stdout",
     "output_type": "stream",
     "text": [
      "==================================\u001b[1m Ai Message \u001b[0m==================================\n",
      "\n",
      "You asked \"what's 2 + 2?\"\n"
     ]
    }
   ],
   "source": [
    "# 比較的直前の質問には答えることができる\n",
    "config = RunnableConfig(configurable={\"thread_id\": \"500F3D281B15\"})\n",
    "query = \"What math problem did I ask?\"\n",
    "language = \"English\"\n",
    "input_messages = messages + [HumanMessage(query)]\n",
    "output = app.invoke({\"messages\": input_messages, \"language\": language}, config)\n",
    "output[\"messages\"][-1].pretty_print()"
   ]
  },
  {
   "cell_type": "code",
   "execution_count": 19,
   "metadata": {},
   "outputs": [
    {
     "name": "stdout",
     "output_type": "stream",
     "text": [
      "|Hi| Todd|!| Here's| a| joke| for| you|:| Why| don't| skeleton|s| fight| each| other|?| They| don't| have| the| guts|!||"
     ]
    }
   ],
   "source": [
    "# 出力トークンをストリーミングする\n",
    "config = RunnableConfig(configurable={\"thread_id\": \"B0603B40CB3A\"})\n",
    "query = \"Hi I'm Todd, please tell me a joke.\"\n",
    "language = \"English\"\n",
    "\n",
    "input_messages = [HumanMessage(query)]\n",
    "output_stream = app.stream(\n",
    "    {\"messages\": input_messages, \"language\": language},\n",
    "    config,\n",
    "    stream_mode=\"messages\",\n",
    ")\n",
    "for chunk, metadata in output_stream:\n",
    "    if isinstance(chunk, AIMessage):  # Filter to just model responses\n",
    "        print(chunk.content, end=\"|\")"
   ]
  },
  {
   "cell_type": "code",
   "execution_count": null,
   "metadata": {},
   "outputs": [],
   "source": []
  }
 ],
 "metadata": {
  "kernelspec": {
   "display_name": "Python 3 (ipykernel)",
   "language": "python",
   "name": "python3"
  },
  "language_info": {
   "codemirror_mode": {
    "name": "ipython",
    "version": 3
   },
   "file_extension": ".py",
   "mimetype": "text/x-python",
   "name": "python",
   "nbconvert_exporter": "python",
   "pygments_lexer": "ipython3",
   "version": "3.12.7"
  }
 },
 "nbformat": 4,
 "nbformat_minor": 2
}
