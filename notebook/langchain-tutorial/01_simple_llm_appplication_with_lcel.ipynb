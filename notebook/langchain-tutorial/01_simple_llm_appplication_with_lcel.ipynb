{
 "cells": [
  {
   "cell_type": "code",
   "execution_count": 1,
   "metadata": {},
   "outputs": [],
   "source": [
    "from pydantic_settings import BaseSettings\n",
    "\n",
    "class Environment(BaseSettings):\n",
    "    openai_api_key: str\n",
    "\n",
    "env = Environment()"
   ]
  },
  {
   "cell_type": "markdown",
   "metadata": {},
   "source": [
    "# 参考\n",
    "\n",
    "- [LangChain Python API Reference](https://python.langchain.com/api_reference/)\n",
    "  - [langchain-core](https://python.langchain.com/api_reference/core/index.html)\n",
    "  - [langchain-openai](https://python.langchain.com/api_reference/openai/index.html)"
   ]
  },
  {
   "cell_type": "markdown",
   "metadata": {},
   "source": [
    "# [Build a Simple LLM Application with LCEL](https://python.langchain.com/docs/tutorials/llm_chain/)\n",
    "\n",
    "シンプルなLLMアプリケーションを作成する\n",
    "\n",
    "- リファレンス\n",
    "  - [ChatOpenAI](https://python.langchain.com/api_reference/openai/chat_models/langchain_openai.chat_models.base.ChatOpenAI.html#langchain_openai.chat_models.base.ChatOpenAI)\n",
    "  - [StrOutputParser](https://python.langchain.com/api_reference/core/output_parsers/langchain_core.output_parsers.string.StrOutputParser.html)\n",
    "  - [ChatPromptTemplate](https://python.langchain.com/api_reference/core/prompts/langchain_core.prompts.chat.ChatPromptTemplate.html)"
   ]
  },
  {
   "cell_type": "code",
   "execution_count": 1,
   "metadata": {},
   "outputs": [
    {
     "data": {
      "text/plain": [
       "'こんにちは'"
      ]
     },
     "execution_count": 1,
     "metadata": {},
     "output_type": "execute_result"
    }
   ],
   "source": [
    "from langchain_core.output_parsers import StrOutputParser\n",
    "from langchain_core.prompts import ChatPromptTemplate\n",
    "from langchain_openai import ChatOpenAI\n",
    "\n",
    "# OpenAIのモデルを利用する\n",
    "model = ChatOpenAI(model=\"gpt-4\", temperature=0)\n",
    "\n",
    "# LLMの結果をパースして文字列を取得する\n",
    "parser = StrOutputParser()\n",
    "\n",
    "# ユーザーに対して翻訳を促すプロンプト\n",
    "prompt_template = ChatPromptTemplate([\n",
    "    (\"system\", \"Translate the following into {language}:\"),\n",
    "    (\"user\", \"{text}\")\n",
    "    \n",
    "])\n",
    "\n",
    "# パイプを利用して、プロンプト、モデル、パーサーをつなげる\n",
    "chain = prompt_template | model | parser\n",
    "\n",
    "# チェーンを実行する\n",
    "chain.invoke({\n",
    "    \"language\": \"Japanese\",\n",
    "    \"text\": \"hi\"\n",
    "})"
   ]
  },
  {
   "cell_type": "code",
   "execution_count": null,
   "metadata": {},
   "outputs": [],
   "source": []
  }
 ],
 "metadata": {
  "kernelspec": {
   "display_name": "Python 3 (ipykernel)",
   "language": "python",
   "name": "python3"
  },
  "language_info": {
   "codemirror_mode": {
    "name": "ipython",
    "version": 3
   },
   "file_extension": ".py",
   "mimetype": "text/x-python",
   "name": "python",
   "nbconvert_exporter": "python",
   "pygments_lexer": "ipython3",
   "version": "3.12.7"
  }
 },
 "nbformat": 4,
 "nbformat_minor": 2
}
