{
 "cells": [
  {
   "cell_type": "markdown",
   "metadata": {
    "vscode": {
     "languageId": "plaintext"
    }
   },
   "source": [
    "# [Build a Question/Answering system over SQL data](https://python.langchain.com/docs/tutorials/sql_qa/)\n",
    "\n",
    "データベース内の表形式データに対して、LLMがSQLなどのDSLでクエリを実行し、回答を生成するQ&Aシステムを作成する基本的な方法について説明します。  \n",
    "チェーンとエージェントの両方を使用した実装について説明します。\n",
    "\n",
    "\n",
    "大まかに言えば、これらのシステムの手順は次のとおりです。\n",
    "\n",
    "1. **質問をDSLクエリに変換** : モデルはユーザー入力をSQLクエリに変換します。\n",
    "1. **SQLクエリの実行** : クエリを実行します。\n",
    "1. **質問への回答** : モデルはクエリの実行結果を使用して、ユーザー入力に応答します。\n",
    "\n",
    "<img src=\"../../../docs/img/03_qa_with_sql/qa_with_sql_01.png\" width=\"700px\">"
   ]
  },
  {
   "cell_type": "markdown",
   "metadata": {},
   "source": [
    "# ■ 前準備"
   ]
  },
  {
   "cell_type": "code",
   "execution_count": 86,
   "metadata": {},
   "outputs": [],
   "source": [
    "!wget https://raw.githubusercontent.com/lerocha/chinook-database/master/ChinookDatabase/DataSources/Chinook_Sqlite.sql -O langchain-tutorial/resources/Chinook_Sqlite.sql > /dev/null 2>&1\n",
    "!rm -f langchain-tutorial/resources/Chinook.db\n",
    "!sqlite3 langchain-tutorial/resources/Chinook.db < langchain-tutorial/resources/Chinook_Sqlite.sql"
   ]
  },
  {
   "cell_type": "code",
   "execution_count": 2,
   "metadata": {},
   "outputs": [
    {
     "name": "stdout",
     "output_type": "stream",
     "text": [
      "sqlite\n",
      "['Album', 'Artist', 'Customer', 'Employee', 'Genre', 'Invoice', 'InvoiceLine', 'MediaType', 'Playlist', 'PlaylistTrack', 'Track']\n"
     ]
    },
    {
     "data": {
      "text/plain": [
       "\"[(1, 'AC/DC'), (2, 'Accept'), (3, 'Aerosmith'), (4, 'Alanis Morissette'), (5, 'Alice In Chains'), (6, 'Antônio Carlos Jobim'), (7, 'Apocalyptica'), (8, 'Audioslave'), (9, 'BackBeat'), (10, 'Billy Cobham')]\""
      ]
     },
     "execution_count": 2,
     "metadata": {},
     "output_type": "execute_result"
    }
   ],
   "source": [
    "from langchain_community.utilities import SQLDatabase\n",
    "\n",
    "db = SQLDatabase.from_uri(\"sqlite:///langchain-tutorial/resources/Chinook.db\")\n",
    "print(db.dialect)\n",
    "print(db.get_usable_table_names())\n",
    "db.run(\"SELECT * FROM Artist LIMIT 10;\")\n"
   ]
  },
  {
   "cell_type": "markdown",
   "metadata": {},
   "source": [
    "# ■ プレビュー (エージェント)"
   ]
  },
  {
   "cell_type": "markdown",
   "metadata": {},
   "source": [
    "アーティスト名・アルバム名など、カーディナリティの高いカラムの値を抽出 (ベクトルストアに保存する)"
   ]
  },
  {
   "cell_type": "code",
   "execution_count": 87,
   "metadata": {},
   "outputs": [
    {
     "name": "stdout",
     "output_type": "stream",
     "text": [
      "['Chicago Symphony Chorus, Chicago Symphony Orchestra & Sir Georg Solti',\n",
      " 'Kiss',\n",
      " 'O Terço',\n",
      " 'Emanuel Ax, Eugene Ormandy & Philadelphia Orchestra',\n",
      " 'Luiz Melodia']\n",
      "['Unplugged',\n",
      " 'Motley Crue Greatest Hits',\n",
      " 'Balls to the Wall',\n",
      " 'Rock In Rio [CD1]',\n",
      " 'SCRIABIN: Vers la flamme']\n"
     ]
    }
   ],
   "source": [
    "from pprint import pprint\n",
    "import ast\n",
    "import re\n",
    "\n",
    "\n",
    "def query_as_list(db, query):\n",
    "    res = db.run(query)\n",
    "    res = [el for sub in ast.literal_eval(res) for el in sub if el]\n",
    "    res = [re.sub(r\"\\b\\d+\\b\", \"\", string).strip() for string in res]\n",
    "    return list(set(res))\n",
    "\n",
    "\n",
    "artists = query_as_list(db, \"SELECT Name FROM Artist\")\n",
    "pprint(artists[:5])\n",
    "albums = query_as_list(db, \"SELECT Title FROM Album\")\n",
    "pprint(albums[:5])"
   ]
  },
  {
   "cell_type": "code",
   "execution_count": 89,
   "metadata": {},
   "outputs": [],
   "source": [
    "from langchain_openai import ChatOpenAI\n",
    "from langchain_community.agent_toolkits import SQLDatabaseToolkit\n",
    "from langchain.agents.agent_toolkits import create_retriever_tool\n",
    "from langchain_community.vectorstores import FAISS\n",
    "from langchain_openai import OpenAIEmbeddings\n",
    "from langchain_core.messages import SystemMessage\n",
    "from langgraph.prebuilt import create_react_agent\n",
    "\n",
    "\n",
    "# モデル\n",
    "llm = ChatOpenAI(model=\"gpt-4o-mini\")\n",
    "\n",
    "# DBにアクセスするためのツール\n",
    "toolkit = SQLDatabaseToolkit(db=db, llm=llm)\n",
    "tools = toolkit.get_tools()\n",
    "\n",
    "# アーティスト名、アルバム名をベクトル化して保存(FAISS)し、Retrieverを作成\n",
    "vector_db = FAISS.from_texts(artists + albums, OpenAIEmbeddings())\n",
    "retriever = vector_db.as_retriever(search_kwargs={\"k\": 5})\n",
    "\n",
    "# Retrieverをツールに追加\n",
    "description = \"\"\"フィルタリングする値を検索するために使用します。\n",
    "入力は固有名詞のおおよそのスペルです。\n",
    "有効な固有名詞です。\n",
    "検索に最も類似した名詞を使用します。\"\"\"\n",
    "retriever_tool = create_retriever_tool(retriever=retriever, name=\"search_proper_nouns\", description=description)\n",
    "tools.append(retriever_tool)\n",
    "\n",
    "\n",
    "# システムプロンプトを用意\n",
    "system = f\"\"\"You are an agent designed to interact with a SQL database.\n",
    "Given an input question, create a syntactically correct SQLite query to run, then look at the results of the query and return the answer.\n",
    "Unless the user specifies a specific number of examples they wish to obtain, always limit your query to at most 5 results.\n",
    "You can order the results by a relevant column to return the most interesting examples in the database.\n",
    "Never query for all the columns from a specific table, only ask for the relevant columns given the question.\n",
    "You have access to tools for interacting with the database.\n",
    "Only use the given tools. Only use the information returned by the tools to construct your final answer.\n",
    "You MUST double check your query before executing it. If you get an error while executing a query, rewrite the query and try again.\n",
    "\n",
    "DO NOT make any DML statements (INSERT, UPDATE, DELETE, DROP etc.) to the database.\n",
    "\n",
    "You have access to the following tables: {db.get_usable_table_names()}\n",
    "\n",
    "If you need to filter on a proper noun, you must ALWAYS first look up the filter value using the \"search_proper_nouns\" tool!\n",
    "Do not try to guess at the proper name - use this function to find similar ones.\"\"\"\n",
    "\n",
    "agent_executor = create_react_agent(llm, tools, state_modifier=SystemMessage(content=system))"
   ]
  },
  {
   "cell_type": "code",
   "execution_count": 91,
   "metadata": {},
   "outputs": [
    {
     "name": "stdout",
     "output_type": "stream",
     "text": [
      "================================\u001b[1m Human Message \u001b[0m=================================\n",
      "\n",
      "alis in chainのアルバムは何枚ありますか？\n",
      "==================================\u001b[1m Ai Message \u001b[0m==================================\n",
      "Tool Calls:\n",
      "  search_proper_nouns (call_OjTLwuGuYtHuzRzsH0Q9QatA)\n",
      " Call ID: call_OjTLwuGuYtHuzRzsH0Q9QatA\n",
      "  Args:\n",
      "    query: alis in chain\n",
      "=================================\u001b[1m Tool Message \u001b[0m=================================\n",
      "Name: search_proper_nouns\n",
      "\n",
      "Alice In Chains\n",
      "\n",
      "Aisha Duo\n",
      "\n",
      "Xis\n",
      "\n",
      "Da Lama Ao Caos\n",
      "\n",
      "A-Sides\n",
      "==================================\u001b[1m Ai Message \u001b[0m==================================\n",
      "Tool Calls:\n",
      "  sql_db_query_checker (call_E7UGspkpveTdausEvy3pxeWN)\n",
      " Call ID: call_E7UGspkpveTdausEvy3pxeWN\n",
      "  Args:\n",
      "    query: SELECT COUNT(*) as album_count FROM Album WHERE ArtistId = (SELECT ArtistId FROM Artist WHERE Name = 'Alice In Chains')\n",
      "=================================\u001b[1m Tool Message \u001b[0m=================================\n",
      "Name: sql_db_query_checker\n",
      "\n",
      "```sql\n",
      "SELECT COUNT(*) as album_count FROM Album WHERE ArtistId = (SELECT ArtistId FROM Artist WHERE Name = 'Alice In Chains');\n",
      "```\n",
      "==================================\u001b[1m Ai Message \u001b[0m==================================\n",
      "Tool Calls:\n",
      "  sql_db_query (call_jqF5PBVeRucvEsOMxLY6Nd0f)\n",
      " Call ID: call_jqF5PBVeRucvEsOMxLY6Nd0f\n",
      "  Args:\n",
      "    query: SELECT COUNT(*) as album_count FROM Album WHERE ArtistId = (SELECT ArtistId FROM Artist WHERE Name = 'Alice In Chains')\n",
      "=================================\u001b[1m Tool Message \u001b[0m=================================\n",
      "Name: sql_db_query\n",
      "\n",
      "[(1,)]\n",
      "==================================\u001b[1m Ai Message \u001b[0m==================================\n",
      "\n",
      "Alice In Chainsのアルバムは1枚あります。\n"
     ]
    }
   ],
   "source": [
    "query = \"alis in chainのアルバムは何枚ありますか？\"\n",
    "output_stream = agent_executor.stream({\"messages\": [HumanMessage(content=query)]}, stream_mode=\"values\")\n",
    "\n",
    "for e in output_stream:\n",
    "    e[\"messages\"][-1].pretty_print()"
   ]
  },
  {
   "cell_type": "code",
   "execution_count": 90,
   "metadata": {},
   "outputs": [
    {
     "name": "stdout",
     "output_type": "stream",
     "text": [
      "================================\u001b[1m Human Message \u001b[0m=================================\n",
      "\n",
      "テーブル一覧を教えて\n",
      "==================================\u001b[1m Ai Message \u001b[0m==================================\n",
      "Tool Calls:\n",
      "  sql_db_list_tables (call_SWDdjQqlZLKxLMlU6IPbC31b)\n",
      " Call ID: call_SWDdjQqlZLKxLMlU6IPbC31b\n",
      "  Args:\n",
      "=================================\u001b[1m Tool Message \u001b[0m=================================\n",
      "Name: sql_db_list_tables\n",
      "\n",
      "Album, Artist, Customer, Employee, Genre, Invoice, InvoiceLine, MediaType, Playlist, PlaylistTrack, Track\n",
      "==================================\u001b[1m Ai Message \u001b[0m==================================\n",
      "\n",
      "データベースには以下のテーブルがあります：\n",
      "\n",
      "- Album\n",
      "- Artist\n",
      "- Customer\n",
      "- Employee\n",
      "- Genre\n",
      "- Invoice\n",
      "- InvoiceLine\n",
      "- MediaType\n",
      "- Playlist\n",
      "- PlaylistTrack\n",
      "- Track\n"
     ]
    }
   ],
   "source": [
    "query = \"テーブル一覧を教えて\"\n",
    "output_stream = agent_executor.stream({\"messages\": [HumanMessage(content=query)]}, stream_mode=\"values\")\n",
    "\n",
    "for e in output_stream:\n",
    "    e[\"messages\"][-1].pretty_print()"
   ]
  },
  {
   "cell_type": "code",
   "execution_count": 92,
   "metadata": {},
   "outputs": [
    {
     "name": "stdout",
     "output_type": "stream",
     "text": [
      "================================\u001b[1m Human Message \u001b[0m=================================\n",
      "\n",
      "Employeeテーブルの構造を教えて\n",
      "==================================\u001b[1m Ai Message \u001b[0m==================================\n",
      "Tool Calls:\n",
      "  sql_db_schema (call_C7Ho8jP2H9ctLp5xOQAklM2B)\n",
      " Call ID: call_C7Ho8jP2H9ctLp5xOQAklM2B\n",
      "  Args:\n",
      "    table_names: Employee\n",
      "=================================\u001b[1m Tool Message \u001b[0m=================================\n",
      "Name: sql_db_schema\n",
      "\n",
      "\n",
      "CREATE TABLE \"Employee\" (\n",
      "\t\"EmployeeId\" INTEGER NOT NULL, \n",
      "\t\"LastName\" NVARCHAR(20) NOT NULL, \n",
      "\t\"FirstName\" NVARCHAR(20) NOT NULL, \n",
      "\t\"Title\" NVARCHAR(30), \n",
      "\t\"ReportsTo\" INTEGER, \n",
      "\t\"BirthDate\" DATETIME, \n",
      "\t\"HireDate\" DATETIME, \n",
      "\t\"Address\" NVARCHAR(70), \n",
      "\t\"City\" NVARCHAR(40), \n",
      "\t\"State\" NVARCHAR(40), \n",
      "\t\"Country\" NVARCHAR(40), \n",
      "\t\"PostalCode\" NVARCHAR(10), \n",
      "\t\"Phone\" NVARCHAR(24), \n",
      "\t\"Fax\" NVARCHAR(24), \n",
      "\t\"Email\" NVARCHAR(60), \n",
      "\tPRIMARY KEY (\"EmployeeId\"), \n",
      "\tFOREIGN KEY(\"ReportsTo\") REFERENCES \"Employee\" (\"EmployeeId\")\n",
      ")\n",
      "\n",
      "/*\n",
      "3 rows from Employee table:\n",
      "EmployeeId\tLastName\tFirstName\tTitle\tReportsTo\tBirthDate\tHireDate\tAddress\tCity\tState\tCountry\tPostalCode\tPhone\tFax\tEmail\n",
      "1\tAdams\tAndrew\tGeneral Manager\tNone\t1962-02-18 00:00:00\t2002-08-14 00:00:00\t11120 Jasper Ave NW\tEdmonton\tAB\tCanada\tT5K 2N1\t+1 (780) 428-9482\t+1 (780) 428-3457\tandrew@chinookcorp.com\n",
      "2\tEdwards\tNancy\tSales Manager\t1\t1958-12-08 00:00:00\t2002-05-01 00:00:00\t825 8 Ave SW\tCalgary\tAB\tCanada\tT2P 2T3\t+1 (403) 262-3443\t+1 (403) 262-3322\tnancy@chinookcorp.com\n",
      "3\tPeacock\tJane\tSales Support Agent\t2\t1973-08-29 00:00:00\t2002-04-01 00:00:00\t1111 6 Ave SW\tCalgary\tAB\tCanada\tT2P 5M5\t+1 (403) 262-3443\t+1 (403) 262-6712\tjane@chinookcorp.com\n",
      "*/\n",
      "==================================\u001b[1m Ai Message \u001b[0m==================================\n",
      "\n",
      "`Employee`テーブルの構造は以下の通りです：\n",
      "\n",
      "- **EmployeeId**: INTEGER (主キー)\n",
      "- **LastName**: NVARCHAR(20) (姓)\n",
      "- **FirstName**: NVARCHAR(20) (名)\n",
      "- **Title**: NVARCHAR(30) (役職)\n",
      "- **ReportsTo**: INTEGER (上司のEmployeeId、外部キー)\n",
      "- **BirthDate**: DATETIME (生年月日)\n",
      "- **HireDate**: DATETIME (雇用日)\n",
      "- **Address**: NVARCHAR(70) (住所)\n",
      "- **City**: NVARCHAR(40) (市)\n",
      "- **State**: NVARCHAR(40) (州)\n",
      "- **Country**: NVARCHAR(40) (国)\n",
      "- **PostalCode**: NVARCHAR(10) (郵便番号)\n",
      "- **Phone**: NVARCHAR(24) (電話番号)\n",
      "- **Fax**: NVARCHAR(24) (ファックス番号)\n",
      "- **Email**: NVARCHAR(60) (メールアドレス)\n",
      "\n",
      "このテーブルは従業員に関する情報を格納しています。\n"
     ]
    }
   ],
   "source": [
    "query = \"Employeeテーブルの構造を教えて\"\n",
    "output_stream = agent_executor.stream({\"messages\": [HumanMessage(content=query)]}, stream_mode=\"values\")\n",
    "\n",
    "for e in output_stream:\n",
    "    e[\"messages\"][-1].pretty_print()"
   ]
  },
  {
   "cell_type": "markdown",
   "metadata": {},
   "source": [
    "# ■ チェインの実装"
   ]
  },
  {
   "cell_type": "code",
   "execution_count": 17,
   "metadata": {},
   "outputs": [],
   "source": [
    "from langchain_openai import ChatOpenAI\n",
    "\n",
    "llm = ChatOpenAI(model=\"gpt-4o-mini\")"
   ]
  },
  {
   "cell_type": "markdown",
   "metadata": {},
   "source": [
    "## 1. ユーザー入力をSQLに変換する\n",
    "\n",
    "**※ 正確なSQLが出力されない問題がある**\n",
    "\n",
    "-  [create_sql_query_chain](https://python.langchain.com/api_reference/langchain/chains/langchain.chains.sql_database.query.create_sql_query_chain.html)\n",
    "\n",
    "\n",
    "```python\n",
    "create_sql_query_chain(\n",
    "  llm: BaseLanguageModel,\n",
    "  db: SQLDatabase,\n",
    "  prompt: BasePromptTemplate | None = None, k: int = 5\n",
    ") -> Runnable[SQLInput | SQLInputWithTables | Dict[str, Any], str][source]\n",
    "```\n"
   ]
  },
  {
   "cell_type": "code",
   "execution_count": 22,
   "metadata": {},
   "outputs": [
    {
     "data": {
      "text/plain": [
       "'```sql\\nSELECT COUNT(\"EmployeeId\") AS \"TotalEmployees\" FROM \"Employee\";\\n```'"
      ]
     },
     "execution_count": 22,
     "metadata": {},
     "output_type": "execute_result"
    }
   ],
   "source": [
    "from langchain.chains import create_sql_query_chain\n",
    "\n",
    "chain = create_sql_query_chain(llm=llm, db=db)\n",
    "response = chain.invoke({\"question\": \"社員は全部で何人ですか\"})\n",
    "response"
   ]
  },
  {
   "cell_type": "code",
   "execution_count": null,
   "metadata": {},
   "outputs": [
    {
     "data": {
      "text/plain": [
       "'[(8,)]'"
      ]
     },
     "execution_count": 24,
     "metadata": {},
     "output_type": "execute_result"
    }
   ],
   "source": [
    "# NOTE: responseにコードブロックが入ってくるので除外しないといけない、、、\n",
    "# db.run(response)\n",
    "sql = response.replace(\"```sql\", \"\").replace(\"```\", \"\")\n",
    "db.run(sql)"
   ]
  },
  {
   "cell_type": "code",
   "execution_count": 25,
   "metadata": {},
   "outputs": [
    {
     "name": "stdout",
     "output_type": "stream",
     "text": [
      "You are a SQLite expert. Given an input question, first create a syntactically correct SQLite query to run, then look at the results of the query and return the answer to the input question.\n",
      "Unless the user specifies in the question a specific number of examples to obtain, query for at most 5 results using the LIMIT clause as per SQLite. You can order the results to return the most informative data in the database.\n",
      "Never query for all columns from a table. You must query only the columns that are needed to answer the question. Wrap each column name in double quotes (\") to denote them as delimited identifiers.\n",
      "Pay attention to use only the column names you can see in the tables below. Be careful to not query for columns that do not exist. Also, pay attention to which column is in which table.\n",
      "Pay attention to use date('now') function to get the current date, if the question involves \"today\".\n",
      "\n",
      "Use the following format:\n",
      "\n",
      "Question: Question here\n",
      "SQLQuery: SQL Query to run\n",
      "SQLResult: Result of the SQLQuery\n",
      "Answer: Final answer here\n",
      "\n",
      "Only use the following tables:\n",
      "\u001b[33;1m\u001b[1;3m{table_info}\u001b[0m\n",
      "\n",
      "Question: \u001b[33;1m\u001b[1;3m{input}\u001b[0m\n"
     ]
    }
   ],
   "source": [
    "# SQLのクエリを生成するためのプロンプトを表示\n",
    "chain.get_prompts()[0].pretty_print()"
   ]
  },
  {
   "cell_type": "markdown",
   "metadata": {},
   "source": [
    "## 2. クエリの実行\n",
    "\n",
    "LLMが生成したSQLを実行します"
   ]
  },
  {
   "cell_type": "code",
   "execution_count": 26,
   "metadata": {},
   "outputs": [
    {
     "data": {
      "text/plain": [
       "'Error: (sqlite3.OperationalError) near \"```sql\\nSELECT COUNT(\"EmployeeId\") AS \"EmployeeCount\" FROM \"Employee\";\\n```\": syntax error\\n[SQL: ```sql\\nSELECT COUNT(\"EmployeeId\") AS \"EmployeeCount\" FROM \"Employee\";\\n```]\\n(Background on this error at: https://sqlalche.me/e/20/e3q8)'"
      ]
     },
     "execution_count": 26,
     "metadata": {},
     "output_type": "execute_result"
    }
   ],
   "source": [
    "from langchain_community.tools.sql_database.tool import QuerySQLDataBaseTool\n",
    "\n",
    "execute_query = QuerySQLDataBaseTool(db=db)\n",
    "write_query = create_sql_query_chain(llm=llm, db=db)\n",
    "chain = write_query | execute_query\n",
    "result = chain.invoke({\"question\": \"従業員は何名ですか\"})\n",
    "result\n"
   ]
  },
  {
   "cell_type": "markdown",
   "metadata": {},
   "source": [
    "## 3. 質問への回答\n",
    "\n",
    "SQLの実行結果を受けて質問に回答します。"
   ]
  },
  {
   "cell_type": "code",
   "execution_count": 43,
   "metadata": {},
   "outputs": [],
   "source": [
    "from operator import itemgetter\n",
    "from langchain_core.output_parsers import StrOutputParser\n",
    "from langchain_core.prompts import ChatPromptTemplate, HumanMessagePromptTemplate\n",
    "from langchain_core.runnables import RunnablePassthrough\n",
    "\n",
    "answer_template = \"\"\"\n",
    "以下のユーザーからの質問、対応するSQLクエリ、およびSQL結果が与えられている場合、ユーザーからの質問に答えてください。\n",
    "\n",
    "Question: {question}\n",
    "SQL Query: {query}\n",
    "SQL Result: {result}\n",
    "Answer:\n",
    "\"\"\"\n",
    "answer_prompt = ChatPromptTemplate([\n",
    "    HumanMessagePromptTemplate.from_template(answer_template),\n",
    "])\n",
    "\n",
    "chain = (\n",
    "    RunnablePassthrough\n",
    "        .assign(query=write_query)\n",
    "        .assign(result=(itemgetter(\"query\") | execute_query))\n",
    "    | answer_prompt\n",
    "    | llm\n",
    "    | StrOutputParser()\n",
    ")\n"
   ]
  },
  {
   "cell_type": "code",
   "execution_count": 44,
   "metadata": {},
   "outputs": [
    {
     "data": {
      "text/plain": [
       "'従業員の数を取得するためのSQLクエリにエラーが発生しています。クエリの形式が正しくないため、実行できませんでした。正しいクエリは以下のようになります。\\n\\n```sql\\nSELECT COUNT(\"EmployeeId\") AS \"EmployeeCount\" FROM \"Employee\";\\n```\\n\\nこのクエリを実行することで、従業員の数を取得できます。従業員の数を知りたい場合は、正しい形式でクエリを再実行してください。'"
      ]
     },
     "execution_count": 44,
     "metadata": {},
     "output_type": "execute_result"
    }
   ],
   "source": [
    "chain.invoke({\"question\": \"従業員は何名ですか。\"})"
   ]
  },
  {
   "cell_type": "markdown",
   "metadata": {},
   "source": [
    "動作確認"
   ]
  },
  {
   "cell_type": "code",
   "execution_count": 42,
   "metadata": {},
   "outputs": [
    {
     "data": {
      "text/plain": [
       "{'question': '従業員は何名ですか？',\n",
       " 'query': 'SQLQuery: SELECT COUNT(\"EmployeeId\") AS \"EmployeeCount\" FROM \"Employee\"',\n",
       " 'result': 'Error: (sqlite3.OperationalError) near \"SQLQuery\": syntax error\\n[SQL: SQLQuery: SELECT COUNT(\"EmployeeId\") AS \"EmployeeCount\" FROM \"Employee\"]\\n(Background on this error at: https://sqlalche.me/e/20/e3q8)'}"
      ]
     },
     "execution_count": 42,
     "metadata": {},
     "output_type": "execute_result"
    }
   ],
   "source": [
    "# assign(query=write_query):\n",
    "#   write_queryの結果をqueryに代入\n",
    "# assign(result=(itemgetter(\"query\") | execute_query)):\n",
    "#   query属性の値をexecute_queryチェインにの入力として、出力をresultに代入\n",
    "chain = RunnablePassthrough.assign(query=write_query).assign(result=(itemgetter(\"query\") | execute_query))\n",
    "chain.invoke({\"question\": \"従業員は何名ですか？\"})"
   ]
  },
  {
   "cell_type": "markdown",
   "metadata": {},
   "source": [
    "# ■ エージェントの実装\n",
    "\n",
    "エージェントの利用には以下のようなメリットがあります。\n",
    "\n",
    "- データベースのスキーマだけでなく、データベースのコンテンツ (特定のテーブルの説明など) に基づいて質問に答えることができます。\n",
    "- 生成されたクエリを実行し、トレースバックをキャッチして正しく再生成することで、エラーから回復できます。\n",
    "- ユーザーの質問に答えるために必要な回数だけデータベースをクエリできます。\n",
    "- 関連するテーブルからスキーマのみを取得することでトークンを節約します。"
   ]
  },
  {
   "cell_type": "code",
   "execution_count": 88,
   "metadata": {},
   "outputs": [
    {
     "data": {
      "text/plain": [
       "[QuerySQLDataBaseTool(description=\"Input to this tool is a detailed and correct SQL query, output is a result from the database. If the query is not correct, an error message will be returned. If an error is returned, rewrite the query, check the query, and try again. If you encounter an issue with Unknown column 'xxxx' in 'field list', use sql_db_schema to query the correct table fields.\", db=<langchain_community.utilities.sql_database.SQLDatabase object at 0x7c9e84336000>),\n",
       " InfoSQLDatabaseTool(description='Input to this tool is a comma-separated list of tables, output is the schema and sample rows for those tables. Be sure that the tables actually exist by calling sql_db_list_tables first! Example Input: table1, table2, table3', db=<langchain_community.utilities.sql_database.SQLDatabase object at 0x7c9e84336000>),\n",
       " ListSQLDatabaseTool(db=<langchain_community.utilities.sql_database.SQLDatabase object at 0x7c9e84336000>),\n",
       " QuerySQLCheckerTool(description='Use this tool to double check if your query is correct before executing it. Always use this tool before executing a query with sql_db_query!', db=<langchain_community.utilities.sql_database.SQLDatabase object at 0x7c9e84336000>, llm=ChatOpenAI(client=<openai.resources.chat.completions.Completions object at 0x7c9e4ab475c0>, async_client=<openai.resources.chat.completions.AsyncCompletions object at 0x7c9e4aa1f440>, root_client=<openai.OpenAI object at 0x7c9e4ab46e10>, root_async_client=<openai.AsyncOpenAI object at 0x7c9e4aa0c7a0>, model_name='gpt-4o-mini', model_kwargs={}, openai_api_key=SecretStr('**********')), llm_chain=LLMChain(verbose=False, prompt=PromptTemplate(input_variables=['dialect', 'query'], input_types={}, partial_variables={}, template='\\n{query}\\nDouble check the {dialect} query above for common mistakes, including:\\n- Using NOT IN with NULL values\\n- Using UNION when UNION ALL should have been used\\n- Using BETWEEN for exclusive ranges\\n- Data type mismatch in predicates\\n- Properly quoting identifiers\\n- Using the correct number of arguments for functions\\n- Casting to the correct data type\\n- Using the proper columns for joins\\n\\nIf there are any of the above mistakes, rewrite the query. If there are no mistakes, just reproduce the original query.\\n\\nOutput the final SQL query only.\\n\\nSQL Query: '), llm=ChatOpenAI(client=<openai.resources.chat.completions.Completions object at 0x7c9e4ab475c0>, async_client=<openai.resources.chat.completions.AsyncCompletions object at 0x7c9e4aa1f440>, root_client=<openai.OpenAI object at 0x7c9e4ab46e10>, root_async_client=<openai.AsyncOpenAI object at 0x7c9e4aa0c7a0>, model_name='gpt-4o-mini', model_kwargs={}, openai_api_key=SecretStr('**********')), output_parser=StrOutputParser(), llm_kwargs={}))]"
      ]
     },
     "execution_count": 88,
     "metadata": {},
     "output_type": "execute_result"
    }
   ],
   "source": [
    "from langchain_openai import ChatOpenAI\n",
    "from langchain_community.agent_toolkits import SQLDatabaseToolkit\n",
    "\n",
    "llm = ChatOpenAI(model=\"gpt-4o-mini\")\n",
    "\n",
    "toolkit = SQLDatabaseToolkit(db=db, llm=llm)\n",
    "\n",
    "tools = toolkit.get_tools()\n",
    "\n",
    "tools"
   ]
  },
  {
   "cell_type": "markdown",
   "metadata": {},
   "source": [
    "エージェント用のシステムプロンプトを作成します。"
   ]
  },
  {
   "cell_type": "code",
   "execution_count": 47,
   "metadata": {},
   "outputs": [],
   "source": [
    "from langchain_core.messages import SystemMessage\n",
    "\n",
    "SQL_PREFIX = \"\"\"You are an agent designed to interact with a SQL database.\n",
    "Given an input question, create a syntactically correct SQLite query to run, then look at the results of the query and return the answer.\n",
    "Unless the user specifies a specific number of examples they wish to obtain, always limit your query to at most 5 results.\n",
    "You can order the results by a relevant column to return the most interesting examples in the database.\n",
    "Never query for all the columns from a specific table, only ask for the relevant columns given the question.\n",
    "You have access to tools for interacting with the database.\n",
    "Only use the below tools. Only use the information returned by the below tools to construct your final answer.\n",
    "You MUST double check your query before executing it. If you get an error while executing a query, rewrite the query and try again.\n",
    "\n",
    "DO NOT make any DML statements (INSERT, UPDATE, DELETE, DROP etc.) to the database.\n",
    "\n",
    "To start you should ALWAYS look at the tables in the database to see what you can query.\n",
    "Do NOT skip this step.\n",
    "Then you should query the schema of the most relevant tables.\"\"\"\n",
    "\n",
    "system_message = SystemMessage(content=SQL_PREFIX)"
   ]
  },
  {
   "cell_type": "markdown",
   "metadata": {},
   "source": [
    "エージェントの初期化"
   ]
  },
  {
   "cell_type": "code",
   "execution_count": 75,
   "metadata": {},
   "outputs": [],
   "source": [
    "from langchain_core.messages import HumanMessage\n",
    "from langgraph.prebuilt import create_react_agent\n",
    "\n",
    "agent_executor = create_react_agent(model=llm, tools=tools, state_modifier=system_message)"
   ]
  },
  {
   "cell_type": "code",
   "execution_count": 76,
   "metadata": {},
   "outputs": [
    {
     "name": "stdout",
     "output_type": "stream",
     "text": [
      "================================\u001b[1m Human Message \u001b[0m=================================\n",
      "\n",
      " どの国の顧客が最も消費しましたか？\n",
      "==================================\u001b[1m Ai Message \u001b[0m==================================\n",
      "Tool Calls:\n",
      "  sql_db_query_checker (call_SG3zUg5VxZQxPJo8Ms7guR5h)\n",
      " Call ID: call_SG3zUg5VxZQxPJo8Ms7guR5h\n",
      "  Args:\n",
      "    query: SELECT Country, SUM(Total) as TotalSpent FROM Customer JOIN Invoice ON Customer.CustomerId = Invoice.CustomerId GROUP BY Country ORDER BY TotalSpent DESC LIMIT 5;\n",
      "=================================\u001b[1m Tool Message \u001b[0m=================================\n",
      "Name: sql_db_query_checker\n",
      "\n",
      "```sql\n",
      "SELECT Country, SUM(Total) as TotalSpent FROM Customer JOIN Invoice ON Customer.CustomerId = Invoice.CustomerId GROUP BY Country ORDER BY TotalSpent DESC LIMIT 5;\n",
      "```\n",
      "==================================\u001b[1m Ai Message \u001b[0m==================================\n",
      "Tool Calls:\n",
      "  sql_db_query (call_02FN3kLs48996BRovJcTjvka)\n",
      " Call ID: call_02FN3kLs48996BRovJcTjvka\n",
      "  Args:\n",
      "    query: SELECT Country, SUM(Total) as TotalSpent FROM Customer JOIN Invoice ON Customer.CustomerId = Invoice.CustomerId GROUP BY Country ORDER BY TotalSpent DESC LIMIT 5;\n",
      "=================================\u001b[1m Tool Message \u001b[0m=================================\n",
      "Name: sql_db_query\n",
      "\n",
      "[('USA', 523.0600000000003), ('Canada', 303.9599999999999), ('France', 195.09999999999994), ('Brazil', 190.09999999999997), ('Germany', 156.48)]\n",
      "==================================\u001b[1m Ai Message \u001b[0m==================================\n",
      "\n",
      "最も消費した顧客の国は以下の通りです：\n",
      "\n",
      "1. アメリカ (USA): 523.06\n",
      "2. カナダ (Canada): 303.96\n",
      "3. フランス (France): 195.10\n",
      "4. ブラジル (Brazil): 190.10\n",
      "5. ドイツ (Germany): 156.48\n",
      "\n",
      "これらの国の顧客が最も多く消費しました。\n"
     ]
    }
   ],
   "source": [
    "query = \" どの国の顧客が最も消費しましたか？\"\n",
    "output_stream = agent_executor.stream({\"messages\": [HumanMessage(content=query)]}, stream_mode=\"values\")\n",
    "\n",
    "for e in output_stream:\n",
    "    e[\"messages\"][-1].pretty_print()"
   ]
  },
  {
   "cell_type": "code",
   "execution_count": 77,
   "metadata": {},
   "outputs": [
    {
     "name": "stdout",
     "output_type": "stream",
     "text": [
      "================================\u001b[1m Human Message \u001b[0m=================================\n",
      "\n",
      "テーブル一覧を教えて\n",
      "==================================\u001b[1m Ai Message \u001b[0m==================================\n",
      "Tool Calls:\n",
      "  sql_db_list_tables (call_1nA4IiYmV6rXFjdZEb8da5q7)\n",
      " Call ID: call_1nA4IiYmV6rXFjdZEb8da5q7\n",
      "  Args:\n",
      "=================================\u001b[1m Tool Message \u001b[0m=================================\n",
      "Name: sql_db_list_tables\n",
      "\n",
      "Album, Artist, Customer, Employee, Genre, Invoice, InvoiceLine, MediaType, Playlist, PlaylistTrack, Track\n",
      "==================================\u001b[1m Ai Message \u001b[0m==================================\n",
      "\n",
      "データベースには以下のテーブルがあります：\n",
      "\n",
      "- Album\n",
      "- Artist\n",
      "- Customer\n",
      "- Employee\n",
      "- Genre\n",
      "- Invoice\n",
      "- InvoiceLine\n",
      "- MediaType\n",
      "- Playlist\n",
      "- PlaylistTrack\n",
      "- Track\n"
     ]
    }
   ],
   "source": [
    "query = \"テーブル一覧を教えて\"\n",
    "output_stream = agent_executor.stream({\"messages\": [HumanMessage(content=query)]}, stream_mode=\"values\")\n",
    "\n",
    "for e in output_stream:\n",
    "    e[\"messages\"][-1].pretty_print()"
   ]
  },
  {
   "cell_type": "code",
   "execution_count": 78,
   "metadata": {},
   "outputs": [
    {
     "name": "stdout",
     "output_type": "stream",
     "text": [
      "================================\u001b[1m Human Message \u001b[0m=================================\n",
      "\n",
      "PlaylistTrackテーブルを説明して\n",
      "==================================\u001b[1m Ai Message \u001b[0m==================================\n",
      "Tool Calls:\n",
      "  sql_db_schema (call_pojdSHgaKcw6fn8Gxecc3LLW)\n",
      " Call ID: call_pojdSHgaKcw6fn8Gxecc3LLW\n",
      "  Args:\n",
      "    table_names: PlaylistTrack\n",
      "=================================\u001b[1m Tool Message \u001b[0m=================================\n",
      "Name: sql_db_schema\n",
      "\n",
      "\n",
      "CREATE TABLE \"PlaylistTrack\" (\n",
      "\t\"PlaylistId\" INTEGER NOT NULL, \n",
      "\t\"TrackId\" INTEGER NOT NULL, \n",
      "\tPRIMARY KEY (\"PlaylistId\", \"TrackId\"), \n",
      "\tFOREIGN KEY(\"TrackId\") REFERENCES \"Track\" (\"TrackId\"), \n",
      "\tFOREIGN KEY(\"PlaylistId\") REFERENCES \"Playlist\" (\"PlaylistId\")\n",
      ")\n",
      "\n",
      "/*\n",
      "3 rows from PlaylistTrack table:\n",
      "PlaylistId\tTrackId\n",
      "1\t3402\n",
      "1\t3389\n",
      "1\t3390\n",
      "*/\n",
      "==================================\u001b[1m Ai Message \u001b[0m==================================\n",
      "\n",
      "`PlaylistTrack`テーブルは、音楽プレイリストとトラックの関連付けを管理するためのテーブルです。このテーブルは以下のカラムを持っています：\n",
      "\n",
      "- **PlaylistId**: プレイリストのID（整数型、NOT NULL）。これは`Playlist`テーブルの外部キーです。\n",
      "- **TrackId**: トラックのID（整数型、NOT NULL）。これは`Track`テーブルの外部キーです。\n",
      "\n",
      "このテーブルの主な目的は、特定のプレイリストに含まれるトラックを示すことであり、`PlaylistId`と`TrackId`の組み合わせが主キーとして設定されています。\n"
     ]
    }
   ],
   "source": [
    "query = \"PlaylistTrackテーブルを説明して\"\n",
    "output_stream = agent_executor.stream({\"messages\": [HumanMessage(content=query)]}, stream_mode=\"values\")\n",
    "\n",
    "for e in output_stream:\n",
    "    e[\"messages\"][-1].pretty_print()"
   ]
  },
  {
   "cell_type": "markdown",
   "metadata": {},
   "source": [
    "## 値のバリエーションが多いカラムのフィルタリング\n",
    "\n",
    "住所、曲名、アーティストなどの固有名詞を含む列をフィルタリングするには、データを正しくフィルタリングするために、まずスペルを再確認する必要があります。\n",
    "\n",
    "これを実現するには、データベース内に存在するすべての固有名詞を含むベクトル ストアを作成します。  \n",
    "その後、ユーザーが質問に固有名詞を含めるたびに、エージェントがそのベクトル ストアをクエリして、その単語の正しいスペルを検索します。  \n",
    "このようにして、エージェントはターゲット クエリを構築する前に、ユーザーがどのエンティティを参照しているかを確実に理解できます。\n",
    "\n",
    "まず、必要なエンティティごとに一意の値が必要であり、その結果を要素のリストに解析する関数を定義します。"
   ]
  },
  {
   "cell_type": "code",
   "execution_count": 79,
   "metadata": {},
   "outputs": [
    {
     "name": "stdout",
     "output_type": "stream",
     "text": [
      "['Chicago Symphony Chorus, Chicago Symphony Orchestra & Sir Georg Solti',\n",
      " 'Kiss',\n",
      " 'O Terço',\n",
      " 'Emanuel Ax, Eugene Ormandy & Philadelphia Orchestra',\n",
      " 'Luiz Melodia']\n",
      "['Unplugged',\n",
      " 'Motley Crue Greatest Hits',\n",
      " 'Balls to the Wall',\n",
      " 'Rock In Rio [CD1]',\n",
      " 'SCRIABIN: Vers la flamme']\n"
     ]
    }
   ],
   "source": [
    "from pprint import pprint\n",
    "import ast\n",
    "import re\n",
    "\n",
    "\n",
    "def query_as_list(db, query):\n",
    "    res = db.run(query)\n",
    "    res = [el for sub in ast.literal_eval(res) for el in sub if el]\n",
    "    res = [re.sub(r\"\\b\\d+\\b\", \"\", string).strip() for string in res]\n",
    "    return list(set(res))\n",
    "\n",
    "\n",
    "artists = query_as_list(db, \"SELECT Name FROM Artist\")\n",
    "pprint(artists[:5])\n",
    "albums = query_as_list(db, \"SELECT Title FROM Album\")\n",
    "pprint(albums[:5])"
   ]
  },
  {
   "cell_type": "markdown",
   "metadata": {},
   "source": [
    "ベクトルストアに取得した値を登録"
   ]
  },
  {
   "cell_type": "code",
   "execution_count": 80,
   "metadata": {},
   "outputs": [],
   "source": [
    "from langchain.agents.agent_toolkits import create_retriever_tool\n",
    "from langchain_community.vectorstores import FAISS\n",
    "from langchain_openai import OpenAIEmbeddings\n",
    "\n",
    "vector_db = FAISS.from_texts(artists + albums, OpenAIEmbeddings())\n",
    "retriever = vector_db.as_retriever(search_kwargs={\"k\": 5})\n",
    "description = \"\"\"\n",
    "フィルタリングする値を検索するために使用します。入力は固有名詞のおおよそのスペルです。\n",
    "有効な固有名詞です。検索に最も類似した名詞を使用します。\n",
    "\"\"\"\n",
    "retriever_tool = create_retriever_tool(retriever=retriever, name=\"search_proper_nouns\", description=description)"
   ]
  },
  {
   "cell_type": "markdown",
   "metadata": {},
   "source": [
    "エージェントが「Alice Chains」のようなアーティストに基づいてフィルターを作成する必要があると判断した場合、最初に取得ツールを使用して列の関連する値を観察できます。"
   ]
  },
  {
   "cell_type": "code",
   "execution_count": 81,
   "metadata": {},
   "outputs": [
    {
     "name": "stdout",
     "output_type": "stream",
     "text": [
      "Alice In Chains\n",
      "\n",
      "Alanis Morissette\n",
      "\n",
      "Pearl Jam\n",
      "\n",
      "Pearl Jam\n",
      "\n",
      "Audioslave\n"
     ]
    }
   ],
   "source": [
    "print(retriever_tool.invoke(\"Alice Chains\"))"
   ]
  },
  {
   "cell_type": "code",
   "execution_count": 83,
   "metadata": {},
   "outputs": [],
   "source": [
    "system = \"\"\"You are an agent designed to interact with a SQL database.\n",
    "Given an input question, create a syntactically correct SQLite query to run, then look at the results of the query and return the answer.\n",
    "Unless the user specifies a specific number of examples they wish to obtain, always limit your query to at most 5 results.\n",
    "You can order the results by a relevant column to return the most interesting examples in the database.\n",
    "Never query for all the columns from a specific table, only ask for the relevant columns given the question.\n",
    "You have access to tools for interacting with the database.\n",
    "Only use the given tools. Only use the information returned by the tools to construct your final answer.\n",
    "You MUST double check your query before executing it. If you get an error while executing a query, rewrite the query and try again.\n",
    "\n",
    "DO NOT make any DML statements (INSERT, UPDATE, DELETE, DROP etc.) to the database.\n",
    "\n",
    "You have access to the following tables: {table_names}\n",
    "\n",
    "If you need to filter on a proper noun, you must ALWAYS first look up the filter value using the \"search_proper_nouns\" tool!\n",
    "Do not try to guess at the proper name - use this function to find similar ones.\"\"\".format(\n",
    "    table_names=db.get_usable_table_names()\n",
    ")\n",
    "\n",
    "system_message = SystemMessage(content=system)\n",
    "\n",
    "tools.append(retriever_tool)\n",
    "\n",
    "agent_executor = create_react_agent(llm, tools, state_modifier=system_message)"
   ]
  },
  {
   "cell_type": "code",
   "execution_count": 84,
   "metadata": {},
   "outputs": [
    {
     "name": "stdout",
     "output_type": "stream",
     "text": [
      "================================\u001b[1m Human Message \u001b[0m=================================\n",
      "\n",
      "alis in chainのアルバムは何枚ありますか？\n",
      "==================================\u001b[1m Ai Message \u001b[0m==================================\n",
      "Tool Calls:\n",
      "  search_proper_nouns (call_Y46wkYuuF9DMPRFh6AEsHEUn)\n",
      " Call ID: call_Y46wkYuuF9DMPRFh6AEsHEUn\n",
      "  Args:\n",
      "    query: alis in chain\n",
      "=================================\u001b[1m Tool Message \u001b[0m=================================\n",
      "Name: search_proper_nouns\n",
      "\n",
      "Alice In Chains\n",
      "\n",
      "Aisha Duo\n",
      "\n",
      "Xis\n",
      "\n",
      "Da Lama Ao Caos\n",
      "\n",
      "A-Sides\n",
      "==================================\u001b[1m Ai Message \u001b[0m==================================\n",
      "Tool Calls:\n",
      "  sql_db_query (call_vAtLWtPBkpq5fXpYUqdmZq9y)\n",
      " Call ID: call_vAtLWtPBkpq5fXpYUqdmZq9y\n",
      "  Args:\n",
      "    query: SELECT COUNT(*) AS album_count FROM Album WHERE ArtistId = (SELECT ArtistId FROM Artist WHERE Name = 'Alice In Chains')\n",
      "=================================\u001b[1m Tool Message \u001b[0m=================================\n",
      "Name: sql_db_query\n",
      "\n",
      "[(1,)]\n",
      "==================================\u001b[1m Ai Message \u001b[0m==================================\n",
      "\n",
      "「Alice In Chains」のアルバムは1枚あります。\n"
     ]
    }
   ],
   "source": [
    "query = \"alis in chainのアルバムは何枚ありますか？\"\n",
    "output_stream = agent_executor.stream({\"messages\": [HumanMessage(content=query)]}, stream_mode=\"values\")\n",
    "\n",
    "for e in output_stream:\n",
    "    e[\"messages\"][-1].pretty_print()"
   ]
  },
  {
   "cell_type": "code",
   "execution_count": null,
   "metadata": {},
   "outputs": [],
   "source": []
  }
 ],
 "metadata": {
  "kernelspec": {
   "display_name": "Python 3 (ipykernel)",
   "language": "python",
   "name": "python3"
  },
  "language_info": {
   "codemirror_mode": {
    "name": "ipython",
    "version": 3
   },
   "file_extension": ".py",
   "mimetype": "text/x-python",
   "name": "python",
   "nbconvert_exporter": "python",
   "pygments_lexer": "ipython3",
   "version": "3.12.7"
  }
 },
 "nbformat": 4,
 "nbformat_minor": 2
}
