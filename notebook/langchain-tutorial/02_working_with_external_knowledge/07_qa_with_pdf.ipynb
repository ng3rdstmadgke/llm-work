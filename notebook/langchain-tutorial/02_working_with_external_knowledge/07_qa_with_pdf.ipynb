{
 "cells": [
  {
   "cell_type": "markdown",
   "metadata": {
    "vscode": {
     "languageId": "plaintext"
    }
   },
   "source": [
    "# [Build a PDF ingestion and Question/Answering system](https://python.langchain.com/docs/tutorials/pdf_qa/)\n"
   ]
  },
  {
   "cell_type": "code",
   "execution_count": 26,
   "metadata": {},
   "outputs": [],
   "source": [
    "# PDFのダウンロード (BEM280のデータシート)\n",
    "!mkdir -p langchain-tutorial/resources\n",
    "!wget https://www.mouser.jp/datasheet/2/783/bst_bme280_ds002-2238172.pdf -O langchain-tutorial/resources/bme280_datasheet.pdf > /dev/null 2>&1"
   ]
  },
  {
   "cell_type": "markdown",
   "metadata": {},
   "source": [
    "# ■ プレビュー"
   ]
  },
  {
   "cell_type": "code",
   "execution_count": 28,
   "metadata": {},
   "outputs": [],
   "source": [
    "from langchain_openai import ChatOpenAI, OpenAIEmbeddings\n",
    "from langchain_community.document_loaders import PyPDFLoader\n",
    "from langchain_text_splitters import RecursiveCharacterTextSplitter\n",
    "from langchain_core.vectorstores import InMemoryVectorStore\n",
    "from langchain.chains import create_retrieval_chain\n",
    "from langchain.chains.combine_documents import create_stuff_documents_chain\n",
    "from langchain_core.prompts import ChatPromptTemplate, SystemMessagePromptTemplate, HumanMessagePromptTemplate\n",
    "\n",
    "\n",
    "# モデル\n",
    "llm = ChatOpenAI(model=\"gpt-4o\")\n",
    "\n",
    "# PDFの読み込み\n",
    "file_path = \"langchain-tutorial/resources/bme280_datasheet.pdf\"\n",
    "loader = PyPDFLoader(file_path)\n",
    "docs = loader.load()\n",
    "\n",
    "# 分割 (1000文字ごとに分割)\n",
    "text_splitter = RecursiveCharacterTextSplitter(chunk_size=1000, chunk_overlap=200)\n",
    "splits = text_splitter.split_documents(docs)\n",
    "\n",
    "# ベクトル化して保存\n",
    "vectorstore = InMemoryVectorStore.from_documents(documents=splits, embedding=OpenAIEmbeddings())\n",
    "\n",
    "# Retrieverの作成\n",
    "retriever = vectorstore.as_retriever()\n",
    "\n",
    "# チェーンの作成\n",
    "system_prompt = \"\"\"\n",
    "あなたは質問応答のアシスタントです。\n",
    "質問に答えるために、検索された文脈の以下の部分を使用してください。\n",
    "答えがわからない場合は、わからないと答えましょう。\n",
    "\n",
    "{context}\n",
    "\"\"\"\n",
    "\n",
    "prompt = ChatPromptTemplate([\n",
    "    SystemMessagePromptTemplate.from_template(system_prompt),\n",
    "    HumanMessagePromptTemplate.from_template(\"{input}\")\n",
    "])\n",
    "\n",
    "question_answer_chain = create_stuff_documents_chain(llm=llm, prompt=prompt)\n",
    "rag_chain = create_retrieval_chain(retriever=retriever, combine_docs_chain=question_answer_chain)"
   ]
  },
  {
   "cell_type": "code",
   "execution_count": 29,
   "metadata": {},
   "outputs": [
    {
     "data": {
      "text/plain": [
       "{'input': 'データの送受信の仕様を教えて',\n",
       " 'context': [Document(id='b553b761-7a40-4958-84a5-e8a177df5d31', metadata={'source': 'langchain-tutorial/resources/bme280_datasheet.pdf', 'page': 6}, page_content='10.3 Usage ...................................................................................................................................... 55 \\n10.3.1 File and function pointer integration ....................................................................... 55 \\n10.3.2 Function call ............................................................................................................ 55 \\n10.3.3 Test time and interface requirements ..................................................................... 55 \\n10.4 Function explanation ............................................................................................................... 56 \\n10.4.1 Communication test ................................................................................................ 56 \\n10.4.2 Bond wire test ......................................................................................................... 56'),\n",
       "  Document(id='625aea2a-95aa-4ea6-8808-f8b707cf5512', metadata={'source': 'langchain-tutorial/resources/bme280_datasheet.pdf', 'page': 6}, page_content='10.4.2 Bond wire test ......................................................................................................... 56 \\n10.4.3 Measurement plausibility test ................................................................................. 56 \\n10.5 Sample read, write and delay function .................................................................................... 57 \\n11. Legal disclaimer ............................................................................................................................. 58 \\n11.1 Engineering samples ............................................................................................................... 58 \\n11.2 Product use.............................................................................................................................. 58 \\n11.3 Application examples and hints ............................................................................................... 58'),\n",
       "  Document(id='54028e8a-d586-48e6-8936-f9d6ca2b33f6', metadata={'source': 'langchain-tutorial/resources/bme280_datasheet.pdf', 'page': 33}, page_content='Refer to chapter 7 for connection instructions.  \\n \\nCSB is active low and has an integrated pull-up resistor. Data on SDI is latched by the device at SCK \\nrising edge and SDO is changed at SCK falling edge. Communication starts when CSB goes to low \\nand stops when CSB goes to high; during these transitions on CSB, SCK must be stable. The SPI \\nprotocol is shown in Figure 11. For timing details, please review Table 34.   \\nCSB \\nSCK \\nSDI \\nRW AD6 AD5 AD4 AD3 AD2 AD1 AD0 DI5 DI4 DI3 DI2 DI1 DI0 DI7 DI6 \\nSDO \\nDO5 DO4 DO3 DO2 DO1 DO0 DO7 DO6 tri-state \\n \\nFigure 11: SPI protocol (shown for mode ‘11’ in 4-wire configuration) \\nIn SPI mode, only 7 bits of the register addresses are used; the MSB of register address is not used \\nand replaced by a read/write bit (RW = ‘0’ for write and RW = ‘1’ for read).  \\nExample: address 0xF7 is accessed by using SPI register address 0x77. For write access, the byte \\n0x77 is transferred, for read access, the byte 0xF7 is transferred.  \\n6.3.1 SPI write'),\n",
       "  Document(id='9ae6a10d-e24e-4b0d-b9a3-3270406ca7a3', metadata={'source': 'langchain-tutorial/resources/bme280_datasheet.pdf', 'page': 37}, page_content='4 SCK In Serial clock input SCK SCK SCL \\n5 SDO In/Out Serial data output SDO DNC GND for \\ndefault \\naddress \\n6 VDDIO Supply Digital / Interface \\nsupply \\nVDDIO \\n7 GND Supply Ground GND \\n8 VDD Supply Analog supply VDD')],\n",
       " 'answer': '提供された文脈から、データの送受信はSPIプロトコルを使用して行われることがわかります。以下にいくつかの詳細を示します：\\n\\n- CSB（チップセレクトビット）は低アクティブで、統合されたプルアップ抵抗があります。\\n- SDI（シリアルデータ入力）は、SCK（シリアルクロック）の立ち上がりエッジでデバイスによってラッチされます。\\n- SDO（シリアルデータ出力）は、SCKの立ち下がりエッジで変更されます。\\n- 通信はCSBが低になると開始し、高になると停止します。このCSBの遷移中、SCKは安定している必要があります。\\n- SPIモードでは、レジスタアドレスの7ビットのみが使用され、MSBは使用されず、読み書きビット（RW = ‘0’は書き込み、RW = ‘1’は読み取り）に置き換えられます。\\n\\n具体的なアドレス例やデータの転送については、文脈で示されています。たとえば、アドレス0xF7はSPIレジスタアドレス0x77を使用してアクセスされます。書き込みの場合、バイト0x77が転送され、読み取りの場合、バイト0xF7が転送されます。'}"
      ]
     },
     "execution_count": 29,
     "metadata": {},
     "output_type": "execute_result"
    }
   ],
   "source": [
    "results = rag_chain.invoke({\"input\": \"データの送受信の仕様を教えて\"})\n",
    "results"
   ]
  },
  {
   "cell_type": "markdown",
   "metadata": {},
   "source": [
    "# ■ プレビュー (エージェント)"
   ]
  },
  {
   "cell_type": "code",
   "execution_count": 39,
   "metadata": {},
   "outputs": [],
   "source": [
    "from typing import List\n",
    "from langchain_core.documents import Document\n",
    "from langgraph.graph.graph import CompiledGraph\n",
    "\n",
    "from langchain_openai import ChatOpenAI, OpenAIEmbeddings\n",
    "from langchain_text_splitters import RecursiveCharacterTextSplitter\n",
    "from langchain_core.vectorstores import InMemoryVectorStore\n",
    "from langchain.tools.retriever import create_retriever_tool\n",
    "from langgraph.checkpoint.memory import MemorySaver\n",
    "from langgraph.prebuilt import create_react_agent\n",
    "\n",
    "# モデル\n",
    "llm = ChatOpenAI(model=\"gpt-4o\", temperature=0)\n",
    "\n",
    "# PDFの読み込み\n",
    "file_path = \"langchain-tutorial/resources/bme280_datasheet.pdf\"\n",
    "loader = PyPDFLoader(file_path)\n",
    "docs: List[Document] = loader.load()\n",
    "\n",
    "# 分割・ベクトル化して保存\n",
    "text_splitter = RecursiveCharacterTextSplitter(chunk_size=1000, chunk_overlap=200)\n",
    "splits: List[Document] = text_splitter.split_documents(docs)\n",
    "vectorstore = InMemoryVectorStore.from_documents(documents=splits, embedding=OpenAIEmbeddings())\n",
    "\n",
    "# Retrieverの作成\n",
    "retriever = vectorstore.as_retriever()\n",
    "\n",
    "# Retrieverツールの作成\n",
    "tool = create_retriever_tool(\n",
    "    retriever=retriever,\n",
    "    name=\"bme280_datasheet_retriever\",\n",
    "    description=\"BME280のデータシートから情報を検索するためのツール\",\n",
    ")\n",
    "\n",
    "# エージェントの作成\n",
    "memory = MemorySaver()\n",
    "agent_executor: CompiledGraph = create_react_agent(\n",
    "    model=llm,\n",
    "    tools=[tool],\n",
    "    checkpointer=memory,\n",
    "    debug=False,\n",
    ")"
   ]
  },
  {
   "cell_type": "code",
   "execution_count": 40,
   "metadata": {},
   "outputs": [
    {
     "name": "stdout",
     "output_type": "stream",
     "text": [
      "================================\u001b[1m Human Message \u001b[0m=================================\n",
      "\n",
      "データの送受信の仕様を教えて\n",
      "==================================\u001b[1m Ai Message \u001b[0m==================================\n",
      "Tool Calls:\n",
      "  bme280_datasheet_retriever (call_jrjoQRQsorF6ID2AKolFNUPf)\n",
      " Call ID: call_jrjoQRQsorF6ID2AKolFNUPf\n",
      "  Args:\n",
      "    query: データの送受信の仕様\n",
      "=================================\u001b[1m Tool Message \u001b[0m=================================\n",
      "Name: bme280_datasheet_retriever\n",
      "\n",
      "10.3 Usage ...................................................................................................................................... 55 \n",
      "10.3.1 File and function pointer integration ....................................................................... 55 \n",
      "10.3.2 Function call ............................................................................................................ 55 \n",
      "10.3.3 Test time and interface requirements ..................................................................... 55 \n",
      "10.4 Function explanation ............................................................................................................... 56 \n",
      "10.4.1 Communication test ................................................................................................ 56 \n",
      "10.4.2 Bond wire test ......................................................................................................... 56\n",
      "\n",
      "10.4.2 Bond wire test ......................................................................................................... 56 \n",
      "10.4.3 Measurement plausibility test ................................................................................. 56 \n",
      "10.5 Sample read, write and delay function .................................................................................... 57 \n",
      "11. Legal disclaimer ............................................................................................................................. 58 \n",
      "11.1 Engineering samples ............................................................................................................... 58 \n",
      "11.2 Product use.............................................................................................................................. 58 \n",
      "11.3 Application examples and hints ............................................................................................... 58\n",
      "\n",
      "6. Digital interfaces ............................................................................................................................ 32 \n",
      "6.1 Interface selection ................................................................................................................... 32 \n",
      "6.2 I²C Interface ............................................................................................................................. 32 \n",
      "6.2.1 I²C write................................................................................................................... 33 \n",
      "6.2.2 I²C read ................................................................................................................... 33 \n",
      "6.3 SPI interface ............................................................................................................................ 34 \n",
      "6.3.1 SPI write.................................................................................................................. 34\n",
      "\n",
      "data rate. For the example above with 11.5 ms measurement time, the typically achievable output data \n",
      "rate would be: \n",
      "𝑂𝑂𝑂𝑂𝑅𝑅𝑚𝑚𝑚𝑚𝑚𝑚,𝑓𝑓𝑜𝑜𝑚𝑚𝑓𝑓𝑚𝑚𝑓𝑓 = 1000\n",
      "11.5 = 87 Hz \n",
      "9.3 Measurement rate in normal mode \n",
      "The measurement rate in normal mode depends on the measurement time and the standby time and \n",
      "can be calculated in Hz using the following formula: \n",
      " \n",
      "𝑂𝑂𝑂𝑂𝑅𝑅𝑛𝑛𝑜𝑜𝑚𝑚𝑚𝑚𝑚𝑚𝑙𝑙_𝑚𝑚𝑜𝑜𝑓𝑓𝑚𝑚 = 1000\n",
      "𝑡𝑡𝑚𝑚𝑚𝑚𝑚𝑚𝑚𝑚𝑚𝑚𝑚𝑚𝑚𝑚 + 𝑡𝑡𝑚𝑚𝑡𝑡𝑚𝑚𝑛𝑛𝑓𝑓𝑠𝑠𝑡𝑡\n",
      " \n",
      " \n",
      "The accuracy of tstandby is described in the specification parameter Δtstandby. For the example above with \n",
      "11.5 ms measurement time, setting normal mode with a standby time of 62.5 ms would result in a data \n",
      "rate of:  \n",
      "𝑂𝑂𝑂𝑂𝑅𝑅𝑛𝑛𝑜𝑜𝑚𝑚𝑚𝑚𝑚𝑚𝑙𝑙_𝑚𝑚𝑜𝑜𝑓𝑓𝑚𝑚 = 1000\n",
      "11.5 + 62.5 = 13.51 Hz\n",
      "==================================\u001b[1m Ai Message \u001b[0m==================================\n",
      "\n",
      "BME280のデータ送受信の仕様については、以下の情報があります。\n",
      "\n",
      "### デジタルインターフェース\n",
      "BME280は、I²CおよびSPIのデジタルインターフェースをサポートしています。\n",
      "\n",
      "#### I²Cインターフェース\n",
      "- **I²C書き込み**: デバイスにデータを書き込むための手順が記載されています。\n",
      "- **I²C読み取り**: デバイスからデータを読み取るための手順が記載されています。\n",
      "\n",
      "#### SPIインターフェース\n",
      "- **SPI書き込み**: デバイスにデータを書き込むための手順が記載されています。\n",
      "\n",
      "### 通信テスト\n",
      "- **通信テスト**: デバイスとの通信が正しく行われているかを確認するためのテスト方法が記載されています。\n",
      "\n",
      "### 測定レート\n",
      "- **通常モードの測定レート**: 測定時間とスタンバイ時間に基づいて、通常モードでの測定レートをHzで計算する方法が記載されています。例えば、11.5 msの測定時間と62.5 msのスタンバイ時間を設定した場合、データレートは13.51 Hzになります。\n",
      "\n",
      "これらの情報は、BME280のデータシートに詳細に記載されています。データの送受信に関する具体的な手順や設定方法については、データシートを参照することをお勧めします。\n"
     ]
    }
   ],
   "source": [
    "from langchain_core.runnables import RunnableConfig\n",
    "from langchain_core.messages import HumanMessage\n",
    "\n",
    "config = RunnableConfig(configurable={\"thread_id\": \"11111111111111111111\"})\n",
    "query = \"データの送受信の仕様を教えて\"\n",
    "\n",
    "output_stream = agent_executor.stream(\n",
    "    input={\"messages\": [ HumanMessage(query) ]},\n",
    "    config=config,\n",
    "    stream_mode=\"values\"\n",
    ")\n",
    "\n",
    "for event in output_stream:\n",
    "    event[\"messages\"][-1].pretty_print()"
   ]
  },
  {
   "cell_type": "code",
   "execution_count": 41,
   "metadata": {},
   "outputs": [
    {
     "name": "stdout",
     "output_type": "stream",
     "text": [
      "================================\u001b[1m Human Message \u001b[0m=================================\n",
      "\n",
      "SPIインターフェースについて教えて\n",
      "==================================\u001b[1m Ai Message \u001b[0m==================================\n",
      "Tool Calls:\n",
      "  bme280_datasheet_retriever (call_ieoga2Wi2TUf2kwBbLNDhXyR)\n",
      " Call ID: call_ieoga2Wi2TUf2kwBbLNDhXyR\n",
      "  Args:\n",
      "    query: SPI interface\n",
      "=================================\u001b[1m Tool Message \u001b[0m=================================\n",
      "Name: bme280_datasheet_retriever\n",
      "\n",
      "6.3.1 SPI write.................................................................................................................. 34 \n",
      "6.3.2 SPI read .................................................................................................................. 35 \n",
      "6.4 Interface parameter specification ............................................................................................ 35 \n",
      "6.4.1 General interface parameters ................................................................................. 35 \n",
      "6.4.2 I²C timings ............................................................................................................... 35 \n",
      "6.4.3 SPI timings .............................................................................................................. 36\n",
      "\n",
      "6. Digital interfaces ............................................................................................................................ 32 \n",
      "6.1 Interface selection ................................................................................................................... 32 \n",
      "6.2 I²C Interface ............................................................................................................................. 32 \n",
      "6.2.1 I²C write................................................................................................................... 33 \n",
      "6.2.2 I²C read ................................................................................................................... 33 \n",
      "6.3 SPI interface ............................................................................................................................ 34 \n",
      "6.3.1 SPI write.................................................................................................................. 34\n",
      "\n",
      "Refer to chapter 7 for connection instructions.  \n",
      " \n",
      "CSB is active low and has an integrated pull-up resistor. Data on SDI is latched by the device at SCK \n",
      "rising edge and SDO is changed at SCK falling edge. Communication starts when CSB goes to low \n",
      "and stops when CSB goes to high; during these transitions on CSB, SCK must be stable. The SPI \n",
      "protocol is shown in Figure 11. For timing details, please review Table 34.   \n",
      "CSB \n",
      "SCK \n",
      "SDI \n",
      "RW AD6 AD5 AD4 AD3 AD2 AD1 AD0 DI5 DI4 DI3 DI2 DI1 DI0 DI7 DI6 \n",
      "SDO \n",
      "DO5 DO4 DO3 DO2 DO1 DO0 DO7 DO6 tri-state \n",
      " \n",
      "Figure 11: SPI protocol (shown for mode ‘11’ in 4-wire configuration) \n",
      "In SPI mode, only 7 bits of the register addresses are used; the MSB of register address is not used \n",
      "and replaced by a read/write bit (RW = ‘0’ for write and RW = ‘1’ for read).  \n",
      "Example: address 0xF7 is accessed by using SPI register address 0x77. For write access, the byte \n",
      "0x77 is transferred, for read access, the byte 0xF7 is transferred.  \n",
      "6.3.1 SPI write\n",
      "\n",
      "VDDIO, the I²C interface is active. If CSB is pulled down, the SPI interface is activated. After CSB has \n",
      "been pulled down once (regardless of whether any clock cycle occurred), the I²C interface is disabled \n",
      "until the next power-on-reset. This is done in order to avoid inadvertently decoding SPI traffic to \n",
      "another slave as I²C data. Since the device startup is deferred until both VDD and VDDIO are \n",
      "established, there is no risk of incorrect protocol detection because of the power -up sequence used. \n",
      "However, if I²C is to be used and CSB is not directly connected to VDDIO but is instead connected to a \n",
      "programmable pin, it must be ensured that this pin already outputs the VDDIO level during power-on-\n",
      "reset of the device. If this is not the case, the device will be locked in SPI mode and not respond to I²C \n",
      "commands.  \n",
      "6.2 I²C Interface \n",
      "The I²C slave interface is compatible with Philips I²C Specification version 2.1. For detailed timings,\n",
      "==================================\u001b[1m Ai Message \u001b[0m==================================\n",
      "\n",
      "BME280のSPIインターフェースについての情報は以下の通りです。\n",
      "\n",
      "### SPIインターフェースの概要\n",
      "- **CSBピン**: アクティブローで、内部にプルアップ抵抗が組み込まれています。CSBが低くなると通信が開始され、高くなると通信が停止します。この間、SCKは安定している必要があります。\n",
      "- **SDIとSDO**: SDI（データ入力）はSCKの立ち上がりエッジでラッチされ、SDO（データ出力）はSCKの立ち下がりエッジで変更されます。\n",
      "- **SPIプロトコル**: 4線式構成のモード「11」で示されています。通信はCSBが低くなると開始し、高くなると停止します。\n",
      "\n",
      "### SPI通信の詳細\n",
      "- **レジスタアドレス**: SPIモードでは、レジスタアドレスの7ビットのみが使用され、最上位ビット（MSB）は使用されず、読み書きビット（RW = '0'は書き込み、RW = '1'は読み取り）に置き換えられます。\n",
      "  - 例: アドレス0xF7はSPIレジスタアドレス0x77としてアクセスされます。書き込みアクセスの場合、バイト0x77が転送され、読み取りアクセスの場合、バイト0xF7が転送されます。\n",
      "\n",
      "### SPI書き込み\n",
      "- **SPI書き込み手順**: CSBが引き下げられるとSPIインターフェースがアクティブになります。CSBが一度引き下げられると、次の電源オンリセットまでI²Cインターフェースは無効になります。\n",
      "\n",
      "### 注意点\n",
      "- **I²CとSPIの切り替え**: I²Cを使用する場合、CSBがVDDIOに直接接続されていない場合は、デバイスの電源オンリセット時にこのピンがすでにVDDIOレベルを出力していることを確認する必要があります。そうでない場合、デバイスはSPIモードにロックされ、I²Cコマンドに応答しません。\n",
      "\n",
      "これらの仕様に従って、BME280のSPIインターフェースを使用してデータの送受信を行うことができます。詳細なタイミングや接続方法については、データシートの該当セクションを参照してください。\n"
     ]
    }
   ],
   "source": [
    "query = \"SPIインターフェースについて教えて\"\n",
    "\n",
    "output_stream = agent_executor.stream(\n",
    "    input={\"messages\": [ HumanMessage(query) ]},\n",
    "    config=config,\n",
    "    stream_mode=\"values\"\n",
    ")\n",
    "\n",
    "for event in output_stream:\n",
    "    event[\"messages\"][-1].pretty_print()"
   ]
  },
  {
   "cell_type": "markdown",
   "metadata": {},
   "source": [
    "# ■ 解説"
   ]
  },
  {
   "cell_type": "markdown",
   "metadata": {},
   "source": [
    "## 1. PDFの読み込み\n",
    "\n",
    "`PyPDFLoader` を利用してPDFを読み込みます。  \n",
    "\n",
    "※ 目的に合わせて様々なDocumentLoaderがあります: https://python.langchain.com/docs/how_to/#document-loaders\n",
    "\n",
    "やること\n",
    "\n",
    "- 指定されたパスのPDFをメモリに読み込む\n",
    "- `pypdf` パッケージを利用してテキストデータを抽出\n",
    "- PDFの各ページに対して、ページ内容と、ドキュメント内のテキストの出所に関するメタデータを含む `List[Document]` を生成"
   ]
  },
  {
   "cell_type": "code",
   "execution_count": 30,
   "metadata": {},
   "outputs": [
    {
     "name": "stdout",
     "output_type": "stream",
     "text": [
      "60\n"
     ]
    }
   ],
   "source": [
    "from typing import List\n",
    "from langchain_core.documents import Document\n",
    "from langchain_community.document_loaders import PyPDFLoader\n",
    "\n",
    "#file_path = \"https://www.jstage.jst.go.jp/article/mukimate2000/9/300/9_300_327/_pdf\"  # URLを指定してもOK\n",
    "file_path = \"langchain-tutorial/resources/bme280_datasheet.pdf\"\n",
    "loader = PyPDFLoader(file_path)\n",
    "docs: List[Document] = loader.load()\n",
    "\n",
    "print(len(docs))"
   ]
  },
  {
   "cell_type": "code",
   "execution_count": 31,
   "metadata": {},
   "outputs": [
    {
     "name": "stdout",
     "output_type": "stream",
     "text": [
      " \n",
      "  \n",
      "  \n",
      "BME280 – Data sheet  \n",
      "Document revision 1.22 \n",
      "Document release date October 2021 \n",
      "Document n\n",
      "{'source': 'langchain-tutorial/resources/bme280_datasheet.pdf', 'page': 3}\n"
     ]
    }
   ],
   "source": [
    "print(docs[0].page_content[0:100])\n",
    "print(docs[3].metadata)"
   ]
  },
  {
   "cell_type": "markdown",
   "metadata": {},
   "source": [
    "## 2. Retriever\n",
    "\n",
    "読み込んだドキュメントをベクトル化して保存します。"
   ]
  },
  {
   "cell_type": "code",
   "execution_count": 32,
   "metadata": {},
   "outputs": [],
   "source": [
    "from langchain_openai import ChatOpenAI\n",
    "from langchain_core.vectorstores import InMemoryVectorStore\n",
    "from langchain_openai import OpenAIEmbeddings\n",
    "from langchain_text_splitters import RecursiveCharacterTextSplitter\n",
    "\n",
    "llm = ChatOpenAI(model=\"gpt-4o\")\n",
    "\n",
    "# 分割 (1000文字ごとに分割)\n",
    "text_splitter = RecursiveCharacterTextSplitter(chunk_size=1000, chunk_overlap=200)\n",
    "splits: List[Document] = text_splitter.split_documents(docs)\n",
    "\n",
    "# ベクトル化して保存\n",
    "vectorstore = InMemoryVectorStore.from_documents(documents=splits, embedding=OpenAIEmbeddings())\n",
    "\n",
    "# Retrieverの作成\n",
    "retriever = vectorstore.as_retriever()"
   ]
  },
  {
   "cell_type": "markdown",
   "metadata": {},
   "source": [
    "vectorstoreに保存したドキュメントをRetrieverから検索できます"
   ]
  },
  {
   "cell_type": "code",
   "execution_count": 33,
   "metadata": {},
   "outputs": [
    {
     "data": {
      "text/plain": [
       "[Document(id='50bd48e3-bac6-4bd2-aa75-a280e6e5735d', metadata={'source': 'langchain-tutorial/resources/bme280_datasheet.pdf', 'page': 10}, page_content='Solder drift  Minimum solder height \\n50µm \\n-0.5  +2.0 hPa \\nLong term stability6 ∆Pstab per year  ±1.0  hPa \\nPossible sampling rate fsample_P Lowest oversampling, \\nsee chapter 9.2 \\n157 182  Hz \\n \\n1.4 Temperature sensor specification \\nTable 4: Temperature parameter specification \\nParameter Symbol Condition Min Typ Max Unit \\nOperating range T Operational -40 25 85 °C \\nFull accuracy 0  65 °C \\nSupply current IDD,T 1 Hz forced mode, \\ntemperature \\nmeasurement only \\n 1.0  µA \\nAT,25 25 °C  ±0.5  °C \\n                                                      \\n5 When changing temperature by e.g. 10 °C at constant pressure / altitude, the measured pressure / altitude will change by (10 × \\nTCOP).  \\n6 Long term stability is specified in the full accuracy operating pressure range 0 … 65 °C'),\n",
       " Document(id='3a124578-139b-41fe-b779-53159535d278', metadata={'source': 'langchain-tutorial/resources/bme280_datasheet.pdf', 'page': 8}, page_content='Noise in humidity (RMS) NH Highest oversampling, \\nsee chapter 3.6 \\n 0.02  %RH \\nLong term stability ∆Hstab  10…90 %RH, 25 °C  0.5  %RH/\\nyear \\n                                                      \\n1  When exceeding the operating range (e.g. for soldering), humidity sensing performance is temporarily degraded and \\nreconditioning is recommended as described in section 7.8. Operating range only for non-condensing environment. \\n2 For hysteresis measurement the sequence 10\\uf0e030\\uf0e050\\uf0e070\\uf0e090\\uf0e070\\uf0e050\\uf0e030\\uf0e010 %RH is used. The hysteresis is defined as \\nthe difference between measurements of the humidity up / down branch and the averaged curve of both branches \\n3 Non-linear contributions to the sensor data are corrected during the calculation of the relative humidity by the compensation \\nformulas described in section 4.2.3. \\n4 The air-flow in direction to the vent -hole of the device has to be dimensioned in a way that a sufficient air exchange inside to'),\n",
       " Document(id='fcc0f34b-0e4b-4516-87c0-b9b4f47bca12', metadata={'source': 'langchain-tutorial/resources/bme280_datasheet.pdf', 'page': 19}, page_content='Table 10: Settings and performance for gaming \\nSuggested settings for gaming \\nSensor mode normal mode, tstandby = 0.5 ms \\nOversampling settings pressure ×4, temperature ×1, humidity ×0 \\nIIR filter settings filter coefficient 16 \\nPerformance for suggested settings \\nCurrent consumption 581 µA \\nRMS Noise 0.3 Pa / 2.5 cm  \\nData output rate 83 Hz \\nFilter bandwidth 1.75 Hz \\nResponse time (75%) 0.3 s'),\n",
       " Document(id='29a0a41b-eb29-4843-a4fb-1493f457d883', metadata={'source': 'langchain-tutorial/resources/bme280_datasheet.pdf', 'page': 11}, page_content='Bosch Sensortec | BME280 Data sheet 12 | 60 \\nModifications reserved | Data subject to change without notice  \\n Document number: BST-BME280-DS001-22 Revision_1.22_102021 \\nAbsolute accuracy \\ntemperature7 \\nAT,full 0…65 °C  ±0.5  °C \\nAT,ext8 -20 …. 0 °C  ±1.25  °C \\nAT,ext9 -40 … -20 °C  ±1.5  °C \\nOutput resolution RT API output resolution 0.01 °C \\nRMS noise NT Lowest oversampling  0.005  °C \\n \\n  \\n                                                      \\n7 Temperature measured by the internal temperature sensor. This temperature value depends on the PCB temperature, sensor \\nelement self-heating and ambient temperature and is typically above ambient temperature.  \\n8 Target values & not guaranteed \\n9 Target values & not guaranteed')]"
      ]
     },
     "execution_count": 33,
     "metadata": {},
     "output_type": "execute_result"
    }
   ],
   "source": [
    "retriever.invoke(\"測定レンジと精度\")"
   ]
  },
  {
   "cell_type": "markdown",
   "metadata": {},
   "source": [
    "# RAGチェイン\n",
    "\n",
    "`クエリ` -> `Retrieverによる関連文章の検索` -> `LLMによる回答の生成` というチェインを作成します。\n"
   ]
  },
  {
   "cell_type": "code",
   "execution_count": 34,
   "metadata": {},
   "outputs": [],
   "source": [
    "from langchain.chains import create_retrieval_chain\n",
    "from langchain.chains.combine_documents import create_stuff_documents_chain\n",
    "from langchain_core.prompts import ChatPromptTemplate, SystemMessagePromptTemplate, HumanMessagePromptTemplate\n",
    "\n",
    "system_prompt = \"\"\"\n",
    "あなたは質問応答のアシスタントです。\n",
    "質問に答えるために、検索された文脈の以下の部分を使用してください。\n",
    "答えがわからない場合は、わからないと答えましょう。\n",
    "\n",
    "{context}\n",
    "\"\"\"\n",
    "\n",
    "prompt = ChatPromptTemplate([\n",
    "    SystemMessagePromptTemplate.from_template(system_prompt),\n",
    "    HumanMessagePromptTemplate.from_template(\"{input}\")\n",
    "])\n",
    "\n",
    "question_answer_chain = create_stuff_documents_chain(llm=llm, prompt=prompt)\n",
    "rag_chain = create_retrieval_chain(retriever=retriever, combine_docs_chain=question_answer_chain)"
   ]
  },
  {
   "cell_type": "code",
   "execution_count": 35,
   "metadata": {},
   "outputs": [
    {
     "data": {
      "text/plain": [
       "{'input': '温度の測定レンジと精度を教えて',\n",
       " 'context': [Document(id='29a0a41b-eb29-4843-a4fb-1493f457d883', metadata={'source': 'langchain-tutorial/resources/bme280_datasheet.pdf', 'page': 11}, page_content='Bosch Sensortec | BME280 Data sheet 12 | 60 \\nModifications reserved | Data subject to change without notice  \\n Document number: BST-BME280-DS001-22 Revision_1.22_102021 \\nAbsolute accuracy \\ntemperature7 \\nAT,full 0…65 °C  ±0.5  °C \\nAT,ext8 -20 …. 0 °C  ±1.25  °C \\nAT,ext9 -40 … -20 °C  ±1.5  °C \\nOutput resolution RT API output resolution 0.01 °C \\nRMS noise NT Lowest oversampling  0.005  °C \\n \\n  \\n                                                      \\n7 Temperature measured by the internal temperature sensor. This temperature value depends on the PCB temperature, sensor \\nelement self-heating and ambient temperature and is typically above ambient temperature.  \\n8 Target values & not guaranteed \\n9 Target values & not guaranteed'),\n",
       "  Document(id='50bd48e3-bac6-4bd2-aa75-a280e6e5735d', metadata={'source': 'langchain-tutorial/resources/bme280_datasheet.pdf', 'page': 10}, page_content='Solder drift  Minimum solder height \\n50µm \\n-0.5  +2.0 hPa \\nLong term stability6 ∆Pstab per year  ±1.0  hPa \\nPossible sampling rate fsample_P Lowest oversampling, \\nsee chapter 9.2 \\n157 182  Hz \\n \\n1.4 Temperature sensor specification \\nTable 4: Temperature parameter specification \\nParameter Symbol Condition Min Typ Max Unit \\nOperating range T Operational -40 25 85 °C \\nFull accuracy 0  65 °C \\nSupply current IDD,T 1 Hz forced mode, \\ntemperature \\nmeasurement only \\n 1.0  µA \\nAT,25 25 °C  ±0.5  °C \\n                                                      \\n5 When changing temperature by e.g. 10 °C at constant pressure / altitude, the measured pressure / altitude will change by (10 × \\nTCOP).  \\n6 Long term stability is specified in the full accuracy operating pressure range 0 … 65 °C'),\n",
       "  Document(id='cd1b09cf-7d7e-4691-8dd9-18bd41d26ca5', metadata={'source': 'langchain-tutorial/resources/bme280_datasheet.pdf', 'page': 10}, page_content='Bosch Sensortec | BME280 Data sheet 11 | 60 \\nModifications reserved | Data subject to change without notice  \\n Document number: BST-BME280-DS001-22 Revision_1.22_102021 \\nTemperature coefficient \\nof offset5 \\nTCOP 25…65 °C, 900 hPa  ±1.5  Pa/K \\n ±12.6  cm/K \\nAbsolute accuracy \\npressure \\nAPext 300. . 1100 hPa \\n-20 . . . 0 °C \\n ±1.7  hPa \\nAP,full 300 . . .  1100 hPa \\n0 . . . 65 °C \\n ±1.0  hPa \\nAP 1100 . . .  1250 hPa \\n25 . . . 40 °C \\n ±1.5  hPa \\nRelative accuracy \\npressure \\nVDD = 3.3V \\nArel 700 … 900hPa \\n25 . . . 40 °C \\n ±0.12  hPa \\nResolution of \\npressure output data  \\nRP Highest oversampling  0.18  Pa \\nNoise in pressure NP,fullBW Full bandwidth, \\nhighest oversampling \\nSee chapter 3.6 \\n 1.3  Pa \\n 11  cm \\nNP,filtered Reduced bandwidth, \\nhighest oversampling \\nSee chapter 3.6 \\n 0.2  Pa \\n 1.7  cm \\nSolder drift  Minimum solder height \\n50µm \\n-0.5  +2.0 hPa \\nLong term stability6 ∆Pstab per year  ±1.0  hPa \\nPossible sampling rate fsample_P Lowest oversampling, \\nsee chapter 9.2 \\n157 182  Hz'),\n",
       "  Document(id='4b978e9b-87dc-483c-8568-82ae8b5b4ec2', metadata={'source': 'langchain-tutorial/resources/bme280_datasheet.pdf', 'page': 9}, page_content='Bosch Sensortec | BME280 Data sheet 10 | 60 \\nModifications reserved | Data subject to change without notice  \\n Document number: BST-BME280-DS001-22 Revision_1.22_102021 \\n100\\n80\\n60\\n20\\n0\\n40Relative humidity [%]\\nTemperature [°C]\\n-40 -20 0 20 40 60 80\\n \\nFigure 1: humidity sensor operating range \\n1.3 Pressure sensor specification \\nTable 3: Pressure parameter specification \\nParameter Symbol Condition Min Typ Max Unit \\nOperating temperature \\nrange \\nTA operational -40 25 +85 °C \\nfull accuracy 0  +65 \\nOperating pressure \\nrange \\nP full accuracy 300  1100 hPa \\nSupply current IDD,LP 1 Hz forced mode,  \\npressure and \\ntemperature, lowest \\npower \\n 2.8 4.2 µA')],\n",
       " 'answer': 'BME280センサーの温度測定レンジと精度は以下の通りです：\\n\\n- **測定レンジ**: -40°Cから+85°C\\n- **精度**: \\n  - 0°Cから+65°Cの範囲で±0.5°C\\n  - -20°Cから0°Cの範囲で±1.25°C（目標値であり保証されない）\\n  - -40°Cから-20°Cの範囲で±1.5°C（目標値であり保証されない）'}"
      ]
     },
     "execution_count": 35,
     "metadata": {},
     "output_type": "execute_result"
    }
   ],
   "source": [
    "results = rag_chain.invoke({\"input\": \"温度の測定レンジと精度を教えて\"})\n",
    "results"
   ]
  },
  {
   "cell_type": "code",
   "execution_count": 36,
   "metadata": {},
   "outputs": [
    {
     "data": {
      "text/plain": [
       "{'input': 'データの送受信の仕様を教えて',\n",
       " 'context': [Document(id='e20387c4-1bcf-4d69-b58d-969cc70deaa6', metadata={'source': 'langchain-tutorial/resources/bme280_datasheet.pdf', 'page': 6}, page_content='10.3 Usage ...................................................................................................................................... 55 \\n10.3.1 File and function pointer integration ....................................................................... 55 \\n10.3.2 Function call ............................................................................................................ 55 \\n10.3.3 Test time and interface requirements ..................................................................... 55 \\n10.4 Function explanation ............................................................................................................... 56 \\n10.4.1 Communication test ................................................................................................ 56 \\n10.4.2 Bond wire test ......................................................................................................... 56'),\n",
       "  Document(id='2b909cc1-9c73-4917-a36f-3e5044e8e000', metadata={'source': 'langchain-tutorial/resources/bme280_datasheet.pdf', 'page': 6}, page_content='10.4.2 Bond wire test ......................................................................................................... 56 \\n10.4.3 Measurement plausibility test ................................................................................. 56 \\n10.5 Sample read, write and delay function .................................................................................... 57 \\n11. Legal disclaimer ............................................................................................................................. 58 \\n11.1 Engineering samples ............................................................................................................... 58 \\n11.2 Product use.............................................................................................................................. 58 \\n11.3 Application examples and hints ............................................................................................... 58'),\n",
       "  Document(id='31158938-e5c6-4f10-8d2a-5b8ecdb5abce', metadata={'source': 'langchain-tutorial/resources/bme280_datasheet.pdf', 'page': 33}, page_content='Refer to chapter 7 for connection instructions.  \\n \\nCSB is active low and has an integrated pull-up resistor. Data on SDI is latched by the device at SCK \\nrising edge and SDO is changed at SCK falling edge. Communication starts when CSB goes to low \\nand stops when CSB goes to high; during these transitions on CSB, SCK must be stable. The SPI \\nprotocol is shown in Figure 11. For timing details, please review Table 34.   \\nCSB \\nSCK \\nSDI \\nRW AD6 AD5 AD4 AD3 AD2 AD1 AD0 DI5 DI4 DI3 DI2 DI1 DI0 DI7 DI6 \\nSDO \\nDO5 DO4 DO3 DO2 DO1 DO0 DO7 DO6 tri-state \\n \\nFigure 11: SPI protocol (shown for mode ‘11’ in 4-wire configuration) \\nIn SPI mode, only 7 bits of the register addresses are used; the MSB of register address is not used \\nand replaced by a read/write bit (RW = ‘0’ for write and RW = ‘1’ for read).  \\nExample: address 0xF7 is accessed by using SPI register address 0x77. For write access, the byte \\n0x77 is transferred, for read access, the byte 0xF7 is transferred.  \\n6.3.1 SPI write'),\n",
       "  Document(id='fbfa0d89-7dbb-4728-975b-8d4d0c9dcbda', metadata={'source': 'langchain-tutorial/resources/bme280_datasheet.pdf', 'page': 37}, page_content='4 SCK In Serial clock input SCK SCK SCL \\n5 SDO In/Out Serial data output SDO DNC GND for \\ndefault \\naddress \\n6 VDDIO Supply Digital / Interface \\nsupply \\nVDDIO \\n7 GND Supply Ground GND \\n8 VDD Supply Analog supply VDD')],\n",
       " 'answer': 'データの送受信に関する仕様は、SPIプロトコルに基づいています。以下がその概要です：\\n\\n- CSB（チップセレクトビット）はアクティブローで、統合されたプルアップ抵抗があります。\\n- SDI（シリアルデータ入力）のデータは、SCK（シリアルクロック）の立ち上がりエッジでデバイスによってラッチされます。\\n- SDO（シリアルデータ出力）は、SCKの立ち下がりエッジで変更されます。\\n- 通信はCSBがローになったときに開始し、ハイになったときに停止します。このCSBの遷移中は、SCKが安定している必要があります。\\n- SPIモードでは、レジスタアドレスの上位7ビットのみが使用され、MSBは使用されず、代わりに読み書きビット（RW：書き込みの場合は‘0’、読み取りの場合は‘1’）に置き換えられます。\\n\\n具体例として、アドレス0xF7にアクセスする場合、SPIレジスタアドレス0x77を使用します。書き込みアクセスの場合はバイト0x77が転送され、読み取りアクセスの場合はバイト0xF7が転送されます。'}"
      ]
     },
     "execution_count": 36,
     "metadata": {},
     "output_type": "execute_result"
    }
   ],
   "source": [
    "results = rag_chain.invoke({\"input\": \"データの送受信の仕様を教えて\"})\n",
    "results"
   ]
  },
  {
   "cell_type": "code",
   "execution_count": 37,
   "metadata": {},
   "outputs": [
    {
     "name": "stdout",
     "output_type": "stream",
     "text": [
      "データの送受信に関する仕様は、SPIプロトコルに基づいています。以下がその概要です：\n",
      "\n",
      "- CSB（チップセレクトビット）はアクティブローで、統合されたプルアップ抵抗があります。\n",
      "- SDI（シリアルデータ入力）のデータは、SCK（シリアルクロック）の立ち上がりエッジでデバイスによってラッチされます。\n",
      "- SDO（シリアルデータ出力）は、SCKの立ち下がりエッジで変更されます。\n",
      "- 通信はCSBがローになったときに開始し、ハイになったときに停止します。このCSBの遷移中は、SCKが安定している必要があります。\n",
      "- SPIモードでは、レジスタアドレスの上位7ビットのみが使用され、MSBは使用されず、代わりに読み書きビット（RW：書き込みの場合は‘0’、読み取りの場合は‘1’）に置き換えられます。\n",
      "\n",
      "具体例として、アドレス0xF7にアクセスする場合、SPIレジスタアドレス0x77を使用します。書き込みアクセスの場合はバイト0x77が転送され、読み取りアクセスの場合はバイト0xF7が転送されます。\n"
     ]
    }
   ],
   "source": [
    "print(results[\"answer\"])"
   ]
  },
  {
   "cell_type": "code",
   "execution_count": null,
   "metadata": {},
   "outputs": [],
   "source": []
  }
 ],
 "metadata": {
  "kernelspec": {
   "display_name": "Python 3 (ipykernel)",
   "language": "python",
   "name": "python3"
  },
  "language_info": {
   "codemirror_mode": {
    "name": "ipython",
    "version": 3
   },
   "file_extension": ".py",
   "mimetype": "text/x-python",
   "name": "python",
   "nbconvert_exporter": "python",
   "pygments_lexer": "ipython3",
   "version": "3.12.7"
  }
 },
 "nbformat": 4,
 "nbformat_minor": 2
}
