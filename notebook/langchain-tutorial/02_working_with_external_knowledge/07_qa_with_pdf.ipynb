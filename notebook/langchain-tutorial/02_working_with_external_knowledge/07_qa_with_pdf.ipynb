{
 "cells": [
  {
   "cell_type": "markdown",
   "metadata": {
    "vscode": {
     "languageId": "plaintext"
    }
   },
   "source": [
    "# [Build a PDF ingestion and Question/Answering system](https://python.langchain.com/docs/tutorials/pdf_qa/)\n"
   ]
  },
  {
   "cell_type": "code",
   "execution_count": 26,
   "metadata": {},
   "outputs": [],
   "source": [
    "# PDFのダウンロード (BEM280のデータシート)\n",
    "!mkdir -p langchain-tutorial/resources\n",
    "!wget https://www.mouser.jp/datasheet/2/783/bst_bme280_ds002-2238172.pdf -O langchain-tutorial/resources/bme280_datasheet.pdf > /dev/null 2>&1"
   ]
  },
  {
   "cell_type": "markdown",
   "metadata": {},
   "source": [
    "# ■ プレビュー"
   ]
  },
  {
   "cell_type": "code",
   "execution_count": 28,
   "metadata": {},
   "outputs": [],
   "source": [
    "from langchain_openai import ChatOpenAI, OpenAIEmbeddings\n",
    "from langchain_community.document_loaders import PyPDFLoader\n",
    "from langchain_text_splitters import RecursiveCharacterTextSplitter\n",
    "from langchain_core.vectorstores import InMemoryVectorStore\n",
    "from langchain.chains import create_retrieval_chain\n",
    "from langchain.chains.combine_documents import create_stuff_documents_chain\n",
    "from langchain_core.prompts import ChatPromptTemplate, SystemMessagePromptTemplate, HumanMessagePromptTemplate\n",
    "\n",
    "\n",
    "# モデル\n",
    "llm = ChatOpenAI(model=\"gpt-4o\")\n",
    "\n",
    "# PDFの読み込み\n",
    "file_path = \"langchain-tutorial/resources/bme280_datasheet.pdf\"\n",
    "loader = PyPDFLoader(file_path)\n",
    "docs = loader.load()\n",
    "\n",
    "# 分割 (1000文字ごとに分割)\n",
    "text_splitter = RecursiveCharacterTextSplitter(chunk_size=1000, chunk_overlap=200)\n",
    "splits = text_splitter.split_documents(docs)\n",
    "\n",
    "# ベクトル化して保存\n",
    "vectorstore = InMemoryVectorStore.from_documents(documents=splits, embedding=OpenAIEmbeddings())\n",
    "\n",
    "# Retrieverの作成\n",
    "retriever = vectorstore.as_retriever()\n",
    "\n",
    "# チェーンの作成\n",
    "system_prompt = \"\"\"\n",
    "あなたは質問応答のアシスタントです。\n",
    "質問に答えるために、検索された文脈の以下の部分を使用してください。\n",
    "答えがわからない場合は、わからないと答えましょう。\n",
    "\n",
    "{context}\n",
    "\"\"\"\n",
    "\n",
    "prompt = ChatPromptTemplate([\n",
    "    SystemMessagePromptTemplate.from_template(system_prompt),\n",
    "    HumanMessagePromptTemplate.from_template(\"{input}\")\n",
    "])\n",
    "\n",
    "question_answer_chain = create_stuff_documents_chain(llm=llm, prompt=prompt)\n",
    "rag_chain = create_retrieval_chain(retriever=retriever, combine_docs_chain=question_answer_chain)"
   ]
  },
  {
   "cell_type": "code",
   "execution_count": 29,
   "metadata": {},
   "outputs": [
    {
     "data": {
      "text/plain": [
       "{'input': 'データの送受信の仕様を教えて',\n",
       " 'context': [Document(id='b553b761-7a40-4958-84a5-e8a177df5d31', metadata={'source': 'langchain-tutorial/resources/bme280_datasheet.pdf', 'page': 6}, page_content='10.3 Usage ...................................................................................................................................... 55 \\n10.3.1 File and function pointer integration ....................................................................... 55 \\n10.3.2 Function call ............................................................................................................ 55 \\n10.3.3 Test time and interface requirements ..................................................................... 55 \\n10.4 Function explanation ............................................................................................................... 56 \\n10.4.1 Communication test ................................................................................................ 56 \\n10.4.2 Bond wire test ......................................................................................................... 56'),\n",
       "  Document(id='625aea2a-95aa-4ea6-8808-f8b707cf5512', metadata={'source': 'langchain-tutorial/resources/bme280_datasheet.pdf', 'page': 6}, page_content='10.4.2 Bond wire test ......................................................................................................... 56 \\n10.4.3 Measurement plausibility test ................................................................................. 56 \\n10.5 Sample read, write and delay function .................................................................................... 57 \\n11. Legal disclaimer ............................................................................................................................. 58 \\n11.1 Engineering samples ............................................................................................................... 58 \\n11.2 Product use.............................................................................................................................. 58 \\n11.3 Application examples and hints ............................................................................................... 58'),\n",
       "  Document(id='54028e8a-d586-48e6-8936-f9d6ca2b33f6', metadata={'source': 'langchain-tutorial/resources/bme280_datasheet.pdf', 'page': 33}, page_content='Refer to chapter 7 for connection instructions.  \\n \\nCSB is active low and has an integrated pull-up resistor. Data on SDI is latched by the device at SCK \\nrising edge and SDO is changed at SCK falling edge. Communication starts when CSB goes to low \\nand stops when CSB goes to high; during these transitions on CSB, SCK must be stable. The SPI \\nprotocol is shown in Figure 11. For timing details, please review Table 34.   \\nCSB \\nSCK \\nSDI \\nRW AD6 AD5 AD4 AD3 AD2 AD1 AD0 DI5 DI4 DI3 DI2 DI1 DI0 DI7 DI6 \\nSDO \\nDO5 DO4 DO3 DO2 DO1 DO0 DO7 DO6 tri-state \\n \\nFigure 11: SPI protocol (shown for mode ‘11’ in 4-wire configuration) \\nIn SPI mode, only 7 bits of the register addresses are used; the MSB of register address is not used \\nand replaced by a read/write bit (RW = ‘0’ for write and RW = ‘1’ for read).  \\nExample: address 0xF7 is accessed by using SPI register address 0x77. For write access, the byte \\n0x77 is transferred, for read access, the byte 0xF7 is transferred.  \\n6.3.1 SPI write'),\n",
       "  Document(id='9ae6a10d-e24e-4b0d-b9a3-3270406ca7a3', metadata={'source': 'langchain-tutorial/resources/bme280_datasheet.pdf', 'page': 37}, page_content='4 SCK In Serial clock input SCK SCK SCL \\n5 SDO In/Out Serial data output SDO DNC GND for \\ndefault \\naddress \\n6 VDDIO Supply Digital / Interface \\nsupply \\nVDDIO \\n7 GND Supply Ground GND \\n8 VDD Supply Analog supply VDD')],\n",
       " 'answer': '提供された文脈から、データの送受信はSPIプロトコルを使用して行われることがわかります。以下にいくつかの詳細を示します：\\n\\n- CSB（チップセレクトビット）は低アクティブで、統合されたプルアップ抵抗があります。\\n- SDI（シリアルデータ入力）は、SCK（シリアルクロック）の立ち上がりエッジでデバイスによってラッチされます。\\n- SDO（シリアルデータ出力）は、SCKの立ち下がりエッジで変更されます。\\n- 通信はCSBが低になると開始し、高になると停止します。このCSBの遷移中、SCKは安定している必要があります。\\n- SPIモードでは、レジスタアドレスの7ビットのみが使用され、MSBは使用されず、読み書きビット（RW = ‘0’は書き込み、RW = ‘1’は読み取り）に置き換えられます。\\n\\n具体的なアドレス例やデータの転送については、文脈で示されています。たとえば、アドレス0xF7はSPIレジスタアドレス0x77を使用してアクセスされます。書き込みの場合、バイト0x77が転送され、読み取りの場合、バイト0xF7が転送されます。'}"
      ]
     },
     "execution_count": 29,
     "metadata": {},
     "output_type": "execute_result"
    }
   ],
   "source": [
    "results = rag_chain.invoke({\"input\": \"データの送受信の仕様を教えて\"})\n",
    "results"
   ]
  },
  {
   "cell_type": "markdown",
   "metadata": {},
   "source": [
    "# ■ プレビュー (エージェント)"
   ]
  },
  {
   "cell_type": "code",
   "execution_count": 42,
   "metadata": {},
   "outputs": [],
   "source": [
    "from typing import List\n",
    "from langchain_core.documents import Document\n",
    "from langgraph.graph.graph import CompiledGraph\n",
    "\n",
    "from langchain_openai import ChatOpenAI, OpenAIEmbeddings\n",
    "from langchain_text_splitters import RecursiveCharacterTextSplitter\n",
    "from langchain_core.vectorstores import InMemoryVectorStore\n",
    "from langchain.tools.retriever import create_retriever_tool\n",
    "from langgraph.checkpoint.memory import MemorySaver\n",
    "from langgraph.prebuilt import create_react_agent\n",
    "\n",
    "# モデル\n",
    "llm = ChatOpenAI(model=\"gpt-4o\", temperature=0)\n",
    "\n",
    "# PDFの読み込み\n",
    "file_path = \"langchain-tutorial/resources/bme280_datasheet.pdf\"\n",
    "loader = PyPDFLoader(file_path)\n",
    "docs: List[Document] = loader.load()\n",
    "\n",
    "# 分割・ベクトル化して保存\n",
    "text_splitter = RecursiveCharacterTextSplitter(chunk_size=1000, chunk_overlap=200)\n",
    "splits: List[Document] = text_splitter.split_documents(docs)\n",
    "vectorstore = InMemoryVectorStore.from_documents(documents=splits, embedding=OpenAIEmbeddings())\n",
    "\n",
    "# Retrieverの作成\n",
    "retriever = vectorstore.as_retriever()\n",
    "\n",
    "# Retrieverツールの作成\n",
    "tool = create_retriever_tool(\n",
    "    retriever=retriever,\n",
    "    name=\"bme280_datasheet_retriever\",\n",
    "    description=\"BME280のデータシートから情報を検索するためのツール\",\n",
    ")\n",
    "\n",
    "# エージェントの作成\n",
    "memory = MemorySaver()\n",
    "agent_executor: CompiledGraph = create_react_agent(\n",
    "    model=llm,\n",
    "    tools=[tool],\n",
    "    checkpointer=memory,\n",
    "    debug=False,\n",
    ")"
   ]
  },
  {
   "cell_type": "code",
   "execution_count": 43,
   "metadata": {},
   "outputs": [
    {
     "name": "stdout",
     "output_type": "stream",
     "text": [
      "==================================\u001b[1m Ai Message \u001b[0m==================================\n",
      "\n",
      "BME280のデータ送受信の仕様に関する情報は以下の通りです：\n",
      "\n",
      "1. **デジタルインターフェース**:\n",
      "   - **インターフェース選択**: BME280はI²CとSPIの2つのデジタルインターフェースをサポートしています。\n",
      "   - **I²Cインターフェース**:\n",
      "     - **I²C書き込み**: デバイスにデータを書き込むための手順。\n",
      "     - **I²C読み取り**: デバイスからデータを読み取るための手順。\n",
      "   - **SPIインターフェース**:\n",
      "     - **SPI書き込み**: デバイスにデータを書き込むための手順。\n",
      "\n",
      "2. **データレート**:\n",
      "   - 測定時間が11.5 msの場合、通常の出力データレートは87 Hzです。\n",
      "   - 通常モードでの測定レートは、測定時間とスタンバイ時間に依存し、Hz単位で計算されます。例えば、11.5 msの測定時間と62.5 msのスタンバイ時間を設定した場合、データレートは13.51 Hzになります。\n",
      "\n",
      "これらの仕様は、BME280のデータシートに記載されている情報に基づいています。デバイスの正確な動作や設定については、データシートを参照してください。\n"
     ]
    }
   ],
   "source": [
    "from langchain_core.runnables import RunnableConfig\n",
    "from langchain_core.messages import HumanMessage\n",
    "\n",
    "config = RunnableConfig(configurable={\"thread_id\": \"11111111111111111111\"})\n",
    "query = \"データの送受信の仕様を教えて\"\n",
    "\n",
    "result = agent_executor.invoke(\n",
    "    input={\"messages\": [ HumanMessage(query) ]},\n",
    "    config=config,\n",
    "    stream_mode=\"values\"\n",
    ")\n",
    "\n",
    "result[\"messages\"][-1].pretty_print()"
   ]
  },
  {
   "cell_type": "code",
   "execution_count": 44,
   "metadata": {},
   "outputs": [
    {
     "name": "stdout",
     "output_type": "stream",
     "text": [
      "==================================\u001b[1m Ai Message \u001b[0m==================================\n",
      "\n",
      "BME280のデジタルインターフェースに関して、I²CとSPIのどちらを使用するかは、具体的なアプリケーションの要件によります。以下にそれぞれのインターフェースの特徴を示しますので、これを参考に選択してください。\n",
      "\n",
      "### I²Cインターフェース\n",
      "- **利点**:\n",
      "  - 複数のデバイスを同じバスに接続できるため、配線が簡素化されます。\n",
      "  - 一般的に使用されるため、広範なサポートとドライバが存在します。\n",
      "- **欠点**:\n",
      "  - 通信速度がSPIに比べて遅い。\n",
      "  - バスの容量が大きくなると、通信の信頼性が低下する可能性があります。\n",
      "\n",
      "### SPIインターフェース\n",
      "- **利点**:\n",
      "  - 高速なデータ転送が可能です。\n",
      "  - フルデュプレックス通信が可能で、同時にデータの送受信ができます。\n",
      "- **欠点**:\n",
      "  - 配線が複雑になりがちで、デバイスごとに個別のチップセレクトラインが必要です。\n",
      "  - 複数のデバイスを接続する場合、配線が増える可能性があります。\n",
      "\n",
      "### 推奨\n",
      "- **I²C**は、シンプルな配線と複数デバイスの接続が必要な場合に適しています。\n",
      "- **SPI**は、高速な通信が必要な場合や、データの送受信を同時に行いたい場合に適しています。\n",
      "\n",
      "最終的な選択は、システムの設計要件や他の使用するデバイスとの互換性に基づいて行うべきです。\n"
     ]
    }
   ],
   "source": [
    "query = \"どれが推奨ですか？\"\n",
    "\n",
    "result = agent_executor.invoke(\n",
    "    input={\"messages\": [ HumanMessage(query) ]},\n",
    "    config=config,\n",
    "    stream_mode=\"values\"\n",
    ")\n",
    "\n",
    "result[\"messages\"][-1].pretty_print()"
   ]
  },
  {
   "cell_type": "code",
   "execution_count": 45,
   "metadata": {},
   "outputs": [
    {
     "name": "stdout",
     "output_type": "stream",
     "text": [
      "================================\u001b[1m Human Message \u001b[0m=================================\n",
      "\n",
      "データの送受信の仕様を教えて\n",
      "==================================\u001b[1m Ai Message \u001b[0m==================================\n",
      "Tool Calls:\n",
      "  bme280_datasheet_retriever (call_UyifrKJGFJVJQvXpA6dplEe6)\n",
      " Call ID: call_UyifrKJGFJVJQvXpA6dplEe6\n",
      "  Args:\n",
      "    query: データの送受信の仕様\n",
      "=================================\u001b[1m Tool Message \u001b[0m=================================\n",
      "Name: bme280_datasheet_retriever\n",
      "\n",
      "10.3 Usage ...................................................................................................................................... 55 \n",
      "10.3.1 File and function pointer integration ....................................................................... 55 \n",
      "10.3.2 Function call ............................................................................................................ 55 \n",
      "10.3.3 Test time and interface requirements ..................................................................... 55 \n",
      "10.4 Function explanation ............................................................................................................... 56 \n",
      "10.4.1 Communication test ................................................................................................ 56 \n",
      "10.4.2 Bond wire test ......................................................................................................... 56\n",
      "\n",
      "10.4.2 Bond wire test ......................................................................................................... 56 \n",
      "10.4.3 Measurement plausibility test ................................................................................. 56 \n",
      "10.5 Sample read, write and delay function .................................................................................... 57 \n",
      "11. Legal disclaimer ............................................................................................................................. 58 \n",
      "11.1 Engineering samples ............................................................................................................... 58 \n",
      "11.2 Product use.............................................................................................................................. 58 \n",
      "11.3 Application examples and hints ............................................................................................... 58\n",
      "\n",
      "6. Digital interfaces ............................................................................................................................ 32 \n",
      "6.1 Interface selection ................................................................................................................... 32 \n",
      "6.2 I²C Interface ............................................................................................................................. 32 \n",
      "6.2.1 I²C write................................................................................................................... 33 \n",
      "6.2.2 I²C read ................................................................................................................... 33 \n",
      "6.3 SPI interface ............................................................................................................................ 34 \n",
      "6.3.1 SPI write.................................................................................................................. 34\n",
      "\n",
      "data rate. For the example above with 11.5 ms measurement time, the typically achievable output data \n",
      "rate would be: \n",
      "𝑂𝑂𝑂𝑂𝑅𝑅𝑚𝑚𝑚𝑚𝑚𝑚,𝑓𝑓𝑜𝑜𝑚𝑚𝑓𝑓𝑚𝑚𝑓𝑓 = 1000\n",
      "11.5 = 87 Hz \n",
      "9.3 Measurement rate in normal mode \n",
      "The measurement rate in normal mode depends on the measurement time and the standby time and \n",
      "can be calculated in Hz using the following formula: \n",
      " \n",
      "𝑂𝑂𝑂𝑂𝑅𝑅𝑛𝑛𝑜𝑜𝑚𝑚𝑚𝑚𝑚𝑚𝑙𝑙_𝑚𝑚𝑜𝑜𝑓𝑓𝑚𝑚 = 1000\n",
      "𝑡𝑡𝑚𝑚𝑚𝑚𝑚𝑚𝑚𝑚𝑚𝑚𝑚𝑚𝑚𝑚 + 𝑡𝑡𝑚𝑚𝑡𝑡𝑚𝑚𝑛𝑛𝑓𝑓𝑠𝑠𝑡𝑡\n",
      " \n",
      " \n",
      "The accuracy of tstandby is described in the specification parameter Δtstandby. For the example above with \n",
      "11.5 ms measurement time, setting normal mode with a standby time of 62.5 ms would result in a data \n",
      "rate of:  \n",
      "𝑂𝑂𝑂𝑂𝑅𝑅𝑛𝑛𝑜𝑜𝑚𝑚𝑚𝑚𝑚𝑚𝑙𝑙_𝑚𝑚𝑜𝑜𝑓𝑓𝑚𝑚 = 1000\n",
      "11.5 + 62.5 = 13.51 Hz\n",
      "==================================\u001b[1m Ai Message \u001b[0m==================================\n",
      "\n",
      "BME280のデータ送受信の仕様に関する情報は以下の通りです：\n",
      "\n",
      "1. **デジタルインターフェース**:\n",
      "   - **I²Cインターフェース**:\n",
      "     - I²C書き込みと読み取りの手順が記載されています。\n",
      "   - **SPIインターフェース**:\n",
      "     - SPI書き込みの手順が記載されています。\n",
      "\n",
      "2. **データレート**:\n",
      "   - 測定時間が11.5 msの場合、通常の出力データレートは87 Hzです。\n",
      "   - 通常モードでの測定レートは、測定時間とスタンバイ時間に依存し、Hz単位で計算できます。例えば、11.5 msの測定時間と62.5 msのスタンバイ時間を設定した場合、データレートは13.51 Hzになります。\n",
      "\n",
      "これらの情報は、BME280のデータシートの該当セクションに詳細に記載されています。\n"
     ]
    }
   ],
   "source": [
    "from langchain_core.runnables import RunnableConfig\n",
    "from langchain_core.messages import HumanMessage\n",
    "\n",
    "config = RunnableConfig(configurable={\"thread_id\": \"22222222222222222222\"})\n",
    "query = \"データの送受信の仕様を教えて\"\n",
    "\n",
    "output_stream = agent_executor.stream(\n",
    "    input={\"messages\": [ HumanMessage(query) ]},\n",
    "    config=config,\n",
    "    stream_mode=\"values\"\n",
    ")\n",
    "\n",
    "for event in output_stream:\n",
    "    event[\"messages\"][-1].pretty_print()"
   ]
  },
  {
   "cell_type": "code",
   "execution_count": 46,
   "metadata": {},
   "outputs": [
    {
     "name": "stdout",
     "output_type": "stream",
     "text": [
      "================================\u001b[1m Human Message \u001b[0m=================================\n",
      "\n",
      "どれが推奨ですか？\n",
      "==================================\u001b[1m Ai Message \u001b[0m==================================\n",
      "Tool Calls:\n",
      "  bme280_datasheet_retriever (call_iCuQvTN3yqdieCFb7t5bTwov)\n",
      " Call ID: call_iCuQvTN3yqdieCFb7t5bTwov\n",
      "  Args:\n",
      "    query: 推奨インターフェース\n",
      "=================================\u001b[1m Tool Message \u001b[0m=================================\n",
      "Name: bme280_datasheet_retriever\n",
      "\n",
      "6. Digital interfaces ............................................................................................................................ 32 \n",
      "6.1 Interface selection ................................................................................................................... 32 \n",
      "6.2 I²C Interface ............................................................................................................................. 32 \n",
      "6.2.1 I²C write................................................................................................................... 33 \n",
      "6.2.2 I²C read ................................................................................................................... 33 \n",
      "6.3 SPI interface ............................................................................................................................ 34 \n",
      "6.3.1 SPI write.................................................................................................................. 34\n",
      "\n",
      "Table 10: Settings and performance for gaming \n",
      "Suggested settings for gaming \n",
      "Sensor mode normal mode, tstandby = 0.5 ms \n",
      "Oversampling settings pressure ×4, temperature ×1, humidity ×0 \n",
      "IIR filter settings filter coefficient 16 \n",
      "Performance for suggested settings \n",
      "Current consumption 581 µA \n",
      "RMS Noise 0.3 Pa / 2.5 cm  \n",
      "Data output rate 83 Hz \n",
      "Filter bandwidth 1.75 Hz \n",
      "Response time (75%) 0.3 s\n",
      "\n",
      "10.3 Usage ...................................................................................................................................... 55 \n",
      "10.3.1 File and function pointer integration ....................................................................... 55 \n",
      "10.3.2 Function call ............................................................................................................ 55 \n",
      "10.3.3 Test time and interface requirements ..................................................................... 55 \n",
      "10.4 Function explanation ............................................................................................................... 56 \n",
      "10.4.1 Communication test ................................................................................................ 56 \n",
      "10.4.2 Bond wire test ......................................................................................................... 56\n",
      "\n",
      "• Indoor navigation (change of floor detection, elevator detection) \n",
      "• Outdoor navigation, leisure and sports applications \n",
      "• Weather forecast \n",
      "• Vertical velocity indication (rise/sink speed) \n",
      "Target devices \n",
      "• Handsets such as mobile phones, tablet PCs, GPS devices \n",
      "• Navigation systems \n",
      "• Gaming, e.g flying toys  \n",
      "• Camera (DSC, video) \n",
      "• Home weather stations \n",
      "• Flying toys  \n",
      "• Watches\n",
      "==================================\u001b[1m Ai Message \u001b[0m==================================\n",
      "\n",
      "BME280のデジタルインターフェースに関して、特に推奨されるインターフェースはデータシートには明示されていませんが、以下の情報が参考になります：\n",
      "\n",
      "- **I²Cインターフェース**と**SPIインターフェース**の両方がサポートされています。どちらを選択するかは、使用するデバイスやアプリケーションの要件に依存します。\n",
      "  \n",
      "- **推奨設定例**として、ゲーム用途での設定が示されています。これには、通常モード、スタンバイ時間0.5 ms、圧力のオーバーサンプリング×4、温度×1、湿度×0、IIRフィルター係数16が含まれます。この設定では、データ出力レートが83 Hzとなります。\n",
      "\n",
      "具体的な用途やデバイスの要件に応じて、I²CまたはSPIのどちらかを選択することが一般的です。どちらのインターフェースも、適切に設定すれば高いパフォーマンスを発揮します。\n"
     ]
    }
   ],
   "source": [
    "query = \"どれが推奨ですか？\"\n",
    "\n",
    "output_stream = agent_executor.stream(\n",
    "    input={\"messages\": [ HumanMessage(query) ]},\n",
    "    config=config,\n",
    "    stream_mode=\"values\"\n",
    ")\n",
    "\n",
    "for event in output_stream:\n",
    "    event[\"messages\"][-1].pretty_print()"
   ]
  },
  {
   "cell_type": "markdown",
   "metadata": {},
   "source": [
    "# ■ 解説"
   ]
  },
  {
   "cell_type": "markdown",
   "metadata": {},
   "source": [
    "## 1. PDFの読み込み\n",
    "\n",
    "`PyPDFLoader` を利用してPDFを読み込みます。  \n",
    "\n",
    "※ 目的に合わせて様々なDocumentLoaderがあります: https://python.langchain.com/docs/how_to/#document-loaders\n",
    "\n",
    "やること\n",
    "\n",
    "- 指定されたパスのPDFをメモリに読み込む\n",
    "- `pypdf` パッケージを利用してテキストデータを抽出\n",
    "- PDFの各ページに対して、ページ内容と、ドキュメント内のテキストの出所に関するメタデータを含む `List[Document]` を生成"
   ]
  },
  {
   "cell_type": "code",
   "execution_count": 30,
   "metadata": {},
   "outputs": [
    {
     "name": "stdout",
     "output_type": "stream",
     "text": [
      "60\n"
     ]
    }
   ],
   "source": [
    "from typing import List\n",
    "from langchain_core.documents import Document\n",
    "from langchain_community.document_loaders import PyPDFLoader\n",
    "\n",
    "#file_path = \"https://www.jstage.jst.go.jp/article/mukimate2000/9/300/9_300_327/_pdf\"  # URLを指定してもOK\n",
    "file_path = \"langchain-tutorial/resources/bme280_datasheet.pdf\"\n",
    "loader = PyPDFLoader(file_path)\n",
    "docs: List[Document] = loader.load()\n",
    "\n",
    "print(len(docs))"
   ]
  },
  {
   "cell_type": "code",
   "execution_count": 31,
   "metadata": {},
   "outputs": [
    {
     "name": "stdout",
     "output_type": "stream",
     "text": [
      " \n",
      "  \n",
      "  \n",
      "BME280 – Data sheet  \n",
      "Document revision 1.22 \n",
      "Document release date October 2021 \n",
      "Document n\n",
      "{'source': 'langchain-tutorial/resources/bme280_datasheet.pdf', 'page': 3}\n"
     ]
    }
   ],
   "source": [
    "print(docs[0].page_content[0:100])\n",
    "print(docs[3].metadata)"
   ]
  },
  {
   "cell_type": "markdown",
   "metadata": {},
   "source": [
    "## 2. Retriever\n",
    "\n",
    "読み込んだドキュメントをベクトル化して保存します。"
   ]
  },
  {
   "cell_type": "code",
   "execution_count": 32,
   "metadata": {},
   "outputs": [],
   "source": [
    "from langchain_openai import ChatOpenAI\n",
    "from langchain_core.vectorstores import InMemoryVectorStore\n",
    "from langchain_openai import OpenAIEmbeddings\n",
    "from langchain_text_splitters import RecursiveCharacterTextSplitter\n",
    "\n",
    "llm = ChatOpenAI(model=\"gpt-4o\")\n",
    "\n",
    "# 分割 (1000文字ごとに分割)\n",
    "text_splitter = RecursiveCharacterTextSplitter(chunk_size=1000, chunk_overlap=200)\n",
    "splits: List[Document] = text_splitter.split_documents(docs)\n",
    "\n",
    "# ベクトル化して保存\n",
    "vectorstore = InMemoryVectorStore.from_documents(documents=splits, embedding=OpenAIEmbeddings())\n",
    "\n",
    "# Retrieverの作成\n",
    "retriever = vectorstore.as_retriever()"
   ]
  },
  {
   "cell_type": "markdown",
   "metadata": {},
   "source": [
    "vectorstoreに保存したドキュメントをRetrieverから検索できます"
   ]
  },
  {
   "cell_type": "code",
   "execution_count": 33,
   "metadata": {},
   "outputs": [
    {
     "data": {
      "text/plain": [
       "[Document(id='50bd48e3-bac6-4bd2-aa75-a280e6e5735d', metadata={'source': 'langchain-tutorial/resources/bme280_datasheet.pdf', 'page': 10}, page_content='Solder drift  Minimum solder height \\n50µm \\n-0.5  +2.0 hPa \\nLong term stability6 ∆Pstab per year  ±1.0  hPa \\nPossible sampling rate fsample_P Lowest oversampling, \\nsee chapter 9.2 \\n157 182  Hz \\n \\n1.4 Temperature sensor specification \\nTable 4: Temperature parameter specification \\nParameter Symbol Condition Min Typ Max Unit \\nOperating range T Operational -40 25 85 °C \\nFull accuracy 0  65 °C \\nSupply current IDD,T 1 Hz forced mode, \\ntemperature \\nmeasurement only \\n 1.0  µA \\nAT,25 25 °C  ±0.5  °C \\n                                                      \\n5 When changing temperature by e.g. 10 °C at constant pressure / altitude, the measured pressure / altitude will change by (10 × \\nTCOP).  \\n6 Long term stability is specified in the full accuracy operating pressure range 0 … 65 °C'),\n",
       " Document(id='3a124578-139b-41fe-b779-53159535d278', metadata={'source': 'langchain-tutorial/resources/bme280_datasheet.pdf', 'page': 8}, page_content='Noise in humidity (RMS) NH Highest oversampling, \\nsee chapter 3.6 \\n 0.02  %RH \\nLong term stability ∆Hstab  10…90 %RH, 25 °C  0.5  %RH/\\nyear \\n                                                      \\n1  When exceeding the operating range (e.g. for soldering), humidity sensing performance is temporarily degraded and \\nreconditioning is recommended as described in section 7.8. Operating range only for non-condensing environment. \\n2 For hysteresis measurement the sequence 10\\uf0e030\\uf0e050\\uf0e070\\uf0e090\\uf0e070\\uf0e050\\uf0e030\\uf0e010 %RH is used. The hysteresis is defined as \\nthe difference between measurements of the humidity up / down branch and the averaged curve of both branches \\n3 Non-linear contributions to the sensor data are corrected during the calculation of the relative humidity by the compensation \\nformulas described in section 4.2.3. \\n4 The air-flow in direction to the vent -hole of the device has to be dimensioned in a way that a sufficient air exchange inside to'),\n",
       " Document(id='fcc0f34b-0e4b-4516-87c0-b9b4f47bca12', metadata={'source': 'langchain-tutorial/resources/bme280_datasheet.pdf', 'page': 19}, page_content='Table 10: Settings and performance for gaming \\nSuggested settings for gaming \\nSensor mode normal mode, tstandby = 0.5 ms \\nOversampling settings pressure ×4, temperature ×1, humidity ×0 \\nIIR filter settings filter coefficient 16 \\nPerformance for suggested settings \\nCurrent consumption 581 µA \\nRMS Noise 0.3 Pa / 2.5 cm  \\nData output rate 83 Hz \\nFilter bandwidth 1.75 Hz \\nResponse time (75%) 0.3 s'),\n",
       " Document(id='29a0a41b-eb29-4843-a4fb-1493f457d883', metadata={'source': 'langchain-tutorial/resources/bme280_datasheet.pdf', 'page': 11}, page_content='Bosch Sensortec | BME280 Data sheet 12 | 60 \\nModifications reserved | Data subject to change without notice  \\n Document number: BST-BME280-DS001-22 Revision_1.22_102021 \\nAbsolute accuracy \\ntemperature7 \\nAT,full 0…65 °C  ±0.5  °C \\nAT,ext8 -20 …. 0 °C  ±1.25  °C \\nAT,ext9 -40 … -20 °C  ±1.5  °C \\nOutput resolution RT API output resolution 0.01 °C \\nRMS noise NT Lowest oversampling  0.005  °C \\n \\n  \\n                                                      \\n7 Temperature measured by the internal temperature sensor. This temperature value depends on the PCB temperature, sensor \\nelement self-heating and ambient temperature and is typically above ambient temperature.  \\n8 Target values & not guaranteed \\n9 Target values & not guaranteed')]"
      ]
     },
     "execution_count": 33,
     "metadata": {},
     "output_type": "execute_result"
    }
   ],
   "source": [
    "retriever.invoke(\"測定レンジと精度\")"
   ]
  },
  {
   "cell_type": "markdown",
   "metadata": {},
   "source": [
    "# RAGチェイン\n",
    "\n",
    "`クエリ` -> `Retrieverによる関連文章の検索` -> `LLMによる回答の生成` というチェインを作成します。\n"
   ]
  },
  {
   "cell_type": "code",
   "execution_count": 34,
   "metadata": {},
   "outputs": [],
   "source": [
    "from langchain.chains import create_retrieval_chain\n",
    "from langchain.chains.combine_documents import create_stuff_documents_chain\n",
    "from langchain_core.prompts import ChatPromptTemplate, SystemMessagePromptTemplate, HumanMessagePromptTemplate\n",
    "\n",
    "system_prompt = \"\"\"\n",
    "あなたは質問応答のアシスタントです。\n",
    "質問に答えるために、検索された文脈の以下の部分を使用してください。\n",
    "答えがわからない場合は、わからないと答えましょう。\n",
    "\n",
    "{context}\n",
    "\"\"\"\n",
    "\n",
    "prompt = ChatPromptTemplate([\n",
    "    SystemMessagePromptTemplate.from_template(system_prompt),\n",
    "    HumanMessagePromptTemplate.from_template(\"{input}\")\n",
    "])\n",
    "\n",
    "question_answer_chain = create_stuff_documents_chain(llm=llm, prompt=prompt)\n",
    "rag_chain = create_retrieval_chain(retriever=retriever, combine_docs_chain=question_answer_chain)"
   ]
  },
  {
   "cell_type": "code",
   "execution_count": 35,
   "metadata": {},
   "outputs": [
    {
     "data": {
      "text/plain": [
       "{'input': '温度の測定レンジと精度を教えて',\n",
       " 'context': [Document(id='29a0a41b-eb29-4843-a4fb-1493f457d883', metadata={'source': 'langchain-tutorial/resources/bme280_datasheet.pdf', 'page': 11}, page_content='Bosch Sensortec | BME280 Data sheet 12 | 60 \\nModifications reserved | Data subject to change without notice  \\n Document number: BST-BME280-DS001-22 Revision_1.22_102021 \\nAbsolute accuracy \\ntemperature7 \\nAT,full 0…65 °C  ±0.5  °C \\nAT,ext8 -20 …. 0 °C  ±1.25  °C \\nAT,ext9 -40 … -20 °C  ±1.5  °C \\nOutput resolution RT API output resolution 0.01 °C \\nRMS noise NT Lowest oversampling  0.005  °C \\n \\n  \\n                                                      \\n7 Temperature measured by the internal temperature sensor. This temperature value depends on the PCB temperature, sensor \\nelement self-heating and ambient temperature and is typically above ambient temperature.  \\n8 Target values & not guaranteed \\n9 Target values & not guaranteed'),\n",
       "  Document(id='50bd48e3-bac6-4bd2-aa75-a280e6e5735d', metadata={'source': 'langchain-tutorial/resources/bme280_datasheet.pdf', 'page': 10}, page_content='Solder drift  Minimum solder height \\n50µm \\n-0.5  +2.0 hPa \\nLong term stability6 ∆Pstab per year  ±1.0  hPa \\nPossible sampling rate fsample_P Lowest oversampling, \\nsee chapter 9.2 \\n157 182  Hz \\n \\n1.4 Temperature sensor specification \\nTable 4: Temperature parameter specification \\nParameter Symbol Condition Min Typ Max Unit \\nOperating range T Operational -40 25 85 °C \\nFull accuracy 0  65 °C \\nSupply current IDD,T 1 Hz forced mode, \\ntemperature \\nmeasurement only \\n 1.0  µA \\nAT,25 25 °C  ±0.5  °C \\n                                                      \\n5 When changing temperature by e.g. 10 °C at constant pressure / altitude, the measured pressure / altitude will change by (10 × \\nTCOP).  \\n6 Long term stability is specified in the full accuracy operating pressure range 0 … 65 °C'),\n",
       "  Document(id='cd1b09cf-7d7e-4691-8dd9-18bd41d26ca5', metadata={'source': 'langchain-tutorial/resources/bme280_datasheet.pdf', 'page': 10}, page_content='Bosch Sensortec | BME280 Data sheet 11 | 60 \\nModifications reserved | Data subject to change without notice  \\n Document number: BST-BME280-DS001-22 Revision_1.22_102021 \\nTemperature coefficient \\nof offset5 \\nTCOP 25…65 °C, 900 hPa  ±1.5  Pa/K \\n ±12.6  cm/K \\nAbsolute accuracy \\npressure \\nAPext 300. . 1100 hPa \\n-20 . . . 0 °C \\n ±1.7  hPa \\nAP,full 300 . . .  1100 hPa \\n0 . . . 65 °C \\n ±1.0  hPa \\nAP 1100 . . .  1250 hPa \\n25 . . . 40 °C \\n ±1.5  hPa \\nRelative accuracy \\npressure \\nVDD = 3.3V \\nArel 700 … 900hPa \\n25 . . . 40 °C \\n ±0.12  hPa \\nResolution of \\npressure output data  \\nRP Highest oversampling  0.18  Pa \\nNoise in pressure NP,fullBW Full bandwidth, \\nhighest oversampling \\nSee chapter 3.6 \\n 1.3  Pa \\n 11  cm \\nNP,filtered Reduced bandwidth, \\nhighest oversampling \\nSee chapter 3.6 \\n 0.2  Pa \\n 1.7  cm \\nSolder drift  Minimum solder height \\n50µm \\n-0.5  +2.0 hPa \\nLong term stability6 ∆Pstab per year  ±1.0  hPa \\nPossible sampling rate fsample_P Lowest oversampling, \\nsee chapter 9.2 \\n157 182  Hz'),\n",
       "  Document(id='4b978e9b-87dc-483c-8568-82ae8b5b4ec2', metadata={'source': 'langchain-tutorial/resources/bme280_datasheet.pdf', 'page': 9}, page_content='Bosch Sensortec | BME280 Data sheet 10 | 60 \\nModifications reserved | Data subject to change without notice  \\n Document number: BST-BME280-DS001-22 Revision_1.22_102021 \\n100\\n80\\n60\\n20\\n0\\n40Relative humidity [%]\\nTemperature [°C]\\n-40 -20 0 20 40 60 80\\n \\nFigure 1: humidity sensor operating range \\n1.3 Pressure sensor specification \\nTable 3: Pressure parameter specification \\nParameter Symbol Condition Min Typ Max Unit \\nOperating temperature \\nrange \\nTA operational -40 25 +85 °C \\nfull accuracy 0  +65 \\nOperating pressure \\nrange \\nP full accuracy 300  1100 hPa \\nSupply current IDD,LP 1 Hz forced mode,  \\npressure and \\ntemperature, lowest \\npower \\n 2.8 4.2 µA')],\n",
       " 'answer': 'BME280センサーの温度測定レンジと精度は以下の通りです：\\n\\n- **測定レンジ**: -40°Cから+85°C\\n- **精度**: \\n  - 0°Cから+65°Cの範囲で±0.5°C\\n  - -20°Cから0°Cの範囲で±1.25°C（目標値であり保証されない）\\n  - -40°Cから-20°Cの範囲で±1.5°C（目標値であり保証されない）'}"
      ]
     },
     "execution_count": 35,
     "metadata": {},
     "output_type": "execute_result"
    }
   ],
   "source": [
    "results = rag_chain.invoke({\"input\": \"温度の測定レンジと精度を教えて\"})\n",
    "results"
   ]
  },
  {
   "cell_type": "code",
   "execution_count": 36,
   "metadata": {},
   "outputs": [
    {
     "data": {
      "text/plain": [
       "{'input': 'データの送受信の仕様を教えて',\n",
       " 'context': [Document(id='e20387c4-1bcf-4d69-b58d-969cc70deaa6', metadata={'source': 'langchain-tutorial/resources/bme280_datasheet.pdf', 'page': 6}, page_content='10.3 Usage ...................................................................................................................................... 55 \\n10.3.1 File and function pointer integration ....................................................................... 55 \\n10.3.2 Function call ............................................................................................................ 55 \\n10.3.3 Test time and interface requirements ..................................................................... 55 \\n10.4 Function explanation ............................................................................................................... 56 \\n10.4.1 Communication test ................................................................................................ 56 \\n10.4.2 Bond wire test ......................................................................................................... 56'),\n",
       "  Document(id='2b909cc1-9c73-4917-a36f-3e5044e8e000', metadata={'source': 'langchain-tutorial/resources/bme280_datasheet.pdf', 'page': 6}, page_content='10.4.2 Bond wire test ......................................................................................................... 56 \\n10.4.3 Measurement plausibility test ................................................................................. 56 \\n10.5 Sample read, write and delay function .................................................................................... 57 \\n11. Legal disclaimer ............................................................................................................................. 58 \\n11.1 Engineering samples ............................................................................................................... 58 \\n11.2 Product use.............................................................................................................................. 58 \\n11.3 Application examples and hints ............................................................................................... 58'),\n",
       "  Document(id='31158938-e5c6-4f10-8d2a-5b8ecdb5abce', metadata={'source': 'langchain-tutorial/resources/bme280_datasheet.pdf', 'page': 33}, page_content='Refer to chapter 7 for connection instructions.  \\n \\nCSB is active low and has an integrated pull-up resistor. Data on SDI is latched by the device at SCK \\nrising edge and SDO is changed at SCK falling edge. Communication starts when CSB goes to low \\nand stops when CSB goes to high; during these transitions on CSB, SCK must be stable. The SPI \\nprotocol is shown in Figure 11. For timing details, please review Table 34.   \\nCSB \\nSCK \\nSDI \\nRW AD6 AD5 AD4 AD3 AD2 AD1 AD0 DI5 DI4 DI3 DI2 DI1 DI0 DI7 DI6 \\nSDO \\nDO5 DO4 DO3 DO2 DO1 DO0 DO7 DO6 tri-state \\n \\nFigure 11: SPI protocol (shown for mode ‘11’ in 4-wire configuration) \\nIn SPI mode, only 7 bits of the register addresses are used; the MSB of register address is not used \\nand replaced by a read/write bit (RW = ‘0’ for write and RW = ‘1’ for read).  \\nExample: address 0xF7 is accessed by using SPI register address 0x77. For write access, the byte \\n0x77 is transferred, for read access, the byte 0xF7 is transferred.  \\n6.3.1 SPI write'),\n",
       "  Document(id='fbfa0d89-7dbb-4728-975b-8d4d0c9dcbda', metadata={'source': 'langchain-tutorial/resources/bme280_datasheet.pdf', 'page': 37}, page_content='4 SCK In Serial clock input SCK SCK SCL \\n5 SDO In/Out Serial data output SDO DNC GND for \\ndefault \\naddress \\n6 VDDIO Supply Digital / Interface \\nsupply \\nVDDIO \\n7 GND Supply Ground GND \\n8 VDD Supply Analog supply VDD')],\n",
       " 'answer': 'データの送受信に関する仕様は、SPIプロトコルに基づいています。以下がその概要です：\\n\\n- CSB（チップセレクトビット）はアクティブローで、統合されたプルアップ抵抗があります。\\n- SDI（シリアルデータ入力）のデータは、SCK（シリアルクロック）の立ち上がりエッジでデバイスによってラッチされます。\\n- SDO（シリアルデータ出力）は、SCKの立ち下がりエッジで変更されます。\\n- 通信はCSBがローになったときに開始し、ハイになったときに停止します。このCSBの遷移中は、SCKが安定している必要があります。\\n- SPIモードでは、レジスタアドレスの上位7ビットのみが使用され、MSBは使用されず、代わりに読み書きビット（RW：書き込みの場合は‘0’、読み取りの場合は‘1’）に置き換えられます。\\n\\n具体例として、アドレス0xF7にアクセスする場合、SPIレジスタアドレス0x77を使用します。書き込みアクセスの場合はバイト0x77が転送され、読み取りアクセスの場合はバイト0xF7が転送されます。'}"
      ]
     },
     "execution_count": 36,
     "metadata": {},
     "output_type": "execute_result"
    }
   ],
   "source": [
    "results = rag_chain.invoke({\"input\": \"データの送受信の仕様を教えて\"})\n",
    "results"
   ]
  },
  {
   "cell_type": "code",
   "execution_count": 37,
   "metadata": {},
   "outputs": [
    {
     "name": "stdout",
     "output_type": "stream",
     "text": [
      "データの送受信に関する仕様は、SPIプロトコルに基づいています。以下がその概要です：\n",
      "\n",
      "- CSB（チップセレクトビット）はアクティブローで、統合されたプルアップ抵抗があります。\n",
      "- SDI（シリアルデータ入力）のデータは、SCK（シリアルクロック）の立ち上がりエッジでデバイスによってラッチされます。\n",
      "- SDO（シリアルデータ出力）は、SCKの立ち下がりエッジで変更されます。\n",
      "- 通信はCSBがローになったときに開始し、ハイになったときに停止します。このCSBの遷移中は、SCKが安定している必要があります。\n",
      "- SPIモードでは、レジスタアドレスの上位7ビットのみが使用され、MSBは使用されず、代わりに読み書きビット（RW：書き込みの場合は‘0’、読み取りの場合は‘1’）に置き換えられます。\n",
      "\n",
      "具体例として、アドレス0xF7にアクセスする場合、SPIレジスタアドレス0x77を使用します。書き込みアクセスの場合はバイト0x77が転送され、読み取りアクセスの場合はバイト0xF7が転送されます。\n"
     ]
    }
   ],
   "source": [
    "print(results[\"answer\"])"
   ]
  },
  {
   "cell_type": "code",
   "execution_count": null,
   "metadata": {},
   "outputs": [],
   "source": []
  }
 ],
 "metadata": {
  "kernelspec": {
   "display_name": "Python 3 (ipykernel)",
   "language": "python",
   "name": "python3"
  },
  "language_info": {
   "codemirror_mode": {
    "name": "ipython",
    "version": 3
   },
   "file_extension": ".py",
   "mimetype": "text/x-python",
   "name": "python",
   "nbconvert_exporter": "python",
   "pygments_lexer": "ipython3",
   "version": "3.12.7"
  }
 },
 "nbformat": 4,
 "nbformat_minor": 2
}
