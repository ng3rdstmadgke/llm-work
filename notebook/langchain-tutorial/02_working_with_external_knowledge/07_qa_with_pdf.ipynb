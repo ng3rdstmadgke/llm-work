{
 "cells": [
  {
   "cell_type": "markdown",
   "metadata": {
    "vscode": {
     "languageId": "plaintext"
    }
   },
   "source": [
    "# [Build a PDF ingestion and Question/Answering system](https://python.langchain.com/docs/tutorials/pdf_qa/)\n"
   ]
  },
  {
   "cell_type": "code",
   "execution_count": 26,
   "metadata": {},
   "outputs": [],
   "source": [
    "# PDFのダウンロード (BEM280のデータシート)\n",
    "!mkdir -p langchain-tutorial/resources\n",
    "!wget https://www.mouser.jp/datasheet/2/783/bst_bme280_ds002-2238172.pdf -O langchain-tutorial/resources/bme280_datasheet.pdf > /dev/null 2>&1"
   ]
  },
  {
   "cell_type": "markdown",
   "metadata": {},
   "source": [
    "# ■ プレビュー"
   ]
  },
  {
   "cell_type": "code",
   "execution_count": 28,
   "metadata": {},
   "outputs": [],
   "source": [
    "from langchain_openai import ChatOpenAI, OpenAIEmbeddings\n",
    "from langchain_community.document_loaders import PyPDFLoader\n",
    "from langchain_text_splitters import RecursiveCharacterTextSplitter\n",
    "from langchain_core.vectorstores import InMemoryVectorStore\n",
    "from langchain.chains import create_retrieval_chain\n",
    "from langchain.chains.combine_documents import create_stuff_documents_chain\n",
    "from langchain_core.prompts import ChatPromptTemplate, SystemMessagePromptTemplate, HumanMessagePromptTemplate\n",
    "\n",
    "\n",
    "# モデル\n",
    "llm = ChatOpenAI(model=\"gpt-4o\")\n",
    "\n",
    "# PDFの読み込み\n",
    "file_path = \"langchain-tutorial/resources/bme280_datasheet.pdf\"\n",
    "loader = PyPDFLoader(file_path)\n",
    "docs = loader.load()\n",
    "\n",
    "# 分割 (1000文字ごとに分割)\n",
    "text_splitter = RecursiveCharacterTextSplitter(chunk_size=1000, chunk_overlap=200)\n",
    "splits = text_splitter.split_documents(docs)\n",
    "\n",
    "# ベクトル化して保存\n",
    "vectorstore = InMemoryVectorStore.from_documents(documents=splits, embedding=OpenAIEmbeddings())\n",
    "\n",
    "# Retrieverの作成\n",
    "retriever = vectorstore.as_retriever()\n",
    "\n",
    "# チェーンの作成\n",
    "system_prompt = \"\"\"\n",
    "あなたは質問応答のアシスタントです。\n",
    "質問に答えるために、検索された文脈の以下の部分を使用してください。\n",
    "答えがわからない場合は、わからないと答えましょう。\n",
    "\n",
    "{context}\n",
    "\"\"\"\n",
    "\n",
    "prompt = ChatPromptTemplate([\n",
    "    SystemMessagePromptTemplate.from_template(system_prompt),\n",
    "    HumanMessagePromptTemplate.from_template(\"{input}\")\n",
    "])\n",
    "\n",
    "question_answer_chain = create_stuff_documents_chain(llm=llm, prompt=prompt)\n",
    "rag_chain = create_retrieval_chain(retriever=retriever, combine_docs_chain=question_answer_chain)"
   ]
  },
  {
   "cell_type": "code",
   "execution_count": 29,
   "metadata": {},
   "outputs": [
    {
     "data": {
      "text/plain": [
       "{'input': 'データの送受信の仕様を教えて',\n",
       " 'context': [Document(id='b553b761-7a40-4958-84a5-e8a177df5d31', metadata={'source': 'langchain-tutorial/resources/bme280_datasheet.pdf', 'page': 6}, page_content='10.3 Usage ...................................................................................................................................... 55 \\n10.3.1 File and function pointer integration ....................................................................... 55 \\n10.3.2 Function call ............................................................................................................ 55 \\n10.3.3 Test time and interface requirements ..................................................................... 55 \\n10.4 Function explanation ............................................................................................................... 56 \\n10.4.1 Communication test ................................................................................................ 56 \\n10.4.2 Bond wire test ......................................................................................................... 56'),\n",
       "  Document(id='625aea2a-95aa-4ea6-8808-f8b707cf5512', metadata={'source': 'langchain-tutorial/resources/bme280_datasheet.pdf', 'page': 6}, page_content='10.4.2 Bond wire test ......................................................................................................... 56 \\n10.4.3 Measurement plausibility test ................................................................................. 56 \\n10.5 Sample read, write and delay function .................................................................................... 57 \\n11. Legal disclaimer ............................................................................................................................. 58 \\n11.1 Engineering samples ............................................................................................................... 58 \\n11.2 Product use.............................................................................................................................. 58 \\n11.3 Application examples and hints ............................................................................................... 58'),\n",
       "  Document(id='54028e8a-d586-48e6-8936-f9d6ca2b33f6', metadata={'source': 'langchain-tutorial/resources/bme280_datasheet.pdf', 'page': 33}, page_content='Refer to chapter 7 for connection instructions.  \\n \\nCSB is active low and has an integrated pull-up resistor. Data on SDI is latched by the device at SCK \\nrising edge and SDO is changed at SCK falling edge. Communication starts when CSB goes to low \\nand stops when CSB goes to high; during these transitions on CSB, SCK must be stable. The SPI \\nprotocol is shown in Figure 11. For timing details, please review Table 34.   \\nCSB \\nSCK \\nSDI \\nRW AD6 AD5 AD4 AD3 AD2 AD1 AD0 DI5 DI4 DI3 DI2 DI1 DI0 DI7 DI6 \\nSDO \\nDO5 DO4 DO3 DO2 DO1 DO0 DO7 DO6 tri-state \\n \\nFigure 11: SPI protocol (shown for mode ‘11’ in 4-wire configuration) \\nIn SPI mode, only 7 bits of the register addresses are used; the MSB of register address is not used \\nand replaced by a read/write bit (RW = ‘0’ for write and RW = ‘1’ for read).  \\nExample: address 0xF7 is accessed by using SPI register address 0x77. For write access, the byte \\n0x77 is transferred, for read access, the byte 0xF7 is transferred.  \\n6.3.1 SPI write'),\n",
       "  Document(id='9ae6a10d-e24e-4b0d-b9a3-3270406ca7a3', metadata={'source': 'langchain-tutorial/resources/bme280_datasheet.pdf', 'page': 37}, page_content='4 SCK In Serial clock input SCK SCK SCL \\n5 SDO In/Out Serial data output SDO DNC GND for \\ndefault \\naddress \\n6 VDDIO Supply Digital / Interface \\nsupply \\nVDDIO \\n7 GND Supply Ground GND \\n8 VDD Supply Analog supply VDD')],\n",
       " 'answer': '提供された文脈から、データの送受信はSPIプロトコルを使用して行われることがわかります。以下にいくつかの詳細を示します：\\n\\n- CSB（チップセレクトビット）は低アクティブで、統合されたプルアップ抵抗があります。\\n- SDI（シリアルデータ入力）は、SCK（シリアルクロック）の立ち上がりエッジでデバイスによってラッチされます。\\n- SDO（シリアルデータ出力）は、SCKの立ち下がりエッジで変更されます。\\n- 通信はCSBが低になると開始し、高になると停止します。このCSBの遷移中、SCKは安定している必要があります。\\n- SPIモードでは、レジスタアドレスの7ビットのみが使用され、MSBは使用されず、読み書きビット（RW = ‘0’は書き込み、RW = ‘1’は読み取り）に置き換えられます。\\n\\n具体的なアドレス例やデータの転送については、文脈で示されています。たとえば、アドレス0xF7はSPIレジスタアドレス0x77を使用してアクセスされます。書き込みの場合、バイト0x77が転送され、読み取りの場合、バイト0xF7が転送されます。'}"
      ]
     },
     "execution_count": 29,
     "metadata": {},
     "output_type": "execute_result"
    }
   ],
   "source": [
    "results = rag_chain.invoke({\"input\": \"データの送受信の仕様を教えて\"})\n",
    "results"
   ]
  },
  {
   "cell_type": "markdown",
   "metadata": {},
   "source": [
    "# ■ プレビュー (エージェント)"
   ]
  },
  {
   "cell_type": "code",
   "execution_count": 55,
   "metadata": {},
   "outputs": [],
   "source": [
    "from typing import List\n",
    "from langchain_core.documents import Document\n",
    "from langgraph.graph.graph import CompiledGraph\n",
    "\n",
    "from langchain_openai import ChatOpenAI, OpenAIEmbeddings\n",
    "from langchain_text_splitters import RecursiveCharacterTextSplitter\n",
    "from langchain_core.vectorstores import InMemoryVectorStore\n",
    "from langchain.tools.retriever import create_retriever_tool\n",
    "from langgraph.checkpoint.memory import MemorySaver\n",
    "from langgraph.prebuilt import create_react_agent\n",
    "\n",
    "# モデル\n",
    "llm = ChatOpenAI(model=\"gpt-4o\", temperature=0)\n",
    "\n",
    "# PDFの読み込み\n",
    "file_path = \"langchain-tutorial/resources/bme280_datasheet.pdf\"\n",
    "loader = PyPDFLoader(file_path)\n",
    "docs: List[Document] = loader.load()\n",
    "\n",
    "# 分割・ベクトル化して保存\n",
    "text_splitter = RecursiveCharacterTextSplitter(chunk_size=1000, chunk_overlap=200)\n",
    "splits: List[Document] = text_splitter.split_documents(docs)\n",
    "vectorstore = InMemoryVectorStore.from_documents(documents=splits, embedding=OpenAIEmbeddings())\n",
    "\n",
    "# Retrieverの作成\n",
    "retriever = vectorstore.as_retriever()\n",
    "\n",
    "# Retrieverツールの作成\n",
    "tool = create_retriever_tool(\n",
    "    retriever=retriever,\n",
    "    name=\"bme280_datasheet_retriever\",\n",
    "    description=\"BME280のデータシートから情報を検索するためのツール\",\n",
    ")\n",
    "\n",
    "# エージェントの作成\n",
    "memory = MemorySaver()\n",
    "agent_executor: CompiledGraph = create_react_agent(\n",
    "    model=llm,\n",
    "    tools=[tool],\n",
    "    checkpointer=memory,\n",
    "    debug=False,\n",
    ")"
   ]
  },
  {
   "cell_type": "code",
   "execution_count": 56,
   "metadata": {},
   "outputs": [
    {
     "name": "stdout",
     "output_type": "stream",
     "text": [
      "================================\u001b[1m Human Message \u001b[0m=================================\n",
      "\n",
      "データの送受信の仕様を教えて\n",
      "==================================\u001b[1m Ai Message \u001b[0m==================================\n",
      "Tool Calls:\n",
      "  bme280_datasheet_retriever (call_i8UUmx4rI4VWbYTBAqpwxRch)\n",
      " Call ID: call_i8UUmx4rI4VWbYTBAqpwxRch\n",
      "  Args:\n",
      "    query: データの送受信の仕様\n",
      "=================================\u001b[1m Tool Message \u001b[0m=================================\n",
      "Name: bme280_datasheet_retriever\n",
      "\n",
      "10.3 Usage ...................................................................................................................................... 55 \n",
      "10.3.1 File and function pointer integration ....................................................................... 55 \n",
      "10.3.2 Function call ............................................................................................................ 55 \n",
      "10.3.3 Test time and interface requirements ..................................................................... 55 \n",
      "10.4 Function explanation ............................................................................................................... 56 \n",
      "10.4.1 Communication test ................................................................................................ 56 \n",
      "10.4.2 Bond wire test ......................................................................................................... 56\n",
      "\n",
      "10.4.2 Bond wire test ......................................................................................................... 56 \n",
      "10.4.3 Measurement plausibility test ................................................................................. 56 \n",
      "10.5 Sample read, write and delay function .................................................................................... 57 \n",
      "11. Legal disclaimer ............................................................................................................................. 58 \n",
      "11.1 Engineering samples ............................................................................................................... 58 \n",
      "11.2 Product use.............................................................................................................................. 58 \n",
      "11.3 Application examples and hints ............................................................................................... 58\n",
      "\n",
      "6. Digital interfaces ............................................................................................................................ 32 \n",
      "6.1 Interface selection ................................................................................................................... 32 \n",
      "6.2 I²C Interface ............................................................................................................................. 32 \n",
      "6.2.1 I²C write................................................................................................................... 33 \n",
      "6.2.2 I²C read ................................................................................................................... 33 \n",
      "6.3 SPI interface ............................................................................................................................ 34 \n",
      "6.3.1 SPI write.................................................................................................................. 34\n",
      "\n",
      "data rate. For the example above with 11.5 ms measurement time, the typically achievable output data \n",
      "rate would be: \n",
      "𝑂𝑂𝑂𝑂𝑅𝑅𝑚𝑚𝑚𝑚𝑚𝑚,𝑓𝑓𝑜𝑜𝑚𝑚𝑓𝑓𝑚𝑚𝑓𝑓 = 1000\n",
      "11.5 = 87 Hz \n",
      "9.3 Measurement rate in normal mode \n",
      "The measurement rate in normal mode depends on the measurement time and the standby time and \n",
      "can be calculated in Hz using the following formula: \n",
      " \n",
      "𝑂𝑂𝑂𝑂𝑅𝑅𝑛𝑛𝑜𝑜𝑚𝑚𝑚𝑚𝑚𝑚𝑙𝑙_𝑚𝑚𝑜𝑜𝑓𝑓𝑚𝑚 = 1000\n",
      "𝑡𝑡𝑚𝑚𝑚𝑚𝑚𝑚𝑚𝑚𝑚𝑚𝑚𝑚𝑚𝑚 + 𝑡𝑡𝑚𝑚𝑡𝑡𝑚𝑚𝑛𝑛𝑓𝑓𝑠𝑠𝑡𝑡\n",
      " \n",
      " \n",
      "The accuracy of tstandby is described in the specification parameter Δtstandby. For the example above with \n",
      "11.5 ms measurement time, setting normal mode with a standby time of 62.5 ms would result in a data \n",
      "rate of:  \n",
      "𝑂𝑂𝑂𝑂𝑅𝑅𝑛𝑛𝑜𝑜𝑚𝑚𝑚𝑚𝑚𝑚𝑙𝑙_𝑚𝑚𝑜𝑜𝑓𝑓𝑚𝑚 = 1000\n",
      "11.5 + 62.5 = 13.51 Hz\n",
      "==================================\u001b[1m Ai Message \u001b[0m==================================\n",
      "\n",
      "BME280のデータ送受信の仕様については、以下の情報があります。\n",
      "\n",
      "### デジタルインターフェース\n",
      "BME280は、I²CおよびSPIのデジタルインターフェースをサポートしています。\n",
      "\n",
      "#### I²Cインターフェース\n",
      "- **I²C書き込み**: デバイスにデータを書き込むための手順が定義されています。\n",
      "- **I²C読み取り**: デバイスからデータを読み取るための手順が定義されています。\n",
      "\n",
      "#### SPIインターフェース\n",
      "- **SPI書き込み**: デバイスにデータを書き込むための手順が定義されています。\n",
      "\n",
      "### 通信テスト\n",
      "通信テストやボンドワイヤーテスト、測定の妥当性テストなど、デバイスの機能を確認するためのテスト手順が説明されています。\n",
      "\n",
      "### サンプルの読み取り、書き込み、遅延関数\n",
      "データの読み取り、書き込み、遅延を実装するためのサンプル関数が提供されています。\n",
      "\n",
      "### 測定レート\n",
      "通常モードでの測定レートは、測定時間とスタンバイ時間に依存し、特定の計算式を用いてHz単位で計算されます。例えば、11.5 msの測定時間と62.5 msのスタンバイ時間を設定した場合、データレートは13.51 Hzになります。\n",
      "\n",
      "これらの情報は、BME280のデータシートに詳細に記載されています。具体的な実装や設定については、データシートを参照してください。\n"
     ]
    }
   ],
   "source": [
    "from langchain_core.runnables import RunnableConfig\n",
    "from langchain_core.messages import HumanMessage\n",
    "\n",
    "config = RunnableConfig(configurable={\"thread_id\": \"11111111111111111111\"})\n",
    "query = \"データの送受信の仕様を教えて\"\n",
    "\n",
    "stream = agent_executor.stream(\n",
    "    input={\"messages\": [ HumanMessage(query) ]},\n",
    "    config=config,\n",
    "    stream_mode=\"values\"\n",
    ")\n",
    "\n",
    "for output in stream:\n",
    "    output[\"messages\"][-1].pretty_print()"
   ]
  },
  {
   "cell_type": "code",
   "execution_count": 57,
   "metadata": {},
   "outputs": [
    {
     "name": "stdout",
     "output_type": "stream",
     "text": [
      "================================\u001b[1m Human Message \u001b[0m=================================\n",
      "\n",
      "どっちのインターフェースを使うのが推奨ですか？\n",
      "==================================\u001b[1m Ai Message \u001b[0m==================================\n",
      "Tool Calls:\n",
      "  bme280_datasheet_retriever (call_IrPj2VanplfE1mWF8kBSP3N7)\n",
      " Call ID: call_IrPj2VanplfE1mWF8kBSP3N7\n",
      "  Args:\n",
      "    query: 推奨インターフェース\n",
      "=================================\u001b[1m Tool Message \u001b[0m=================================\n",
      "Name: bme280_datasheet_retriever\n",
      "\n",
      "6. Digital interfaces ............................................................................................................................ 32 \n",
      "6.1 Interface selection ................................................................................................................... 32 \n",
      "6.2 I²C Interface ............................................................................................................................. 32 \n",
      "6.2.1 I²C write................................................................................................................... 33 \n",
      "6.2.2 I²C read ................................................................................................................... 33 \n",
      "6.3 SPI interface ............................................................................................................................ 34 \n",
      "6.3.1 SPI write.................................................................................................................. 34\n",
      "\n",
      "Table 10: Settings and performance for gaming \n",
      "Suggested settings for gaming \n",
      "Sensor mode normal mode, tstandby = 0.5 ms \n",
      "Oversampling settings pressure ×4, temperature ×1, humidity ×0 \n",
      "IIR filter settings filter coefficient 16 \n",
      "Performance for suggested settings \n",
      "Current consumption 581 µA \n",
      "RMS Noise 0.3 Pa / 2.5 cm  \n",
      "Data output rate 83 Hz \n",
      "Filter bandwidth 1.75 Hz \n",
      "Response time (75%) 0.3 s\n",
      "\n",
      "10.3 Usage ...................................................................................................................................... 55 \n",
      "10.3.1 File and function pointer integration ....................................................................... 55 \n",
      "10.3.2 Function call ............................................................................................................ 55 \n",
      "10.3.3 Test time and interface requirements ..................................................................... 55 \n",
      "10.4 Function explanation ............................................................................................................... 56 \n",
      "10.4.1 Communication test ................................................................................................ 56 \n",
      "10.4.2 Bond wire test ......................................................................................................... 56\n",
      "\n",
      "• Indoor navigation (change of floor detection, elevator detection) \n",
      "• Outdoor navigation, leisure and sports applications \n",
      "• Weather forecast \n",
      "• Vertical velocity indication (rise/sink speed) \n",
      "Target devices \n",
      "• Handsets such as mobile phones, tablet PCs, GPS devices \n",
      "• Navigation systems \n",
      "• Gaming, e.g flying toys  \n",
      "• Camera (DSC, video) \n",
      "• Home weather stations \n",
      "• Flying toys  \n",
      "• Watches\n",
      "==================================\u001b[1m Ai Message \u001b[0m==================================\n",
      "\n",
      "BME280のデータシートには、特定のインターフェースが推奨されているという記述はありません。インターフェースの選択は、使用するアプリケーションやシステムの要件に依存します。\n",
      "\n",
      "- **I²Cインターフェース**は、複数のデバイスを同じバスに接続する必要がある場合や、配線を簡素化したい場合に適しています。\n",
      "- **SPIインターフェース**は、より高速なデータ転送が必要な場合や、デバイス間の通信が1対1で行われる場合に適しています。\n",
      "\n",
      "どちらのインターフェースを使用するかは、システムの設計要件や他の接続デバイスとの互換性を考慮して決定するのが良いでしょう。\n"
     ]
    }
   ],
   "source": [
    "query = \"どっちのインターフェースを使うのが推奨ですか？\"\n",
    "\n",
    "stream = agent_executor.stream(\n",
    "    input={\"messages\": [ HumanMessage(query) ]},\n",
    "    config=config,\n",
    "    stream_mode=\"values\"\n",
    ")\n",
    "\n",
    "for output in stream:\n",
    "    output[\"messages\"][-1].pretty_print()"
   ]
  },
  {
   "cell_type": "code",
   "execution_count": 58,
   "metadata": {},
   "outputs": [
    {
     "name": "stdout",
     "output_type": "stream",
     "text": [
      "================================\u001b[1m Human Message \u001b[0m=================================\n",
      "\n",
      "測定フローについて教えて\n",
      "==================================\u001b[1m Ai Message \u001b[0m==================================\n",
      "Tool Calls:\n",
      "  bme280_datasheet_retriever (call_OFuItj4KEtRKJv0ZgWtkPaFy)\n",
      " Call ID: call_OFuItj4KEtRKJv0ZgWtkPaFy\n",
      "  Args:\n",
      "    query: 測定フロー\n",
      "=================================\u001b[1m Tool Message \u001b[0m=================================\n",
      "Name: bme280_datasheet_retriever\n",
      "\n",
      "formulas described in section 4.2.3. \n",
      "4 The air-flow in direction to the vent -hole of the device has to be dimensioned in a way that a sufficient air exchange inside to \n",
      "outside will be possible. To observe effects on the response time -scale of the device an air -flow velocity of approx. 1 m/s is  \n",
      "needed.\n",
      "\n",
      "measurement results can be obtained from the data registers. For a next measurement, forced mode \n",
      "needs to be selected again. This is similar to BMP180 operation. Using forced mode is recommended \n",
      "for applications which require low sampling rate or host-based synchronization. The timing diagram is \n",
      "shown below.\n",
      "\n",
      "Bosch Sensortec | BME280 Data sheet 17 | 60 \n",
      "Modifications reserved | Data subject to change without notice  \n",
      " Document number: BST-BME280-DS001-22 Revision_1.22_102021 \n",
      "3.4 Measurement flow \n",
      "The BME280 measurement period consists of a temperature, pressure and humidity measurement \n",
      "with selectable oversampling. After the measurement period, the pressure and temperature data can \n",
      "be passed through an optional IIR filter, which removes short-term fluctuations in pressure (e.g. \n",
      "caused by slamming a door). For humidity, such a filter is not needed and has not been implemented. \n",
      "The flow is depicted in the diagram below.  \n",
      "Measure temperature \n",
      "(oversampling set by osrs_t;\n",
      "skip if osrs_t = 0)\n",
      "Start\n",
      "measurement cycle\n",
      "Measure pressure \n",
      "(oversampling set by osrs_p;\n",
      "skip if osrs_p = 0)\n",
      "IIR filter enabled?\n",
      "End \n",
      "measurement cycle\n",
      "IIR filter initialised?\n",
      "Copy ADC values\n",
      "to filter memory\n",
      "(initalises IIR filter)\n",
      "No\n",
      "Update filter memory using \n",
      "filter memory, ADC value \n",
      "and filter coefficient\n",
      "No\n",
      "\n",
      "10.4.2 Bond wire test ......................................................................................................... 56 \n",
      "10.4.3 Measurement plausibility test ................................................................................. 56 \n",
      "10.5 Sample read, write and delay function .................................................................................... 57 \n",
      "11. Legal disclaimer ............................................................................................................................. 58 \n",
      "11.1 Engineering samples ............................................................................................................... 58 \n",
      "11.2 Product use.............................................................................................................................. 58 \n",
      "11.3 Application examples and hints ............................................................................................... 58\n",
      "==================================\u001b[1m Ai Message \u001b[0m==================================\n",
      "\n",
      "BME280の測定フローは以下のように構成されています。\n",
      "\n",
      "### 測定フロー\n",
      "1. **測定サイクルの開始**:\n",
      "   - 測定サイクルは、温度、圧力、湿度の測定から構成されます。各測定は選択可能なオーバーサンプリング設定に基づいて行われます。\n",
      "\n",
      "2. **温度の測定**:\n",
      "   - オーバーサンプリング設定（`osrs_t`）に基づいて温度を測定します。`osrs_t`が0の場合はスキップされます。\n",
      "\n",
      "3. **圧力の測定**:\n",
      "   - オーバーサンプリング設定（`osrs_p`）に基づいて圧力を測定します。`osrs_p`が0の場合はスキップされます。\n",
      "\n",
      "4. **IIRフィルターの適用**:\n",
      "   - 圧力と温度のデータは、オプションのIIRフィルターを通過させることができます。このフィルターは、ドアの開閉などによる短期的な圧力の変動を除去します。湿度にはこのフィルターは適用されません。\n",
      "\n",
      "5. **フィルターメモリの更新**:\n",
      "   - フィルターが初期化されている場合、ADC値とフィルター係数を使用してフィルターメモリを更新します。\n",
      "\n",
      "6. **測定サイクルの終了**:\n",
      "   - 測定サイクルが終了し、次の測定の準備が整います。\n",
      "\n",
      "このフローにより、BME280は温度、圧力、湿度のデータを効率的に取得し、必要に応じてフィルタリングを行います。\n"
     ]
    }
   ],
   "source": [
    "query = \"測定フローについて教えて\"\n",
    "\n",
    "stream = agent_executor.stream(\n",
    "    input={\"messages\": [ HumanMessage(query) ]},\n",
    "    config=config,\n",
    "    stream_mode=\"values\"\n",
    ")\n",
    "\n",
    "for output in stream:\n",
    "    output[\"messages\"][-1].pretty_print()"
   ]
  },
  {
   "cell_type": "code",
   "execution_count": 59,
   "metadata": {},
   "outputs": [
    {
     "name": "stdout",
     "output_type": "stream",
     "text": [
      "================================\u001b[1m Human Message \u001b[0m=================================\n",
      "\n",
      "オーバーサンプリングとは何？\n",
      "==================================\u001b[1m Ai Message \u001b[0m==================================\n",
      "Tool Calls:\n",
      "  bme280_datasheet_retriever (call_5OdoSBg1dfywMk948ZxF4CjG)\n",
      " Call ID: call_5OdoSBg1dfywMk948ZxF4CjG\n",
      "  Args:\n",
      "    query: オーバーサンプリング\n",
      "=================================\u001b[1m Tool Message \u001b[0m=================================\n",
      "Name: bme280_datasheet_retriever\n",
      "\n",
      "Table 10: Settings and performance for gaming \n",
      "Suggested settings for gaming \n",
      "Sensor mode normal mode, tstandby = 0.5 ms \n",
      "Oversampling settings pressure ×4, temperature ×1, humidity ×0 \n",
      "IIR filter settings filter coefficient 16 \n",
      "Performance for suggested settings \n",
      "Current consumption 581 µA \n",
      "RMS Noise 0.3 Pa / 2.5 cm  \n",
      "Data output rate 83 Hz \n",
      "Filter bandwidth 1.75 Hz \n",
      "Response time (75%) 0.3 s\n",
      "\n",
      "the humidity measurement is fixed at 16 bit ADC output. \n",
      "3.4.2 Pressure measurement \n",
      "Pressure measurement can be enabled or skipped. When enabled, several oversampling options \n",
      "exist. The pressure measurement is controlled by the osrs_p[2:0] setting which is detailed in chapter \n",
      "5.4.5. For the pressure measurement, oversampling is possible to reduce the noise. The resolution of \n",
      "the pressure data depends on the IIR filter (see chapter 3.4.4) and the oversampling setting (see \n",
      "chapter 5.4.5):  \n",
      "• When the IIR filter is enabled, the pressure resolution is 20 bit.  \n",
      "• When the IIR filter is disabled, the pressure resolution is 16 + ( osrs_p – 1) bit, e.g. 18 bit when \n",
      "osrs_p is set to ‘3’. \n",
      "3.4.3 Temperature measurement \n",
      "Temperature measurement can be enabled or skipped. Skipping the measurement could be useful to \n",
      "measure pressure extremely rapidly. When enabled, several oversampling options exist. The\n",
      "\n",
      "Noise in humidity (RMS) NH Highest oversampling, \n",
      "see chapter 3.6 \n",
      " 0.02  %RH \n",
      "Long term stability ∆Hstab  10…90 %RH, 25 °C  0.5  %RH/\n",
      "year \n",
      "                                                      \n",
      "1  When exceeding the operating range (e.g. for soldering), humidity sensing performance is temporarily degraded and \n",
      "reconditioning is recommended as described in section 7.8. Operating range only for non-condensing environment. \n",
      "2 For hysteresis measurement the sequence 103050709070503010 %RH is used. The hysteresis is defined as \n",
      "the difference between measurements of the humidity up / down branch and the averaged curve of both branches \n",
      "3 Non-linear contributions to the sensor data are corrected during the calculation of the relative humidity by the compensation \n",
      "formulas described in section 4.2.3. \n",
      "4 The air-flow in direction to the vent -hole of the device has to be dimensioned in a way that a sufficient air exchange inside to\n",
      "\n",
      "Temperature measurement can be enabled or skipped. Skipping the measurement could be useful to \n",
      "measure pressure extremely rapidly. When enabled, several oversampling options exist. The \n",
      "temperature measurement is controlled by the osrs_t[2:0] setting which is detailed in chapter 5.4.5. \n",
      "For the temperature measurement, oversampling is possible to reduce the noise.  \n",
      "The resolution of the temperature data depends on the IIR filter (see chapter 3.4.4) and the \n",
      "oversampling setting (see chapter 5.4.5):  \n",
      "• When the IIR filter is enabled, the temperature resolution is 20 bit.\n",
      "==================================\u001b[1m Ai Message \u001b[0m==================================\n",
      "\n",
      "オーバーサンプリングとは、センサーがデータを取得する際に、同じ測定を複数回行い、その結果を平均化することでノイズを低減し、データの精度を向上させる手法です。BME280では、温度、圧力、湿度の各測定に対してオーバーサンプリングを設定することができます。\n",
      "\n",
      "### オーバーサンプリングの詳細\n",
      "- **圧力測定**:\n",
      "  - オーバーサンプリング設定（`osrs_p`）により、ノイズを低減することができます。\n",
      "  - IIRフィルターが有効な場合、圧力の解像度は20ビットになります。\n",
      "  - IIRフィルターが無効な場合、圧力の解像度は16ビットに`osrs_p`の設定に応じたビット数が加わります（例: `osrs_p`が3の場合、18ビット）。\n",
      "\n",
      "- **温度測定**:\n",
      "  - オーバーサンプリング設定（`osrs_t`）により、ノイズを低減することができます。\n",
      "  - IIRフィルターが有効な場合、温度の解像度は20ビットになります。\n",
      "\n",
      "オーバーサンプリングを行うことで、センサーの測定データの信頼性を高めることができ、特にノイズが問題となる環境での使用において有効です。\n"
     ]
    }
   ],
   "source": [
    "query = \"オーバーサンプリングとは何？\"\n",
    "\n",
    "stream = agent_executor.stream(\n",
    "    input={\"messages\": [ HumanMessage(query) ]},\n",
    "    config=config,\n",
    "    stream_mode=\"values\"\n",
    ")\n",
    "\n",
    "for output in stream:\n",
    "    output[\"messages\"][-1].pretty_print()"
   ]
  },
  {
   "cell_type": "markdown",
   "metadata": {},
   "source": [
    "# ■ 解説"
   ]
  },
  {
   "cell_type": "markdown",
   "metadata": {},
   "source": [
    "## 1. PDFの読み込み\n",
    "\n",
    "`PyPDFLoader` を利用してPDFを読み込みます。  \n",
    "\n",
    "※ 目的に合わせて様々なDocumentLoaderがあります: https://python.langchain.com/docs/how_to/#document-loaders\n",
    "\n",
    "やること\n",
    "\n",
    "- 指定されたパスのPDFをメモリに読み込む\n",
    "- `pypdf` パッケージを利用してテキストデータを抽出\n",
    "- PDFの各ページに対して、ページ内容と、ドキュメント内のテキストの出所に関するメタデータを含む `List[Document]` を生成"
   ]
  },
  {
   "cell_type": "code",
   "execution_count": 30,
   "metadata": {},
   "outputs": [
    {
     "name": "stdout",
     "output_type": "stream",
     "text": [
      "60\n"
     ]
    }
   ],
   "source": [
    "from typing import List\n",
    "from langchain_core.documents import Document\n",
    "from langchain_community.document_loaders import PyPDFLoader\n",
    "\n",
    "#file_path = \"https://www.jstage.jst.go.jp/article/mukimate2000/9/300/9_300_327/_pdf\"  # URLを指定してもOK\n",
    "file_path = \"langchain-tutorial/resources/bme280_datasheet.pdf\"\n",
    "loader = PyPDFLoader(file_path)\n",
    "docs: List[Document] = loader.load()\n",
    "\n",
    "print(len(docs))"
   ]
  },
  {
   "cell_type": "code",
   "execution_count": 31,
   "metadata": {},
   "outputs": [
    {
     "name": "stdout",
     "output_type": "stream",
     "text": [
      " \n",
      "  \n",
      "  \n",
      "BME280 – Data sheet  \n",
      "Document revision 1.22 \n",
      "Document release date October 2021 \n",
      "Document n\n",
      "{'source': 'langchain-tutorial/resources/bme280_datasheet.pdf', 'page': 3}\n"
     ]
    }
   ],
   "source": [
    "print(docs[0].page_content[0:100])\n",
    "print(docs[3].metadata)"
   ]
  },
  {
   "cell_type": "markdown",
   "metadata": {},
   "source": [
    "## 2. Retriever\n",
    "\n",
    "読み込んだドキュメントをベクトル化して保存します。"
   ]
  },
  {
   "cell_type": "code",
   "execution_count": 32,
   "metadata": {},
   "outputs": [],
   "source": [
    "from langchain_openai import ChatOpenAI\n",
    "from langchain_core.vectorstores import InMemoryVectorStore\n",
    "from langchain_openai import OpenAIEmbeddings\n",
    "from langchain_text_splitters import RecursiveCharacterTextSplitter\n",
    "\n",
    "llm = ChatOpenAI(model=\"gpt-4o\")\n",
    "\n",
    "# 分割 (1000文字ごとに分割)\n",
    "text_splitter = RecursiveCharacterTextSplitter(chunk_size=1000, chunk_overlap=200)\n",
    "splits: List[Document] = text_splitter.split_documents(docs)\n",
    "\n",
    "# ベクトル化して保存\n",
    "vectorstore = InMemoryVectorStore.from_documents(documents=splits, embedding=OpenAIEmbeddings())\n",
    "\n",
    "# Retrieverの作成\n",
    "retriever = vectorstore.as_retriever()"
   ]
  },
  {
   "cell_type": "markdown",
   "metadata": {},
   "source": [
    "vectorstoreに保存したドキュメントをRetrieverから検索できます"
   ]
  },
  {
   "cell_type": "code",
   "execution_count": 33,
   "metadata": {},
   "outputs": [
    {
     "data": {
      "text/plain": [
       "[Document(id='50bd48e3-bac6-4bd2-aa75-a280e6e5735d', metadata={'source': 'langchain-tutorial/resources/bme280_datasheet.pdf', 'page': 10}, page_content='Solder drift  Minimum solder height \\n50µm \\n-0.5  +2.0 hPa \\nLong term stability6 ∆Pstab per year  ±1.0  hPa \\nPossible sampling rate fsample_P Lowest oversampling, \\nsee chapter 9.2 \\n157 182  Hz \\n \\n1.4 Temperature sensor specification \\nTable 4: Temperature parameter specification \\nParameter Symbol Condition Min Typ Max Unit \\nOperating range T Operational -40 25 85 °C \\nFull accuracy 0  65 °C \\nSupply current IDD,T 1 Hz forced mode, \\ntemperature \\nmeasurement only \\n 1.0  µA \\nAT,25 25 °C  ±0.5  °C \\n                                                      \\n5 When changing temperature by e.g. 10 °C at constant pressure / altitude, the measured pressure / altitude will change by (10 × \\nTCOP).  \\n6 Long term stability is specified in the full accuracy operating pressure range 0 … 65 °C'),\n",
       " Document(id='3a124578-139b-41fe-b779-53159535d278', metadata={'source': 'langchain-tutorial/resources/bme280_datasheet.pdf', 'page': 8}, page_content='Noise in humidity (RMS) NH Highest oversampling, \\nsee chapter 3.6 \\n 0.02  %RH \\nLong term stability ∆Hstab  10…90 %RH, 25 °C  0.5  %RH/\\nyear \\n                                                      \\n1  When exceeding the operating range (e.g. for soldering), humidity sensing performance is temporarily degraded and \\nreconditioning is recommended as described in section 7.8. Operating range only for non-condensing environment. \\n2 For hysteresis measurement the sequence 10\\uf0e030\\uf0e050\\uf0e070\\uf0e090\\uf0e070\\uf0e050\\uf0e030\\uf0e010 %RH is used. The hysteresis is defined as \\nthe difference between measurements of the humidity up / down branch and the averaged curve of both branches \\n3 Non-linear contributions to the sensor data are corrected during the calculation of the relative humidity by the compensation \\nformulas described in section 4.2.3. \\n4 The air-flow in direction to the vent -hole of the device has to be dimensioned in a way that a sufficient air exchange inside to'),\n",
       " Document(id='fcc0f34b-0e4b-4516-87c0-b9b4f47bca12', metadata={'source': 'langchain-tutorial/resources/bme280_datasheet.pdf', 'page': 19}, page_content='Table 10: Settings and performance for gaming \\nSuggested settings for gaming \\nSensor mode normal mode, tstandby = 0.5 ms \\nOversampling settings pressure ×4, temperature ×1, humidity ×0 \\nIIR filter settings filter coefficient 16 \\nPerformance for suggested settings \\nCurrent consumption 581 µA \\nRMS Noise 0.3 Pa / 2.5 cm  \\nData output rate 83 Hz \\nFilter bandwidth 1.75 Hz \\nResponse time (75%) 0.3 s'),\n",
       " Document(id='29a0a41b-eb29-4843-a4fb-1493f457d883', metadata={'source': 'langchain-tutorial/resources/bme280_datasheet.pdf', 'page': 11}, page_content='Bosch Sensortec | BME280 Data sheet 12 | 60 \\nModifications reserved | Data subject to change without notice  \\n Document number: BST-BME280-DS001-22 Revision_1.22_102021 \\nAbsolute accuracy \\ntemperature7 \\nAT,full 0…65 °C  ±0.5  °C \\nAT,ext8 -20 …. 0 °C  ±1.25  °C \\nAT,ext9 -40 … -20 °C  ±1.5  °C \\nOutput resolution RT API output resolution 0.01 °C \\nRMS noise NT Lowest oversampling  0.005  °C \\n \\n  \\n                                                      \\n7 Temperature measured by the internal temperature sensor. This temperature value depends on the PCB temperature, sensor \\nelement self-heating and ambient temperature and is typically above ambient temperature.  \\n8 Target values & not guaranteed \\n9 Target values & not guaranteed')]"
      ]
     },
     "execution_count": 33,
     "metadata": {},
     "output_type": "execute_result"
    }
   ],
   "source": [
    "retriever.invoke(\"測定レンジと精度\")"
   ]
  },
  {
   "cell_type": "markdown",
   "metadata": {},
   "source": [
    "# RAGチェイン\n",
    "\n",
    "`クエリ` -> `Retrieverによる関連文章の検索` -> `LLMによる回答の生成` というチェインを作成します。\n"
   ]
  },
  {
   "cell_type": "code",
   "execution_count": 34,
   "metadata": {},
   "outputs": [],
   "source": [
    "from langchain.chains import create_retrieval_chain\n",
    "from langchain.chains.combine_documents import create_stuff_documents_chain\n",
    "from langchain_core.prompts import ChatPromptTemplate, SystemMessagePromptTemplate, HumanMessagePromptTemplate\n",
    "\n",
    "system_prompt = \"\"\"\n",
    "あなたは質問応答のアシスタントです。\n",
    "質問に答えるために、検索された文脈の以下の部分を使用してください。\n",
    "答えがわからない場合は、わからないと答えましょう。\n",
    "\n",
    "{context}\n",
    "\"\"\"\n",
    "\n",
    "prompt = ChatPromptTemplate([\n",
    "    SystemMessagePromptTemplate.from_template(system_prompt),\n",
    "    HumanMessagePromptTemplate.from_template(\"{input}\")\n",
    "])\n",
    "\n",
    "question_answer_chain = create_stuff_documents_chain(llm=llm, prompt=prompt)\n",
    "rag_chain = create_retrieval_chain(retriever=retriever, combine_docs_chain=question_answer_chain)"
   ]
  },
  {
   "cell_type": "code",
   "execution_count": 35,
   "metadata": {},
   "outputs": [
    {
     "data": {
      "text/plain": [
       "{'input': '温度の測定レンジと精度を教えて',\n",
       " 'context': [Document(id='29a0a41b-eb29-4843-a4fb-1493f457d883', metadata={'source': 'langchain-tutorial/resources/bme280_datasheet.pdf', 'page': 11}, page_content='Bosch Sensortec | BME280 Data sheet 12 | 60 \\nModifications reserved | Data subject to change without notice  \\n Document number: BST-BME280-DS001-22 Revision_1.22_102021 \\nAbsolute accuracy \\ntemperature7 \\nAT,full 0…65 °C  ±0.5  °C \\nAT,ext8 -20 …. 0 °C  ±1.25  °C \\nAT,ext9 -40 … -20 °C  ±1.5  °C \\nOutput resolution RT API output resolution 0.01 °C \\nRMS noise NT Lowest oversampling  0.005  °C \\n \\n  \\n                                                      \\n7 Temperature measured by the internal temperature sensor. This temperature value depends on the PCB temperature, sensor \\nelement self-heating and ambient temperature and is typically above ambient temperature.  \\n8 Target values & not guaranteed \\n9 Target values & not guaranteed'),\n",
       "  Document(id='50bd48e3-bac6-4bd2-aa75-a280e6e5735d', metadata={'source': 'langchain-tutorial/resources/bme280_datasheet.pdf', 'page': 10}, page_content='Solder drift  Minimum solder height \\n50µm \\n-0.5  +2.0 hPa \\nLong term stability6 ∆Pstab per year  ±1.0  hPa \\nPossible sampling rate fsample_P Lowest oversampling, \\nsee chapter 9.2 \\n157 182  Hz \\n \\n1.4 Temperature sensor specification \\nTable 4: Temperature parameter specification \\nParameter Symbol Condition Min Typ Max Unit \\nOperating range T Operational -40 25 85 °C \\nFull accuracy 0  65 °C \\nSupply current IDD,T 1 Hz forced mode, \\ntemperature \\nmeasurement only \\n 1.0  µA \\nAT,25 25 °C  ±0.5  °C \\n                                                      \\n5 When changing temperature by e.g. 10 °C at constant pressure / altitude, the measured pressure / altitude will change by (10 × \\nTCOP).  \\n6 Long term stability is specified in the full accuracy operating pressure range 0 … 65 °C'),\n",
       "  Document(id='cd1b09cf-7d7e-4691-8dd9-18bd41d26ca5', metadata={'source': 'langchain-tutorial/resources/bme280_datasheet.pdf', 'page': 10}, page_content='Bosch Sensortec | BME280 Data sheet 11 | 60 \\nModifications reserved | Data subject to change without notice  \\n Document number: BST-BME280-DS001-22 Revision_1.22_102021 \\nTemperature coefficient \\nof offset5 \\nTCOP 25…65 °C, 900 hPa  ±1.5  Pa/K \\n ±12.6  cm/K \\nAbsolute accuracy \\npressure \\nAPext 300. . 1100 hPa \\n-20 . . . 0 °C \\n ±1.7  hPa \\nAP,full 300 . . .  1100 hPa \\n0 . . . 65 °C \\n ±1.0  hPa \\nAP 1100 . . .  1250 hPa \\n25 . . . 40 °C \\n ±1.5  hPa \\nRelative accuracy \\npressure \\nVDD = 3.3V \\nArel 700 … 900hPa \\n25 . . . 40 °C \\n ±0.12  hPa \\nResolution of \\npressure output data  \\nRP Highest oversampling  0.18  Pa \\nNoise in pressure NP,fullBW Full bandwidth, \\nhighest oversampling \\nSee chapter 3.6 \\n 1.3  Pa \\n 11  cm \\nNP,filtered Reduced bandwidth, \\nhighest oversampling \\nSee chapter 3.6 \\n 0.2  Pa \\n 1.7  cm \\nSolder drift  Minimum solder height \\n50µm \\n-0.5  +2.0 hPa \\nLong term stability6 ∆Pstab per year  ±1.0  hPa \\nPossible sampling rate fsample_P Lowest oversampling, \\nsee chapter 9.2 \\n157 182  Hz'),\n",
       "  Document(id='4b978e9b-87dc-483c-8568-82ae8b5b4ec2', metadata={'source': 'langchain-tutorial/resources/bme280_datasheet.pdf', 'page': 9}, page_content='Bosch Sensortec | BME280 Data sheet 10 | 60 \\nModifications reserved | Data subject to change without notice  \\n Document number: BST-BME280-DS001-22 Revision_1.22_102021 \\n100\\n80\\n60\\n20\\n0\\n40Relative humidity [%]\\nTemperature [°C]\\n-40 -20 0 20 40 60 80\\n \\nFigure 1: humidity sensor operating range \\n1.3 Pressure sensor specification \\nTable 3: Pressure parameter specification \\nParameter Symbol Condition Min Typ Max Unit \\nOperating temperature \\nrange \\nTA operational -40 25 +85 °C \\nfull accuracy 0  +65 \\nOperating pressure \\nrange \\nP full accuracy 300  1100 hPa \\nSupply current IDD,LP 1 Hz forced mode,  \\npressure and \\ntemperature, lowest \\npower \\n 2.8 4.2 µA')],\n",
       " 'answer': 'BME280センサーの温度測定レンジと精度は以下の通りです：\\n\\n- **測定レンジ**: -40°Cから+85°C\\n- **精度**: \\n  - 0°Cから+65°Cの範囲で±0.5°C\\n  - -20°Cから0°Cの範囲で±1.25°C（目標値であり保証されない）\\n  - -40°Cから-20°Cの範囲で±1.5°C（目標値であり保証されない）'}"
      ]
     },
     "execution_count": 35,
     "metadata": {},
     "output_type": "execute_result"
    }
   ],
   "source": [
    "results = rag_chain.invoke({\"input\": \"温度の測定レンジと精度を教えて\"})\n",
    "results"
   ]
  },
  {
   "cell_type": "code",
   "execution_count": 36,
   "metadata": {},
   "outputs": [
    {
     "data": {
      "text/plain": [
       "{'input': 'データの送受信の仕様を教えて',\n",
       " 'context': [Document(id='e20387c4-1bcf-4d69-b58d-969cc70deaa6', metadata={'source': 'langchain-tutorial/resources/bme280_datasheet.pdf', 'page': 6}, page_content='10.3 Usage ...................................................................................................................................... 55 \\n10.3.1 File and function pointer integration ....................................................................... 55 \\n10.3.2 Function call ............................................................................................................ 55 \\n10.3.3 Test time and interface requirements ..................................................................... 55 \\n10.4 Function explanation ............................................................................................................... 56 \\n10.4.1 Communication test ................................................................................................ 56 \\n10.4.2 Bond wire test ......................................................................................................... 56'),\n",
       "  Document(id='2b909cc1-9c73-4917-a36f-3e5044e8e000', metadata={'source': 'langchain-tutorial/resources/bme280_datasheet.pdf', 'page': 6}, page_content='10.4.2 Bond wire test ......................................................................................................... 56 \\n10.4.3 Measurement plausibility test ................................................................................. 56 \\n10.5 Sample read, write and delay function .................................................................................... 57 \\n11. Legal disclaimer ............................................................................................................................. 58 \\n11.1 Engineering samples ............................................................................................................... 58 \\n11.2 Product use.............................................................................................................................. 58 \\n11.3 Application examples and hints ............................................................................................... 58'),\n",
       "  Document(id='31158938-e5c6-4f10-8d2a-5b8ecdb5abce', metadata={'source': 'langchain-tutorial/resources/bme280_datasheet.pdf', 'page': 33}, page_content='Refer to chapter 7 for connection instructions.  \\n \\nCSB is active low and has an integrated pull-up resistor. Data on SDI is latched by the device at SCK \\nrising edge and SDO is changed at SCK falling edge. Communication starts when CSB goes to low \\nand stops when CSB goes to high; during these transitions on CSB, SCK must be stable. The SPI \\nprotocol is shown in Figure 11. For timing details, please review Table 34.   \\nCSB \\nSCK \\nSDI \\nRW AD6 AD5 AD4 AD3 AD2 AD1 AD0 DI5 DI4 DI3 DI2 DI1 DI0 DI7 DI6 \\nSDO \\nDO5 DO4 DO3 DO2 DO1 DO0 DO7 DO6 tri-state \\n \\nFigure 11: SPI protocol (shown for mode ‘11’ in 4-wire configuration) \\nIn SPI mode, only 7 bits of the register addresses are used; the MSB of register address is not used \\nand replaced by a read/write bit (RW = ‘0’ for write and RW = ‘1’ for read).  \\nExample: address 0xF7 is accessed by using SPI register address 0x77. For write access, the byte \\n0x77 is transferred, for read access, the byte 0xF7 is transferred.  \\n6.3.1 SPI write'),\n",
       "  Document(id='fbfa0d89-7dbb-4728-975b-8d4d0c9dcbda', metadata={'source': 'langchain-tutorial/resources/bme280_datasheet.pdf', 'page': 37}, page_content='4 SCK In Serial clock input SCK SCK SCL \\n5 SDO In/Out Serial data output SDO DNC GND for \\ndefault \\naddress \\n6 VDDIO Supply Digital / Interface \\nsupply \\nVDDIO \\n7 GND Supply Ground GND \\n8 VDD Supply Analog supply VDD')],\n",
       " 'answer': 'データの送受信に関する仕様は、SPIプロトコルに基づいています。以下がその概要です：\\n\\n- CSB（チップセレクトビット）はアクティブローで、統合されたプルアップ抵抗があります。\\n- SDI（シリアルデータ入力）のデータは、SCK（シリアルクロック）の立ち上がりエッジでデバイスによってラッチされます。\\n- SDO（シリアルデータ出力）は、SCKの立ち下がりエッジで変更されます。\\n- 通信はCSBがローになったときに開始し、ハイになったときに停止します。このCSBの遷移中は、SCKが安定している必要があります。\\n- SPIモードでは、レジスタアドレスの上位7ビットのみが使用され、MSBは使用されず、代わりに読み書きビット（RW：書き込みの場合は‘0’、読み取りの場合は‘1’）に置き換えられます。\\n\\n具体例として、アドレス0xF7にアクセスする場合、SPIレジスタアドレス0x77を使用します。書き込みアクセスの場合はバイト0x77が転送され、読み取りアクセスの場合はバイト0xF7が転送されます。'}"
      ]
     },
     "execution_count": 36,
     "metadata": {},
     "output_type": "execute_result"
    }
   ],
   "source": [
    "results = rag_chain.invoke({\"input\": \"データの送受信の仕様を教えて\"})\n",
    "results"
   ]
  },
  {
   "cell_type": "code",
   "execution_count": 37,
   "metadata": {},
   "outputs": [
    {
     "name": "stdout",
     "output_type": "stream",
     "text": [
      "データの送受信に関する仕様は、SPIプロトコルに基づいています。以下がその概要です：\n",
      "\n",
      "- CSB（チップセレクトビット）はアクティブローで、統合されたプルアップ抵抗があります。\n",
      "- SDI（シリアルデータ入力）のデータは、SCK（シリアルクロック）の立ち上がりエッジでデバイスによってラッチされます。\n",
      "- SDO（シリアルデータ出力）は、SCKの立ち下がりエッジで変更されます。\n",
      "- 通信はCSBがローになったときに開始し、ハイになったときに停止します。このCSBの遷移中は、SCKが安定している必要があります。\n",
      "- SPIモードでは、レジスタアドレスの上位7ビットのみが使用され、MSBは使用されず、代わりに読み書きビット（RW：書き込みの場合は‘0’、読み取りの場合は‘1’）に置き換えられます。\n",
      "\n",
      "具体例として、アドレス0xF7にアクセスする場合、SPIレジスタアドレス0x77を使用します。書き込みアクセスの場合はバイト0x77が転送され、読み取りアクセスの場合はバイト0xF7が転送されます。\n"
     ]
    }
   ],
   "source": [
    "print(results[\"answer\"])"
   ]
  },
  {
   "cell_type": "code",
   "execution_count": null,
   "metadata": {},
   "outputs": [],
   "source": []
  }
 ],
 "metadata": {
  "kernelspec": {
   "display_name": "Python 3 (ipykernel)",
   "language": "python",
   "name": "python3"
  },
  "language_info": {
   "codemirror_mode": {
    "name": "ipython",
    "version": 3
   },
   "file_extension": ".py",
   "mimetype": "text/x-python",
   "name": "python",
   "nbconvert_exporter": "python",
   "pygments_lexer": "ipython3",
   "version": "3.12.7"
  }
 },
 "nbformat": 4,
 "nbformat_minor": 2
}
