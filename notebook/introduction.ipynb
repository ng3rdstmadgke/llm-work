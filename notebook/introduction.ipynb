{
 "cells": [
  {
   "cell_type": "markdown",
   "metadata": {},
   "source": [
    "# ■ LangChain\n",
    "\n",
    "LLMのラッパー\n",
    "\n",
    "- [LangChain公式ドキュメント](https://python.langchain.com/docs/get_started/introduction)\n",
    "- [LangChain | GitHub](https://github.com/langchain-ai/langchain)\n",
    "\n",
    "## # モジュール\n",
    "\n",
    "- [Modules | LangChain](https://python.langchain.com/docs/modules/)\n",
    "  - [Model I/O](https://python.langchain.com/docs/modules/model_io/)\n",
    "  - [Prompts](https://python.langchain.com/docs/modules/model_io/prompts/)\n",
    "  - [Chains](https://python.langchain.com/docs/modules/chains)\n",
    "  - [Indexing](https://python.langchain.com/docs/modules/data_connection/indexing)\n",
    "  - [Memory](https://python.langchain.com/docs/modules/memory/)\n",
    "  - [Agents](https://python.langchain.com/docs/modules/agents/)"
   ]
  },
  {
   "cell_type": "markdown",
   "metadata": {},
   "source": [
    "# ■ Get Started\n",
    "\n",
    "- [Get started | LangChain](https://python.langchain.com/docs/expression_language/get_started)"
   ]
  },
  {
   "cell_type": "markdown",
   "metadata": {},
   "source": [
    "prompt, model, output parserを利用した基本的な例"
   ]
  },
  {
   "cell_type": "code",
   "execution_count": 1,
   "metadata": {},
   "outputs": [
    {
     "data": {
      "text/plain": [
       "'なぜ布団が10を数えるのが得意なのですか？\\n\\nだって、布団（ふとん）ですから！'"
      ]
     },
     "execution_count": 1,
     "metadata": {},
     "output_type": "execute_result"
    }
   ],
   "source": [
    "from langchain_core.output_parsers import StrOutputParser\n",
    "from langchain_core.prompts import ChatPromptTemplate\n",
    "from langchain_openai import ChatOpenAI\n",
    "\n",
    "prompt = ChatPromptTemplate([\n",
    "    (\"user\", \"{topic} についてのジョークをおしえて\")\n",
    "])\n",
    "model = ChatOpenAI(model=\"gpt-4\")\n",
    "output_parser = StrOutputParser()\n",
    "\n",
    "chain = prompt | model | output_parser\n",
    "\n",
    "chain.invoke({\"topic\": \"ふとん\"})"
   ]
  },
  {
   "cell_type": "markdown",
   "metadata": {},
   "source": [
    "# ■ Models モジュール\n",
    "\n",
    "LangChainで使用する機械学習のモデルのこと。以下の3種類がある。\n",
    "\n",
    "- LLMs  \n",
    "OpenAIのCompletions API(gpt-3.5-turbo-instructなど)の大規模言語モデル\n",
    "- Chat Models  \n",
    "OpenAIのChat API(gpt-4, gpt-3.5-turboなど)の大規模言語モデル\n",
    "- Text Embedding Models\n",
    "テキストをベクトル化するモデル。"
   ]
  },
  {
   "cell_type": "markdown",
   "metadata": {},
   "source": [
    "## LLMs\n",
    "\n",
    "- [OpenAI](https://python.langchain.com/docs/integrations/llms/openai/)\n",
    "\n",
    "内部的にはCompletionsAPIが利用される\n",
    "\n",
    "\n",
    "※ 現在はほぼほぼ使われない。ChatModelsの方を使う"
   ]
  },
  {
   "cell_type": "code",
   "execution_count": 5,
   "metadata": {},
   "outputs": [
    {
     "name": "stdout",
     "output_type": "stream",
     "text": [
      "\n",
      "\n",
      "私は、山田太郎と申します。東京都出身で、現在は大学生として都内の大学に通っています。趣味はスポーツ観戦や音楽鑑賞で、特にサッカーやロックバンドが好きです。将来の夢は、国際的な企業で働くことで、留学経験も積んで自分を磨きたいと思っています。また、人とのコミュニケーションを大切にし、常に新しいことに挑戦することで成長していきたいと考えています。よろしくお願いします。\n"
     ]
    }
   ],
   "source": [
    "from langchain_openai import OpenAI\n",
    "llm = OpenAI(model=\"gpt-3.5-turbo-instruct\", temperature=0)\n",
    "result = llm.predict(\"自己紹介してください\")\n",
    "print(result)"
   ]
  },
  {
   "cell_type": "markdown",
   "metadata": {},
   "source": [
    "## Chat Models\n",
    "\n",
    "- [ChatOpenAI](https://python.langchain.com/docs/integrations/chat/openai/)\n",
    "\n",
    "内部的には ChatAPIが利用される"
   ]
  },
  {
   "cell_type": "code",
   "execution_count": 3,
   "metadata": {},
   "outputs": [
    {
     "name": "stderr",
     "output_type": "stream",
     "text": [
      "/tmp/ipykernel_179390/1915069723.py:3: LangChainDeprecationWarning: The method `BaseChatModel.predict` was deprecated in langchain-core 0.1.7 and will be removed in 1.0. Use :meth:`~invoke` instead.\n",
      "  result = llm.predict(\"自己紹介してください\")\n"
     ]
    },
    {
     "name": "stdout",
     "output_type": "stream",
     "text": [
      "こんにちは！私はOpenAIが開発したAIアシスタントです。さまざまな質問に答えたり、情報を提供したり、アイデアを整理するお手伝いをしたりすることができます。趣味や興味、特定のトピックについてお話しすることもできますので、何か知りたいことや話したいことがあればお気軽にどうぞ！\n"
     ]
    }
   ],
   "source": [
    "from langchain_openai import ChatOpenAI\n",
    "llm = ChatOpenAI(model=\"gpt-4o\", temperature=0)\n",
    "result = llm.predict(\"自己紹介してください\")\n",
    "print(result)"
   ]
  },
  {
   "cell_type": "markdown",
   "metadata": {},
   "source": [
    "# プロンプトテンプレートとChainを利用する\n",
    "\n",
    "- [How to invoke runnables in parallel](https://python.langchain.com/docs/how_to/parallel/)\n",
    "\n",
    "## Prompt Templates\n",
    "プロンプトをテンプレート化することができる。  \n",
    "あくまで文字列を編集するだけでAPIをコールするわけではない。\n",
    "\n",
    "\n",
    "## Chain\n",
    "chainsは、モジュール(Models, Templates, Chainsなど)を連結する。\n"
   ]
  },
  {
   "cell_type": "code",
   "execution_count": 15,
   "metadata": {},
   "outputs": [
    {
     "name": "stdout",
     "output_type": "stream",
     "text": [
      "`ls` コマンドは、Unix系オペレーティングシステム（LinuxやmacOSなど）で使用されるコマンドで、指定したディレクトリ内のファイルやサブディレクトリの一覧を表示するために使われます。デフォルトでは、現在の作業ディレクトリの内容を表示します。\n",
      "\n",
      "主なオプションには以下のようなものがあります：\n",
      "\n",
      "- `-l`: 詳細情報を表示します（ファイルの権限、所有者、サイズ、最終更新日時など）。\n",
      "- `-a`: 隠しファイル（ドットで始まるファイル）も表示します。\n",
      "- `-h`: サイズを人間に読みやすい形式（KB、MBなど）で表示します（`-l`オプションと併用することが多い）。\n",
      "- `-R`: サブディレクトリも再帰的に表示します。\n",
      "\n",
      "このように、`ls` コマンドはファイルシステムの内容を把握するための基本的かつ重要なツールです。"
     ]
    }
   ],
   "source": [
    "from langchain_core.prompts import ChatPromptTemplate, HumanMessagePromptTemplate\n",
    "from langchain_openai import ChatOpenAI\n",
    "from langchain_core.output_parsers import StrOutputParser\n",
    "\n",
    "model = ChatOpenAI(model=\"gpt-4o-mini\")\n",
    "\n",
    "parser = StrOutputParser()\n",
    "\n",
    "template = \"\"\"\n",
    "次のコマンドの概要を説明してください。\n",
    "\n",
    "コマンド: {command}\n",
    "\"\"\"\n",
    "\n",
    "prompt = ChatPromptTemplate([\n",
    "  HumanMessagePromptTemplate.from_template(template)\n",
    "])\n",
    "\n",
    "chain = prompt | model | parser\n",
    "\n",
    "# How to Streaming: https://python.langchain.com/docs/how_to/streaming/ \n",
    "stream = chain.stream({\"command\": \"ls\"})\n",
    "for message in stream:\n",
    "  print(message, end=\"\")\n"
   ]
  },
  {
   "cell_type": "markdown",
   "metadata": {},
   "source": [
    "## LangGraph\n",
    "\n",
    "llmの出力を次のllmの入力に渡したい場合はLangGraphを使うと便利\n",
    "\n",
    "- [LangGraph | 公式](https://langchain-ai.github.io/langgraph/)\n",
    "  - [Tutorials](https://langchain-ai.github.io/langgraph/tutorials/)\n",
    "- [LangGraphの基本的な使い方 | Zenn](https://zenn.dev/pharmax/articles/8796b892eed183)\n"
   ]
  },
  {
   "cell_type": "code",
   "execution_count": 1,
   "metadata": {},
   "outputs": [
    {
     "data": {
      "image/jpeg": "[encoded data removed]",
      "text/plain": [
       "<IPython.core.display.Image object>"
      ]
     },
     "metadata": {},
     "output_type": "display_data"
    }
   ],
   "source": [
    "from pydantic import BaseModel\n",
    "#from typing_extensions import TypedDict\n",
    "from langchain_core.prompts import ChatPromptTemplate, HumanMessagePromptTemplate\n",
    "from langchain_openai import ChatOpenAI\n",
    "#from langchain_core.output_parsers import StrOutputParser\n",
    "from langgraph.graph import START, StateGraph, END\n",
    "from IPython.display import Image, display\n",
    "\n",
    "model = ChatOpenAI(model=\"gpt-4o-mini\")\n",
    "\n",
    "cot_template = \"\"\"\n",
    "以下の質問に回答してください。\n",
    "\n",
    "### 質問 ###\n",
    "{question}\n",
    "### 質問終了 ###\n",
    "\n",
    "ステップバイステップで考えましょう。\n",
    "\"\"\"\n",
    "\n",
    "cot_prompt = ChatPromptTemplate([\n",
    "  HumanMessagePromptTemplate.from_template(cot_template)\n",
    "])\n",
    "\n",
    "\n",
    "\n",
    "summarize_template = \"\"\"\n",
    "入力を結論だけ一言に要約してください。\n",
    "\n",
    "### 入力 ###\n",
    "{answer}\n",
    "### 入力終了 ###\n",
    "\"\"\"\n",
    "\n",
    "summarize_prompt = ChatPromptTemplate([\n",
    "  HumanMessagePromptTemplate.from_template(summarize_template)\n",
    "])\n",
    "\n",
    "\n",
    "### Graph ###\n",
    "\n",
    "class MyState(BaseModel):\n",
    "  question: str\n",
    "  answer: str = \"\"\n",
    "  summary: str = \"\"\n",
    "\n",
    "workflow = StateGraph(state_schema=MyState)\n",
    "\n",
    "def call_cot_chain(state: MyState):\n",
    "  chain = cot_prompt | model\n",
    "  response = chain.invoke({\"question\": state.question})\n",
    "  return {\"answer\": response.content}\n",
    "\n",
    "def call_summarize_chain(state: MyState):\n",
    "  chain = summarize_prompt | model\n",
    "  response = chain.invoke({\"answer\": state.answer})\n",
    "  return {\"summary\": response.content}\n",
    "\n",
    "\n",
    "workflow.add_node(\"cot\", call_cot_chain)\n",
    "workflow.add_node(\"summarize\", call_summarize_chain)\n",
    "\n",
    "workflow.add_edge(START, \"cot\")\n",
    "workflow.add_edge(\"cot\", \"summarize\")\n",
    "workflow.add_edge(\"summarize\", END)\n",
    "\n",
    "app = workflow.compile()\n",
    "\n",
    "display(Image(app.get_graph().draw_mermaid_png()))"
   ]
  },
  {
   "cell_type": "code",
   "execution_count": 2,
   "metadata": {},
   "outputs": [
    {
     "name": "stdout",
     "output_type": "stream",
     "text": [
      "リンゴは10個残っています。\n"
     ]
    }
   ],
   "source": [
    "output = app.invoke({\n",
    "    \"question\": \"私は市場に行って10個のリンゴを買いました。隣人に2つ、修理工に2つ渡しました。それから5つのリンゴを買って1つ食べました。残りは何個ですか？\"\n",
    "})\n",
    "print(output[\"summary\"])"
   ]
  },
  {
   "cell_type": "markdown",
   "metadata": {},
   "source": [
    "# ■ Output Parsers\n",
    "\n",
    "- [Modules - Model I/O - Output Parsers | LangChain](https://python.langchain.com/docs/modules/model_io/output_parsers/)\n",
    "\n",
    "LLMの応答を抽出して、Pythonオブジェクトにマッピングするといった機能を提供する。  \n",
    "他にもOutput Parserには、不正な形式でうまく解析できなかった場合に LLM に形式を整えてもらうような機能がある。  \n",
    "\n",
    "Promptsには他にも、Few-shotプロンプティングの例を埋め込むための「ExampleSelectors」という機能もある"
   ]
  },
  {
   "cell_type": "code",
   "execution_count": 4,
   "metadata": {},
   "outputs": [
    {
     "data": {
      "text/plain": [
       "Recipe(ingredients=['鶏肉 300g', '玉ねぎ 1個', 'にんじん 1本', 'じゃがいも 2個', 'カレールー 100g', '水 500ml', 'サラダ油 大さじ2', '塩 適量', 'こしょう 適量'], step=['鶏肉を一口大に切り、塩とこしょうで下味をつける。', '玉ねぎを薄切り、にんじんとじゃがいもを一口大に切る。', '鍋にサラダ油を熱し、玉ねぎを炒める。', '玉ねぎが透明になったら、鶏肉を加え、表面が白くなるまで炒める。', 'にんじんとじゃがいもを加え、さらに炒める。', '水を加え、中火で煮立たせる。', '煮立ったらアクを取り、弱火にして15分煮る。', 'カレールーを加え、溶かしながら10分煮る。', '全体がなじんだら、器に盛り付けて完成。'])"
      ]
     },
     "execution_count": 4,
     "metadata": {},
     "output_type": "execute_result"
    }
   ],
   "source": [
    "from typing import List\n",
    "from pydantic import BaseModel, Field\n",
    "from langchain_core.prompts import ChatPromptTemplate, HumanMessagePromptTemplate\n",
    "from langchain_openai import ChatOpenAI\n",
    "from langchain_core.output_parsers import PydanticOutputParser\n",
    "\n",
    "# モデル\n",
    "model = ChatOpenAI(model=\"gpt-4o-mini\")\n",
    "\n",
    "# プロンプトテンプレート\n",
    "template = \"\"\"料理のレシピを教えてください。\n",
    "\n",
    "{format_instructions}\n",
    "\n",
    "料理名: {dish}\n",
    "\"\"\"\n",
    "\n",
    "prompt = ChatPromptTemplate([\n",
    "  HumanMessagePromptTemplate.from_template(template)\n",
    "])\n",
    "\n",
    "# アウトプットパーサー\n",
    "class Recipe(BaseModel):\n",
    "  ingredients: List[str] = Field(description=\"ingredients of the dish\")\n",
    "  step: List[str] = Field(description=\"steps to cook the dish\")\n",
    "\n",
    "parser = PydanticOutputParser(pydantic_object=Recipe)\n",
    "\n",
    "\n",
    "# chain\n",
    "chain = prompt | model | parser\n",
    "\n",
    "\n",
    "chain.invoke({\n",
    "  \"format_instructions\": parser.get_format_instructions(),\n",
    "  \"dish\": \"カレー\"\n",
    "})\n"
   ]
  }
 ],
 "metadata": {
  "kernelspec": {
   "display_name": "Python 3 (ipykernel)",
   "language": "python",
   "name": "python3"
  },
  "language_info": {
   "codemirror_mode": {
    "name": "ipython",
    "version": 3
   },
   "file_extension": ".py",
   "mimetype": "text/x-python",
   "name": "python",
   "nbconvert_exporter": "python",
   "pygments_lexer": "ipython3",
   "version": "3.12.7"
  }
 },
 "nbformat": 4,
 "nbformat_minor": 2
}
